{
 "cells": [
  {
   "cell_type": "markdown",
   "source": [
    "#### Linear Regression\n",
    "\n",
    "In linear regression models, the target value is modeled as a linear combination of the features. The model is trained on a dataset with known target values. The model can then be used to predict the target value for new data points.\n",
    "\n",
    "The linear regression model is defined as:\n",
    "\n",
    "$$y = w_0 + w_1x_1 + w_2x_2 + ... + w_nx_n$$\n",
    "\n",
    "where $y$ is the target value, $x_1$ to $x_n$ are the feature values, and $w_0$ to $w_n$ are the model parameters. The model parameters are learned during the training process using the least squares method.\n",
    "\n",
    "The linear regression model can be extended to include non-linear features by using a non-linear transformation of the features. For example, the model can be extended to include quadratic features as follows:\n",
    "\n",
    "$$y = w_0 + w_1x_1 + w_2x_2 + w_3x_1^2 + w_4x_2^2$$\n",
    "\n",
    "The linear regression model can also be extended to include interaction features as follows:\n",
    "\n",
    "$$y = w_0 + w_1x_1 + w_2x_2 + w_3x_1x_2$$\n",
    "\n",
    "The linear regression model can be extended to include polynomial features and interaction features at the same time as follows:\n",
    "\n",
    "$$y = w_0 + w_1x_1 + w_2x_2 + w_3x_1^2 + w_4x_2^2 + w_5x_1x_2$$\n"
   ],
   "metadata": {
    "collapsed": false
   }
  },
  {
   "cell_type": "markdown",
   "source": [
    "We will begin with the simplest linear regression model, which is the linear regression model with no polynomial features or interaction features.\n",
    "\n",
    "We will now use the ordinary least squares `OLS` class from the `statsmodels` module to train the model.\n",
    "\n",
    "For the data, we will use a Pandas DataFrame with two columns. The first column contains the feature values and the second column contains the target values."
   ],
   "metadata": {
    "collapsed": false
   }
  },
  {
   "cell_type": "code",
   "execution_count": 2,
   "outputs": [
    {
     "name": "stdout",
     "output_type": "stream",
     "text": [
      "Requirement already satisfied: statsmodels in /Users/Ben/anaconda3/envs/phys441/lib/python3.11/site-packages (0.14.0)\r\n",
      "Requirement already satisfied: numpy>=1.18 in /Users/Ben/anaconda3/envs/phys441/lib/python3.11/site-packages (from statsmodels) (1.25.2)\r\n",
      "Requirement already satisfied: scipy!=1.9.2,>=1.4 in /Users/Ben/anaconda3/envs/phys441/lib/python3.11/site-packages (from statsmodels) (1.11.1)\r\n",
      "Requirement already satisfied: pandas>=1.0 in /Users/Ben/anaconda3/envs/phys441/lib/python3.11/site-packages (from statsmodels) (2.0.3)\r\n",
      "Requirement already satisfied: patsy>=0.5.2 in /Users/Ben/anaconda3/envs/phys441/lib/python3.11/site-packages (from statsmodels) (0.5.3)\r\n",
      "Requirement already satisfied: packaging>=21.3 in /Users/Ben/anaconda3/envs/phys441/lib/python3.11/site-packages (from statsmodels) (23.0)\r\n",
      "Requirement already satisfied: python-dateutil>=2.8.2 in /Users/Ben/anaconda3/envs/phys441/lib/python3.11/site-packages (from pandas>=1.0->statsmodels) (2.8.2)\r\n",
      "Requirement already satisfied: pytz>=2020.1 in /Users/Ben/anaconda3/envs/phys441/lib/python3.11/site-packages (from pandas>=1.0->statsmodels) (2022.7)\r\n",
      "Requirement already satisfied: tzdata>=2022.1 in /Users/Ben/anaconda3/envs/phys441/lib/python3.11/site-packages (from pandas>=1.0->statsmodels) (2023.3)\r\n",
      "Requirement already satisfied: six in /Users/Ben/anaconda3/envs/phys441/lib/python3.11/site-packages (from patsy>=0.5.2->statsmodels) (1.16.0)\r\n",
      "    x     y\n",
      "0   1  1.10\n",
      "1   2  2.10\n",
      "2   3  2.90\n",
      "3   4  3.90\n",
      "4   5  5.10\n",
      "5   6  5.90\n",
      "6   7  6.90\n",
      "7   8  8.05\n",
      "8   9  9.10\n",
      "9  10  9.70\n"
     ]
    }
   ],
   "source": [
    "!pip install statsmodels\n",
    "import matplotlib.pyplot as plt\n",
    "import pandas as pd\n",
    "import statsmodels.api as sm\n",
    "\n",
    "df = pd.DataFrame({'x': [1, 2, 3, 4, 5, 6, 7, 8, 9, 10],\n",
    "                   'y': [1.1, 2.1, 2.9, 3.9, 5.1, 5.9, 6.9, 8.05, 9.1, 9.7] } )\n",
    "\n",
    "print(df)\n",
    "\n",
    "y = df['y']\n",
    "X = df['x']"
   ],
   "metadata": {
    "collapsed": false,
    "ExecuteTime": {
     "end_time": "2023-09-20T15:56:26.298180Z",
     "start_time": "2023-09-20T15:56:24.364222Z"
    }
   }
  },
  {
   "cell_type": "code",
   "execution_count": 3,
   "outputs": [
    {
     "name": "stdout",
     "output_type": "stream",
     "text": [
      "                                 OLS Regression Results                                \n",
      "=======================================================================================\n",
      "Dep. Variable:                      y   R-squared (uncentered):                   1.000\n",
      "Model:                            OLS   Adj. R-squared (uncentered):              1.000\n",
      "Method:                 Least Squares   F-statistic:                          2.265e+04\n",
      "Date:                Wed, 20 Sep 2023   Prob (F-statistic):                    1.28e-16\n",
      "Time:                        11:56:26   Log-Likelihood:                          6.7873\n",
      "No. Observations:                  10   AIC:                                     -11.57\n",
      "Df Residuals:                       9   BIC:                                     -11.27\n",
      "Df Model:                           1                                                  \n",
      "Covariance Type:            nonrobust                                                  \n",
      "==============================================================================\n",
      "                 coef    std err          t      P>|t|      [0.025      0.975]\n",
      "------------------------------------------------------------------------------\n",
      "x              0.9925      0.007    150.513      0.000       0.978       1.007\n",
      "==============================================================================\n",
      "Omnibus:                        0.836   Durbin-Watson:                   1.988\n",
      "Prob(Omnibus):                  0.658   Jarque-Bera (JB):                0.714\n",
      "Skew:                          -0.462   Prob(JB):                        0.700\n",
      "Kurtosis:                       2.072   Cond. No.                         1.00\n",
      "==============================================================================\n",
      "\n",
      "Notes:\n",
      "[1] R² is computed without centering (uncentered) since the model does not contain a constant.\n",
      "[2] Standard Errors assume that the covariance matrix of the errors is correctly specified.\n"
     ]
    },
    {
     "name": "stderr",
     "output_type": "stream",
     "text": [
      "/Users/Ben/anaconda3/envs/phys441/lib/python3.11/site-packages/scipy/stats/_stats_py.py:1806: UserWarning: kurtosistest only valid for n>=20 ... continuing anyway, n=10\n",
      "  warnings.warn(\"kurtosistest only valid for n>=20 ... continuing \"\n"
     ]
    },
    {
     "data": {
      "text/plain": "<Figure size 640x480 with 1 Axes>",
      "image/png": "[encoded data removed]"
     },
     "metadata": {},
     "output_type": "display_data"
    }
   ],
   "source": [
    "# Ordinary Least Squares model from statsmodels\n",
    "model = sm.OLS(y, X).fit()\n",
    "\n",
    "# View model summary\n",
    "print(model.summary())\n",
    "\n",
    "# Create prediction\n",
    "y_pred = model.predict(X)\n",
    "\n",
    "# Plotting!\n",
    "\n",
    "plt.plot(df['x'], y, 'o', label='Data')\n",
    "plt.plot(df['x'], y_pred, 'r-', label=\"Linear Regression Fit\")\n",
    "plt.title(\"Basic Linear Regression\")\n",
    "plt.xlabel(\"X\")\n",
    "plt.ylabel(\"Y\")\n",
    "plt.legend()\n",
    "plt.show()"
   ],
   "metadata": {
    "collapsed": false,
    "ExecuteTime": {
     "end_time": "2023-09-20T15:56:26.509007Z",
     "start_time": "2023-09-20T15:56:26.302091Z"
    }
   }
  },
  {
   "cell_type": "code",
   "execution_count": 4,
   "outputs": [
    {
     "name": "stdout",
     "output_type": "stream",
     "text": [
      "                            OLS Regression Results                            \n",
      "==============================================================================\n",
      "Dep. Variable:                  Sales   R-squared:                       0.936\n",
      "Model:                            OLS   Adj. R-squared:                  0.932\n",
      "Method:                 Least Squares   F-statistic:                     306.2\n",
      "Date:                Wed, 20 Sep 2023   Prob (F-statistic):          4.97e-108\n",
      "Time:                        11:56:26   Log-Likelihood:                -342.10\n",
      "No. Observations:                 200   AIC:                             704.2\n",
      "Df Residuals:                     190   BIC:                             737.2\n",
      "Df Model:                           9                                         \n",
      "Covariance Type:            nonrobust                                         \n",
      "============================================================================================\n",
      "                               coef    std err          t      P>|t|      [0.025      0.975]\n",
      "--------------------------------------------------------------------------------------------\n",
      "Intercept                    5.2886      0.529      9.996      0.000       4.245       6.332\n",
      "TV                           0.0762      0.005     15.320      0.000       0.066       0.086\n",
      "Radio                       -0.0372      0.028     -1.335      0.184      -0.092       0.018\n",
      "Newspaper                   -0.0100      0.018     -0.566      0.572      -0.045       0.025\n",
      "TV:Radio                     0.0004   8.43e-05      5.032      0.000       0.000       0.001\n",
      "TV:Newspaper             -9.139e-06   5.26e-05     -0.174      0.862      -0.000    9.47e-05\n",
      "Radio:Newspaper              0.0001      0.000      0.372      0.710      -0.001       0.001\n",
      "I(TV * TV)                  -0.0001   1.54e-05     -7.180      0.000      -0.000   -8.02e-05\n",
      "I(Radio * Radio)             0.0017      0.001      3.148      0.002       0.001       0.003\n",
      "I(Newspaper * Newspaper)     0.0001      0.000      0.710      0.478      -0.000       0.000\n",
      "==============================================================================\n",
      "Omnibus:                        8.568   Durbin-Watson:                   2.239\n",
      "Prob(Omnibus):                  0.014   Jarque-Bera (JB):               13.594\n",
      "Skew:                          -0.206   Prob(JB):                      0.00112\n",
      "Kurtosis:                       4.209   Cond. No.                     2.14e+05\n",
      "==============================================================================\n",
      "\n",
      "Notes:\n",
      "[1] Standard Errors assume that the covariance matrix of the errors is correctly specified.\n",
      "[2] The condition number is large, 2.14e+05. This might indicate that there are\n",
      "strong multicollinearity or other numerical problems.\n"
     ]
    }
   ],
   "source": [
    "import statsmodels.formula.api as smf\n",
    "\n",
    "data = pd.read_csv(\"advertising.csv\")\n",
    "\n",
    "model = smf.ols('Sales ~ TV + Radio + Newspaper + (TV * Radio) + (TV * Newspaper) + (Radio * Newspaper) + I(TV * TV) + I(Radio * Radio) + I(Newspaper * Newspaper)', data=data)\n",
    "model = model.fit()\n",
    "\n",
    "print(model.summary())"
   ],
   "metadata": {
    "collapsed": false,
    "ExecuteTime": {
     "end_time": "2023-09-20T15:56:26.635734Z",
     "start_time": "2023-09-20T15:56:26.490280Z"
    }
   }
  },
  {
   "cell_type": "code",
   "execution_count": 4,
   "outputs": [],
   "source": [
    "#Radio, Newspaper, TV:Newspaper, Radio:Newspaper, and I(Newspaper:Newspaper) are statistically significant"
   ],
   "metadata": {
    "collapsed": false,
    "ExecuteTime": {
     "end_time": "2023-09-20T15:56:26.636369Z",
     "start_time": "2023-09-20T15:56:26.509487Z"
    }
   }
  }
 ],
 "metadata": {
  "kernelspec": {
   "display_name": "Python 3",
   "language": "python",
   "name": "python3"
  },
  "language_info": {
   "codemirror_mode": {
    "name": "ipython",
    "version": 2
   },
   "file_extension": ".py",
   "mimetype": "text/x-python",
   "name": "python",
   "nbconvert_exporter": "python",
   "pygments_lexer": "ipython2",
   "version": "2.7.6"
  }
 },
 "nbformat": 4,
 "nbformat_minor": 0
}
