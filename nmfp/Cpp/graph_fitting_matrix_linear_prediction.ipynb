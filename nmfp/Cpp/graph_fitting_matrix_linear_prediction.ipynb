{
 "cells": [
  {
   "cell_type": "code",
   "execution_count": 1,
   "metadata": {},
   "outputs": [],
   "source": [
    "from array import array\n",
    "import math\n",
    "import numpy as np\n",
    "from scipy import stats"
   ]
  },
  {
   "cell_type": "code",
   "execution_count": 2,
   "metadata": {},
   "outputs": [],
   "source": [
    "def generator_function(x,par):\n",
    "    return par[0]+par[1]*x"
   ]
  },
  {
   "cell_type": "code",
   "execution_count": 3,
   "metadata": {},
   "outputs": [],
   "source": [
    "m = 1 #Set the order of the polynomial\n",
    "n = 15 #Set the number of data points\n",
    "#jitter = array('d')\n",
    "#jitter = [-.2,.2,-.1,.1,.0,-.2,.2,-.1,.1,.0,-.2,.2,-.1,.1,.0]\n",
    "jitter = array('d')\n",
    "jitter = [.0,.0,.0,.0,.0,.0,.0,.0,.0,.0,.0,.0,.0,.0,.0]\n",
    "#growing errors\n",
    "#sigma = array('d')\n",
    "#sigma = [7,6,5,4,3,2,1,.5,1,2,3,4,5,6,7]\n",
    "#constraining endpoints\n",
    "#sigma = array('d')\n",
    "#sigma = [.7,6,5,4,3,2,1,.5,1,2,3,4,5,6,.7]\n",
    "#determining zero crossing\n",
    "#sigma = array('d')\n",
    "#sigma = [1,2,3,4,5,6,7,8,7,6,5,4,3,2,1]\n",
    "#positive values - slope\n",
    "#sigma = array('d')\n",
    "#sigma = [1,1,2,2,3,3,4,4,5,5,6,6,7,7,8]\n",
    "#positive values - intercept\n",
    "sigma = array('d')\n",
    "sigma = [8,7,7,6,6,5,5,4,4,3,3,2,2,1,1]"
   ]
  },
  {
   "cell_type": "code",
   "execution_count": 4,
   "metadata": {},
   "outputs": [],
   "source": [
    "x = array('d')\n",
    "y = array('d')\n",
    "ex = array('d')\n",
    "ey = array('d')"
   ]
  },
  {
   "cell_type": "code",
   "execution_count": 5,
   "metadata": {},
   "outputs": [],
   "source": [
    "par = array('d')\n",
    "par.append(1.80)\n",
    "par.append(4.05)\n",
    "\n",
    "for i in range(0,n):\n",
    "    #x.append(-4.0+8.0*i/n)\n",
    "    x.append(0.0+8.0*i/n)\n",
    "    y.append(generator_function(x[i],par)+jitter[i])\n",
    "    ex.append(0.0)\n",
    "    ey.append(sigma[i])"
   ]
  },
  {
   "cell_type": "code",
   "execution_count": 6,
   "metadata": {},
   "outputs": [],
   "source": [
    "m_params = m + 1\n",
    "a = np.zeros(shape = (m_params,m_params))\n",
    "v = np.zeros(shape = (m_params,1))"
   ]
  },
  {
   "cell_type": "code",
   "execution_count": 8,
   "metadata": {},
   "outputs": [
    {
     "name": "stdout",
     "output_type": "stream",
     "text": [
      "A matrix = \n",
      "[[  6.07843821  38.92723205]\n",
      " [ 38.92723205 262.63329927]]\n",
      "V matrix = \n",
      "[[ 168.59647857]\n",
      " [1133.73387973]]\n",
      "A_inverse = \n",
      "[[ 3.23955136 -0.4801629 ]\n",
      " [-0.4801629   0.07497683]]\n",
      "Diagonal Check:\n",
      "[[1.00000000e+00 4.80404374e-16]\n",
      " [9.73195807e-15 1.00000000e+00]]\n",
      "Coefficients:\n",
      "[[1.8 ]\n",
      " [4.05]]\n",
      "0.9999999999999998\n"
     ]
    }
   ],
   "source": [
    "for k in range(0,m_params):\n",
    "    for i in range(0,n):\n",
    "        v[k][0]=v[k][0]+y[i]*math.pow(x[i],k)/math.pow(ey[i],2)\n",
    "    #print (\"v[%d] = %f\" % (k,v[k][0]))\n",
    "    for j in range(0,m_params):\n",
    "        for i in range(0,n):\n",
    "            a[k][j]=a[k][j]+math.pow(x[i],k+j)/math.pow(ey[i],2)\n",
    "        #print (\"a[%d][%d] = %f\" %(k,j,a[k][j]))\n",
    "        \n",
    "print (\"A matrix = \")        \n",
    "print (a)\n",
    "print(\"V matrix = \")\n",
    "print (v)\n",
    "\n",
    "ainv = np.linalg.inv(a)\n",
    "u1 = np.dot(a,ainv)\n",
    "\n",
    "print (\"A_inverse = \")\n",
    "print (ainv)\n",
    "print (\"Diagonal Check:\")\n",
    "print (u1)\n",
    "coeff = ainv*np.matrix(v)\n",
    "print (\"Coefficients:\")\n",
    "print (coeff)\n",
    "\n",
    "slope, intercept, r_value, p_value, std_err = stats.linregress(x, y)\n",
    "print (r_value*r_value)\n"
   ]
  },
  {
   "cell_type": "code",
   "execution_count": 9,
   "metadata": {},
   "outputs": [
    {
     "name": "stdout",
     "output_type": "stream",
     "text": [
      "i = 0  y = 1.800000  yfit = 1.800000\n",
      "i = 1  y = 3.960000  yfit = 3.960000\n",
      "i = 2  y = 6.120000  yfit = 6.120000\n",
      "i = 3  y = 8.280000  yfit = 8.280000\n",
      "i = 4  y = 10.440000  yfit = 10.440000\n",
      "i = 5  y = 12.600000  yfit = 12.600000\n",
      "i = 6  y = 14.760000  yfit = 14.760000\n",
      "i = 7  y = 16.920000  yfit = 16.920000\n",
      "i = 8  y = 19.080000  yfit = 19.080000\n",
      "i = 9  y = 21.240000  yfit = 21.240000\n",
      "i = 10  y = 23.400000  yfit = 23.400000\n",
      "i = 11  y = 25.560000  yfit = 25.560000\n",
      "i = 12  y = 27.720000  yfit = 27.720000\n",
      "i = 13  y = 29.880000  yfit = 29.880000\n",
      "i = 14  y = 32.040000  yfit = 32.040000\n",
      "chi2/dof = 0.000000 / 13.000000\n"
     ]
    }
   ],
   "source": [
    "yfit = 0\n",
    "chi2 = 0\n",
    "for i in range(0,n):\n",
    "    for j in range(0,m+1):\n",
    "        yfit = yfit + coeff[j]*math.pow(x[i],j)\n",
    "    print (\"i = %d  y = %f  yfit = %f\" % (i,y[i],yfit))\n",
    "    chi2 = chi2 + math.pow(((yfit-y[i])/ey[i]),2)\n",
    "    yfit = 0\n",
    "    \n",
    "chi2perdof = chi2/(n-m)\n",
    "print (\"chi2/dof = %f / %f\" % (chi2,(n-m-1)))"
   ]
  },
  {
   "cell_type": "code",
   "execution_count": 10,
   "metadata": {},
   "outputs": [
    {
     "name": "stdout",
     "output_type": "stream",
     "text": [
      "k = 0, err = 1.799875\n",
      "k = 1, err = 0.273819\n"
     ]
    }
   ],
   "source": [
    "for k in range(0,m+1):\n",
    "    print(\"k = %d, err = %f\" % (k,math.pow(ainv[k][k],0.5)))"
   ]
  },
  {
   "cell_type": "code",
   "execution_count": 11,
   "metadata": {},
   "outputs": [],
   "source": [
    "xfiterr = array('d')\n",
    "yfitplus = array('d')\n",
    "yfitminus = array('d')\n",
    "\n",
    "for i in range(0,101):\n",
    "    #xfiterr.append(-5.0+10.0*i/100)\n",
    "    xfiterr.append(0.0+10.0*i/100)\n",
    "    yerror = 0.0\n",
    "    yval = 0.0\n",
    "    for k in range(0,m+1):\n",
    "        yerror = yerror + math.pow((math.pow(xfiterr[i],k)*math.pow(ainv[k][k],0.5)),2)\n",
    "        yval = yval + coeff[k]*math.pow(xfiterr[i],k)\n",
    "    yfitplus.append(yval+math.sqrt(yerror))\n",
    "    yfitminus.append(yval-math.sqrt(yerror))\n",
    "    #print(i,xfiterr[i],yfitplus[i],yfitminus[i])"
   ]
  },
  {
   "cell_type": "code",
   "execution_count": 12,
   "metadata": {},
   "outputs": [
    {
     "name": "stdout",
     "output_type": "stream",
     "text": [
      "Welcome to JupyROOT 6.16/00\n",
      "Fit 1: 0.000000 13.000000 \n",
      "\n"
     ]
    },
    {
     "data": {
      "image/png": "[encoded data removed]",
      "text/plain": [
       "<IPython.core.display.Image object>"
      ]
     },
     "metadata": {},
     "output_type": "display_data"
    }
   ],
   "source": [
    "#print (n,x,y)\n",
    "\n",
    "from ROOT import TCanvas, TFile\n",
    "from ROOT import TGraph, TF1, TGraphErrors\n",
    "from ROOT import gStyle\n",
    "gStyle.SetOptFit(1)\n",
    "\n",
    "c1 = TCanvas( 'c1', 'Simple Linear Fitting Example', 200, 10, 1400, 1000 )\n",
    "c1.SetGridx()\n",
    "c1.SetGridy()\n",
    "c1.GetFrame().SetFillColor( 21 )\n",
    "c1.GetFrame().SetBorderMode(-1 )\n",
    "c1.GetFrame().SetBorderSize( 5 )\n",
    "\n",
    "gr = TGraphErrors(n,x,y,ex,ey)\n",
    "grp = TGraph(101,xfiterr,yfitplus)\n",
    "grm = TGraph(101,xfiterr,yfitminus)\n",
    "\n",
    "pfit1 = TF1(\"pfit1\",\"pol1\")\n",
    "gr.SetMarkerStyle(21)\n",
    "gr.SetTitle(\"Linear Fit\")\n",
    "gr.GetXaxis().SetTitle(\"X\")\n",
    "gr.GetYaxis().SetTitle(\"Y\")\n",
    "gr.Fit(\"pfit1\",\"q\")\n",
    "pfit1chi2 = pfit1.GetChisquare()\n",
    "pfit1ndf = pfit1.GetNDF()\n",
    "pfit1chi2ndf = pfit1chi2/pfit1ndf\n",
    "print(\"Fit 1: %f %f \\n\" % (pfit1chi2,pfit1ndf))\n",
    "gr.Draw(\"AP\")\n",
    "grp.SetLineColor(2)\n",
    "grm.SetLineColor(2)\n",
    "grp.Draw(\"L\")\n",
    "grm.Draw(\"L\")\n",
    "c1.Draw()"
   ]
  },
  {
   "cell_type": "code",
   "execution_count": null,
   "metadata": {},
   "outputs": [],
   "source": []
  }
 ],
 "metadata": {
  "kernelspec": {
   "display_name": "Python 3",
   "language": "python",
   "name": "python3"
  },
  "language_info": {
   "codemirror_mode": {
    "name": "ipython",
    "version": 3
   },
   "file_extension": ".py",
   "mimetype": "text/x-python",
   "name": "python",
   "nbconvert_exporter": "python",
   "pygments_lexer": "ipython3",
   "version": "3.6.8"
  }
 },
 "nbformat": 4,
 "nbformat_minor": 2
}
