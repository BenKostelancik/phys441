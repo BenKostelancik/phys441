{
 "cells": [
  {
   "cell_type": "code",
   "execution_count": 1,
   "metadata": {},
   "outputs": [],
   "source": [
    "from array import array\n",
    "import math\n",
    "import numpy as np\n",
    "from scipy import stats"
   ]
  },
  {
   "cell_type": "code",
   "execution_count": 2,
   "metadata": {},
   "outputs": [],
   "source": [
    "def generator_function(x,par):\n",
    "    return par[0]+par[1]*x"
   ]
  },
  {
   "cell_type": "code",
   "execution_count": 3,
   "metadata": {},
   "outputs": [],
   "source": [
    "m = 1 #Set the order of the polynomial\n",
    "n = 10 #Set the number of data points\n",
    "#jitter = array('d')\n",
    "#jitter = [-.2,.2,-.1,.1,.0,-.2,.2,-.1,.1,.0,-.2,.2,-.1,.1,.0]\n",
    "jitter = array('d')\n",
    "jitter = [.3,.2,-.5,-.2,.2,.6,-.4,-1.5,.7,.5]\n",
    "#jitter = array('d')\n",
    "#jitter = [.0,.0,.0,.0,.0,.0,.0,.0,.0,.0,.0,.0,.0,.0,.0]\n",
    "#growing errors\n",
    "#sigma = array('d')\n",
    "#sigma = [7,6,5,4,3,2,1,.5,1,2,3,4,5,6,7]\n",
    "#constraining endpoints\n",
    "#sigma = array('d')\n",
    "#sigma = [.7,6,5,4,3,2,1,.5,1,2,3,4,5,6,.7]\n",
    "#determining zero crossing\n",
    "#sigma = array('d')\n",
    "#sigma = [1,2,3,4,5,6,7,8,7,6,5,4,3,2,1]\n",
    "#positive values - slope\n",
    "#sigma = array('d')\n",
    "#sigma = [1,1,2,2,3,3,4,4,5,5,6,6,7,7,8]\n",
    "#positive values - intercept\n",
    "#sigma = array('d')\n",
    "#sigma = [8,7,7,6,6,5,5,4,4,3,3,2,2,1,1]\n",
    "#positive values - slope\n",
    "sigma = array('d')\n",
    "sigma = [0.51,0.51,0.51,0.51,0.51,0.51,0.51,0.51,0.51,0.51]"
   ]
  },
  {
   "cell_type": "code",
   "execution_count": 4,
   "metadata": {},
   "outputs": [],
   "source": [
    "x = array('d')\n",
    "y = array('d')\n",
    "ex = array('d')\n",
    "ey = array('d')"
   ]
  },
  {
   "cell_type": "code",
   "execution_count": 5,
   "metadata": {},
   "outputs": [],
   "source": [
    "par = array('d')\n",
    "par.append(6.81)\n",
    "par.append(0.658)\n",
    "par.append(0.002)\n",
    "\n",
    "for i in range(0,n):\n",
    "    #x.append(-4.0+8.0*i/n)\n",
    "    #x.append(0.0+8.0*i/n)\n",
    "    x.append(41.0+i*1.0)\n",
    "    y.append(generator_function(x[i],par)+jitter[i])\n",
    "    ex.append(0.0)\n",
    "    ey.append(sigma[i])"
   ]
  },
  {
   "cell_type": "code",
   "execution_count": 6,
   "metadata": {},
   "outputs": [],
   "source": [
    "m_params = m + 1\n",
    "a = np.zeros(shape = (m_params,m_params))\n",
    "v = np.zeros(shape = (m_params,1))"
   ]
  },
  {
   "cell_type": "code",
   "execution_count": 7,
   "metadata": {},
   "outputs": [
    {
     "name": "stdout",
     "output_type": "stream",
     "text": [
      "A matrix = \n",
      "[[3.84467512e+01 1.74932718e+03]\n",
      " [1.74932718e+03 7.99115725e+04]]\n",
      "V matrix = \n",
      "[[ 1412.49519416]\n",
      " [64477.43175702]]\n",
      "A_inverse = \n",
      "[[ 6.55294364e+00 -1.43449091e-01]\n",
      " [-1.43449091e-01  3.15272727e-03]]\n",
      "Diagonal Check:\n",
      "[[ 1.00000000e+00 -5.74188209e-16]\n",
      " [-5.26297255e-13  1.00000000e+00]]\n",
      "Coefficients:\n",
      "[[6.77242424]\n",
      " [0.65860606]]\n",
      "0.9487689819488618\n"
     ]
    }
   ],
   "source": [
    "for k in range(0,m_params):\n",
    "    for i in range(0,n):\n",
    "        v[k][0]=v[k][0]+y[i]*math.pow(x[i],k)/math.pow(ey[i],2)\n",
    "    #print (\"v[%d] = %f\" % (k,v[k][0]))\n",
    "    for j in range(0,m_params):\n",
    "        for i in range(0,n):\n",
    "            a[k][j]=a[k][j]+math.pow(x[i],k+j)/math.pow(ey[i],2)\n",
    "        #print (\"a[%d][%d] = %f\" %(k,j,a[k][j]))\n",
    "        \n",
    "print (\"A matrix = \")        \n",
    "print (a)\n",
    "print(\"V matrix = \")\n",
    "print (v)\n",
    "\n",
    "ainv = np.linalg.inv(a)\n",
    "u1 = np.dot(a,ainv)\n",
    "\n",
    "print (\"A_inverse = \")\n",
    "print (ainv)\n",
    "print (\"Diagonal Check:\")\n",
    "print (u1)\n",
    "coeff = ainv*np.matrix(v)\n",
    "print (\"Coefficients:\")\n",
    "print (coeff)\n",
    "\n",
    "slope, intercept, r_value, p_value, std_err = stats.linregress(x, y)\n",
    "print (r_value)"
   ]
  },
  {
   "cell_type": "code",
   "execution_count": 13,
   "metadata": {},
   "outputs": [
    {
     "name": "stdout",
     "output_type": "stream",
     "text": [
      "i = 0  y = 34.088000  yfit = 33.775273\n",
      "i = 1  y = 34.646000  yfit = 34.433879\n",
      "i = 2  y = 34.604000  yfit = 35.092485\n",
      "i = 3  y = 35.562000  yfit = 35.751091\n",
      "i = 4  y = 36.620000  yfit = 36.409697\n",
      "i = 5  y = 37.678000  yfit = 37.068303\n",
      "i = 6  y = 37.336000  yfit = 37.726909\n",
      "i = 7  y = 36.894000  yfit = 38.385515\n",
      "i = 8  y = 39.752000  yfit = 39.044121\n",
      "i = 9  y = 40.210000  yfit = 39.702727\n",
      "chi2/dof = 15.259399 / 8.000000\n",
      "[[ 1. -1.]\n",
      " [-1.  1.]]\n",
      "Pearsons correlation: 0.94877\n"
     ]
    }
   ],
   "source": [
    "yfit = 0\n",
    "chi2 = 0\n",
    "rho = array('d')\n",
    "\n",
    "for i in range(0,n):\n",
    "    for j in range(0,m+1):\n",
    "        yfit = yfit + coeff[j]*math.pow(x[i],j)\n",
    "    print (\"i = %d  y = %f  yfit = %f\" % (i,y[i],yfit))\n",
    "    chi2 = chi2 + math.pow(((yfit-y[i])/ey[i]),2)\n",
    "    yfit = 0\n",
    "    \n",
    "chi2perdof = chi2/(n-m)\n",
    "print (\"chi2/dof = %f / %f\" % (chi2,(n-m-1)))\n",
    "\n",
    "R = np.corrcoef(ainv)\n",
    "print (R)\n",
    "\n",
    "corr, _ = stats.pearsonr(x, y)\n",
    "print('Pearsons correlation: %.5f' % corr)"
   ]
  },
  {
   "cell_type": "code",
   "execution_count": 9,
   "metadata": {},
   "outputs": [
    {
     "name": "stdout",
     "output_type": "stream",
     "text": [
      "k = 0, err = 2.559872\n",
      "k = 1, err = 0.056149\n"
     ]
    }
   ],
   "source": [
    "for k in range(0,m+1):\n",
    "    print(\"k = %d, err = %f\" % (k,math.pow(ainv[k][k],0.5)))"
   ]
  },
  {
   "cell_type": "code",
   "execution_count": 10,
   "metadata": {},
   "outputs": [
    {
     "name": "stdout",
     "output_type": "stream",
     "text": [
      "0 0 6.5529436363636755\n",
      "0 1 -5.893119866764402\n",
      "1 0 -5.893119866764402\n",
      "1 1 5.299734545454575\n",
      "0 41.0 [[33.77527273]] 0.25775656788808743 34.03302929516004 33.51751615938387\n",
      "0 0 6.5529436363636755\n",
      "0 1 -5.964987182212749\n",
      "1 0 -5.964987182212749\n",
      "1 1 5.429784545454576\n",
      "1 41.5 [[34.10457576]] 0.229681991877366 34.334257749452355 33.87489376569763\n",
      "0 0 6.5529436363636755\n",
      "0 1 -6.036854497661095\n",
      "1 0 -6.036854497661095\n",
      "1 1 5.561410909090942\n",
      "2 42.0 [[34.43387879]] 0.20160741586664496 34.63548620374468 34.23227137201138\n",
      "0 0 6.5529436363636755\n",
      "0 1 -6.108721813109441\n",
      "1 0 -6.108721813109442\n",
      "1 1 5.694613636363669\n",
      "3 42.5 [[34.76318182]] 0.17353283985592194 34.93671465803699 34.589648978325144\n",
      "0 0 6.5529436363636755\n",
      "0 1 -6.180589128557788\n",
      "1 0 -6.180589128557788\n",
      "1 1 5.82939272727276\n",
      "4 43.0 [[35.09248485]] 0.14545826384519883 35.237943112329305 34.947026584638905\n",
      "0 0 6.5529436363636755\n",
      "0 1 -6.2524564440061345\n",
      "1 0 -6.2524564440061345\n",
      "1 1 5.965748181818216\n",
      "5 43.5 [[35.42178788]] 0.11738368783447939 35.53917156662162 35.30440419095267\n",
      "0 0 6.5529436363636755\n",
      "0 1 -6.324323759454481\n",
      "1 0 -6.324323759454481\n",
      "1 1 6.103680000000035\n",
      "6 44.0 [[35.75109091]] 0.08930911182375713 35.84040002091394 35.66178179726642\n",
      "0 0 6.5529436363636755\n",
      "0 1 -6.396191074902827\n",
      "1 0 -6.396191074902828\n",
      "1 1 6.243188181818217\n",
      "7 44.5 [[36.08039394]] 0.06123453581303539 36.141628475206254 36.01915940358018\n",
      "0 0 6.5529436363636755\n",
      "0 1 -6.468058390351174\n",
      "1 0 -6.468058390351174\n",
      "1 1 6.384272727272763\n",
      "8 45.0 [[36.40969697]] 0.03315995980231552 36.442856929498575 36.37653700989394\n",
      "0 0 6.5529436363636755\n",
      "0 1 -6.5399257057995195\n",
      "1 0 -6.5399257057995195\n",
      "1 1 6.526933636363673\n",
      "9 45.5 [[36.739]] 0.005085383791803146 36.744085383791095 36.73391461620749\n",
      "0 0 6.5529436363636755\n",
      "0 1 -6.611793021247866\n",
      "1 0 -6.611793021247866\n",
      "1 1 6.6711709090909475\n",
      "10 46.0 [[37.06830303]] 0.022989192219184645 37.09129222252152 37.045313838083146\n",
      "0 0 6.5529436363636755\n",
      "0 1 -6.683660336696212\n",
      "1 0 -6.683660336696213\n",
      "1 1 6.816984545454584\n",
      "11 46.5 [[37.39760606]] 0.0510637682298811 37.44866982883525 37.34654229237549\n",
      "0 0 6.5529436363636755\n",
      "0 1 -6.755527652144559\n",
      "1 0 -6.755527652144559\n",
      "1 1 6.964374545454585\n",
      "12 47.0 [[37.72690909]] 0.07913834424059628 37.806047435149004 37.64777074666781\n",
      "0 0 6.5529436363636755\n",
      "0 1 -6.827394967592905\n",
      "1 0 -6.827394967592905\n",
      "1 1 7.113340909090949\n",
      "13 47.5 [[38.05621212]] 0.10721292025131132 38.16342504146276 37.94899920096013\n",
      "0 0 6.5529436363636755\n",
      "0 1 -6.899262283041252\n",
      "1 0 -6.899262283041251\n",
      "1 1 7.263883636363678\n",
      "14 48.0 [[38.38551515]] 0.13528749626203618 38.52080264777652 38.250227655252445\n",
      "0 0 6.5529436363636755\n",
      "0 1 -6.971129598489599\n",
      "1 0 -6.971129598489598\n",
      "1 1 7.416002727272771\n",
      "15 48.5 [[38.71481818]] 0.16336207227275762 38.878180254090275 38.551456109544766\n",
      "0 0 6.5529436363636755\n",
      "0 1 -7.0429969139379445\n",
      "1 0 -7.042996913937943\n",
      "1 1 7.569698181818224\n",
      "16 49.0 [[39.04412121]] 0.19143664828347948 39.235557860404036 38.85268456383708\n",
      "0 0 6.5529436363636755\n",
      "0 1 -7.114864229386291\n",
      "1 0 -7.114864229386289\n",
      "1 1 7.724970000000044\n",
      "17 49.5 [[39.37342424]] 0.21951122429420158 39.5929354667178 39.153913018129394\n",
      "0 0 6.5529436363636755\n",
      "0 1 -7.186731544834638\n",
      "1 0 -7.186731544834636\n",
      "1 1 7.881818181818227\n",
      "18 50.0 [[39.70272727]] 0.24758580030492205 39.95031307303156 39.45514147242171\n",
      "0 0 6.5529436363636755\n",
      "0 1 -7.2585988602829845\n",
      "1 0 -7.258598860282983\n",
      "1 1 8.040242727272775\n",
      "19 50.5 [[40.0320303]] 0.2756603763156446 40.30769067934531 39.75636992671403\n"
     ]
    }
   ],
   "source": [
    "xfiterr = array('d')\n",
    "yfitplus = array('d')\n",
    "yfitminus = array('d')\n",
    "\n",
    "rho = np.zeros(shape = (m_params,m_params))\n",
    "\n",
    "for k in range(0,m+1):\n",
    "    for j in range(0,m+1):\n",
    "        #rho[k][j] = math.pow(-1.0,(k+j))\n",
    "        rho[k][j] = R[k][j]\n",
    "\n",
    "for i in range(0,2*n):\n",
    "    #xfiterr.append(-5.0+10.0*i/100)\n",
    "    #xfiterr.append(0.0+10.0*i/100)\n",
    "    xfiterr.append(41.0+i*0.5)\n",
    "    yerror = 0.0\n",
    "    yval = 0.0\n",
    "    for k in range(0,m+1):\n",
    "        for j in range(0,m+1):\n",
    "            term = rho[k][j]*math.pow(xfiterr[i],k)*math.pow(ainv[k][k],0.5)*(math.pow(xfiterr[i],j)*math.pow(ainv[j][j],0.5))\n",
    "            print (k,j,term)\n",
    "            yerror = yerror + term\n",
    "        yval = yval + coeff[k]*math.pow(xfiterr[i],k)\n",
    "    yfitplus.append(yval+math.sqrt(yerror))\n",
    "    yfitminus.append(yval-math.sqrt(yerror))\n",
    "    print(i,xfiterr[i],yval,math.sqrt(yerror),yfitplus[i],yfitminus[i])"
   ]
  },
  {
   "cell_type": "code",
   "execution_count": 11,
   "metadata": {},
   "outputs": [
    {
     "name": "stdout",
     "output_type": "stream",
     "text": [
      "Welcome to JupyROOT 6.16/00\n",
      "Fit 1: 13.749490 7.000000 \n",
      "\n"
     ]
    },
    {
     "data": {
      "image/png": "[encoded data removed]",
      "text/plain": [
       "<IPython.core.display.Image object>"
      ]
     },
     "metadata": {},
     "output_type": "display_data"
    }
   ],
   "source": [
    "#print (n,x,y)\n",
    "\n",
    "from ROOT import TCanvas, TFile\n",
    "from ROOT import TGraph, TF1, TGraphErrors\n",
    "from ROOT import gStyle\n",
    "gStyle.SetOptFit(1)\n",
    "\n",
    "c1 = TCanvas( 'c1', 'Simple Linear Fitting Example', 200, 10, 1400, 1000 )\n",
    "c1.SetGridx()\n",
    "c1.SetGridy()\n",
    "c1.GetFrame().SetFillColor( 21 )\n",
    "c1.GetFrame().SetBorderMode(-1 )\n",
    "c1.GetFrame().SetBorderSize( 5 )\n",
    "\n",
    "gr = TGraphErrors(n,x,y,ex,ey)\n",
    "grp = TGraph(2*n,xfiterr,yfitplus)\n",
    "grm = TGraph(2*n,xfiterr,yfitminus)\n",
    "\n",
    "pfit1 = TF1(\"pfit1\",\"pol2\")\n",
    "gr.SetMarkerStyle(21)\n",
    "gr.SetTitle(\"Linear Fit\")\n",
    "gr.GetXaxis().SetTitle(\"X\")\n",
    "gr.GetYaxis().SetTitle(\"Y\")\n",
    "gr.GetXaxis().SetLimits(40.0,56.0)\n",
    "gr.Fit(\"pfit1\",\"q\")\n",
    "pfit1chi2 = pfit1.GetChisquare()\n",
    "pfit1ndf = pfit1.GetNDF()\n",
    "pfit1chi2ndf = pfit1chi2/pfit1ndf\n",
    "print(\"Fit 1: %f %f \\n\" % (pfit1chi2,pfit1ndf))\n",
    "gr.Draw(\"AP\")\n",
    "grp.SetLineColor(2)\n",
    "grm.SetLineColor(2)\n",
    "grp.Draw(\"L\")\n",
    "grm.Draw(\"L\")\n",
    "c1.Draw()"
   ]
  },
  {
   "cell_type": "code",
   "execution_count": null,
   "metadata": {},
   "outputs": [],
   "source": []
  }
 ],
 "metadata": {
  "kernelspec": {
   "display_name": "Python 3",
   "language": "python",
   "name": "python3"
  },
  "language_info": {
   "codemirror_mode": {
    "name": "ipython",
    "version": 3
   },
   "file_extension": ".py",
   "mimetype": "text/x-python",
   "name": "python",
   "nbconvert_exporter": "python",
   "pygments_lexer": "ipython3",
   "version": "3.6.8"
  }
 },
 "nbformat": 4,
 "nbformat_minor": 2
}
