{
 "cells": [
  {
   "cell_type": "code",
   "execution_count": 1,
   "metadata": {},
   "outputs": [],
   "source": [
    "from array import array\n",
    "import math\n",
    "import numpy as np\n",
    "from scipy import stats\n",
    "import random"
   ]
  },
  {
   "cell_type": "code",
   "execution_count": 2,
   "metadata": {},
   "outputs": [],
   "source": [
    "def generator_function(x,par,ichoice):\n",
    "    if ichoice == 5:\n",
    "        return par[0]+par[1]*x+par[2]*x*x+par[3]*x*x*x\n",
    "    elif ichoice == 6:\n",
    "        return par[0]+par[1]*x+par[2]*x*x\n",
    "    else:\n",
    "        return par[0]+par[1]*x"
   ]
  },
  {
   "cell_type": "code",
   "execution_count": 3,
   "metadata": {},
   "outputs": [],
   "source": [
    "ichoice = 6"
   ]
  },
  {
   "cell_type": "code",
   "execution_count": 4,
   "metadata": {},
   "outputs": [],
   "source": [
    "if ichoice == 1:\n",
    "    m = 1\n",
    "    n = 15\n",
    "    jitter = array('d')\n",
    "    jitter = [-2,2,-1,1,0,-2,2,-1,1,0,-2,2,-1,1,0]\n",
    "    sigma = array('d')\n",
    "    sigma = [7,6,5,4,3,2,1,.5,1,2,3,4,5,6,7]\n",
    "elif ichoice == 2:\n",
    "    m = 1\n",
    "    n = 10\n",
    "    jitter = array('d')\n",
    "    jitter = [.3,.2,-.5,-.2,.2,.6,-.4,-1.5,.7,.5]\n",
    "    sigma = array('d')\n",
    "    sigma = [0.51,0.51,0.51,0.51,0.51,0.51,0.51,0.51,0.51,0.51]\n",
    "elif ichoice == 3:\n",
    "    m = 1\n",
    "    n = 15\n",
    "    jitter = array('d')\n",
    "    jitter = [-2,2,-1,1,0,-2,2,-1,1,0,-2,2,-1,1,0] \n",
    "    sigma = array('d')\n",
    "    sigma = [.7,6,5,4,3,2,1,.5,1,2,3,4,5,6,.7]\n",
    "elif ichoice == 4:\n",
    "    m = 1\n",
    "    n = 15\n",
    "    jitter = array('d')\n",
    "    jitter = [-2,2,-1,1,0,-2,2,-1,1,0,-2,2,-1,1,0]\n",
    "    sigma = array('d') \n",
    "    sigma = [1,2,3,4,5,6,7,8,7,6,5,4,3,2,1]\n",
    "elif ichoice == 5:\n",
    "    m = 3\n",
    "    n = 15\n",
    "    jitter = array('d')\n",
    "    jitter = [-2,2,-1,1,0,-2,2,-1,1,0,-2,2,-1,1,0]\n",
    "    sigma = array('d')\n",
    "    sigma = [7,6,5,4,3,2,1,.5,1,2,3,4,5,6,7]\n",
    "elif ichoice == 6:\n",
    "    m = 2\n",
    "    n = 15\n",
    "    jitter = array('d')\n",
    "    jitter = [-2,2,-1,1,0,-2,2,-1,1,0,-2,2,-1,1,0]\n",
    "    sigma = array('d')\n",
    "    sigma = [1,2,3,4,5,6,7,8,7,6,5,4,3,2,1]\n",
    "else:\n",
    "    print(\"Invalid choice!!!!\")"
   ]
  },
  {
   "cell_type": "code",
   "execution_count": 5,
   "metadata": {},
   "outputs": [],
   "source": [
    "x = array('d')\n",
    "y = array('d')\n",
    "ex = array('d')\n",
    "ey = array('d')"
   ]
  },
  {
   "cell_type": "code",
   "execution_count": 6,
   "metadata": {},
   "outputs": [],
   "source": [
    "par = array('d')\n",
    "if ichoice == 2:\n",
    "    par.append(6.81)\n",
    "    par.append(0.656)\n",
    "elif ichoice == 5:\n",
    "    par.append(1.80)\n",
    "    par.append(4.05)\n",
    "    par.append(0.00)\n",
    "    par.append(0.20)\n",
    "elif ichoice == 6:\n",
    "    par.append(1.80)\n",
    "    par.append(4.05)\n",
    "    par.append(5.10)\n",
    "else:\n",
    "    par.append(1.80)\n",
    "    par.append(4.05)\n",
    "\n",
    "random.seed(1)\n",
    "\n",
    "for i in range(0,n):\n",
    "    if ichoice == 2:\n",
    "        x.append(41.0+i*1.0)\n",
    "    else:\n",
    "        x.append(-4.0+8.0*i/(n+1))\n",
    "    y.append(generator_function(x[i],par,ichoice)+jitter[i])\n",
    "    ex.append(0.0)\n",
    "    ey.append(sigma[i])"
   ]
  },
  {
   "cell_type": "code",
   "execution_count": 7,
   "metadata": {},
   "outputs": [],
   "source": [
    "m_params = m + 1\n",
    "a = np.zeros(shape = (m_params,m_params))\n",
    "v = np.zeros(shape = (m_params,1))"
   ]
  },
  {
   "cell_type": "code",
   "execution_count": 8,
   "metadata": {},
   "outputs": [
    {
     "name": "stdout",
     "output_type": "stream",
     "text": [
      "A matrix = \n",
      "[[  3.0392191   -1.51960955  31.8944533 ]\n",
      " [ -1.51960955  31.8944533  -47.08187518]\n",
      " [ 31.8944533  -47.08187518 398.66058611]]\n",
      "V matrix = \n",
      "[[ 160.60320925]\n",
      " [-106.69263411]\n",
      " [1874.64425129]]\n",
      "A_inverse = \n",
      "[[ 3.38085693 -0.2884941  -0.30455337]\n",
      " [-0.2884941   0.06259129  0.03047273]\n",
      " [-0.30455337  0.03047273  0.03047273]]\n",
      "Diagonal Check:\n",
      "[[ 1.00000000e+00 -4.82737085e-17  6.12838393e-17]\n",
      " [ 1.18599363e-15  1.00000000e+00 -1.19060554e-16]\n",
      " [-2.51687870e-15  1.98758848e-15  1.00000000e+00]]\n",
      "Coefficients:\n",
      "k = 0, coeff = 2.827437 +/- 1.838711\n",
      "k = 1, coeff = 4.114422 +/- 0.250183\n",
      "k = 2, coeff = 4.962064 +/- 0.174564\n"
     ]
    }
   ],
   "source": [
    "for k in range(0,m_params):\n",
    "    for i in range(0,n):\n",
    "        v[k][0]=v[k][0]+y[i]*math.pow(x[i],k)/math.pow(ey[i],2)\n",
    "    #print (\"v[%d] = %f\" % (k,v[k][0]))\n",
    "    for j in range(0,m_params):\n",
    "        for i in range(0,n):\n",
    "            a[k][j]=a[k][j]+math.pow(x[i],k+j)/math.pow(ey[i],2)\n",
    "        #print (\"a[%d][%d] = %f\" %(k,j,a[k][j]))\n",
    "        \n",
    "print (\"A matrix = \")        \n",
    "print (a)\n",
    "print(\"V matrix = \")\n",
    "print (v)\n",
    "\n",
    "ainv = np.linalg.inv(a)\n",
    "u1 = np.dot(a,ainv)\n",
    "\n",
    "print (\"A_inverse = \")\n",
    "print (ainv)\n",
    "print (\"Diagonal Check:\")\n",
    "print (u1)\n",
    "coeff = ainv*np.matrix(v)\n",
    "print (\"Coefficients:\")\n",
    "for k in range(0,m+1):\n",
    "    print(\"k = %d, coeff = %f +/- %f\" % (k,coeff[k],math.pow(ainv[k][k],0.5)))"
   ]
  },
  {
   "cell_type": "code",
   "execution_count": 9,
   "metadata": {},
   "outputs": [
    {
     "name": "stdout",
     "output_type": "stream",
     "text": [
      "i = 0  y = 65.200000  yfit = 65.762774\n",
      "i = 1  y = 52.100000  yfit = 49.212245\n",
      "i = 2  y = 34.550000  yfit = 35.142747\n",
      "i = 3  y = 24.550000  yfit = 23.554282\n",
      "i = 4  y = 14.100000  yfit = 14.446849\n",
      "i = 5  y = 5.200000  yfit = 7.820448\n",
      "i = 6  y = 4.850000  yfit = 3.675079\n",
      "i = 7  y = 0.050000  yfit = 2.010742\n",
      "i = 8  y = 2.800000  yfit = 2.827437\n",
      "i = 9  y = 5.100000  yfit = 6.125164\n",
      "i = 10  y = 8.950000  yfit = 11.903923\n",
      "i = 11  y = 21.350000  yfit = 20.163715\n",
      "i = 12  y = 29.300000  yfit = 30.904538\n",
      "i = 13  y = 44.800000  yfit = 44.126394\n",
      "i = 14  y = 59.850000  yfit = 59.829282\n",
      "chi2/dof = 3.652416 / 12.000000\n",
      "[[ 1.         -0.62714301 -0.94884294]\n",
      " [-0.62714301  1.          0.69774823]\n",
      " [-0.94884294  0.69774823  1.        ]]\n"
     ]
    }
   ],
   "source": [
    "yfit = 0\n",
    "chi2 = 0\n",
    "rho = array('d')\n",
    "\n",
    "for i in range(0,n):\n",
    "    for j in range(0,m+1):\n",
    "        yfit = yfit + coeff[j]*math.pow(x[i],j)\n",
    "    print (\"i = %d  y = %f  yfit = %f\" % (i,y[i],yfit))\n",
    "    chi2 = chi2 + math.pow(((yfit-y[i])/ey[i]),2)\n",
    "    yfit = 0\n",
    "    \n",
    "chi2perdof = chi2/(n-m)\n",
    "print (\"chi2/dof = %f / %f\" % (chi2,(n-m-1)))\n",
    "\n",
    "rho = np.zeros(shape = (m_params,m_params))\n",
    "\n",
    "for k in range(0,m_params):\n",
    "    for j in range(0,m_params):\n",
    "        rho[k][j]=rho[k][j]+ainv[k][j]/math.sqrt(ainv[k][k]*ainv[j][j])    \n",
    "print (rho)"
   ]
  },
  {
   "cell_type": "code",
   "execution_count": null,
   "metadata": {},
   "outputs": [],
   "source": []
  },
  {
   "cell_type": "code",
   "execution_count": 10,
   "metadata": {},
   "outputs": [
    {
     "name": "stdout",
     "output_type": "stream",
     "text": [
      "0 -4.0 [[65.76277439]] 0.9192779034343471 66.6820522969911 64.8434964901224\n",
      "1 -3.5 [[49.21224484]] 0.8156461908569923 50.027891031292434 48.39659864957844\n",
      "2 -3.0 [[35.14274739]] 1.0079415135437633 36.150688901438286 34.13480587435076\n",
      "3 -2.5 [[23.55428204]] 1.2828382571716561 24.837120293105656 22.271443778762347\n",
      "4 -2.0 [[14.44684878]] 1.532570218546709 15.979419003100588 12.91427856600717\n",
      "5 -1.5 [[7.82044763]] 1.7219920734264076 9.54243970718056 6.098455560327744\n",
      "6 -1.0 [[3.67507858]] 1.83871067126424 5.513789254799059 1.8363679122705796\n",
      "7 -0.5 [[2.01074163]] 1.878033153552698 3.8887747874485825 0.1327084803431866\n",
      "8 0.0 [[2.82743678]] 1.8387106712642398 4.666147456101585 0.988726113573106\n",
      "9 0.5 [[6.12516404]] 1.7219920734264074 7.847156109785611 4.403171962932796\n",
      "10 1.0 [[11.90392339]] 1.5325702185467094 13.436493607008167 10.371353169914748\n",
      "11 1.5 [[20.16371484]] 1.2828382571716561 21.44655309831576 18.88087658397245\n",
      "12 2.0 [[30.90453839]] 1.0079415135437637 31.912479907950917 29.89659688086339\n",
      "13 2.5 [[44.12639405]] 0.8156461908569931 44.94204023910759 43.3107478573936\n",
      "14 3.0 [[59.8292818]] 0.9192779034343467 60.748559706108786 58.91000389924009\n"
     ]
    }
   ],
   "source": [
    "xfiterr = array('d')\n",
    "yfiterr = array('d')\n",
    "yfitplus2 = array('d')\n",
    "yfitminus2 = array('d')\n",
    "\n",
    "for i in range(0,n):\n",
    "    if ichoice == 2:\n",
    "        xfiterr.append(41.0+i*1.0)\n",
    "    else:\n",
    "        xfiterr.append(-4.0+8.0*i/(n+1))\n",
    "    yerror2 = 0.0\n",
    "    yval = 0.0\n",
    "    for k in range(0,m+1):\n",
    "        for j in range(0,m+1):\n",
    "            term = rho[k][j]*math.pow(xfiterr[i],k)*math.pow(ainv[k][k],0.5)*(math.pow(xfiterr[i],j)*math.pow(ainv[j][j],0.5))\n",
    "            #print (k,j,term)\n",
    "            yerror2 = yerror2 + term\n",
    "        yval = yval + coeff[k]*math.pow(xfiterr[i],k)\n",
    "    yfiterr.append(yval)\n",
    "    yfitplus2.append(yval+math.sqrt(yerror2))\n",
    "    yfitminus2.append(yval-math.sqrt(yerror2))\n",
    "    print(i,xfiterr[i],yval,math.sqrt(yerror2),yfitplus2[i],yfitminus2[i])"
   ]
  },
  {
   "cell_type": "code",
   "execution_count": 11,
   "metadata": {
    "scrolled": false
   },
   "outputs": [
    {
     "name": "stdout",
     "output_type": "stream",
     "text": [
      "Welcome to JupyROOT 6.18/00\n",
      "Fit 1: 3.652416 12.000000 \n",
      "\n"
     ]
    },
    {
     "data": {
      "image/png": "[encoded data removed]",
      "text/plain": [
       "<IPython.core.display.Image object>"
      ]
     },
     "metadata": {},
     "output_type": "display_data"
    }
   ],
   "source": [
    "#print (n,x,y)\n",
    "\n",
    "from ROOT import TCanvas, TFile\n",
    "from ROOT import TGraph, TF1, TGraphErrors\n",
    "from ROOT import gStyle\n",
    "gStyle.SetOptFit(1)\n",
    "\n",
    "c1 = TCanvas( 'c1', 'Simple Linear Fitting Example', 200, 10, 1400, 1000 )\n",
    "c1.SetGridx()\n",
    "c1.SetGridy()\n",
    "c1.GetFrame().SetFillColor( 21 )\n",
    "c1.GetFrame().SetBorderMode(-1 )\n",
    "c1.GetFrame().SetBorderSize( 5 )\n",
    "\n",
    "gr = TGraphErrors(n,x,y,ex,ey)\n",
    "grp = TGraph(n,xfiterr,yfitplus2)\n",
    "grm = TGraph(n,xfiterr,yfitminus2)\n",
    "\n",
    "if ichoice == 5:\n",
    "    pfit1 = TF1(\"pfit1\",\"pol3\")\n",
    "elif ichoice == 6:\n",
    "    pfit1 = TF1(\"pfit1\",\"pol2\")\n",
    "else:\n",
    "    pfit1 = TF1(\"pfit1\",\"pol1\")   \n",
    "gr.SetMarkerStyle(21)\n",
    "if ichoice == 6:\n",
    "    gr.SetTitle(\"Quadratic Fit\")\n",
    "elif ichoice == 5:\n",
    "    gr.SetTitle(\"Cubic Fit\")\n",
    "else:\n",
    "    gr.SetTitle(\"Linear Fit\")\n",
    "gr.GetXaxis().SetTitle(\"X\")\n",
    "gr.GetYaxis().SetTitle(\"Y\")\n",
    "if ichoice == 2:\n",
    "    gr.GetXaxis().SetLimits(40.0,55.0)\n",
    "else:\n",
    "    gr.GetXaxis().SetLimits(-5.0,8.0)   \n",
    "#gr.GetHistogram().SetMaximum(5.0)\n",
    "#gr.GetHistogram().SetMinimum(0.0)\n",
    "gr.Fit(\"pfit1\",\"q\")\n",
    "pfit1chi2 = pfit1.GetChisquare()\n",
    "pfit1ndf = pfit1.GetNDF()\n",
    "pfit1chi2ndf = pfit1chi2/pfit1ndf\n",
    "print(\"Fit 1: %f %f \\n\" % (pfit1chi2,pfit1ndf))\n",
    "gr.Draw(\"AP\")\n",
    "grp.SetLineColor(2)\n",
    "grm.SetLineColor(2)\n",
    "grp.Draw(\"L\")\n",
    "grm.Draw(\"L\")\n",
    "c1.Draw()"
   ]
  },
  {
   "cell_type": "code",
   "execution_count": 12,
   "metadata": {},
   "outputs": [
    {
     "name": "stdout",
     "output_type": "stream",
     "text": [
      "P201 Error Calculation = 65.762774 +/- 3.490464 \n",
      "Proper Error Calculation = 65.762774 +/- 0.919278 \n"
     ]
    }
   ],
   "source": [
    "index=0\n",
    "yfitvalue = 0.0\n",
    "yerrorvalue = 0.0\n",
    "for k in range(0,m_params):\n",
    "    yfitvalue = yfitvalue + coeff[k]*math.pow(x[index],k)\n",
    "    yerrorvalue = yerrorvalue + math.pow(math.pow(x[index],k)*math.pow(ainv[k][k],0.5),2)\n",
    "yerrorvalue = math.sqrt(yerrorvalue)\n",
    "print (\"P201 Error Calculation = %f +/- %f \" % (yfitvalue,yerrorvalue))\n",
    "print (\"Proper Error Calculation = %f +/- %f \" % ((yfitplus2[index]+yfitminus2[index])/2.0,(yfitplus2[index]-yfitminus2[index])/2.0))\n"
   ]
  },
  {
   "cell_type": "code",
   "execution_count": null,
   "metadata": {},
   "outputs": [],
   "source": []
  },
  {
   "cell_type": "code",
   "execution_count": null,
   "metadata": {},
   "outputs": [],
   "source": []
  },
  {
   "cell_type": "code",
   "execution_count": null,
   "metadata": {},
   "outputs": [],
   "source": []
  }
 ],
 "metadata": {
  "kernelspec": {
   "display_name": "Python 3",
   "language": "python",
   "name": "python3"
  },
  "language_info": {
   "codemirror_mode": {
    "name": "ipython",
    "version": 3
   },
   "file_extension": ".py",
   "mimetype": "text/x-python",
   "name": "python",
   "nbconvert_exporter": "python",
   "pygments_lexer": "ipython3",
   "version": "3.7.3"
  }
 },
 "nbformat": 4,
 "nbformat_minor": 2
}
