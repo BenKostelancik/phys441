{
 "cells": [
  {
   "cell_type": "markdown",
   "metadata": {},
   "source": [
    "This program calculates the value of a bizarre and interesting sequence.  \n",
    "\n",
    "The first two values in the sequence are $1$ and $1$, for $n=0$ and $n=1$.  To calculate the next term in the sequence ($a[n]$), the rule is as follows:\n",
    "\n",
    "If the previous term in the sequence ($a[n-1]$) and $n$ do NOT share a common factor ($gcd$) larger than $1$, then the next term is $(a[n-1] + n + 1)$.  If they do share a common factor, then the next term is $(a[n-1]/gcd)$.\n",
    "\n",
    "For $n < 638$, the sequence is chaotic.\n",
    "\n",
    "At $n = 638$, the sequence becomes regular, with a four-term period where the terms are:\n",
    "\n",
    "$(1, n+3, 2n+6, 2)$"
   ]
  },
  {
   "cell_type": "code",
   "execution_count": 1,
   "metadata": {},
   "outputs": [
    {
     "name": "stdout",
     "output_type": "stream",
     "text": [
      "631 2000\n",
      "632 250\n",
      "633 884\n",
      "634 442\n",
      "635 1078\n",
      "636 539\n",
      "637 11\n",
      "638 1\n",
      "639 641\n",
      "640 1282\n",
      "641 2\n",
      "642 1\n",
      "643 645\n",
      "644 1290\n",
      "645 2\n",
      "646 1\n",
      "647 649\n",
      "648 1298\n",
      "649 2\n"
     ]
    },
    {
     "data": {
      "text/plain": [
       "<Figure size 640x480 with 1 Axes>"
      ]
     },
     "metadata": {},
     "output_type": "display_data"
    }
   ],
   "source": [
    "import math\n",
    "import matplotlib.pyplot as plt\n",
    "\n",
    "a = []\n",
    "a.append(1)\n",
    "a.append(1)\n",
    "x = []\n",
    "x.append(0)\n",
    "x.append(1)\n",
    "\n",
    "n_max = 1000\n",
    "\n",
    "for n in range(2,n_max):\n",
    "    x.append(n)\n",
    "    if (math.gcd(n,a[n-1]) == 1):\n",
    "        a.append(a[n-1]+n+1)\n",
    "    else:\n",
    "        a.append(int(a[n-1]/math.gcd(n,a[n-1])))\n",
    "        \n",
    "    if (630 < n < 650):\n",
    "        print (n,a[n])\n",
    "\n",
    "plt.plot(x, a, \"b.\")\n",
    "plt.xlabel(\"$n$\", fontsize=12)\n",
    "plt.ylabel(\"$a[n]$\", rotation=0, fontsize=12)\n",
    "plt.axis([0, n_max, 0, max(a)+10])\n",
    "plt.show()\n"
   ]
  },
  {
   "cell_type": "code",
   "execution_count": null,
   "metadata": {},
   "outputs": [],
   "source": []
  }
 ],
 "metadata": {
  "kernelspec": {
   "display_name": "Python 3",
   "language": "python",
   "name": "python3"
  },
  "language_info": {
   "codemirror_mode": {
    "name": "ipython",
    "version": 3
   },
   "file_extension": ".py",
   "mimetype": "text/x-python",
   "name": "python",
   "nbconvert_exporter": "python",
   "pygments_lexer": "ipython3",
   "version": "3.6.8"
  }
 },
 "nbformat": 4,
 "nbformat_minor": 2
}
