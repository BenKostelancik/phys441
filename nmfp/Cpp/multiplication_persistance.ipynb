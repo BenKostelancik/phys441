{
 "cells": [
  {
   "cell_type": "code",
   "execution_count": 2,
   "metadata": {},
   "outputs": [
    {
     "name": "stdout",
     "output_type": "stream",
     "text": [
      "10 total steps =  1\n",
      "25 total steps =  2\n",
      "39 total steps =  3\n",
      "77 total steps =  4\n",
      "679 total steps =  5\n",
      "6788 total steps =  6\n",
      "277777788888899 total steps =  11\n",
      "0 0 0\n",
      "0 1 0\n",
      "0 2 0\n",
      "0 3 0\n",
      "1 0 0\n",
      "1 1 0\n",
      "1 2 0\n",
      "1 3 0\n",
      "[[6, 7, 8, 9], [60, 70, 80, 90]]\n"
     ]
    }
   ],
   "source": [
    "def per(n):\n",
    "    \n",
    "    global steps\n",
    "    #print (n)\n",
    "    \n",
    "    if len(str(n))==1:\n",
    "        #print (\"DONE!\")\n",
    "        return steps\n",
    "    \n",
    "    result = 1\n",
    "    digits = [int(i) for i in str(n)]\n",
    "    \n",
    "    for j in digits:\n",
    "        result *= j\n",
    "        \n",
    "    steps += 1\n",
    "    per(result)\n",
    "    \n",
    "max_steps = 0\n",
    "for k in range(30000):\n",
    "    steps = 0\n",
    "    per(k)\n",
    "    if steps > max_steps:\n",
    "        print (k,\"total steps = \",steps)\n",
    "        max_steps = steps\n",
    "        \n",
    "steps = 0       \n",
    "per(277777788888899)\n",
    "print (\"277777788888899 total steps = \",steps)\n",
    "\n",
    "ndig = 2\n",
    "\n",
    "        "
   ]
  },
  {
   "cell_type": "code",
   "execution_count": null,
   "metadata": {},
   "outputs": [],
   "source": []
  }
 ],
 "metadata": {
  "kernelspec": {
   "display_name": "Python 3",
   "language": "python",
   "name": "python3"
  },
  "language_info": {
   "codemirror_mode": {
    "name": "ipython",
    "version": 3
   },
   "file_extension": ".py",
   "mimetype": "text/x-python",
   "name": "python",
   "nbconvert_exporter": "python",
   "pygments_lexer": "ipython3",
   "version": "3.6.8"
  }
 },
 "nbformat": 4,
 "nbformat_minor": 2
}
