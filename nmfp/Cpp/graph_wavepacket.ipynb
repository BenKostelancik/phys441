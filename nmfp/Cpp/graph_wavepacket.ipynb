{
 "cells": [
  {
   "cell_type": "code",
   "execution_count": 1,
   "metadata": {},
   "outputs": [],
   "source": [
    "from array import array\n",
    "import math"
   ]
  },
  {
   "cell_type": "code",
   "execution_count": 2,
   "metadata": {},
   "outputs": [
    {
     "name": "stdout",
     "output_type": "stream",
     "text": [
      "6.366197723675814 7.6080000000000005\n",
      "Sim integral = 4.535454\n",
      "Theory integral = 1.501506\n"
     ]
    }
   ],
   "source": [
    "ichoice = 2\n",
    "\n",
    "n = 8000\n",
    "pi = math.pi\n",
    "lmbda = 1.0\n",
    "xlow = -24.0*lmbda\n",
    "dx = 48.0*lmbda/n\n",
    "k=2.0*pi/lmbda\n",
    "delta_k = 0.05*k\n",
    "\n",
    "x = array('d')\n",
    "y = array('d')\n",
    "yf = array('d')\n",
    "\n",
    "sim_integral = 0.0\n",
    "theory_integral = 0.0\n",
    "for i in range(0,n):\n",
    "    x.append(xlow+i*dx+.0000001)\n",
    "    y1 = math.sin(k*x[i])\n",
    "    y2 = math.sin((k-0.125*delta_k)*x[i])\n",
    "    y3 = math.sin((k+0.125*delta_k)*x[i])\n",
    "    y4 = math.sin((k-0.25*delta_k)*x[i])\n",
    "    y5 = math.sin((k+0.25*delta_k)*x[i])  \n",
    "    y6 = math.sin((k-0.375*delta_k)*x[i])\n",
    "    y7 = math.sin((k+0.375*delta_k)*x[i])\n",
    "    y8 = math.sin((k-0.5*delta_k)*x[i])\n",
    "    y9 = math.sin((k+0.5*delta_k)*x[i])   \n",
    "    y10 = math.sin((k-0.625*delta_k)*x[i])\n",
    "    y11 = math.sin((k+0.625*delta_k)*x[i])\n",
    "    y12 = math.sin((k-0.75*delta_k)*x[i])\n",
    "    y13 = math.sin((k+0.75*delta_k)*x[i])  \n",
    "    y14 = math.sin((k-0.875*delta_k)*x[i])\n",
    "    y15 = math.sin((k+0.875*delta_k)*x[i])\n",
    "    y16 = math.sin((k-delta_k)*x[i])\n",
    "    y17 = math.sin((k+delta_k)*x[i])\n",
    "    ytemp = 1.0/17.0*(y1+y2+y3+y4+y5+y6+y7+y8+y9+y10+y11+y12+y13+y14+y15+y16+y17)\n",
    "    y.append(ytemp*ytemp)\n",
    "    yf.append(math.sqrt(1.0/delta_k)*math.sin(k*x[i])*math.sin(delta_k*x[i])/x[i])\n",
    "    yf[i]=yf[i]*yf[i]\n",
    "    sim_integral += y[i]*dx\n",
    "    theory_integral += yf[i]*dx\n",
    "    \n",
    "ymax = max(y)\n",
    "ycrit = ymax/2.0\n",
    "\n",
    "delta_x_theory = 2.0/delta_k\n",
    "\n",
    "for i in range(n):\n",
    "    if (y[i] > ycrit):\n",
    "        xstart = x[i]\n",
    "        break\n",
    "for i in range(n-1,0,-1):\n",
    "    if (y[i] > ycrit):\n",
    "        xend = x[i]\n",
    "        break\n",
    "\n",
    "print(delta_x_theory,xend-xstart)\n",
    "    \n",
    "    \n",
    "print (\"Sim integral = %f\" % sim_integral)\n",
    "print (\"Theory integral = %f\" % theory_integral)\n"
   ]
  },
  {
   "cell_type": "markdown",
   "metadata": {},
   "source": []
  },
  {
   "cell_type": "code",
   "execution_count": 3,
   "metadata": {},
   "outputs": [
    {
     "name": "stdout",
     "output_type": "stream",
     "text": [
      "Welcome to JupyROOT 6.18/02\n"
     ]
    },
    {
     "data": {
      "image/png": "[encoded data removed]",
      "text/plain": [
       "<IPython.core.display.Image object>"
      ]
     },
     "metadata": {},
     "output_type": "display_data"
    }
   ],
   "source": [
    "from ROOT import TCanvas\n",
    "from ROOT import TGraph\n",
    "from ROOT import gStyle\n",
    "c1 = TCanvas( 'c1', 'The Main Canvas', 200, 10, 1000, 800 )\n",
    "c1.SetGridx()\n",
    "c1.SetGridy()\n",
    "c1.GetFrame().SetFillColor( 21 )\n",
    "c1.GetFrame().SetBorderMode(-1 )\n",
    "c1.GetFrame().SetBorderSize( 5 )\n",
    "c1.Divide(3,1)\n",
    "\n",
    "gStyle.SetOptFit(1)\n",
    "c1.cd()\n",
    "\n",
    "gr = TGraph(n,x,y)\n",
    "grf = TGraph(n,x,yf)\n",
    "\n",
    "gr.SetLineColor(4)\n",
    "gr.SetLineWidth(2)\n",
    "grf.SetLineColor(2)\n",
    "grf.SetLineWidth(2)\n",
    "\n",
    "gr.SetTitle(\"Wavepacket\")\n",
    "gr.GetXaxis().SetTitle(\"X\")\n",
    "gr.GetYaxis().SetTitle(\"Amplitude^2\")\n",
    "\n",
    "gr.Draw(\"AL\")\n",
    "if (ichoice>1):\n",
    "    grf.Draw(\"L\")\n",
    "    \n",
    "c1.Draw()"
   ]
  },
  {
   "cell_type": "code",
   "execution_count": null,
   "metadata": {},
   "outputs": [],
   "source": []
  }
 ],
 "metadata": {
  "kernelspec": {
   "display_name": "Python 3",
   "language": "python",
   "name": "python3"
  },
  "language_info": {
   "codemirror_mode": {
    "name": "ipython",
    "version": 3
   },
   "file_extension": ".py",
   "mimetype": "text/x-python",
   "name": "python",
   "nbconvert_exporter": "python",
   "pygments_lexer": "ipython3",
   "version": "3.6.8"
  }
 },
 "nbformat": 4,
 "nbformat_minor": 2
}
