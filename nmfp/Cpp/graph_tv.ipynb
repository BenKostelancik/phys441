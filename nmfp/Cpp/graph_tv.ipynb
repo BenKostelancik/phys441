{
 "cells": [
  {
   "cell_type": "markdown",
   "metadata": {},
   "source": [
    "This script is written to plot household TV ownership rates from approximately 1950 to the present day, and then fit this data with a user-defined fit function.\n",
    "\n",
    "We begin by importing the necessary libraries from ROOT, as well as some python math libraries.\n",
    "\n",
    "We also define a canvas that will be used for displaying the results."
   ]
  },
  {
   "cell_type": "code",
   "execution_count": 1,
   "metadata": {},
   "outputs": [
    {
     "name": "stdout",
     "output_type": "stream",
     "text": [
      "Welcome to JupyROOT 6.18/00\n"
     ]
    }
   ],
   "source": [
    "from ROOT import TCanvas, TFile\n",
    "from ROOT import TGraph, TF1\n",
    "from ROOT import gStyle\n",
    "from array import array\n",
    "import math\n",
    "import random\n",
    "\n",
    "random.seed(1)\n",
    "\n",
    "c1 = TCanvas( 'c1', 'The Fit Canvas', 200, 10, 700, 500 )\n",
    "c1.SetGridx()\n",
    "c1.SetGridy()\n",
    "c1.GetFrame().SetFillColor( 21 )\n",
    "c1.GetFrame().SetBorderMode(-1 )\n",
    "c1.GetFrame().SetBorderSize( 5 )\n",
    "c2 = TCanvas( 'c2', 'The Derivative Canvas', 200, 10, 700, 500 )\n",
    "c2.SetGridx()\n",
    "c2.SetGridy()\n",
    "c2.GetFrame().SetFillColor( 21 )\n",
    "c2.GetFrame().SetBorderMode(-1 )\n",
    "c2.GetFrame().SetBorderSize( 5 )\n",
    "#c1.SetLogy()"
   ]
  },
  {
   "cell_type": "markdown",
   "metadata": {},
   "source": [
    "Define a user function for fitting the data."
   ]
  },
  {
   "cell_type": "code",
   "execution_count": 2,
   "metadata": {},
   "outputs": [],
   "source": [
    "def fitfunction(x,par):\n",
    "    #return par[0]/2.0*(1.0+math.tanh((x[0]-par[2])/par[1]))\n",
    "    return par[0]*(1.0-math.exp(-1.0*par[1]*(x[0]-par[2])))\n",
    "\n",
    "def fitfunction_python(x,par):\n",
    "    #return par[0]/2.0*(1.0+math.tanh((x[0]-par[2])/par[1]))\n",
    "    return par[0]*(1.0-math.exp(-1.0*par[1]*(x-par[2])))\n",
    "\n",
    "def derivativefunction_python(x,par):\n",
    "    return par[0]*par[1]*math.exp(-1.0*par[1]*(x-par[2]))"
   ]
  },
  {
   "cell_type": "markdown",
   "metadata": {},
   "source": [
    "Define python arrays to store the data."
   ]
  },
  {
   "cell_type": "code",
   "execution_count": 3,
   "metadata": {},
   "outputs": [],
   "source": [
    "xx = array('d')\n",
    "yy = array('d')"
   ]
  },
  {
   "cell_type": "markdown",
   "metadata": {},
   "source": [
    "Read data from the filem and store in the above python arrays."
   ]
  },
  {
   "cell_type": "code",
   "execution_count": 4,
   "metadata": {},
   "outputs": [],
   "source": [
    "npoints = 0\n",
    "noise_level = 0.0\n",
    "with open('tv_rate.dat') as f:\n",
    "    for line in f:\n",
    "        npoints=npoints+1\n",
    "        data = line.split()\n",
    "        xx.append(float(data[0]))\n",
    "        yy.append(float(data[1])-noise_level+2.0*noise_level*random.random())\n",
    "    "
   ]
  },
  {
   "cell_type": "code",
   "execution_count": 5,
   "metadata": {},
   "outputs": [],
   "source": [
    "gStyle.SetOptFit(1)"
   ]
  },
  {
   "cell_type": "markdown",
   "metadata": {},
   "source": [
    "Define a ROOT fitting object, based upon the above function.  Set initial parameter values and names."
   ]
  },
  {
   "cell_type": "code",
   "execution_count": 6,
   "metadata": {},
   "outputs": [],
   "source": [
    "pfit1 = TF1(\"pfit1\",fitfunction,1949,2013,3)\n",
    "pfit1.SetParameters(98.0,0.2,1954.0)\n",
    "pfit1.SetParNames(\"Amplitude\",\"Decay Rate\",\"Start Year\")"
   ]
  },
  {
   "cell_type": "markdown",
   "metadata": {},
   "source": [
    "Define a ROOT graph object based upon the year and percentage values.  Fit the data with the user-defined function from above. After the fit, print the parameter values and errors."
   ]
  },
  {
   "cell_type": "code",
   "execution_count": 7,
   "metadata": {},
   "outputs": [
    {
     "name": "stdout",
     "output_type": "stream",
     "text": [
      "fitfunction $p_0$: 98 $p_1$: 0.203 $p_2$: 1949.66\n",
      "fitfunction $errp_0$: 0.17 $errp_1$: 0.00319 $errp_2$: 0.05\n",
      "\n",
      "****************************************\n",
      "Minimizer is Minuit / Migrad\n",
      "Chi2                      =      75.0956\n",
      "NDf                       =           60\n",
      "Edm                       =  1.19199e-08\n",
      "NCalls                    =           87\n",
      "Amplitude                 =      97.9692   +/-   0.169579    \n",
      "Decay Rate                =     0.202782   +/-   0.00318546  \n",
      "Start Year                =      1949.66   +/-   0.0483978   \n"
     ]
    }
   ],
   "source": [
    "gr = TGraph(npoints,xx,yy)\n",
    "gr.SetMarkerColor(4)\n",
    "gr.SetMarkerStyle(21)\n",
    "gr.SetTitle(\"TV Ownership Rate\")\n",
    "gr.GetXaxis().SetTitle(\"Year\")\n",
    "gr.GetYaxis().SetTitle(\"Rate\")\n",
    "gr.Fit(\"pfit1\")\n",
    "\n",
    "parfit = [pfit1.GetParameter(i) for i in range( 3 )]\n",
    "l = 'fitfunction $p_0$: {:.3g} $p_1$: {:.3g} $p_2$: {:.2f}'.format(*parfit)\n",
    "errparfit = [pfit1.GetParError(i) for i in range( 3 )]\n",
    "m = 'fitfunction $errp_0$: {:.3g} $errp_1$: {:.3g} $errp_2$: {:.2f}'.format(*errparfit)\n",
    "print (l)\n",
    "print (m)"
   ]
  },
  {
   "cell_type": "markdown",
   "metadata": {},
   "source": [
    "Draw the graphs, and the canvases."
   ]
  },
  {
   "cell_type": "code",
   "execution_count": 8,
   "metadata": {},
   "outputs": [
    {
     "data": {
      "image/png": "[encoded data removed]",
      "text/plain": [
       "<IPython.core.display.Image object>"
      ]
     },
     "metadata": {},
     "output_type": "display_data"
    }
   ],
   "source": [
    "c1.cd()\n",
    "gr.Draw(\"AP\")\n",
    "c1.Draw()"
   ]
  },
  {
   "cell_type": "code",
   "execution_count": 9,
   "metadata": {},
   "outputs": [],
   "source": [
    "yyp = array('d')\n",
    "xxp = array('d')\n",
    "fitderiv = array('d')\n",
    "\n",
    "for i in range(1,npoints-1):\n",
    "    xxp.append(xx[i])\n",
    "    yyp.append((yy[i+1]-yy[i-1])/2.0)\n",
    "    fitderiv.append(derivativefunction_python(xx[i],parfit))\n",
    "    \n",
    "gr2 = TGraph(npoints-2,xxp,yyp)\n",
    "gr2.SetMarkerColor(4)\n",
    "gr2.SetMarkerStyle(21)\n",
    "gr2.SetTitle(\"First Derivative of TV Ownership Rate\")\n",
    "gr2.GetXaxis().SetTitle(\"Year\")\n",
    "gr2.GetYaxis().SetTitle(\"First Derivative of Rate\")\n",
    "gr4 = TGraph(npoints-2,xxp,fitderiv)\n",
    "gr4.SetLineColor(2)"
   ]
  },
  {
   "cell_type": "code",
   "execution_count": 10,
   "metadata": {},
   "outputs": [
    {
     "data": {
      "image/png": "[encoded data removed]",
      "text/plain": [
       "<IPython.core.display.Image object>"
      ]
     },
     "metadata": {},
     "output_type": "display_data"
    }
   ],
   "source": [
    "c2.cd()\n",
    "gr2.Draw(\"AP\")\n",
    "gr4.Draw(\"LS\")\n",
    "c2.Draw()\n"
   ]
  },
  {
   "cell_type": "code",
   "execution_count": 11,
   "metadata": {},
   "outputs": [
    {
     "data": {
      "image/png": "[encoded data removed]",
      "text/plain": [
       "<IPython.core.display.Image object>"
      ]
     },
     "metadata": {},
     "output_type": "display_data"
    }
   ],
   "source": [
    "diff = array('d')\n",
    "for i in range(0,npoints):\n",
    "    yfit = fitfunction_python(xx[i],parfit)\n",
    "    diff.append(yy[i]-yfit)\n",
    "\n",
    "gr3 = TGraph(npoints,xx,diff)\n",
    "gr3.SetMarkerColor(4)\n",
    "gr3.SetMarkerStyle(21)\n",
    "gr3.SetTitle(\"TV Ownership Rate (Actual - Fit)\")\n",
    "gr3.GetXaxis().SetTitle(\"Year\")\n",
    "gr3.GetYaxis().SetTitle(\"Rate\")\n",
    "\n",
    "c2.cd()\n",
    "gr3.Draw(\"AP\")\n",
    "c2.Draw()"
   ]
  },
  {
   "cell_type": "code",
   "execution_count": null,
   "metadata": {},
   "outputs": [],
   "source": []
  }
 ],
 "metadata": {
  "kernelspec": {
   "display_name": "Python 3",
   "language": "python",
   "name": "python3"
  },
  "language_info": {
   "codemirror_mode": {
    "name": "ipython",
    "version": 3
   },
   "file_extension": ".py",
   "mimetype": "text/x-python",
   "name": "python",
   "nbconvert_exporter": "python",
   "pygments_lexer": "ipython3",
   "version": "3.7.3"
  }
 },
 "nbformat": 4,
 "nbformat_minor": 2
}
