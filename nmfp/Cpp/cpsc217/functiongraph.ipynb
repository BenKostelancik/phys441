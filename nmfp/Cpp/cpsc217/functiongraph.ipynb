{
 "cells": [
  {
   "cell_type": "code",
   "execution_count": 1,
   "metadata": {},
   "outputs": [],
   "source": [
    "from math import *\n",
    "from SimpleGraphics import *"
   ]
  },
  {
   "cell_type": "code",
   "execution_count": 2,
   "metadata": {},
   "outputs": [],
   "source": [
    "ox = 400\n",
    "oy = 300\n",
    "dx = 30\n",
    "dy = 30\n",
    "\n",
    "# Change the background white\n",
    "setOutline(\"white\")\n",
    "background(\"white\")\n"
   ]
  },
  {
   "cell_type": "code",
   "execution_count": 3,
   "metadata": {},
   "outputs": [],
   "source": [
    "# Draw the Axes\n",
    "\n",
    "# Draw lines for axes\n",
    "setOutline(\"black\")\n",
    "line(0,300,800,300)\n",
    "line(400,0,400,600)\n",
    "\n",
    "# Draw x-tick marks and x-labels\n",
    "for i in range(-13,14):\n",
    "    xval = ox+i*dx\n",
    "    ystart = oy-4\n",
    "    yend = oy+4\n",
    "    line(xval,ystart,xval,yend)\n",
    "    xlabel = str(i)\n",
    "    ytxt = oy+12\n",
    "    if i!=0:\n",
    "        text(xval,ytxt,xlabel)\n",
    "        \n",
    "# Draw y-tick marks and y-labels\n",
    "for i in range(-10,11):\n",
    "    xstart = ox-4\n",
    "    xend = ox+4\n",
    "    yval = oy+i*dy\n",
    "    line(xstart,yval,xend,yval)\n",
    "    ylabel = str(i)\n",
    "    xtxt = ox+12\n",
    "    if i!=0:\n",
    "        text(xtxt,yval,ylabel)"
   ]
  },
  {
   "cell_type": "code",
   "execution_count": 4,
   "metadata": {},
   "outputs": [
    {
     "name": "stdout",
     "output_type": "stream",
     "text": [
      "Enter an arithmetic expression (blank line to quit): x**2\n",
      "Enter an arithmetic expression (blank line to quit): sin(x)\n",
      "Enter an arithmetic expression (blank line to quit): 0.01 * x ** 3 + 5 * sin(x)\n",
      "Enter an arithmetic expression (blank line to quit): \n"
     ]
    }
   ],
   "source": [
    "# Create variables to monitor whether blank line has been entered, and the number of curves plotted\n",
    "looping = True\n",
    "count = 0\n",
    "\n",
    "# Loop until a blank line is entered\n",
    "while (looping):\n",
    "    expression = input(\"Enter an arithmetic expression (blank line to quit): \")\n",
    "    if (expression == \"\"):\n",
    "        looping = False\n",
    "\n",
    "    # Calculate and set the color to use for the curve\n",
    "    color = count % 3\n",
    "    if (color == 0):\n",
    "        col = \"red\"\n",
    "    elif (color == 1):\n",
    "        col = \"green\"\n",
    "    elif (color == 2):\n",
    "        col = \"blue\"\n",
    "    setFill(col)\n",
    "    setOutline(col)\n",
    "    \n",
    "    # If a blank line was NOT entered, plot the curve\n",
    "    if (looping):\n",
    "        step = 1\n",
    "        for xpixel in range(0,800,step):\n",
    "            x = (xpixel-ox)/dx\n",
    "            xstart = x*dx+ox\n",
    "            y = eval(expression)\n",
    "            ystart = -y*dy+oy\n",
    "            x = (xpixel+step-ox)/dx\n",
    "            xend = x*dx+ox\n",
    "            y = eval(expression)\n",
    "            yend = -y*dy+oy\n",
    "            line(xstart,ystart,xend,yend)\n",
    "    \n",
    "    # Increment the number of plotted curves\n",
    "    count = count + 1\n",
    "\n",
    "# Close the graphics window\n",
    "close()\n",
    "    "
   ]
  },
  {
   "cell_type": "code",
   "execution_count": null,
   "metadata": {},
   "outputs": [],
   "source": []
  },
  {
   "cell_type": "code",
   "execution_count": null,
   "metadata": {},
   "outputs": [],
   "source": []
  },
  {
   "cell_type": "code",
   "execution_count": null,
   "metadata": {},
   "outputs": [],
   "source": []
  }
 ],
 "metadata": {
  "kernelspec": {
   "display_name": "Python 3",
   "language": "python",
   "name": "python3"
  },
  "language_info": {
   "codemirror_mode": {
    "name": "ipython",
    "version": 3
   },
   "file_extension": ".py",
   "mimetype": "text/x-python",
   "name": "python",
   "nbconvert_exporter": "python",
   "pygments_lexer": "ipython3",
   "version": "3.7.3"
  }
 },
 "nbformat": 4,
 "nbformat_minor": 2
}
