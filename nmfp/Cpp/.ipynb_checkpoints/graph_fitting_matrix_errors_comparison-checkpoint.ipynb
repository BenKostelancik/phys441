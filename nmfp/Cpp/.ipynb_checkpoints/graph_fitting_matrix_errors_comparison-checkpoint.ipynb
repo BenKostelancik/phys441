{
 "cells": [
  {
   "cell_type": "code",
   "execution_count": 1,
   "metadata": {},
   "outputs": [
    {
     "name": "stdout",
     "output_type": "stream",
     "text": [
      "Welcome to JupyROOT 6.16/00\n"
     ]
    }
   ],
   "source": [
    "from ROOT import TCanvas, TFile\n",
    "from ROOT import TGraph, TF1, TGraphErrors\n",
    "from ROOT import gStyle\n",
    "from array import array\n",
    "import math\n",
    "import numpy as np\n",
    "\n",
    "c1 = TCanvas( 'c1', 'Fitting Example with Errors', 200, 10, 700, 500 )\n",
    "c1.SetGridx()\n",
    "c1.SetGridy()\n",
    "c1.GetFrame().SetFillColor( 21 )\n",
    "c1.GetFrame().SetBorderMode(-1 )\n",
    "c1.GetFrame().SetBorderSize( 5 )"
   ]
  },
  {
   "cell_type": "code",
   "execution_count": 2,
   "metadata": {},
   "outputs": [],
   "source": [
    "def generator_function(x,par):\n",
    "    return par[0]+par[1]*x+par[2]*x*x+par[3]*x*x*x\n",
    "\n",
    "par = array('d')\n",
    "par.append(0.4321)\n",
    "par.append(1.6789)\n",
    "par.append(0.50)\n",
    "par.append(1.0000)"
   ]
  },
  {
   "cell_type": "code",
   "execution_count": 3,
   "metadata": {},
   "outputs": [],
   "source": [
    "gStyle.SetOptFit(1)\n",
    "m = 3 #Set the order of the polynomial\n",
    "n = 15 #Set the number of data points\n",
    "walk = array('d')\n",
    "walk = [-1,1,-.5,.5,0,-1,1,-.5,.5,0,-1,1,-.5,.5,0]\n",
    "sigma = array('d')\n",
    "sigma = [1,1,1,2,2,2,1,1,1,3,3,3,1,1,1]"
   ]
  },
  {
   "cell_type": "code",
   "execution_count": 4,
   "metadata": {},
   "outputs": [],
   "source": [
    "x = array('d')\n",
    "y = array('d')\n",
    "ex = array('d')\n",
    "ey = array('d')"
   ]
  },
  {
   "cell_type": "code",
   "execution_count": 5,
   "metadata": {},
   "outputs": [],
   "source": [
    "for i in range(0,n):\n",
    "    x.append(-4.0+8.0*i/n)\n",
    "    y.append(generator_function(x[i],par)+0.5*walk[i])\n",
    "    ex.append(0.0)\n",
    "    ey.append(sigma[i])"
   ]
  },
  {
   "cell_type": "code",
   "execution_count": 6,
   "metadata": {},
   "outputs": [],
   "source": [
    "m_params = m + 1\n",
    "a = np.zeros(shape = (m_params,m_params))\n",
    "v = np.zeros(shape = (m_params,1))"
   ]
  },
  {
   "cell_type": "code",
   "execution_count": 7,
   "metadata": {},
   "outputs": [
    {
     "name": "stdout",
     "output_type": "stream",
     "text": [
      "Cofactor matrix:\n",
      "[[ 1.00833333e+01 -3.35555556e+00  6.71980247e+01 -5.53197037e+01]\n",
      " [-3.35555556e+00  6.71980247e+01 -5.53197037e+01  7.40389785e+02]\n",
      " [ 6.71980247e+01 -5.53197037e+01  7.40389785e+02 -9.68304626e+02]\n",
      " [-5.53197037e+01  7.40389785e+02 -9.68304626e+02  9.09794484e+03]]\n",
      "Constant matrix:\n",
      "[[ -22.80982525]\n",
      " [ 825.01172467]\n",
      " [-664.82823582]\n",
      " [9852.67777325]]\n",
      "Inverse matrix\n",
      "[[ 0.27431292  0.05019039 -0.02823758 -0.0054219 ]\n",
      " [ 0.05019039  0.17365438 -0.01122607 -0.0150216 ]\n",
      " [-0.02823758 -0.01122607  0.00469904  0.001242  ]\n",
      " [-0.0054219  -0.0150216   0.001242    0.00143159]]\n",
      "Diagonal Check:\n",
      "[[ 1.00000000e+00  4.12100377e-16 -1.54404997e-16 -1.99010346e-17]\n",
      " [-1.23625986e-15  1.00000000e+00  1.81464793e-16  2.68557373e-16]\n",
      " [ 1.24460858e-15  5.01304535e-16  1.00000000e+00  4.05384769e-17]\n",
      " [-6.62107437e-15 -2.41144358e-14  3.07108591e-16  1.00000000e+00]]\n",
      "Coefficients:\n",
      "[[0.50356382]\n",
      " [1.58251149]\n",
      " [0.49545786]\n",
      " [1.00996585]]\n"
     ]
    }
   ],
   "source": [
    "for k in range(0,m_params):\n",
    "    for i in range(0,n):\n",
    "        v[k][0]=v[k][0]+y[i]*math.pow(x[i],k)/math.pow(ey[i],2)\n",
    "    #print (\"v[%d] = %f\" % (k,v[k][0]))\n",
    "    for j in range(0,m_params):\n",
    "        for i in range(0,n):\n",
    "            a[k][j]=a[k][j]+math.pow(x[i],k+j)/math.pow(ey[i],2)\n",
    "        #print (\"a[%d][%d] = %f\" %(k,j,a[k][j]))\n",
    "        \n",
    "print (\"Cofactor matrix:\")\n",
    "print (a)\n",
    "print (\"Constant matrix:\")\n",
    "print (v)\n",
    "\n",
    "ainv = np.linalg.inv(a)\n",
    "u1 = np.dot(a,ainv)\n",
    "\n",
    "print (\"Inverse matrix\")\n",
    "print (ainv)\n",
    "print (\"Diagonal Check:\")\n",
    "print (u1)\n",
    "coeff = ainv*np.matrix(v)\n",
    "print (\"Coefficients:\")\n",
    "print (coeff)\n",
    "        "
   ]
  },
  {
   "cell_type": "code",
   "execution_count": 8,
   "metadata": {},
   "outputs": [
    {
     "name": "stdout",
     "output_type": "stream",
     "text": [
      "i = 0  y = -62.783500  yfit = -62.536971\n",
      "i = 1  y = -40.540827  yfit = -41.104997\n",
      "i = 2  y = -25.680155  yfit = -25.366569\n",
      "i = 3  y = -14.291260  yfit = -14.402394\n",
      "i = 4  y = -7.463921  yfit = -7.293179\n",
      "i = 5  y = -3.787915  yfit = -3.119631\n",
      "i = 6  y = -0.603020  yfit = -0.962455\n",
      "i = 7  y = -0.249014  yfit = 0.097641\n",
      "i = 8  y = 1.184325  yfit = 0.979951\n",
      "i = 9  y = 2.607220  yfit = 2.603769\n",
      "i = 10  y = 5.429893  yfit = 5.888386\n",
      "i = 11  y = 12.312565  yfit = 11.753098\n",
      "i = 12  y = 20.915460  yfit = 21.117197\n",
      "i = 13  y = 35.148799  yfit = 34.899976\n",
      "i = 14  y = 53.922805  yfit = 54.020729\n",
      "chi2/dof = 1.060895 / 11.000000\n"
     ]
    }
   ],
   "source": [
    "yfit = 0\n",
    "error_sum = 0\n",
    "for j in range(0,n):\n",
    "    for k in range(0,m+1):\n",
    "        yfit = yfit + coeff[k]*math.pow(x[j],k)\n",
    "    print (\"i = %d  y = %f  yfit = %f\" % (j,y[j],yfit))\n",
    "    error_sum = error_sum + math.pow(((yfit-y[j])/ey[j]),2)\n",
    "    yfit = 0\n",
    "    \n",
    "chi2 = error_sum/(n-m)\n",
    "print (\"chi2/dof = %f / %f\" % (error_sum,(n-m-1)))"
   ]
  },
  {
   "cell_type": "code",
   "execution_count": 9,
   "metadata": {},
   "outputs": [
    {
     "name": "stdout",
     "output_type": "stream",
     "text": [
      "Coefficients with Errors:\n",
      "p0 = 0.503564 +/- 0.523749\n",
      "p1 = 1.582511 +/- 0.416719\n",
      "p2 = 0.495458 +/- 0.068550\n",
      "p3 = 1.009966 +/- 0.037836\n"
     ]
    }
   ],
   "source": [
    "print (\"Coefficients with Errors:\")\n",
    "for k in range(0,m+1):\n",
    "    print(\"p%d = %f +/- %f\" % (k,coeff[k],math.pow(ainv[k][k],0.5)))"
   ]
  },
  {
   "cell_type": "code",
   "execution_count": 10,
   "metadata": {},
   "outputs": [
    {
     "name": "stdout",
     "output_type": "stream",
     "text": [
      "pol3\n",
      "Fit 1: 1.060895 11.000000 \n",
      "\n"
     ]
    },
    {
     "data": {
      "image/png": "[encoded data removed]",
      "text/plain": [
       "<IPython.core.display.Image object>"
      ]
     },
     "metadata": {},
     "output_type": "display_data"
    }
   ],
   "source": [
    "poltype = \"pol\"+str(m)\n",
    "print (poltype)\n",
    "gr = TGraphErrors(n,x,y,ex,ey)\n",
    "pfit1 = TF1(\"pfit1\",poltype)\n",
    "gr.SetMarkerStyle(21)\n",
    "gr.SetTitle(\"Cubic Fit\")\n",
    "gr.GetXaxis().SetTitle(\"X\")\n",
    "gr.GetYaxis().SetTitle(\"Y\")\n",
    "gr.Fit(\"pfit1\",\"q\")\n",
    "pfit1chi2 = pfit1.GetChisquare()\n",
    "pfit1ndf = pfit1.GetNDF()\n",
    "pfit1chi2ndf = pfit1chi2/pfit1ndf\n",
    "print(\"Fit 1: %f %f \\n\" % (pfit1chi2,pfit1ndf))\n",
    "gr.Draw(\"AP\")\n",
    "c1.Draw()"
   ]
  },
  {
   "cell_type": "code",
   "execution_count": null,
   "metadata": {},
   "outputs": [],
   "source": []
  },
  {
   "cell_type": "code",
   "execution_count": null,
   "metadata": {},
   "outputs": [],
   "source": []
  }
 ],
 "metadata": {
  "kernelspec": {
   "display_name": "Python 3",
   "language": "python",
   "name": "python3"
  },
  "language_info": {
   "codemirror_mode": {
    "name": "ipython",
    "version": 3
   },
   "file_extension": ".py",
   "mimetype": "text/x-python",
   "name": "python",
   "nbconvert_exporter": "python",
   "pygments_lexer": "ipython3",
   "version": "3.7.3"
  }
 },
 "nbformat": 4,
 "nbformat_minor": 2
}
