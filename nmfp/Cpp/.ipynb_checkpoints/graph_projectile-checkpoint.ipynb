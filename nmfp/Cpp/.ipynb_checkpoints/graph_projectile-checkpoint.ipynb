{
 "cells": [
  {
   "cell_type": "code",
   "execution_count": 5,
   "metadata": {},
   "outputs": [
    {
     "name": "stdout",
     "output_type": "stream",
     "text": [
      "Welcome to JupyROOT 6.16/00\n"
     ]
    }
   ],
   "source": [
    "from ROOT import TCanvas\n",
    "from ROOT import TGraph\n",
    "from ROOT import gStyle\n",
    "from array import array\n",
    "import math\n",
    "\n",
    "c1 = TCanvas( 'c1', 'The Main Canvas', 0, 0, 1000, 800 )\n",
    "c1.SetGridx()\n",
    "c1.SetGridy()\n",
    "c1.GetFrame().SetFillColor( 21 )\n",
    "c1.GetFrame().SetBorderMode(-1 )\n",
    "c1.GetFrame().SetBorderSize( 5 )"
   ]
  },
  {
   "cell_type": "code",
   "execution_count": 13,
   "metadata": {},
   "outputs": [],
   "source": [
    "y1 = 2.0 # initial height\n",
    "Cd = 0.35 # drag coefficient\n",
    "area = 0.004359 # cross sectional area of projectile\n",
    "grav = 9.81 # gravitional acceleration\n",
    "mass = 0.145 # mass in kg\n",
    "rho = 1.2 # density of air (kg/m^3)\n",
    "\n",
    "air_const = -0.5*Cd*rho*area/mass\n",
    "\n",
    "# Initial Conditions\n",
    "speed = 40.0\n",
    "theta = 45.0\n",
    "\n",
    "Pi = math.pi"
   ]
  },
  {
   "cell_type": "code",
   "execution_count": 16,
   "metadata": {},
   "outputs": [],
   "source": [
    "r1 = array('d')\n",
    "v1 = array('d')\n",
    "r = array('d')\n",
    "v = array('d')\n",
    "accel = array('d')\n",
    "\n",
    "r1.append(0)\n",
    "r1.append(y1)\n",
    "v1.append(speed*math.cos(theta*Pi/180.0))\n",
    "v1.append(speed*math.sin(theta*Pi/180.0))\n",
    "\n",
    "r.append(r1[0])\n",
    "r.append(r1[1])\n",
    "v.append(v1[0])\n",
    "v.append(v1[1])\n",
    "accel.append(0)\n",
    "accel.append(0)"
   ]
  },
  {
   "cell_type": "code",
   "execution_count": 17,
   "metadata": {},
   "outputs": [],
   "source": [
    "tau = 0.001 # timestep in seconds\n",
    "maxStep = 1000000 # maximum number of steps\n",
    "\n",
    "xplot = array('d')\n",
    "yplot = array('d')\n",
    "xNoAir = array('d')\n",
    "yNoAir = array('d')\n",
    "time = array('d')"
   ]
  },
  {
   "cell_type": "code",
   "execution_count": 18,
   "metadata": {},
   "outputs": [
    {
     "name": "stdout",
     "output_type": "stream",
     "text": [
      "Maximum range is 96.277810 meters.\n"
     ]
    }
   ],
   "source": [
    "for iStep in range(1,maxStep+1):\n",
    "    xplot.append(r[0])\n",
    "    yplot.append(r[1])\n",
    "    t = (iStep-1)*tau\n",
    "    xNoAir.append(r1[0]+v1[0]*t)\n",
    "    yNoAir.append(r1[1]+v1[1]*t-0.5*grav*t*t)\n",
    "    normV = math.sqrt(v[0]*v[0]+v[1]*v[1])\n",
    "    accel[0]=air_const*normV*v[0]\n",
    "    accel[1]=air_const*normV*v[1]-grav\n",
    "    \n",
    "    r[0] = r[0] + tau*v[0]\n",
    "    r[1] = r[1] + tau*v[1]\n",
    "    v[0] = v[0] + tau*accel[0]\n",
    "    v[1] = v[1] + tau*accel[1]\n",
    "    \n",
    "    time.append(tau*(iStep-1))\n",
    "    \n",
    "    if (r[1] < 0):\n",
    "        xplot.append(r[0])\n",
    "        yplot.append(r[1])\n",
    "        time.append(tau*iStep)\n",
    "        break\n",
    "        \n",
    "print (\"Maximum range is %f meters.\" % r[0])"
   ]
  },
  {
   "cell_type": "code",
   "execution_count": null,
   "metadata": {},
   "outputs": [],
   "source": []
  }
 ],
 "metadata": {
  "kernelspec": {
   "display_name": "Python 3",
   "language": "python",
   "name": "python3"
  },
  "language_info": {
   "codemirror_mode": {
    "name": "ipython",
    "version": 3
   },
   "file_extension": ".py",
   "mimetype": "text/x-python",
   "name": "python",
   "nbconvert_exporter": "python",
   "pygments_lexer": "ipython3",
   "version": "3.7.3"
  }
 },
 "nbformat": 4,
 "nbformat_minor": 2
}
