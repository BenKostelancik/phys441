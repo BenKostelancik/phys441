{
 "cells": [
  {
   "cell_type": "code",
   "execution_count": 11,
   "metadata": {},
   "outputs": [
    {
     "name": "stdout",
     "output_type": "stream",
     "text": [
      "Using both methods ... \n"
     ]
    }
   ],
   "source": [
    "from ROOT import TCanvas\n",
    "from ROOT import TGraph\n",
    "from array import array\n",
    "import math\n",
    "\n",
    "ichoice = 3\n",
    "\n",
    "n = 21\n",
    "dfunc = array('d')\n",
    "dfunch = array('d')\n",
    "dfunchh = array('d')\n",
    "xfunc = array('d')\n",
    "xfunchp = array('d')\n",
    "xfunchm = array('d')\n",
    "xfunchpp = array('d')\n",
    "xfunchmm = array('d')\n",
    "x = array('d')\n",
    "diff = array('d')\n",
    "difftwo = array('d')\n",
    "xval = 1.0\n",
    "\n",
    "if ichoice == 1:\n",
    "    print (\"Using forward derivative ... \")\n",
    "elif ichoice == 2:\n",
    "    print (\"Using centered derivative ... \")\n",
    "else:\n",
    "    print (\"Using both methods ... \")"
   ]
  },
  {
   "cell_type": "code",
   "execution_count": 12,
   "metadata": {},
   "outputs": [
    {
     "name": "stdout",
     "output_type": "stream",
     "text": [
      "0 1e-20 1.0 1.0 1.0 3.0 0.0 3.0\n",
      "1 1e-19 1.0 1.0 1.0 3.0 0.0 3.0\n",
      "2 1e-18 1.0 1.0 1.0 3.0 0.0 3.0\n",
      "3 1e-17 1.0 1.0 1.0 3.0 0.0 3.0\n",
      "4 1e-16 1.0 1.0 0.9999999999999997 3.0 0.0 3.0\n",
      "5 1e-15 1.0 1.0000000000000033 0.999999999999997 3.0 3.330669073875469 0.3306690738754692\n",
      "6 1e-14 1.0 1.00000000000003 0.99999999999997 3.0 2.9976021664879227 0.002397833512077341\n",
      "7 1e-13 1.0 1.0000000000002998 0.9999999999996999 3.0 2.9976021664879227 0.002397833512077341\n",
      "8 1e-12 1.0 1.0000000000030003 0.9999999999970001 3.0 3.000266701747023 0.00026670174702303484\n",
      "9 1e-11 1.0 1.00000000003 0.99999999997 3.0 3.000000248221113 2.482211129972711e-07\n",
      "10 1e-10 1.0 1.0000000003 0.9999999997 3.0 3.000000248221113 2.482211129972711e-07\n",
      "11 1e-09 1.0 1.0000000030000002 0.9999999970000001 3.0 3.000000248221113 2.482211129972711e-07\n",
      "12 1e-08 1.0 1.00000003 0.9999999700000002 3.0 3.0000000039720476 3.972047579736682e-09\n",
      "13 1e-07 1.0 1.0000003000000302 0.9999997000000301 3.0 3.000000301511818 3.0151181817927863e-07\n",
      "14 1e-06 1.0 1.0000030000029998 0.9999970000029998 3.0 3.0000029997978572 2.999797857228259e-06\n",
      "15 1e-05 1.0 1.000030000300001 0.9999700002999992 3.0 3.000030000110953 3.0000110953221082e-05\n",
      "16 0.0001 1.0 1.0003000300009999 0.9997000299990001 3.0 3.0003000099987354 0.00030000999873536216\n",
      "17 0.001 1.0 1.0030030009999995 0.997002999 3.0 3.0030009999995055 0.003000999999505538\n",
      "18 0.01 1.0 1.030301 0.9702989999999999 3.0 3.030099999999991 0.030099999999991134\n",
      "19 0.1 1.0 1.3310000000000004 0.7290000000000001 3.0 3.310000000000004 0.31000000000000405\n",
      "20 1.0 1.0 8.0 0.0 3.0 7.0 4.0\n"
     ]
    }
   ],
   "source": [
    "for i in range(0,n):\n",
    "\n",
    "    hpower=i-n+1;\n",
    "    x.append(math.pow(10.0,int(hpower)));\n",
    "    dfunc.append(3.0e+00*xval*xval);\n",
    "    xfunc.append(xval*xval*xval);\n",
    "    xfunchp.append((xval+x[i])*(xval+x[i])*(xval+x[i]));\n",
    "    xfunchm.append((xval-x[i])*(xval-x[i])*(xval-x[i]));\n",
    "    xfunchpp.append((xval+x[i]+x[i])*(xval+x[i]+x[i])*(xval+x[i]+x[i]));\n",
    "    xfunchmm.append((xval-x[i]-x[i])*(xval-x[i]-x[i])*(xval-x[i]-x[i]));\n",
    "\n",
    "    if ichoice == 1:\n",
    "        dfunch.append((xfunchp[i]-xfunc[i])/(x[i]));\n",
    "        diff.append(abs(dfunc[i]-dfunch[i]));\n",
    "        print ('{} {} {} {} {} {} {} {}'.format(i,x[i],xfunc[i],xfunchp[i],xfunchm[i],dfunc[i],dfunch[i],diff[i]))\n",
    "    elif ichoice == 2:\n",
    "        dfunch.append((xfunchp[i]-xfunchm[i])/(2.0e+00*x[i]));\n",
    "        diff.append(abs(dfunc[i]-dfunch[i]));\n",
    "        print ('{} {} {} {} {} {} {} {}'.format(i,x[i],xfunc[i],xfunchp[i],xfunchm[i],dfunc[i],dfunch[i],diff[i]))\n",
    "    else:\n",
    "        dfunch.append((xfunchp[i]-xfunc[i])/(x[i]));\n",
    "        dfunchh.append((xfunchp[i]-xfunchm[i])/(2.0e+00*x[i]));\n",
    "        diff.append(abs(dfunc[i]-dfunch[i]));\n",
    "        difftwo.append(abs(dfunc[i]-dfunchh[i]));\n",
    "        print ('{} {} {} {} {} {} {} {}'.format(i,x[i],xfunc[i],xfunchp[i],xfunchm[i],dfunc[i],dfunch[i],diff[i]))"
   ]
  },
  {
   "cell_type": "code",
   "execution_count": 15,
   "metadata": {},
   "outputs": [
    {
     "name": "stderr",
     "output_type": "stream",
     "text": [
      "Warning in <TCanvas::Constructor>: Deleting canvas with same name: c1\n"
     ]
    },
    {
     "data": {
      "image/png": "[encoded data removed]",
      "text/plain": [
       "<IPython.core.display.Image object>"
      ]
     },
     "metadata": {},
     "output_type": "display_data"
    }
   ],
   "source": [
    "c1 = TCanvas(\"c1\",\"c1\",0,0,1000,800)\n",
    "gr = TGraph(n,x,diff)\n",
    "gr.SetMarkerStyle(21)\n",
    "gr.SetTitle(\"Rounding Error\")\n",
    "gr.GetXaxis().SetTitle(\"X\")\n",
    "gr.GetYaxis().SetTitle(\"Error\")\n",
    "\n",
    "gr2 = TGraph(n,x,difftwo)\n",
    "gr2.SetMarkerStyle(22)\n",
    "gr2.SetTitle(\"Rounding Error\")\n",
    "gr2.GetXaxis().SetTitle(\"X\")\n",
    "gr2.GetYaxis().SetTitle(\"Error\")\n",
    "\n",
    "gr2.Draw(\"APL\")\n",
    "gr.Draw(\"PL\")\n",
    "\n",
    "c1.SetLogx()\n",
    "c1.SetLogy()\n",
    "c1.Draw()"
   ]
  },
  {
   "cell_type": "code",
   "execution_count": null,
   "metadata": {},
   "outputs": [],
   "source": []
  }
 ],
 "metadata": {
  "kernelspec": {
   "display_name": "Python 3",
   "language": "python",
   "name": "python3"
  },
  "language_info": {
   "codemirror_mode": {
    "name": "ipython",
    "version": 3
   },
   "file_extension": ".py",
   "mimetype": "text/x-python",
   "name": "python",
   "nbconvert_exporter": "python",
   "pygments_lexer": "ipython3",
   "version": "3.7.3"
  }
 },
 "nbformat": 4,
 "nbformat_minor": 2
}
