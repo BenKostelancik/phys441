{
 "cells": [
  {
   "cell_type": "code",
   "execution_count": 1,
   "metadata": {},
   "outputs": [
    {
     "name": "stdout",
     "output_type": "stream",
     "text": [
      "Welcome to JupyROOT 6.18/00\n"
     ]
    }
   ],
   "source": [
    "from ROOT import TCanvas, gPad\n",
    "from ROOT import TH1F, TGraph, TGraphErrors\n",
    "from ROOT import gStyle\n",
    "from array import array\n",
    "import math\n",
    "import random\n",
    "\n",
    "c1 = TCanvas( 'c1', 'Simple Integration Example', 200, 10, 700, 500 )\n",
    "c1.SetGridx()\n",
    "c1.SetGridy()\n",
    "c1.GetFrame().SetFillColor( 42 )\n",
    "c1.GetFrame().SetBorderMode(-1 )\n",
    "c1.GetFrame().SetBorderSize( 5 )\n",
    "c1.Divide(1,2)"
   ]
  },
  {
   "cell_type": "code",
   "execution_count": 2,
   "metadata": {},
   "outputs": [],
   "source": [
    "def generator_function(x):\n",
    "    return 3.0/2.0*(1.0 - x*x)"
   ]
  },
  {
   "cell_type": "code",
   "execution_count": 3,
   "metadata": {},
   "outputs": [],
   "source": [
    "gStyle.SetOptFit(1)"
   ]
  },
  {
   "cell_type": "code",
   "execution_count": 4,
   "metadata": {},
   "outputs": [],
   "source": [
    "random.seed(1)"
   ]
  },
  {
   "cell_type": "code",
   "execution_count": 5,
   "metadata": {},
   "outputs": [
    {
     "name": "stdout",
     "output_type": "stream",
     "text": [
      "Integral = 0.996545 +/- 0.048402 for npoints = 100.000000\n",
      "Error = 0.003455\n",
      "Integral = 1.001320 +/- 0.011317 for npoints = 1000.000000\n",
      "Error = 0.001320\n",
      "Integral = 0.999330 +/- 0.003944 for npoints = 10000.000000\n",
      "Error = 0.000670\n",
      "Integral = 0.999991 +/- 0.001551 for npoints = 100000.000000\n",
      "Error = 0.000009\n",
      "Integral = 0.999935 +/- 0.000613 for npoints = 1000000.000000\n",
      "Error = 0.000065\n"
     ]
    }
   ],
   "source": [
    "max_order = 6\n",
    "min_order = 2\n",
    "nbins = 20\n",
    "\n",
    "norders = max_order - min_order + 1\n",
    "nbin = nbins\n",
    "\n",
    "np = array('d')\n",
    "enp = array('d')\n",
    "sum2 = array('d')\n",
    "esum2 = array('d')\n",
    "esum3 = array('d')\n",
    "np2 = array('d')\n",
    "np2mid = array('d')\n",
    "\n",
    "summid = array('d')\n",
    "esummid = array('d')\n",
    "\n",
    "sum = [[0 for x in range(0,nbin)] for y in range(0,norders)]\n",
    "\n",
    "for j in range(min_order,max_order+1):\n",
    "    npoints = math.pow(10,j)\n",
    "    np.append(npoints)\n",
    "    np2.append(1.0/math.sqrt(npoints))\n",
    "    np3.append(math.log(1.0*npoints))\n",
    "    enp.append(0.0)\n",
    "    sum2.append(0.0)\n",
    "    esum2.append(0)\n",
    "    esum3.append(0)\n",
    "    for k in range(0,nbin):\n",
    "        xlow = 0.0\n",
    "        xhigh = 1.0\n",
    "        dx = (xhigh-xlow)/npoints\n",
    "        \n",
    "        for i in range(0,int(npoints)):\n",
    "            xval = xlow+random.random()*(xhigh-xlow)\n",
    "            yval = generator_function(xval)\n",
    "            sum[j-min_order][k] += dx*yval\n",
    "            \n",
    "    for k in range(0,nbin):\n",
    "        sum2[j-min_order] += sum[j-min_order][k]/nbin\n",
    "        \n",
    "    for k in range(0,nbin):\n",
    "        esum2[j-min_order] += math.pow((sum[j-min_order][k]-sum2[j-min_order]),2)/nbin\n",
    "    \n",
    "    esum2[j-min_order]=math.sqrt(esum2[j-min_order])\n",
    "    print(\"Integral = %f +/- %f for npoints = %f\" %(sum2[j-min_order],esum2[j-min_order],npoints))\n",
    "    print(\"Error = %f\" % math.fabs(1.0-sum2[j-min_order]))\n",
    "    esum3[j-min_order]=math.log(esum2[j-min_order])\n",
    "    \n",
    "    "
   ]
  },
  {
   "cell_type": "code",
   "execution_count": 6,
   "metadata": {},
   "outputs": [
    {
     "name": "stdout",
     "output_type": "stream",
     "text": [
      "\n",
      "****************************************\n",
      "Minimizer is Linear\n",
      "Chi2                      =     0.113786\n",
      "NDf                       =            3\n",
      "p0                        =     -1.09213   +/-   0.261288    \n",
      "p1                        =     -0.46579   +/-   0.0267466   \n"
     ]
    }
   ],
   "source": [
    "gr = TGraphErrors(norders,np,sum2,enp,esum2);\n",
    "gr2 = TGraph(norders,np3,esum3);\n",
    "\n",
    "gr.SetLineColor(2);\n",
    "gr.SetLineWidth(4);\n",
    "gr.SetMarkerColor(4);\n",
    "gr.SetMarkerStyle(21);\n",
    "gr.SetTitle(\"MC integration 1\");\n",
    "gr.GetXaxis().SetTitle(\"N points\");\n",
    "gr.GetYaxis().SetTitle(\"Integral\");\n",
    "gr2.SetLineColor(2);\n",
    "gr2.SetLineWidth(4);\n",
    "gr2.SetMarkerColor(4);\n",
    "gr2.SetMarkerStyle(21);\n",
    "gr2.SetTitle(\"MC integration 2\");\n",
    "gr2.GetXaxis().SetTitle(\"log(Npoints)\");\n",
    "gr2.GetYaxis().SetTitle(\"log(Error in Integral)\");\n",
    "\n",
    "c1.cd(1);\n",
    "gPad.SetLogx()\n",
    "gr.Draw(\"AP\");\n",
    "c1.cd(2);\n",
    "gr2.Draw(\"AP\");\n",
    "gr2.Fit(\"pol1\");"
   ]
  },
  {
   "cell_type": "code",
   "execution_count": 7,
   "metadata": {},
   "outputs": [
    {
     "data": {
      "image/png": "[encoded data removed]",
      "text/plain": [
       "<IPython.core.display.Image object>"
      ]
     },
     "metadata": {},
     "output_type": "display_data"
    }
   ],
   "source": [
    "c1.Draw()"
   ]
  },
  {
   "cell_type": "code",
   "execution_count": null,
   "metadata": {
    "scrolled": true
   },
   "outputs": [],
   "source": []
  },
  {
   "cell_type": "code",
   "execution_count": null,
   "metadata": {},
   "outputs": [],
   "source": []
  },
  {
   "cell_type": "code",
   "execution_count": null,
   "metadata": {},
   "outputs": [],
   "source": []
  }
 ],
 "metadata": {
  "kernelspec": {
   "display_name": "Python 3",
   "language": "python",
   "name": "python3"
  },
  "language_info": {
   "codemirror_mode": {
    "name": "ipython",
    "version": 3
   },
   "file_extension": ".py",
   "mimetype": "text/x-python",
   "name": "python",
   "nbconvert_exporter": "python",
   "pygments_lexer": "ipython3",
   "version": "3.7.3"
  }
 },
 "nbformat": 4,
 "nbformat_minor": 2
}
