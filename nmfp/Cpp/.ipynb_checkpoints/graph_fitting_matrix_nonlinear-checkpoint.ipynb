{
 "cells": [
  {
   "cell_type": "code",
   "execution_count": 1,
   "metadata": {},
   "outputs": [
    {
     "name": "stdout",
     "output_type": "stream",
     "text": [
      "Welcome to JupyROOT 6.18/00\n"
     ]
    }
   ],
   "source": [
    "from ROOT import TCanvas, TFile\n",
    "from ROOT import TGraph, TF1\n",
    "from ROOT import gStyle\n",
    "from array import array\n",
    "import math\n",
    "import numpy as np\n",
    "import random\n",
    "\n",
    "c1 = TCanvas( 'c1', 'Non-Linear Fitting Example', 200, 10, 700, 500 )\n",
    "c1.SetGridx()\n",
    "c1.SetGridy()\n",
    "c1.GetFrame().SetFillColor( 21 )\n",
    "c1.GetFrame().SetBorderMode(-1 )\n",
    "c1.GetFrame().SetBorderSize( 5 )"
   ]
  },
  {
   "cell_type": "code",
   "execution_count": 2,
   "metadata": {},
   "outputs": [],
   "source": [
    "def fitfunction(x,par):\n",
    "    return par[0]*x/(par[1]+x)\n",
    "\n",
    "def fitfunction_root(x,par):\n",
    "    return par[0]*x[0]/(par[1]+x[0])"
   ]
  },
  {
   "cell_type": "code",
   "execution_count": 3,
   "metadata": {},
   "outputs": [],
   "source": [
    "def jacobian_beta1(x,par):\n",
    "    return -x/(par[1]+x)"
   ]
  },
  {
   "cell_type": "code",
   "execution_count": 4,
   "metadata": {},
   "outputs": [],
   "source": [
    "def jacobian_beta2(x,par):\n",
    "    return par[0]*x/((par[1]+x)*(par[1]+x))"
   ]
  },
  {
   "cell_type": "code",
   "execution_count": 5,
   "metadata": {},
   "outputs": [],
   "source": [
    "gStyle.SetOptFit(1)\n",
    "\n",
    "par_actual = array('d')\n",
    "par_actual.append(0.3797)\n",
    "par_actual.append(0.5111)\n",
    "\n",
    "beta_order = 2 #Set the order of the polynomial\n",
    "m = 7 #Set the number of data points\n",
    "x = array('d')\n",
    "y = array('d')\n",
    "ex = array('d')\n",
    "ey = array('d')\n",
    "\n",
    "x.append(0.038)\n",
    "x.append(0.194)\n",
    "x.append(0.425)\n",
    "x.append(0.626)\n",
    "x.append(1.253)\n",
    "x.append(2.500)\n",
    "x.append(3.740)"
   ]
  },
  {
   "cell_type": "code",
   "execution_count": 6,
   "metadata": {},
   "outputs": [],
   "source": [
    "random.seed(1)\n",
    "\n",
    "for i in range(0,m):\n",
    "    r = random.gauss(0.0,0.005)\n",
    "    y.append(fitfunction(x[i],par_actual)+r)"
   ]
  },
  {
   "cell_type": "code",
   "execution_count": 7,
   "metadata": {},
   "outputs": [],
   "source": [
    "n = beta_order\n",
    "\n",
    "Jacobian = np.zeros(shape = (m,n))\n",
    "JacobianT = np.zeros(shape = (n,m))\n",
    "JTr = np.zeros(shape = (n,1))\n",
    "JTJ = np.zeros(shape = (n,n))\n",
    "JTJInv = np.zeros(shape = (n,n))\n",
    "residuals = np.zeros(shape = (m,1))\n",
    "betas = np.zeros(shape = (n,1))\n",
    "Delta = np.zeros(shape = (n,1))"
   ]
  },
  {
   "cell_type": "code",
   "execution_count": 8,
   "metadata": {},
   "outputs": [],
   "source": [
    "betas[0][0] = 0.30\n",
    "betas[1][0] = 0.75\n",
    "\n",
    "parameter_matrix = array('d')\n",
    "parameter_matrix_dbeta = array('d')\n",
    "parameter_matrix.append(betas[0][0])\n",
    "parameter_matrix.append(betas[1][0])\n",
    "\n",
    "dbetamax = 10000\n",
    "dbeta = 0\n",
    "epsilon = 0.0000001\n",
    "epsilon_beta = 0.01"
   ]
  },
  {
   "cell_type": "code",
   "execution_count": 9,
   "metadata": {},
   "outputs": [],
   "source": [
    "while (dbetamax > epsilon):\n",
    "    for i in range(0,m):\n",
    "        function_value = fitfunction(x[i],parameter_matrix)\n",
    "        residuals[i][0]=y[i]-function_value\n",
    "        for j in range(0,n):\n",
    "            if (j==0):\n",
    "                jacobian = jacobian_beta1(x[i],parameter_matrix)\n",
    "            else:\n",
    "                jacobian = jacobian_beta2(x[i],parameter_matrix)\n",
    "            Jacobian[i][j]=jacobian\n",
    "            #print(i,j,Jacobian[i][j])\n",
    "            \n",
    "    JacobianT = Jacobian.transpose()\n",
    "    JTr = np.array(np.matrix(JacobianT)*np.matrix(residuals))\n",
    "    JTJ = np.array(np.matrix(JacobianT)*np.matrix(Jacobian))\n",
    "    JTJInv = np.array(np.linalg.inv(JTJ))\n",
    "    Delta = np.array(np.matrix(JTJInv)*np.matrix(JTr))\n",
    "\n",
    "    dbetamax = 0.0\n",
    "    \n",
    "    for j in range(0,n):\n",
    "        parameter_matrix[j]=parameter_matrix[j]-Delta[j][0]\n",
    "        dbeta = math.fabs(Delta[j][0]/parameter_matrix[j])\n",
    "        if (dbeta > dbetamax): \n",
    "            dbetamax = dbeta\n",
    "        #print (\"dbetamax = %f\" % dbetamax )"
   ]
  },
  {
   "cell_type": "code",
   "execution_count": 10,
   "metadata": {},
   "outputs": [
    {
     "name": "stdout",
     "output_type": "stream",
     "text": [
      "[[-0.07289204  0.05191848]\n",
      " [-0.28642341  0.15702207]\n",
      " [-0.46789733  0.19127473]\n",
      " [-0.56431021  0.18888909]\n",
      " [-0.72164162  0.15432542]\n",
      " [-0.83799287  0.10430041]\n",
      " [-0.88555945  0.07785907]]\n",
      "0.07785907388859169\n",
      " \n",
      "[[-0.07289204 -0.28642341 -0.46789733 -0.56431021 -0.72164162 -0.83799287\n",
      "  -0.88555945]\n",
      " [ 0.05191848  0.15702207  0.19127473  0.18888909  0.15432542  0.10430041\n",
      "   0.07785907]]\n",
      "0.07785907388859169\n",
      " \n",
      "[[ 3.52463284e-15]\n",
      " [-2.41012727e-10]]\n",
      "3.5246328425331264e-15\n",
      " \n",
      "[[ 2.63193976 -0.5125677 ]\n",
      " [-0.5125677   0.14037351]]\n",
      "2.6319397591060105\n",
      " \n",
      "[[ 1.3152333   4.80251648]\n",
      " [ 4.80251648 24.66002848]]\n",
      "1.315233303537492\n",
      " \n"
     ]
    }
   ],
   "source": [
    "print(Jacobian)\n",
    "print(Jacobian[6][1])\n",
    "print(\" \")\n",
    "\n",
    "print(JacobianT)\n",
    "print(JacobianT[1][6])\n",
    "print(\" \")\n",
    "\n",
    "print(JTr)\n",
    "print(JTr[0][0])\n",
    "print(\" \")\n",
    "\n",
    "print(JTJ)\n",
    "print(JTJ[0][0])\n",
    "print(\" \")\n",
    "\n",
    "print(JTJInv)\n",
    "print(JTJInv[0][0])\n",
    "print(\" \")\n"
   ]
  },
  {
   "cell_type": "code",
   "execution_count": 11,
   "metadata": {},
   "outputs": [
    {
     "name": "stdout",
     "output_type": "stream",
     "text": [
      "i x y fit = 0 0.038000 0.032718 0.027066 \n",
      "i x y fit = 1 0.194000 0.111717 0.106354 \n",
      "i x y fit = 2 0.425000 0.172720 0.173738 \n",
      "i x y fit = 3 0.626000 0.205211 0.209538 \n",
      "i x y fit = 4 1.253000 0.264231 0.267958 \n",
      "i x y fit = 5 2.500000 0.315407 0.311161 \n",
      "i x y fit = 6 3.740000 0.328939 0.328824 \n",
      "chi2/dof = 0.000112 / 5.000000\n",
      " beta[1] = 0.371317 +/- 0.005437\n",
      " beta[2] = 0.483319 +/- 0.023544\n"
     ]
    }
   ],
   "source": [
    "error_sum = 0\n",
    "yfit = 0\n",
    "error = array('d')\n",
    "\n",
    "for j in range(0,m):\n",
    "    yfit = fitfunction(x[j],parameter_matrix)\n",
    "    print (\"i x y fit = %d %f %f %f \" % (j,x[j],y[j],yfit))\n",
    "    error_sum = error_sum + (yfit-y[j])*(yfit-y[j])\n",
    "    yfit = 0\n",
    "    \n",
    "chi2 = error_sum/(m-n)\n",
    "print (\"chi2/dof = %f / %f\" % (error_sum,(m-n)))\n",
    "\n",
    "for k in range(0,n):\n",
    "        error.append(math.sqrt(chi2*JTJInv[k][k]))\n",
    "        print(\" beta[%d] = %f +/- %f\" % ((k+1),parameter_matrix[k],error[k]))\n"
   ]
  },
  {
   "cell_type": "code",
   "execution_count": 12,
   "metadata": {},
   "outputs": [
    {
     "name": "stdout",
     "output_type": "stream",
     "text": [
      "Fit 1: 0.000112 5.000000 \n",
      "\n",
      " **********\n",
      " **    1 **SET PRINT           2\n",
      " **********\n",
      " **********\n",
      " **    2 **SET NOGRAD\n",
      " **********\n",
      " PARAMETER DEFINITIONS:\n",
      "    NO.   NAME         VALUE      STEP SIZE      LIMITS\n",
      "     1 Vmax         3.00000e-01  9.00000e-02     no limits\n",
      "     2 Km           7.50000e-01  2.25000e-01     no limits\n",
      " **********\n",
      " **    3 **SET ERR           1\n",
      " **********\n",
      " **********\n",
      " **    4 **SET PRINT           2\n",
      " **********\n",
      " **********\n",
      " **    5 **SET STR           1\n",
      " **********\n",
      " NOW USING STRATEGY  1: TRY TO BALANCE SPEED AGAINST RELIABILITY\n",
      " **********\n",
      " **    6 **MIGRAD        1220        0.01\n",
      " **********\n",
      " FIRST CALL TO USER FUNCTION AT NEW START POINT, WITH IFLAG=4.\n",
      " START MIGRAD MINIMIZATION.  STRATEGY  1.  CONVERGENCE WHEN EDM .LT. 1.00e-05\n",
      " FCN=0.00676142 FROM MIGRAD    STATUS=INITIATE       21 CALLS          22 TOTAL\n",
      "                     EDM= unknown      STRATEGY= 1      NO ERROR MATRIX       \n",
      "  EXT PARAMETER               CURRENT GUESS       STEP         FIRST   \n",
      "  NO.   NAME      VALUE            ERROR          SIZE      DERIVATIVE \n",
      "   1  Vmax         3.00000e-01   9.00000e-02   0.00000e+00  -3.19220e-02\n",
      "   2  Km           1.93106e-01   2.25000e-01  -5.56894e-01  -5.74589e-02\n",
      "NO ERROR MATRIX       \n",
      " FCN=0.00373942 FROM MIGRAD    STATUS=PROGRESS       32 CALLS          33 TOTAL\n",
      "                     EDM=0.00729119    STRATEGY= 1      NO ERROR MATRIX       \n",
      "  EXT PARAMETER               CURRENT GUESS       STEP         FIRST   \n",
      "  NO.   NAME      VALUE            ERROR          SIZE      DERIVATIVE \n",
      "   1  Vmax         3.10599e-01   9.00000e-02   1.05992e-02  -1.64059e-01\n",
      "   2  Km           3.17704e-01   2.25000e-01   1.24598e-01   1.33757e-02\n",
      " MIGRAD MINIMIZATION HAS CONVERGED.\n",
      " MIGRAD WILL VERIFY CONVERGENCE AND ERROR MATRIX.\n",
      "   START COVARIANCE MATRIX CALCULATION.\n",
      " EIGENVALUES OF SECOND-DERIVATIVE MATRIX:\n",
      "         1.5399e-01  1.8460e+00\n",
      " COVARIANCE MATRIX CALCULATED SUCCESSFULLY\n",
      " FCN=0.000112461 FROM MIGRAD    STATUS=CONVERGED      61 CALLS          62 TOTAL\n",
      "                     EDM=1.3235e-07    STRATEGY= 1      ERROR MATRIX ACCURATE \n",
      "  EXT PARAMETER                                   STEP         FIRST   \n",
      "  NO.   NAME      VALUE            ERROR          SIZE      DERIVATIVE \n",
      "   1  Vmax         3.71043e-01   1.15534e+00   2.99903e-04  -1.26696e-04\n",
      "   2  Km           4.82031e-01   5.01948e+00   1.27591e-03  -7.66413e-05\n",
      " EXTERNAL ERROR MATRIX.    NDIM=  25    NPAR=  2    ERR DEF=1\n",
      "  1.335e+00  4.906e+00 \n",
      "  4.906e+00  2.520e+01 \n",
      " PARAMETER  CORRELATION COEFFICIENTS  \n",
      "       NO.  GLOBAL      1      2\n",
      "        1  0.84601   1.000  0.846\n",
      "        2  0.84601   0.846  1.000\n",
      " EXTERNAL ERROR MATRIX.    NDIM=   2    NPAR=  2    ERR DEF=1\n",
      "  1.335e+00  4.906e+00 \n",
      "  4.906e+00  2.520e+01 \n",
      "\n",
      "Covariance Matrix:\n",
      "\n",
      "            \t        Vmax          Km\n",
      "Vmax        \t  3.0023e-05  0.00011035\n",
      "Km          \t  0.00011035   0.0005667\n",
      "\n",
      "Correlation Matrix:\n",
      "\n",
      "            \t        Vmax          Km\n",
      "Vmax        \t           1     0.84601\n",
      "Km          \t     0.84601           1\n",
      "\n",
      "****************************************\n",
      "Minimizer is Minuit / Migrad\n",
      "Chi2                      =  0.000112461\n",
      "NDf                       =            5\n",
      "Edm                       =   1.3235e-07\n",
      "NCalls                    =           62\n",
      "Vmax                      =     0.371043   +/-   0.00547931  \n",
      "Km                        =     0.482031   +/-   0.0238054   \n"
     ]
    },
    {
     "name": "stderr",
     "output_type": "stream",
     "text": [
      "Info in <TMinuitMinimizer::Minimize>: Finished to run MIGRAD - status 0\n"
     ]
    }
   ],
   "source": [
    "gr = TGraph(m,x,y)\n",
    "pfit1 = TF1(\"fitfunction\",fitfunction_root,0.0,4.0,2)\n",
    "pfit1.SetParameters(0.30,0.75)\n",
    "pfit1.SetParNames(\"Vmax\",\"Km\")\n",
    "gr.SetMarkerStyle(21)\n",
    "gr.SetTitle(\"Non-Linear Fit\")\n",
    "gr.GetXaxis().SetTitle(\"[S]\")\n",
    "gr.GetYaxis().SetTitle(\"Rate\")\n",
    "gr.Fit(\"fitfunction\",\"V\")\n",
    "pfit1chi2 = pfit1.GetChisquare()\n",
    "pfit1ndf = pfit1.GetNDF()\n",
    "pfit1chi2ndf = pfit1chi2/pfit1ndf\n",
    "print(\"Fit 1: %f %f \\n\" % (pfit1chi2,pfit1ndf))\n",
    "gr.Draw(\"AP\")"
   ]
  },
  {
   "cell_type": "code",
   "execution_count": 13,
   "metadata": {},
   "outputs": [
    {
     "data": {
      "image/png": "[encoded data removed]",
      "text/plain": [
       "<IPython.core.display.Image object>"
      ]
     },
     "metadata": {},
     "output_type": "display_data"
    }
   ],
   "source": [
    "c1.Draw()"
   ]
  },
  {
   "cell_type": "code",
   "execution_count": 14,
   "metadata": {},
   "outputs": [],
   "source": [
    "c2 = TCanvas( 'c2', 'S^2 Histogram', 200, 10, 700, 500 )\n",
    "c2.SetGridx()\n",
    "c2.SetGridy()\n",
    "c2.GetFrame().SetFillColor( 21 )\n",
    "c2.GetFrame().SetBorderMode(-1 )\n",
    "c2.GetFrame().SetBorderSize( 5 )"
   ]
  },
  {
   "cell_type": "code",
   "execution_count": 46,
   "metadata": {},
   "outputs": [],
   "source": [
    "nbins = 101\n",
    "xwidth = 0.2000\n",
    "ywidth = 0.5000\n",
    "xlow = parameter_matrix[0]-xwidth/2.0\n",
    "xhigh = parameter_matrix[0]+xwidth/2.0\n",
    "ylow = parameter_matrix[1]-ywidth/2.0\n",
    "yhigh = parameter_matrix[1]+ywidth/2.0"
   ]
  },
  {
   "cell_type": "code",
   "execution_count": 47,
   "metadata": {},
   "outputs": [
    {
     "name": "stderr",
     "output_type": "stream",
     "text": [
      "Warning in <TROOT::Append>: Replacing existing TH1: h2 (Potential memory leak).\n"
     ]
    }
   ],
   "source": [
    "from ROOT import TH2D\n",
    "h2 = TH2D(\"h2\",\"S^2 Histogram\",nbins,xlow,xhigh,nbins,ylow,yhigh)"
   ]
  },
  {
   "cell_type": "code",
   "execution_count": 48,
   "metadata": {},
   "outputs": [],
   "source": [
    "b1 = array('d')\n",
    "b2 = array('d')\n",
    "pars = array('d')\n",
    "pars.append(0)\n",
    "pars.append(0)\n",
    "for j in range(0,nbins):\n",
    "    b1.append(0)\n",
    "    b2.append(0)\n",
    "    \n",
    "for j in range(0,nbins):\n",
    "    pars[0]=(parameter_matrix[0]+(j-(nbins-1.0)/2.0)/(nbins-1)*xwidth)\n",
    "    b1[j]=pars[0]\n",
    "    for k in range(0,nbins):\n",
    "        pars[1]=(parameter_matrix[1]+(k-(nbins-1.0)/2.0)/(nbins-1)*ywidth)\n",
    "        b2[k]=pars[1]\n",
    "        sum = 0\n",
    "        for i in range(0,m):\n",
    "            yfit = fitfunction(x[i],pars)\n",
    "            sum = sum + (yfit-y[i])*(yfit-y[i])\n",
    "        h2.Fill(b1[j],b2[k],sum)"
   ]
  },
  {
   "cell_type": "code",
   "execution_count": 49,
   "metadata": {},
   "outputs": [
    {
     "data": {
      "image/png": "[encoded data removed]",
      "text/plain": [
       "<IPython.core.display.Image object>"
      ]
     },
     "metadata": {},
     "output_type": "display_data"
    }
   ],
   "source": [
    "c2.SetLogz()\n",
    "h2.Draw(\"COLZ\")\n",
    "c2.Draw()\n"
   ]
  },
  {
   "cell_type": "code",
   "execution_count": null,
   "metadata": {},
   "outputs": [],
   "source": []
  }
 ],
 "metadata": {
  "kernelspec": {
   "display_name": "Python 3",
   "language": "python",
   "name": "python3"
  },
  "language_info": {
   "codemirror_mode": {
    "name": "ipython",
    "version": 3
   },
   "file_extension": ".py",
   "mimetype": "text/x-python",
   "name": "python",
   "nbconvert_exporter": "python",
   "pygments_lexer": "ipython3",
   "version": "3.7.3"
  }
 },
 "nbformat": 4,
 "nbformat_minor": 2
}
