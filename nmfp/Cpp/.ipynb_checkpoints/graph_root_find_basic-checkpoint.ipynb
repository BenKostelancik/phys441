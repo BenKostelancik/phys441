{
 "cells": [
  {
   "cell_type": "code",
   "execution_count": 1,
   "metadata": {},
   "outputs": [
    {
     "name": "stdout",
     "output_type": "stream",
     "text": [
      "Welcome to JupyROOT 6.16/00\n"
     ]
    }
   ],
   "source": [
    "from ROOT import TCanvas, TFile\n",
    "from ROOT import TGraph\n",
    "from ROOT import gStyle\n",
    "from array import array\n",
    "import math\n",
    "\n",
    "c1 = TCanvas( 'c1', 'The Main Canvas', 200, 10, 700, 500 )\n",
    "c1.SetGridx()\n",
    "c1.SetGridy()\n",
    "c1.GetFrame().SetFillColor( 21 )\n",
    "c1.GetFrame().SetBorderMode(-1 )\n",
    "c1.GetFrame().SetBorderSize( 5 )\n",
    "\n",
    "def generator_function(x,par):\n",
    "    return par[0]+par[1]*x+par[2]*x*x+par[3]*x*x*x\n",
    "\n",
    "xlow = -4.0\n",
    "xhigh = 4.0\n",
    "npoints = 10000\n",
    "\n",
    "xval = array('d')\n",
    "yval = array('d')\n",
    "xroots = array('d')\n",
    "yroots = array('d')\n",
    "\n",
    "par = array('d')\n",
    "par.append(1.80)\n",
    "par.append(-4.05)\n",
    "par.append(0.40)\n",
    "par.append(1.00)"
   ]
  },
  {
   "cell_type": "code",
   "execution_count": 2,
   "metadata": {},
   "outputs": [],
   "source": [
    "dx = (xhigh-xlow)/npoints\n",
    "\n",
    "for i in range(0,npoints):\n",
    "    xval.append(xlow+i*dx)\n",
    "    yval.append(generator_function(xval[i],par))\n",
    "\n",
    "nsearch = 1000\n",
    "\n",
    "niter = npoints/nsearch\n",
    "ycomp = yval[0]\n",
    "nroots_found = 0"
   ]
  },
  {
   "cell_type": "code",
   "execution_count": 3,
   "metadata": {},
   "outputs": [
    {
     "name": "stdout",
     "output_type": "stream",
     "text": [
      "Found exact root at x = -2.400000\n",
      "\n",
      "Found root at x = 0.500000\n",
      "\n",
      "Found root at x = 1.500000\n",
      "\n"
     ]
    }
   ],
   "source": [
    "for i in range(0,int(niter)):\n",
    "    y = yval[nsearch*i]\n",
    "    if (y==0):\n",
    "        print (\"Found exact root at x = %f\\n\" % xval[nsearch*i])\n",
    "        xroots.append(xval[nsearch*i])\n",
    "        yroots.append(0.0)\n",
    "        nroots_found = nroots_found + 1\n",
    "    if (y*ycomp<0.0):\n",
    "        xlow = xval[nsearch*(i-1)]\n",
    "        xhigh = xval[nsearch*i]\n",
    "        epsilon = 1.0E-10\n",
    "        diff = 1.0E12\n",
    "        while (diff>epsilon):\n",
    "            fa = generator_function(xlow,par)\n",
    "            fb = generator_function(xhigh,par)\n",
    "            xmid = (xhigh+xlow)/2.0\n",
    "            fc = generator_function(xmid,par)\n",
    "            product = fa*fc\n",
    "            if (product < 0):\n",
    "                xhigh = xmid\n",
    "                fb = fc\n",
    "            else:\n",
    "                xlow = xmid\n",
    "                fa = fc\n",
    "\n",
    "            diff = math.fabs(fc)\n",
    "\n",
    "        print (\"Found root at x = %f\\n\" % xmid)\n",
    "        xroots.append(xmid)\n",
    "        yroots.append(0.0)\n",
    "        nroots_found = nroots_found + 1\n",
    "        ycomp = y\n",
    "    else:\n",
    "        ycomp = y\n"
   ]
  },
  {
   "cell_type": "code",
   "execution_count": 4,
   "metadata": {},
   "outputs": [
    {
     "name": "stdout",
     "output_type": "stream",
     "text": [
      "Total number of roots found = 3\n",
      "\n"
     ]
    },
    {
     "data": {
      "image/png": "[encoded data removed]",
      "text/plain": [
       "<IPython.core.display.Image object>"
      ]
     },
     "metadata": {},
     "output_type": "display_data"
    }
   ],
   "source": [
    "print (\"Total number of roots found = %d\\n\" % nroots_found)\n",
    "\n",
    "gr = TGraph(npoints,xval,yval)\n",
    "gr2 = TGraph(nroots_found,xroots,yroots)\n",
    "\n",
    "gr2.SetMarkerColor(4)\n",
    "gr.SetMarkerStyle(21)\n",
    "gr2.SetMarkerStyle(21)\n",
    "gr.SetMaximum(20.0)\n",
    "gr.SetMinimum(-20.0)\n",
    "gr.GetXaxis().SetLimits(-5.0,5.0)\n",
    "gr.SetTitle(\"Bisection Method\")\n",
    "gr.GetXaxis().SetTitle(\"X\")\n",
    "gr.GetYaxis().SetTitle(\"Y\")\n",
    "gr.Draw(\"AL\")\n",
    "gr2.Draw(\"P\")\n",
    "\n",
    "c1.Draw()\n"
   ]
  },
  {
   "cell_type": "code",
   "execution_count": null,
   "metadata": {},
   "outputs": [],
   "source": []
  },
  {
   "cell_type": "code",
   "execution_count": null,
   "metadata": {},
   "outputs": [],
   "source": []
  },
  {
   "cell_type": "code",
   "execution_count": null,
   "metadata": {},
   "outputs": [],
   "source": []
  },
  {
   "cell_type": "code",
   "execution_count": null,
   "metadata": {},
   "outputs": [],
   "source": []
  },
  {
   "cell_type": "code",
   "execution_count": null,
   "metadata": {},
   "outputs": [],
   "source": []
  }
 ],
 "metadata": {
  "kernelspec": {
   "display_name": "Python 3",
   "language": "python",
   "name": "python3"
  },
  "language_info": {
   "codemirror_mode": {
    "name": "ipython",
    "version": 3
   },
   "file_extension": ".py",
   "mimetype": "text/x-python",
   "name": "python",
   "nbconvert_exporter": "python",
   "pygments_lexer": "ipython3",
   "version": "3.7.3"
  }
 },
 "nbformat": 4,
 "nbformat_minor": 2
}
