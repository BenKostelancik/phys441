{
 "cells": [
  {
   "cell_type": "code",
   "execution_count": 1,
   "metadata": {},
   "outputs": [],
   "source": [
    "import numpy as np\n",
    "import matplotlib.pyplot as plt\n",
    "\n",
    "import time"
   ]
  },
  {
   "cell_type": "code",
   "execution_count": 2,
   "metadata": {},
   "outputs": [],
   "source": [
    "\n",
    "# define a generator function for the polynomial\n",
    "def generator_function(x,*par):\n",
    "    return par[0]+par[1]*x+par[2]*x*x+par[3]*x*x*x\n",
    "\n",
    "# Set the x limits, and the number of points, and calculate the interval\n",
    "xl = -4.0\n",
    "xh = 4.0\n",
    "npoints = 10000\n",
    "\n",
    "dx = (xh-xl)/npoints\n",
    "\n",
    "xroots = []\n",
    "yroots = []\n",
    "\n",
    "par = np.array([-3.0,-3.0,3.0,1.0])"
   ]
  },
  {
   "cell_type": "code",
   "execution_count": 3,
   "metadata": {},
   "outputs": [],
   "source": [
    "# Define the data arrays (x and y)\n",
    "xval = np.arange(xl,xh,dx)\n",
    "yval = generator_function(xval,*par)"
   ]
  },
  {
   "cell_type": "code",
   "execution_count": 4,
   "metadata": {},
   "outputs": [
    {
     "name": "stdout",
     "output_type": "stream",
     "text": [
      "Found root at x = -3.601679\n",
      "\n",
      "Found root at x = -0.660123\n",
      "\n",
      "Found root at x = 1.261802\n",
      "\n",
      "Total number of roots found = 3\n",
      "\n",
      "0.0032181739807128906\n"
     ]
    }
   ],
   "source": [
    "start = time.time()\n",
    "\n",
    "# Define the size of the \"slices\" in x in which we will look for roots.\n",
    "nsearch = 1000\n",
    "\n",
    "# calculate the number of slices\n",
    "niter = npoints/nsearch\n",
    "\n",
    "# use the left most data point in the first slice as the comparison point, and keep track of the number of roots found\n",
    "ycomp = yval[0]\n",
    "nroots_found = 0\n",
    "\n",
    "# loop over the slices\n",
    "for i in range(0,int(niter)):\n",
    "    # Begin at the right most data point in the slice\n",
    "    y = yval[nsearch*i]\n",
    "    \n",
    "    # Check to see if we got lucky and landed on an exact zero of the function\n",
    "    if (y==0):\n",
    "        print (\"Found exact root at x = %f\\n\" % xval[nsearch*i])\n",
    "        xroots.append(xval[nsearch*i])\n",
    "        yroots.append(0.0)\n",
    "        nroots_found = nroots_found + 1\n",
    "    # Otherwise, check to see if there is a root in between the left and right comparison points\n",
    "    if (y*ycomp<0.0):\n",
    "        # There is a root in the interval, so apply Newton's algorithm / bisection method\n",
    "        #\n",
    "        # First, get the x-values of the left and right ends of the slice\n",
    "        xlow = xval[nsearch*(i-1)]\n",
    "        xhigh = xval[nsearch*i]\n",
    "        # define a \"tolerance\" at which point we will say we have found a zero\n",
    "        epsilon = 1.48E-8\n",
    "        \n",
    "        diff = 1.0E12\n",
    "        while (diff>epsilon):\n",
    "            # Calculate the function values at the left, right, and midpoints of the slice\n",
    "            fa = generator_function(xlow,*par)\n",
    "            fb = generator_function(xhigh,*par)\n",
    "            xmid = (xhigh+xlow)/2.0\n",
    "            fc = generator_function(xmid,*par)\n",
    "            \n",
    "            # Decide if the root is in the left half or right half of the interval, and redefine\n",
    "            # the x interval accordingly\n",
    "            product = fa*fc\n",
    "            if (product < 0):\n",
    "                xhigh = xmid\n",
    "            else:\n",
    "                xlow = xmid\n",
    "\n",
    "            # update the difference value\n",
    "            diff = np.abs(fc)\n",
    "\n",
    "        print (\"Found root at x = %f\\n\" % xmid)\n",
    "        xroots.append(xmid)\n",
    "        yroots.append(0.0)\n",
    "        nroots_found = nroots_found + 1\n",
    "        \n",
    "        # move to the next slice\n",
    "        ycomp = y\n",
    "    else:\n",
    "        # move to the next slice\n",
    "        ycomp = y\n",
    "\n",
    "print (\"Total number of roots found = %d\\n\" % nroots_found)\n",
    "\n",
    "end = time.time()\n",
    "print(end - start)\n",
    "time_ejb = (end-start)"
   ]
  },
  {
   "cell_type": "code",
   "execution_count": 5,
   "metadata": {},
   "outputs": [
    {
     "data": {
      "image/png": "[encoded data removed]",
      "text/plain": [
       "<Figure size 432x288 with 1 Axes>"
      ]
     },
     "metadata": {
      "needs_background": "light"
     },
     "output_type": "display_data"
    }
   ],
   "source": [
    "# Generate the figure and the axes \n",
    "fig, axs = plt.subplots(nrows=1, ncols=1) \n",
    "\n",
    "# On the first axis, plot the sine and label the ordinate \n",
    "axs.plot(xval,yval)\n",
    "axs.scatter(xroots,yroots)\n",
    "axs.set_ylabel('Y Value')\n",
    "axs.set_xlabel('X Value')\n",
    "axs.axhline()\n",
    "plt.show()"
   ]
  },
  {
   "cell_type": "code",
   "execution_count": 6,
   "metadata": {},
   "outputs": [
    {
     "name": "stdout",
     "output_type": "stream",
     "text": [
      "[-3.60167913 -3.60167913 -3.60167913 -0.66012311 -0.66012311 -0.66012311\n",
      "  1.26180225  1.26180225  1.26180225  1.26180225  1.26180225]\n",
      "0.0009276866912841797\n"
     ]
    }
   ],
   "source": [
    "# Now, use Newton's method that is found in scipy.optimize\n",
    "\n",
    "from scipy import optimize\n",
    "\n",
    "start = time.time()\n",
    "\n",
    "dx_search = (xh-xl)/niter\n",
    "x_search=np.arange(xl,xh+dx_search,dx_search)+0.1\n",
    "    \n",
    "xroots = optimize.newton(generator_function,x_search,args=par)\n",
    "yroots = np.zeros(len(xroots))\n",
    "\n",
    "print (xroots)\n",
    "    \n",
    "end = time.time()\n",
    "print(end - start)\n",
    "\n",
    "time_scipy = end - start"
   ]
  },
  {
   "cell_type": "code",
   "execution_count": 7,
   "metadata": {},
   "outputs": [
    {
     "data": {
      "image/png": "[encoded data removed]",
      "text/plain": [
       "<Figure size 432x288 with 1 Axes>"
      ]
     },
     "metadata": {
      "needs_background": "light"
     },
     "output_type": "display_data"
    }
   ],
   "source": [
    "# Generate the figure and the axes \n",
    "fig, axs = plt.subplots(nrows=1, ncols=1) \n",
    "\n",
    "# On the first axis, plot the sine and label the ordinate \n",
    "axs.plot(xval,yval)\n",
    "axs.scatter(xroots,yroots)\n",
    "axs.set_ylabel('Y Value')\n",
    "axs.set_xlabel('X Value')\n",
    "axs.axhline()\n",
    "plt.show()"
   ]
  },
  {
   "cell_type": "code",
   "execution_count": 8,
   "metadata": {},
   "outputs": [
    {
     "name": "stdout",
     "output_type": "stream",
     "text": [
      "Ratio =  3.469031097404266\n"
     ]
    }
   ],
   "source": [
    "print (\"Ratio = \",time_ejb/time_scipy)"
   ]
  },
  {
   "cell_type": "markdown",
   "metadata": {},
   "source": [
    "## Conclusions\n",
    "\n",
    "1.  The scipy.optimize.newton function is about 3-4 times faster than my method.  This is not surprising.\n",
    "2.  My method is more robust, does not require any knowledge of where the roots are, and always works."
   ]
  },
  {
   "cell_type": "code",
   "execution_count": null,
   "metadata": {},
   "outputs": [],
   "source": []
  }
 ],
 "metadata": {
  "kernelspec": {
   "display_name": "Python 3",
   "language": "python",
   "name": "python3"
  },
  "language_info": {
   "codemirror_mode": {
    "name": "ipython",
    "version": 3
   },
   "file_extension": ".py",
   "mimetype": "text/x-python",
   "name": "python",
   "nbconvert_exporter": "python",
   "pygments_lexer": "ipython3",
   "version": "3.6.8"
  }
 },
 "nbformat": 4,
 "nbformat_minor": 2
}
