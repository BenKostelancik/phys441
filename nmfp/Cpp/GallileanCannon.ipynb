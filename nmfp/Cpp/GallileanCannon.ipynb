{
 "cells": [
  {
   "cell_type": "code",
   "execution_count": 1,
   "metadata": {},
   "outputs": [],
   "source": [
    "from math import *\n",
    "\n",
    "c = 0.1\n",
    "gamma = 1.0\n",
    "h = 1.0\n",
    "g = 9.807\n",
    "\n",
    "N = 5\n",
    "vratio =[]\n",
    "mratio = []"
   ]
  },
  {
   "cell_type": "code",
   "execution_count": 2,
   "metadata": {},
   "outputs": [
    {
     "name": "stdout",
     "output_type": "stream",
     "text": [
      "v =  4.428769580820388\n",
      " \n",
      "i, v2m, v1m =  1 -4.428769580820389 4.428769580820388\n",
      "i, v2p, v1p =  1 11.675847076708296 2.81830791506752\n",
      "i, ratio =  1 2.6363636363636362\n",
      "2.6363636363636362 11.0\n",
      " \n",
      "i, v2m, v1m =  2 -4.428769580820388 11.675847076708296\n",
      "i, v2p, v1p =  2 24.85235161468631 8.747734957157626\n",
      "i, ratio =  2 2.128526645768025\n",
      "2.128526645768025 100.99999999999999\n",
      " \n",
      "i, v2m, v1m =  3 -4.428769580820396 24.85235161468631\n",
      "i, v2p, v1p =  3 48.80963259282815 19.528511397321456\n",
      "i, ratio =  3 1.9639844691391082\n",
      "1.9639844691391082 1000.9999999999998\n",
      " \n",
      "i, v2m, v1m =  4 -4.428769580820417 48.80963259282815\n",
      "i, v2p, v1p =  4 92.36832528035879 39.12992310671024\n",
      "i, ratio =  4 1.8924200075607809\n",
      "1.8924200075607809 10000.999999999998\n"
     ]
    }
   ],
   "source": [
    "v = sqrt(2*g*h)\n",
    "print (\"v = \",v)\n",
    "vi = v\n",
    "\n",
    "for i in range(1,N):\n",
    "\n",
    "    a = c*(c+1)\n",
    "    b = -2.0*c*(vi-c*v)\n",
    "    cc = (vi-c*v)**2 - gamma*(c*v**2+vi**2)\n",
    "\n",
    "    print(\" \")\n",
    "    #print (\"abc = \",a,b,cc)\n",
    "\n",
    "    v2m = (-b-sqrt(b**2-4*a*cc))/(2.0*a)\n",
    "    v1m = vi-c*v-c*v2m\n",
    "\n",
    "    print (\"i, v2m, v1m = \",i,v2m,v1m)\n",
    "\n",
    "    v2p = (-b+sqrt(b**2-4*a*cc))/(2.0*a)\n",
    "    v1p = vi-c*v-c*v2p\n",
    "\n",
    "    print (\"i, v2p, v1p = \",i,v2p,v1p)\n",
    "\n",
    "    print (\"i, ratio = \",i,v2p/vi)\n",
    "    vratio.append(v2p/vi)\n",
    "    mratio.append(1.0+1.0/c**i)\n",
    "    print(vratio[i-1],mratio[i-1])\n",
    "    \n",
    "    vi = v2p\n",
    "    "
   ]
  },
  {
   "cell_type": "code",
   "execution_count": 3,
   "metadata": {},
   "outputs": [
    {
     "name": "stdout",
     "output_type": "stream",
     "text": [
      "hd =  434.99069619140244\n"
     ]
    }
   ],
   "source": [
    "hd = v2p**2/(2.0*g)\n",
    "print (\"hd = \",hd)"
   ]
  },
  {
   "cell_type": "code",
   "execution_count": null,
   "metadata": {},
   "outputs": [],
   "source": []
  },
  {
   "cell_type": "code",
   "execution_count": null,
   "metadata": {},
   "outputs": [],
   "source": []
  },
  {
   "cell_type": "code",
   "execution_count": null,
   "metadata": {},
   "outputs": [],
   "source": []
  },
  {
   "cell_type": "code",
   "execution_count": null,
   "metadata": {},
   "outputs": [],
   "source": []
  },
  {
   "cell_type": "code",
   "execution_count": null,
   "metadata": {},
   "outputs": [],
   "source": []
  },
  {
   "cell_type": "code",
   "execution_count": null,
   "metadata": {},
   "outputs": [],
   "source": []
  }
 ],
 "metadata": {
  "kernelspec": {
   "display_name": "Python 3",
   "language": "python",
   "name": "python3"
  },
  "language_info": {
   "codemirror_mode": {
    "name": "ipython",
    "version": 3
   },
   "file_extension": ".py",
   "mimetype": "text/x-python",
   "name": "python",
   "nbconvert_exporter": "python",
   "pygments_lexer": "ipython3",
   "version": "3.7.3"
  }
 },
 "nbformat": 4,
 "nbformat_minor": 2
}
