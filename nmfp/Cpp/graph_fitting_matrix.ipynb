{
 "cells": [
  {
   "cell_type": "code",
   "execution_count": 11,
   "metadata": {},
   "outputs": [
    {
     "name": "stderr",
     "output_type": "stream",
     "text": [
      "Warning in <TCanvas::Constructor>: Deleting canvas with same name: c1\n"
     ]
    }
   ],
   "source": [
    "from ROOT import TCanvas, TFile\n",
    "from ROOT import TGraph, TF1\n",
    "from ROOT import gStyle\n",
    "from array import array\n",
    "import math\n",
    "import numpy as np\n",
    "\n",
    "c1 = TCanvas( 'c1', 'Simple Fitting Example', 200, 10, 700, 500 )\n",
    "c1.SetGridx()\n",
    "c1.SetGridy()\n",
    "c1.GetFrame().SetFillColor( 21 )\n",
    "c1.GetFrame().SetBorderMode(-1 )\n",
    "c1.GetFrame().SetBorderSize( 5 )"
   ]
  },
  {
   "cell_type": "code",
   "execution_count": 12,
   "metadata": {},
   "outputs": [],
   "source": [
    "def generator_function(x,par):\n",
    "    return par[0]+par[1]*x+par[2]*x*x+par[3]*x*x*x\n",
    "\n",
    "par = array('d')\n",
    "par.append(1.80)\n",
    "par.append(-4.05)\n",
    "par.append(0.40)\n",
    "par.append(1.0000)"
   ]
  },
  {
   "cell_type": "code",
   "execution_count": 13,
   "metadata": {},
   "outputs": [],
   "source": [
    "gStyle.SetOptFit(1)\n",
    "m = 3 #Set the order of the polynomial\n",
    "n = 15 #Set the number of data points\n",
    "walk = array('d')\n",
    "walk = [-2,2,-1,1,0,-2,2,-1,1,0,-2,2,-1,1,0]"
   ]
  },
  {
   "cell_type": "code",
   "execution_count": 14,
   "metadata": {},
   "outputs": [],
   "source": [
    "x = array('d')\n",
    "y = array('d')"
   ]
  },
  {
   "cell_type": "code",
   "execution_count": 15,
   "metadata": {},
   "outputs": [],
   "source": [
    "for i in range(0,n):\n",
    "    x.append(-4.0+8.0*i/n)\n",
    "    y.append(generator_function(x[i],par)+walk[i])"
   ]
  },
  {
   "cell_type": "code",
   "execution_count": 16,
   "metadata": {},
   "outputs": [],
   "source": [
    "m_params = m + 1\n",
    "a = np.zeros(shape = (m_params,m_params))\n",
    "v = np.zeros(shape = (m_params,1))"
   ]
  },
  {
   "cell_type": "code",
   "execution_count": 17,
   "metadata": {},
   "outputs": [
    {
     "name": "stdout",
     "output_type": "stream",
     "text": [
      "[[ 1.50000000e+01 -4.00000000e+00  8.07111111e+01 -6.40000000e+01]\n",
      " [-4.00000000e+00  8.07111111e+01 -6.40000000e+01  7.90715101e+02]\n",
      " [ 8.07111111e+01 -6.40000000e+01  7.90715101e+02 -1.02400000e+03]\n",
      " [-6.40000000e+01  7.90715101e+02 -1.02400000e+03  9.32004806e+03]]\n",
      "[[  11.48444444]\n",
      " [ 435.83510123]\n",
      " [-310.06062617]\n",
      " [5672.38257075]]\n",
      "Diagonal Check:\n",
      "[[ 1.00000000e+00 -1.66533454e-16  1.38777878e-16  2.08166817e-17]\n",
      " [ 1.94541091e-16  1.00000000e+00 -9.72727695e-17 -8.20202832e-17]\n",
      " [-8.82974249e-16  8.72915208e-17  1.00000000e+00 -2.47859164e-17]\n",
      " [ 7.63528463e-16 -1.26756588e-14 -1.14771420e-15  1.00000000e+00]]\n",
      "Coefficients:\n",
      "[[ 1.82678571]\n",
      " [-4.20430571]\n",
      " [ 0.40511322]\n",
      " [ 1.02237035]]\n"
     ]
    }
   ],
   "source": [
    "for k in range(0,m_params):\n",
    "    for i in range(0,n):\n",
    "        v[k][0]=v[k][0]+y[i]*math.pow(x[i],k)\n",
    "    #print (\"v[%d] = %f\" % (k,v[k][0]))\n",
    "    for j in range(0,m_params):\n",
    "        for i in range(0,n):\n",
    "            a[k][j]=a[k][j]+math.pow(x[i],k+j)\n",
    "        #print (\"a[%d][%d] = %f\" %(k,j,a[k][j]))\n",
    "        \n",
    "print (a)\n",
    "print (v)\n",
    "\n",
    "ainv = np.linalg.inv(a)\n",
    "u1 = np.dot(a,ainv)\n",
    "\n",
    "#print (a)\n",
    "#print (ainv)\n",
    "print (\"Diagonal Check:\")\n",
    "print (u1)\n",
    "coeff = ainv*np.matrix(v)\n",
    "print (\"Coefficients:\")\n",
    "print (coeff)\n",
    "        "
   ]
  },
  {
   "cell_type": "code",
   "execution_count": 18,
   "metadata": {},
   "outputs": [
    {
     "name": "stdout",
     "output_type": "stream",
     "text": [
      "i = 0  y = -41.600000  yfit = -40.305882\n",
      "i = 1  y = -19.014519  yfit = -21.323342\n",
      "i = 2  y = -9.117926  yfit = -8.159135\n",
      "i = 3  y = 1.000000  yfit = 0.117324\n",
      "i = 4  y = 4.249481  yfit = 4.436618\n",
      "i = 5  y = 3.540741  yfit = 5.729332\n",
      "i = 6  y = 6.784000  yfit = 4.926049\n",
      "i = 7  y = 1.889481  yfit = 2.957355\n",
      "i = 8  y = 1.767407  yfit = 0.753833\n",
      "i = 9  y = -0.672000  yfit = -0.753933\n",
      "i = 10  y = -2.518519  yfit = -0.635358\n",
      "i = 11  y = 4.138074  yfit = 2.040143\n",
      "i = 12  y = 7.208000  yfit = 8.203152\n",
      "i = 13  y = 19.601481  yfit = 18.784255\n",
      "i = 14  y = 34.228741  yfit = 34.714035\n",
      "chi2/dof = 28.996445 / 11.000000\n"
     ]
    }
   ],
   "source": [
    "yfit = 0\n",
    "chi2 = 0\n",
    "for j in range(0,n):\n",
    "    for k in range(0,m+1):\n",
    "        yfit = yfit + coeff[k]*math.pow(x[j],k)\n",
    "    print (\"i = %d  y = %f  yfit = %f\" % (j,y[j],yfit))\n",
    "    chi2 = chi2 + math.pow((yfit-y[j]),2)\n",
    "    yfit = 0\n",
    "    \n",
    "chi2perdof = chi2/(n-m-1)\n",
    "print (\"chi2/dof = %f / %f\" % (chi2,(n-m-1)))"
   ]
  },
  {
   "cell_type": "code",
   "execution_count": 19,
   "metadata": {},
   "outputs": [
    {
     "name": "stdout",
     "output_type": "stream",
     "text": [
      "k = 0, err = 0.638326\n",
      "k = 1, err = 0.455858\n",
      "k = 2, err = 0.095799\n",
      "k = 3, err = 0.044716\n"
     ]
    }
   ],
   "source": [
    "for k in range(0,m+1):\n",
    "    print(\"k = %d, err = %f\" % (k,math.pow(ainv[k][k]*chi2perdof,0.5)))"
   ]
  },
  {
   "cell_type": "code",
   "execution_count": 20,
   "metadata": {},
   "outputs": [
    {
     "name": "stdout",
     "output_type": "stream",
     "text": [
      "Fit 1: 28.996445 11.000000 \n",
      "\n"
     ]
    },
    {
     "data": {
      "image/png": "[encoded data removed]",
      "text/plain": [
       "<IPython.core.display.Image object>"
      ]
     },
     "metadata": {},
     "output_type": "display_data"
    }
   ],
   "source": [
    "#print (n,x,y)\n",
    "\n",
    "gr = TGraph(n,x,y)\n",
    "pfit1 = TF1(\"pfit1\",\"pol3\")\n",
    "gr.SetMarkerStyle(21)\n",
    "gr.SetTitle(\"Cubic Fit\")\n",
    "gr.GetXaxis().SetTitle(\"X\")\n",
    "gr.GetYaxis().SetTitle(\"Y\")\n",
    "gr.Fit(\"pfit1\",\"q\")\n",
    "pfit1chi2 = pfit1.GetChisquare()\n",
    "pfit1ndf = pfit1.GetNDF()\n",
    "pfit1chi2ndf = pfit1chi2/pfit1ndf\n",
    "print(\"Fit 1: %f %f \\n\" % (pfit1chi2,pfit1ndf))\n",
    "gr.Draw(\"AP\")\n",
    "c1.Draw()"
   ]
  },
  {
   "cell_type": "code",
   "execution_count": null,
   "metadata": {},
   "outputs": [],
   "source": []
  }
 ],
 "metadata": {
  "kernelspec": {
   "display_name": "Python 3",
   "language": "python",
   "name": "python3"
  },
  "language_info": {
   "codemirror_mode": {
    "name": "ipython",
    "version": 3
   },
   "file_extension": ".py",
   "mimetype": "text/x-python",
   "name": "python",
   "nbconvert_exporter": "python",
   "pygments_lexer": "ipython3",
   "version": "3.6.8"
  }
 },
 "nbformat": 4,
 "nbformat_minor": 2
}
