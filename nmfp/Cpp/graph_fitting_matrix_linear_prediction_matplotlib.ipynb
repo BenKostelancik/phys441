{
 "cells": [
  {
   "cell_type": "code",
   "execution_count": 1,
   "metadata": {},
   "outputs": [],
   "source": [
    "from array import array\n",
    "import math\n",
    "import numpy as np"
   ]
  },
  {
   "cell_type": "code",
   "execution_count": 2,
   "metadata": {},
   "outputs": [],
   "source": [
    "def generator_function(x,par,ichoice):\n",
    "    if (ichoice == 5):\n",
    "        return par[0]+par[1]*x+par[2]*x*x+par[3]*x*x*x\n",
    "    elif (ichoice ==6):\n",
    "        return par[0]+par[1]*x+par[2]*x*x\n",
    "    else:\n",
    "        return par[0]+par[1]*x"
   ]
  },
  {
   "cell_type": "code",
   "execution_count": 3,
   "metadata": {},
   "outputs": [],
   "source": [
    "def fitfunction(x,*paramlist):\n",
    "    if (ichoice == 5):\n",
    "        return paramlist[0]+paramlist[1]*x+paramlist[2]*x*x+paramlist[3]*x*x*x\n",
    "    elif (ichoice ==6):\n",
    "        return paramlist[0]+paramlist[1]*x+paramlist[2]*x*x\n",
    "    else:\n",
    "        return paramlist[0]+paramlist[1]*x"
   ]
  },
  {
   "cell_type": "code",
   "execution_count": 4,
   "metadata": {},
   "outputs": [],
   "source": [
    "ichoice = 4"
   ]
  },
  {
   "cell_type": "code",
   "execution_count": 5,
   "metadata": {},
   "outputs": [],
   "source": [
    "if ichoice == 1:\n",
    "    m = 1\n",
    "    n = 15\n",
    "    par = []\n",
    "    par.append(1.80)\n",
    "    par.append(4.05)\n",
    "    par = np.array(par)\n",
    "    jitter = [-2,2,-1,1,0,-2,2,-1,1,0,-2,2,-1,1,0]\n",
    "    jitter = np.array(jitter)\n",
    "    sigma = [7,6,5,4,3,2,1,.5,1,2,3,4,5,6,7]\n",
    "    sigma = np.array(sigma)\n",
    "    Title = \"Linear Fit\"\n",
    "    xlow = -4.0\n",
    "    xhigh = 4.0\n",
    "elif ichoice == 2:\n",
    "    m = 1\n",
    "    n = 10\n",
    "    par = []\n",
    "    par.append(6.81)\n",
    "    par.append(0.656)\n",
    "    par = np.array(par)\n",
    "    jitter = [.3,.2,-.5,-.2,.2,.6,-.4,-1.5,.7,.5]\n",
    "    jitter = np.array(par)\n",
    "    sigma = [0.51,0.51,0.51,0.51,0.51,0.51,0.51,0.51,0.51,0.51]\n",
    "    sigma = np.array(sigma)\n",
    "    Title = \"Linear Fit\"\n",
    "    xlow = 41.0\n",
    "    xhigh = 50.0\n",
    "elif ichoice == 3:\n",
    "    m = 1\n",
    "    n = 15\n",
    "    par = []\n",
    "    par.append(1.80)\n",
    "    par.append(4.05)\n",
    "    par = np.array(par)\n",
    "    jitter = [-2,2,-1,1,0,-2,2,-1,1,0,-2,2,-1,1,0]\n",
    "    jitter = np.array(jitter)\n",
    "    sigma = [.7,6,5,4,3,2,1,.5,1,2,3,4,5,6,.7]\n",
    "    sigma = np.array(sigma)\n",
    "    Title = \"Linear Fit\"\n",
    "    xlow = -4.0\n",
    "    xhigh = 4.0\n",
    "elif ichoice == 4:\n",
    "    m = 1\n",
    "    n = 15\n",
    "    par = []\n",
    "    par.append(1.80)\n",
    "    par.append(4.05)\n",
    "    par = np.array(par)\n",
    "    jitter = [-2,2,-1,1,0,-2,2,-1,1,0,-2,2,-1,1,0]\n",
    "    jitter = np.array(jitter)\n",
    "    sigma = [1,2,3,4,5,6,7,8,7,6,5,4,3,2,1]\n",
    "    sigma = np.array(sigma)\n",
    "    Title = \"Linear Fit\"\n",
    "    xlow = -4.0\n",
    "    xhigh = 4.0\n",
    "elif ichoice == 5:\n",
    "    m = 3\n",
    "    n = 15\n",
    "    par = []\n",
    "    par.append(1.80)\n",
    "    par.append(4.05)\n",
    "    par.append(0.00)\n",
    "    par.append(0.20)\n",
    "    par = np.array(par)\n",
    "    jitter = [-2,2,-1,1,0,-2,2,-1,1,0,-2,2,-1,1,0]\n",
    "    jitter = np.array(jitter)\n",
    "    sigma = [7,6,5,4,3,2,1,.5,1,2,3,4,5,6,7]\n",
    "    sigma = np.array(sigma)\n",
    "    Title = \"Cubic Fit\"\n",
    "    xlow = -4.0\n",
    "    xhigh = 4.0\n",
    "elif ichoice == 6:\n",
    "    m = 2\n",
    "    n = 15\n",
    "    par = []\n",
    "    par.append(1.80)\n",
    "    par.append(4.05)\n",
    "    par.append(5.10)\n",
    "    par=np.array(par)\n",
    "    jitter = [-2,2,-1,1,0,-2,2,-1,1,0,-2,2,-1,1,0]\n",
    "    jitter = np.array(jitter)\n",
    "    sigma = [1,2,3,4,5,6,7,8,7,6,5,4,3,2,1]\n",
    "    sigma = np.array(sigma)\n",
    "    Title = \"Quadratic Fit\"\n",
    "    xlow = -4.0\n",
    "    xhigh = 4.0\n",
    "else:\n",
    "    print(\"Invalid choice!!!!\")"
   ]
  },
  {
   "cell_type": "code",
   "execution_count": 6,
   "metadata": {},
   "outputs": [],
   "source": [
    "x = [0.0 for i in range(n)]\n",
    "y = [0.0 for i in range(n)]\n",
    "ex = [0.0 for i in range(n)]\n",
    "ey = [0.0 for i in range(n)]\n",
    "x = np.array(x)\n",
    "y = np.array(y)\n",
    "ex = np.array(ex)\n",
    "ey = np.array(ey)\n",
    "\n",
    "rootfitstring = \"pol\"+str(m)"
   ]
  },
  {
   "cell_type": "code",
   "execution_count": 7,
   "metadata": {},
   "outputs": [
    {
     "name": "stdout",
     "output_type": "stream",
     "text": [
      "[-4.         -3.42857143 -2.85714286 -2.28571429 -1.71428571 -1.14285714\n",
      " -0.57142857  0.          0.57142857  1.14285714  1.71428571  2.28571429\n",
      "  2.85714286  3.42857143  4.        ] [-16.4        -10.08571429 -10.77142857  -6.45714286  -5.14285714\n",
      "  -4.82857143   1.48571429   0.8          5.11428571   6.42857143\n",
      "   6.74285714  13.05714286  12.37142857  16.68571429  18.        ] [0. 0. 0. 0. 0. 0. 0. 0. 0. 0. 0. 0. 0. 0. 0.] [1. 2. 3. 4. 5. 6. 7. 8. 7. 6. 5. 4. 3. 2. 1.]\n"
     ]
    }
   ],
   "source": [
    "for i in range(0,n):\n",
    "    x[i]=float(xlow+(xhigh-xlow)*i/(n-1))\n",
    "    y[i]=float(generator_function(x[i],par,ichoice)+jitter[i])\n",
    "    ex[i]=float(0.0)\n",
    "    ey[i]=float(sigma[i])\n",
    "    \n",
    "print(x,y,ex,ey)"
   ]
  },
  {
   "cell_type": "code",
   "execution_count": 8,
   "metadata": {},
   "outputs": [],
   "source": [
    "m_params = m + 1\n",
    "a = np.zeros(shape = (m_params,m_params))\n",
    "v = np.zeros(shape = (m_params,1))"
   ]
  },
  {
   "cell_type": "code",
   "execution_count": 9,
   "metadata": {},
   "outputs": [
    {
     "name": "stdout",
     "output_type": "stream",
     "text": [
      "A matrix = \n",
      "[[ 3.0392191   0.        ]\n",
      " [ 0.         40.66566338]]\n",
      "V matrix = \n",
      "[[  4.0959161 ]\n",
      " [171.89633838]]\n",
      "A_inverse = \n",
      "[[0.32903189 0.        ]\n",
      " [0.         0.02459077]]\n",
      "Diagonal Check:\n",
      "[[1. 0.]\n",
      " [0. 1.]]\n",
      "Coefficients:\n",
      "k = 0, coeff = 1.347687 +/- 0.573613\n",
      "k = 1, coeff = 4.227063 +/- 0.156814\n"
     ]
    }
   ],
   "source": [
    "for k in range(0,m_params):\n",
    "    for i in range(0,n):\n",
    "        v[k][0]=v[k][0]+y[i]*math.pow(x[i],k)/math.pow(ey[i],2)\n",
    "    #print (\"v[%d] = %f\" % (k,v[k][0]))\n",
    "    for j in range(0,m_params):\n",
    "        for i in range(0,n):\n",
    "            a[k][j]=a[k][j]+math.pow(x[i],k+j)/math.pow(ey[i],2)\n",
    "        #print (\"a[%d][%d] = %f\" %(k,j,a[k][j]))\n",
    "        \n",
    "print (\"A matrix = \")        \n",
    "print (a)\n",
    "print(\"V matrix = \")\n",
    "print (v)\n",
    "\n",
    "ainv = np.linalg.inv(a)\n",
    "u1 = np.dot(a,ainv)\n",
    "\n",
    "print (\"A_inverse = \")\n",
    "print (ainv)\n",
    "print (\"Diagonal Check:\")\n",
    "print (u1)\n",
    "coeff = ainv*np.matrix(v)\n",
    "print (\"Coefficients:\")\n",
    "for k in range(0,m+1):\n",
    "    print(\"k = %d, coeff = %f +/- %f\" % (k,coeff[k],math.pow(ainv[k][k],0.5)))"
   ]
  },
  {
   "cell_type": "code",
   "execution_count": 10,
   "metadata": {},
   "outputs": [
    {
     "name": "stdout",
     "output_type": "stream",
     "text": [
      "i = 0  y = -16.400000  yfit = -15.560567\n",
      "i = 1  y = -10.085714  yfit = -13.145102\n",
      "i = 2  y = -10.771429  yfit = -10.729637\n",
      "i = 3  y = -6.457143  yfit = -8.314172\n",
      "i = 4  y = -5.142857  yfit = -5.898707\n",
      "i = 5  y = -4.828571  yfit = -3.483243\n",
      "i = 6  y = 1.485714  yfit = -1.067778\n",
      "i = 7  y = 0.800000  yfit = 1.347687\n",
      "i = 8  y = 5.114286  yfit = 3.763152\n",
      "i = 9  y = 6.428571  yfit = 6.178617\n",
      "i = 10  y = 6.742857  yfit = 8.594081\n",
      "i = 11  y = 13.057143  yfit = 11.009546\n",
      "i = 12  y = 12.371429  yfit = 13.425011\n",
      "i = 13  y = 16.685714  yfit = 15.840476\n",
      "i = 14  y = 18.000000  yfit = 18.255941\n",
      "chi2/dof = 4.276787 / 13.000000\n",
      "[[1. 0.]\n",
      " [0. 1.]]\n"
     ]
    }
   ],
   "source": [
    "yfit = 0\n",
    "chi2 = 0\n",
    "\n",
    "for i in range(0,n):\n",
    "    for j in range(0,m+1):\n",
    "        yfit = yfit + coeff[j]*math.pow(x[i],j)\n",
    "    print (\"i = %d  y = %f  yfit = %f\" % (i,y[i],yfit))\n",
    "    chi2 = chi2 + math.pow(((yfit-y[i])/ey[i]),2)\n",
    "    yfit = 0\n",
    "    \n",
    "chi2perdof = chi2/(n-m)\n",
    "print (\"chi2/dof = %f / %f\" % (chi2,(n-m-1)))\n",
    "\n",
    "rho = np.zeros(shape = (m_params,m_params))\n",
    "\n",
    "for k in range(0,m_params):\n",
    "    for j in range(0,m_params):\n",
    "        rho[k][j]=rho[k][j]+ainv[k][j]/math.sqrt(ainv[k][k]*ainv[j][j])    \n",
    "print (rho)"
   ]
  },
  {
   "cell_type": "code",
   "execution_count": null,
   "metadata": {},
   "outputs": [],
   "source": []
  },
  {
   "cell_type": "code",
   "execution_count": 11,
   "metadata": {},
   "outputs": [
    {
     "name": "stdout",
     "output_type": "stream",
     "text": [
      "0 -4.0 [[-15.5605667]] 0.8499907163128954 -14.710575980762014 -16.410557413387806\n",
      "1 -3.428571428571429 [[-13.14510188]] 0.7861926645747299 -12.35890921756321 -13.93129454671267\n",
      "2 -2.857142857142857 [[-10.72963707]] 0.7278549804812415 -10.001782086719725 -11.457492047682209\n",
      "3 -2.2857142857142856 [[-8.31417225]] 0.6763919855814476 -7.637780266682548 -8.990564237845444\n",
      "4 -1.7142857142857144 [[-5.89870744]] 0.6334813671083848 -5.26522607021864 -6.53218880443541\n",
      "5 -1.1428571428571428 [[-3.48324262]] 0.6009579399221155 -2.8822846824679376 -4.084200562312168\n",
      "6 -0.5714285714285716 [[-1.06777781]] 0.5805700021570077 -0.4872078052960749 -1.6483478096100903\n",
      "7 0.0 [[1.34768701]] 0.5736130124229862 1.9213000199068757 0.7740739950609034\n",
      "8 0.5714285714285712 [[3.76315182]] 0.5805700021570077 4.343721824577868 3.1825818202638523\n",
      "9 1.1428571428571432 [[6.17861664]] 0.6009579399221155 6.779574577279949 5.5776586974357185\n",
      "10 1.7142857142857144 [[8.59408145]] 0.6334813671083848 9.22756281940319 7.960600085186421\n",
      "11 2.2857142857142856 [[11.00954627]] 0.6763919855814476 11.685938252813223 10.333154281650327\n",
      "12 2.8571428571428568 [[13.42501108]] 0.7278549804812415 14.152866062649986 12.697156101687503\n",
      "13 3.428571428571429 [[15.8404759]] 0.7861926645747299 16.62666856168045 15.05428323253099\n",
      "14 4.0 [[18.25594071]] 0.8499907163128954 19.105931428355582 17.40594999572979\n"
     ]
    }
   ],
   "source": [
    "xfiterr = array('d')\n",
    "yfiterr = array('d')\n",
    "yfitplus2 = array('d')\n",
    "yfitminus2 = array('d')\n",
    "\n",
    "for i in range(0,n):\n",
    "    xfiterr.append(xlow+(xhigh-xlow)*i/(n-1))\n",
    "    yerror2 = 0.0\n",
    "    yval = 0.0\n",
    "    for k in range(0,m+1):\n",
    "        for j in range(0,m+1):\n",
    "            term = rho[k][j]*math.pow(xfiterr[i],k)*math.pow(ainv[k][k],0.5)*(math.pow(xfiterr[i],j)*math.pow(ainv[j][j],0.5))\n",
    "            #print (k,j,term)\n",
    "            yerror2 = yerror2 + term\n",
    "        yval = yval + coeff[k]*math.pow(xfiterr[i],k)\n",
    "    yfiterr.append(yval)\n",
    "    yfitplus2.append(yval+math.sqrt(yerror2))\n",
    "    yfitminus2.append(yval-math.sqrt(yerror2))\n",
    "    print(i,xfiterr[i],yval,math.sqrt(yerror2),yfitplus2[i],yfitminus2[i])"
   ]
  },
  {
   "cell_type": "code",
   "execution_count": 12,
   "metadata": {
    "scrolled": false
   },
   "outputs": [
    {
     "name": "stdout",
     "output_type": "stream",
     "text": [
      "Welcome to JupyROOT 6.18/00\n",
      "Fit 1: 4.276787 13.000000 \n",
      "\n"
     ]
    },
    {
     "data": {
      "image/png": "[encoded data removed]",
      "text/plain": [
       "<IPython.core.display.Image object>"
      ]
     },
     "metadata": {},
     "output_type": "display_data"
    }
   ],
   "source": [
    "#print (n,x,y)\n",
    "\n",
    "from ROOT import TCanvas, TFile\n",
    "from ROOT import TGraph, TF1, TGraphErrors\n",
    "from ROOT import gStyle\n",
    "gStyle.SetOptFit(1)\n",
    "\n",
    "c1 = TCanvas( 'c1', 'Error Band Fitting Example', 200, 10, 1400, 1000 )\n",
    "c1.SetGridx()\n",
    "c1.SetGridy()\n",
    "c1.GetFrame().SetFillColor( 21 )\n",
    "c1.GetFrame().SetBorderMode(-1 )\n",
    "c1.GetFrame().SetBorderSize( 5 )\n",
    "\n",
    "gr = TGraphErrors(n,x,y,ex,ey)\n",
    "grp = TGraph(n,xfiterr,yfitplus2)\n",
    "grm = TGraph(n,xfiterr,yfitminus2)\n",
    "\n",
    "pfit1 = TF1(\"pfit1\",rootfitstring)\n",
    "\n",
    "gr.SetMarkerStyle(21)\n",
    "gr.SetTitle(Title)\n",
    "gr.GetXaxis().SetTitle(\"X\")\n",
    "gr.GetYaxis().SetTitle(\"Y\")\n",
    "gr.GetXaxis().SetLimits(xlow-1.0,xhigh+6.0) \n",
    "#gr.GetHistogram().SetMaximum(5.0)\n",
    "#gr.GetHistogram().SetMinimum(0.0)\n",
    "gr.Fit(\"pfit1\",\"q\")\n",
    "pfit1chi2 = pfit1.GetChisquare()\n",
    "pfit1ndf = pfit1.GetNDF()\n",
    "pfit1chi2ndf = pfit1chi2/pfit1ndf\n",
    "print(\"Fit 1: %f %f \\n\" % (pfit1chi2,pfit1ndf))\n",
    "gr.Draw(\"AP\")\n",
    "grp.SetLineColor(2)\n",
    "grm.SetLineColor(2)\n",
    "grp.Draw(\"L\")\n",
    "grm.Draw(\"L\")\n",
    "c1.Draw()"
   ]
  },
  {
   "cell_type": "code",
   "execution_count": 15,
   "metadata": {},
   "outputs": [
    {
     "name": "stdout",
     "output_type": "stream",
     "text": [
      "Coefficients (from curve_fit)\n",
      "[1.34768701 4.22706343]\n",
      "Covariance Matrix (from curve_fit)\n",
      "[[ 3.29031887e-01 -2.54835306e-12]\n",
      " [-2.54835306e-12  2.45907706e-02]]\n",
      "Chi^2 / dof = 4.277E+00 / 13\n",
      "Fit Parameter 0: 1.348E+00 +/- 5.736E-01\n",
      "0 1 -2.833E-11\n",
      "Fit Parameter 1: 4.227E+00 +/- 1.568E-01\n"
     ]
    },
    {
     "data": {
      "image/png": "[encoded data removed]",
      "text/plain": [
       "<Figure size 1080x864 with 1 Axes>"
      ]
     },
     "metadata": {
      "needs_background": "light"
     },
     "output_type": "display_data"
    }
   ],
   "source": [
    "import matplotlib.pyplot as plt\n",
    "from scipy.optimize import curve_fit\n",
    "\n",
    "fig = plt.figure(figsize=(15,12))\n",
    "ax1 = fig.add_subplot(111)\n",
    "\n",
    "ax1.set_title(Title)\n",
    "ax1.set_xlabel('X')\n",
    "ax1.set_ylabel('Y')\n",
    "ax1.set_xlim(xlow-1,xhigh+6)\n",
    "ax1.set_yscale(\"linear\",nonposy='clip')\n",
    "ax1.grid(True)\n",
    "\n",
    "ax1.errorbar(x,y,yerr=sigma,fmt='o')\n",
    "\n",
    "init_vals = [0.0 for x in range(0,m_params)]\n",
    "popt, pcov = curve_fit(fitfunction,x,y,p0=init_vals,sigma=sigma,absolute_sigma=True)\n",
    "\n",
    "xi = np.linspace(np.min(x),np.max(x),100)\n",
    "ps = np.random.multivariate_normal(popt,pcov,10000)\n",
    "ysample=np.asarray([fitfunction(xi,*pi) for pi in ps])\n",
    "lower = np.percentile(ysample,16.0,axis=0)\n",
    "upper = np.percentile(ysample,84.0,axis=0)\n",
    "\n",
    "print(\"Coefficients (from curve_fit)\")\n",
    "print (popt)\n",
    "print(\"Covariance Matrix (from curve_fit)\")\n",
    "print (pcov)\n",
    "\n",
    "npoints = n\n",
    "\n",
    "yfit = []\n",
    "chi2=0\n",
    "for i in range (0,npoints):\n",
    "    yfit.append(fitfunction(x[i],*popt))\n",
    "    #chi2 += (y[i]-yfit[i])*(y[i]-yfit[i])\n",
    "    chi2 += (y[i]-yfit[i])*(y[i]-yfit[i])/(sigma[i]*sigma[i])\n",
    "\n",
    "print (\"Chi^2 / dof = %.3E / %d\" % (chi2,npoints-len(init_vals)))\n",
    "\n",
    "param = []\n",
    "rhom = []\n",
    "param.append(float(chi2))\n",
    "param.append(npoints-len(init_vals))\n",
    "for ii in range(0,len(init_vals)):\n",
    "    param.append(float(popt[ii]))\n",
    "    param.append(float(np.sqrt(pcov[ii][ii])))\n",
    "    print(\"Fit Parameter %d: %.3E +/- %.3E\" % (ii,popt[ii],np.sqrt(pcov[ii][ii])))\n",
    "    for jj in range(0,len(init_vals)):\n",
    "        rhom.append(float(pcov[ii][jj])/pow(float(pcov[ii][ii]*pcov[jj][jj]),0.5))\n",
    "        if jj > ii:\n",
    "            print(\"%d %d %.3E\" % (ii,jj,rhom[ii*len(init_vals)+jj]))\n",
    "\n",
    "mylabel = \"Chi^2/dof = %.3E / %d\\n\"\n",
    "for i in range(0,len(init_vals)):\n",
    "    code = \"p\" + str(i)\n",
    "    mylabel = mylabel + code + \" = %.3E +/- %.3E\\n\"\n",
    "\n",
    "ax1.plot(xi, fitfunction(xi, *popt), 'r-', label = mylabel % tuple(param))\n",
    "ax1.plot(xi,lower,'r--')\n",
    "ax1.plot(xi,upper,'r--')\n",
    "\n",
    "leg = ax1.legend()\n",
    "plt.show()"
   ]
  },
  {
   "cell_type": "code",
   "execution_count": 14,
   "metadata": {},
   "outputs": [
    {
     "name": "stdout",
     "output_type": "stream",
     "text": [
      "P201 Error Calculation = 1.347687 +/- 0.573613 \n",
      "Proper Error Calculation = 1.347687 +/- 0.573613 \n"
     ]
    }
   ],
   "source": [
    "index=7\n",
    "yfitvalue = 0.0\n",
    "yerrorvalue = 0.0\n",
    "for k in range(0,m_params):\n",
    "    yfitvalue = yfitvalue + coeff[k]*math.pow(x[index],k)\n",
    "    yerrorvalue = yerrorvalue + math.pow(math.pow(x[index],k)*math.pow(ainv[k][k],0.5),2)\n",
    "yerrorvalue = math.sqrt(yerrorvalue)\n",
    "print (\"P201 Error Calculation = %f +/- %f \" % (yfitvalue,yerrorvalue))\n",
    "print (\"Proper Error Calculation = %f +/- %f \" % ((yfitplus2[index]+yfitminus2[index])/2.0,(yfitplus2[index]-yfitminus2[index])/2.0))\n"
   ]
  },
  {
   "cell_type": "code",
   "execution_count": null,
   "metadata": {},
   "outputs": [],
   "source": []
  },
  {
   "cell_type": "code",
   "execution_count": null,
   "metadata": {},
   "outputs": [],
   "source": []
  },
  {
   "cell_type": "code",
   "execution_count": null,
   "metadata": {},
   "outputs": [],
   "source": []
  },
  {
   "cell_type": "code",
   "execution_count": null,
   "metadata": {},
   "outputs": [],
   "source": []
  }
 ],
 "metadata": {
  "kernelspec": {
   "display_name": "Python 3",
   "language": "python",
   "name": "python3"
  },
  "language_info": {
   "codemirror_mode": {
    "name": "ipython",
    "version": 3
   },
   "file_extension": ".py",
   "mimetype": "text/x-python",
   "name": "python",
   "nbconvert_exporter": "python",
   "pygments_lexer": "ipython3",
   "version": "3.7.3"
  }
 },
 "nbformat": 4,
 "nbformat_minor": 2
}
