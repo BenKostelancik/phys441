{
 "cells": [
  {
   "cell_type": "code",
   "execution_count": 1,
   "metadata": {},
   "outputs": [],
   "source": [
    "from array import array\n",
    "import math\n",
    "import numpy as np\n",
    "from scipy.fftpack import fft\n",
    "import random"
   ]
  },
  {
   "cell_type": "code",
   "execution_count": 2,
   "metadata": {},
   "outputs": [],
   "source": [
    "fs = 0.2\n",
    "phis = math.pi/4.0\n",
    "tseries = 50.0\n",
    "\n",
    "random.seed(1)"
   ]
  },
  {
   "cell_type": "code",
   "execution_count": 3,
   "metadata": {},
   "outputs": [
    {
     "name": "stdout",
     "output_type": "stream",
     "text": [
      "Ratio =  32 27.53819384521041\n",
      "Ratio =  33 43.949369788177734\n",
      "Ratio =  34 83.88467648454674\n",
      "Ratio =  35 71.78522021871113\n",
      "Ratio =  36 80.1427890255821\n",
      "Ratio =  37 110.43371357297778\n",
      "Ratio =  38 84.12647327882915\n",
      "Ratio =  39 69.37488362476402\n",
      "Ratio =  40 95.95415700784064\n",
      "Ratio =  41 83.08233640314843\n",
      "Ratio =  42 122.72565646606125\n",
      "Ratio =  43 42.83623841504759\n",
      "Ratio =  44 107.27774341220422\n",
      "Ratio =  45 92.85750596529606\n",
      "Ratio =  46 113.18721692583051\n",
      "Ratio =  47 66.26968487057376\n",
      "Ratio =  48 109.4982471280871\n",
      "Ratio =  49 113.78869015121175\n",
      "Ratio =  50 138.29917096354131\n",
      "Ratio =  51 62.86258022852656\n",
      "Ratio =  52 142.8604006446192\n",
      "Ratio =  53 134.6453778622516\n",
      "Ratio =  54 154.09399004678892\n",
      "Ratio =  55 173.0534475348011\n",
      "Ratio =  56 164.76249645129136\n",
      "Ratio =  57 143.16243545061218\n",
      "Ratio =  58 192.68099562691717\n",
      "Ratio =  59 243.4521168311844\n",
      "Ratio =  60 214.50510187931545\n",
      "Ratio =  61 181.19499802624486\n",
      "Ratio =  62 212.46452886918127\n",
      "Ratio =  63 213.93717277421234\n",
      "Ratio =  64 195.88009435797545\n",
      "Ratio =  65 213.12120260395926\n",
      "Ratio =  66 75.44337096959804\n",
      "Ratio =  67 227.89829798070815\n",
      "Ratio =  68 88.56050151471601\n",
      "Ratio =  69 247.94568365734145\n",
      "Ratio =  70 282.1569202838693\n",
      "Ratio =  71 259.7707859498372\n",
      "Ratio =  72 299.67153547821437\n",
      "Ratio =  73 104.91358433737341\n",
      "Ratio =  74 111.55887286494792\n",
      "Ratio =  75 217.16853909788432\n",
      "Ratio =  76 274.5711728326329\n",
      "Ratio =  77 299.13017539004255\n",
      "Ratio =  78 334.05086458401837\n",
      "Ratio =  79 300.05189592669564\n"
     ]
    }
   ],
   "source": [
    "#N_max = 513  #power of 2 plus 1\n",
    "#N_start = 32 #power of 2\n",
    "#N_max = 513  #power of 2 plus 1\n",
    "#N_start = 460 #power of 2\n",
    "N_max = 80  #power of 2 plus 1\n",
    "N_start = 32 #power of 2\n",
    "btime = np.zeros(N_max)\n",
    "ptime = np.zeros(N_max)\n",
    "time_ratio = np.zeros(N_max)\n",
    "Npoints = np.zeros(N_max)\n",
    "\n",
    "for N in range(N_start,N_max):\n",
    "    \n",
    "    Npoints[N] = N\n",
    "\n",
    "    tau = tseries/N\n",
    "    t = np.zeros(N)\n",
    "    y = np.zeros(N)\n",
    "    f = np.zeros(N)\n",
    "\n",
    "    ytReal = np.zeros(N)\n",
    "    ytImag = np.zeros(N)\n",
    "\n",
    "    yfftReal = np.zeros(N)\n",
    "    yfftImag = np.zeros(N)\n",
    "\n",
    "    power = np.zeros(N)\n",
    "    powerfft = np.zeros(N)\n",
    "    \n",
    "    for i in range(N):\n",
    "        t[i]=i*tau\n",
    "        y[i]=(math.sin(2.0*math.pi*t[i]*fs+phis))\n",
    "        f[i]=i/(N*tau)\n",
    "    \n",
    "    from timeit import default_timer as timer\n",
    "\n",
    "    start = timer()\n",
    "\n",
    "    twopiN=-2.0*math.pi/N\n",
    "    epsilon = 0.001\n",
    "    for k in range(N):\n",
    "        ytReal[k]=epsilon\n",
    "        ytImag[k]=epsilon\n",
    "        for j in range(N):\n",
    "            ytReal[k] = ytReal[k] + 1.0/N*y[j]*math.cos(twopiN*j*k)\n",
    "            ytImag[k] = ytImag[k] + 1.0/N*y[j]*math.sin(twopiN*j*k)   \n",
    "        power[k]=2*(ytReal[k]**2+ytImag[k]**2)\n",
    "    \n",
    "    end = timer()\n",
    "    btime[N] = end-start\n",
    "    #print (\"Brash: \",btime[N])\n",
    "        \n",
    "    start = timer()\n",
    "    yfft = fft(y)\n",
    "    yfftReal = 1.0/N*yfft.real\n",
    "    yfftImag = 1.0/N*yfft.imag\n",
    "    powerfft = 2.0/(N*N)*abs(yfft)**2\n",
    "    end = timer()\n",
    "    ptime[N]=end-start\n",
    "    time_ratio[N] = btime[N]/ptime[N]\n",
    "    \n",
    "    #print (\"Python: \",ptime[N])\n",
    "    print(\"Ratio = \",N,btime[N]/ptime[N])"
   ]
  },
  {
   "cell_type": "code",
   "execution_count": 4,
   "metadata": {},
   "outputs": [
    {
     "name": "stdout",
     "output_type": "stream",
     "text": [
      "Welcome to JupyROOT 6.18/00\n"
     ]
    },
    {
     "data": {
      "image/png": "[encoded data removed]",
      "text/plain": [
       "<IPython.core.display.Image object>"
      ]
     },
     "metadata": {},
     "output_type": "display_data"
    }
   ],
   "source": [
    "from ROOT import TCanvas, TFile\n",
    "from ROOT import TGraph, TF1\n",
    "from ROOT import gStyle, gPad\n",
    "\n",
    "gStyle.SetOptFit(1)\n",
    "\n",
    "c1 = TCanvas( 'c1', 'Fourier Transform', 200, 10, 1200, 900 )\n",
    "c1.SetGridx()\n",
    "c1.SetGridy()\n",
    "c1.GetFrame().SetFillColor( 21 )\n",
    "c1.GetFrame().SetBorderMode(-1 )\n",
    "c1.GetFrame().SetBorderSize( 5 )\n",
    "c1.Divide(1,3)\n",
    "\n",
    "c1.cd(1)\n",
    "gPad.SetLogy()\n",
    "gr = TGraph(N_max-N_start,Npoints[N_start:N_max],btime[N_start:N_max])\n",
    "gr2 = TGraph(N_max-N_start,Npoints[N_start:N_max],ptime[N_start:N_max])\n",
    "gr3 = TGraph(N_max-N_start,Npoints[N_start:N_max],time_ratio[N_start:N_max])\n",
    "gr.SetMarkerStyle(22)\n",
    "gr2.SetMarkerStyle(23)\n",
    "gr3.SetMarkerStyle(24)\n",
    "gr.SetLineColor(2)\n",
    "gr2.SetLineColor(3)\n",
    "gr3.SetLineColor(4)\n",
    "gr.SetTitle(\"Execution Times\")\n",
    "gr.GetXaxis().SetTitle(\"N\")\n",
    "gr.GetYaxis().SetTitle(\"Time\")\n",
    "gr2.SetTitle(\"Execution Times\")\n",
    "gr2.GetXaxis().SetTitle(\"N\")\n",
    "gr2.GetYaxis().SetTitle(\"Time\")\n",
    "gr3.SetTitle(\"Execution Times\")\n",
    "gr3.GetXaxis().SetTitle(\"N\")\n",
    "gr3.GetYaxis().SetTitle(\"Time\")\n",
    "gr.Draw(\"AL\")\n",
    "c1.cd(2)\n",
    "gPad.SetLogy()\n",
    "gr2.Draw(\"AL\")\n",
    "c1.cd(3)\n",
    "gPad.SetLogy()\n",
    "gr3.Draw(\"AL\")\n",
    "\n",
    "c1.Draw()"
   ]
  },
  {
   "cell_type": "code",
   "execution_count": 5,
   "metadata": {},
   "outputs": [],
   "source": [
    "lowlist = [461,463,467,479,487,491,499,503,509]\n",
    "highlist = [464,468,480,484,490,504,510,512]"
   ]
  },
  {
   "cell_type": "code",
   "execution_count": 6,
   "metadata": {},
   "outputs": [],
   "source": [
    "def get_factors(x):\n",
    "    # This function takes a number and prints the factors\n",
    "\n",
    "    factors = []\n",
    "    for i in range(1, x + 1):\n",
    "        if x % i == 0:\n",
    "            factors.append(i)\n",
    "            \n",
    "    return factors\n",
    "    "
   ]
  },
  {
   "cell_type": "code",
   "execution_count": 7,
   "metadata": {},
   "outputs": [
    {
     "name": "stdout",
     "output_type": "stream",
     "text": [
      "461 [1, 461]\n",
      "463 [1, 463]\n",
      "467 [1, 467]\n",
      "479 [1, 479]\n",
      "487 [1, 487]\n",
      "491 [1, 491]\n",
      "499 [1, 499]\n",
      "503 [1, 503]\n",
      "509 [1, 509]\n"
     ]
    }
   ],
   "source": [
    "for x in lowlist:\n",
    "    print (x,get_factors(x))"
   ]
  },
  {
   "cell_type": "code",
   "execution_count": 8,
   "metadata": {},
   "outputs": [
    {
     "name": "stdout",
     "output_type": "stream",
     "text": [
      "464 [1, 2, 4, 8, 16, 29, 58, 116, 232, 464]\n",
      "468 [1, 2, 3, 4, 6, 9, 12, 13, 18, 26, 36, 39, 52, 78, 117, 156, 234, 468]\n",
      "480 [1, 2, 3, 4, 5, 6, 8, 10, 12, 15, 16, 20, 24, 30, 32, 40, 48, 60, 80, 96, 120, 160, 240, 480]\n",
      "484 [1, 2, 4, 11, 22, 44, 121, 242, 484]\n",
      "490 [1, 2, 5, 7, 10, 14, 35, 49, 70, 98, 245, 490]\n",
      "504 [1, 2, 3, 4, 6, 7, 8, 9, 12, 14, 18, 21, 24, 28, 36, 42, 56, 63, 72, 84, 126, 168, 252, 504]\n",
      "510 [1, 2, 3, 5, 6, 10, 15, 17, 30, 34, 51, 85, 102, 170, 255, 510]\n",
      "512 [1, 2, 4, 8, 16, 32, 64, 128, 256, 512]\n"
     ]
    }
   ],
   "source": [
    "for x in highlist:\n",
    "    print (x,get_factors(x))"
   ]
  },
  {
   "cell_type": "code",
   "execution_count": null,
   "metadata": {},
   "outputs": [],
   "source": []
  }
 ],
 "metadata": {
  "kernelspec": {
   "display_name": "Python 3",
   "language": "python",
   "name": "python3"
  },
  "language_info": {
   "codemirror_mode": {
    "name": "ipython",
    "version": 3
   },
   "file_extension": ".py",
   "mimetype": "text/x-python",
   "name": "python",
   "nbconvert_exporter": "python",
   "pygments_lexer": "ipython3",
   "version": "3.7.3"
  }
 },
 "nbformat": 4,
 "nbformat_minor": 2
}
