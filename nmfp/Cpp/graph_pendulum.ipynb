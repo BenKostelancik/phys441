{
 "cells": [
  {
   "cell_type": "code",
   "execution_count": 1,
   "metadata": {},
   "outputs": [
    {
     "name": "stdout",
     "output_type": "stream",
     "text": [
      "Welcome to JupyROOT 6.18/00\n"
     ]
    }
   ],
   "source": [
    "from ROOT import TCanvas\n",
    "from ROOT import TGraph, TGraphErrors\n",
    "from ROOT import gStyle\n",
    "from array import array\n",
    "import numpy as np\n",
    "import math\n",
    "\n",
    "xcanvas = 1000\n",
    "ycanvas = 800\n",
    "\n",
    "c1 = TCanvas( 'c1', 'Pendulum Amplitude vs. Time', 0, 0, xcanvas, ycanvas )\n",
    "c1.SetGridx()\n",
    "c1.SetGridy()\n",
    "c1.GetFrame().SetFillColor( 21 )\n",
    "c1.GetFrame().SetBorderMode(-1 )\n",
    "c1.GetFrame().SetBorderSize( 5 )\n",
    "c2 = TCanvas( 'c2', 'Pendulum Period vs. Time', 0, 0, xcanvas, ycanvas )\n",
    "c2.SetGridx()\n",
    "c2.SetGridy()\n",
    "c2.GetFrame().SetFillColor( 21 )\n",
    "c2.GetFrame().SetBorderMode(-1 )\n",
    "c2.GetFrame().SetBorderSize( 5 )"
   ]
  },
  {
   "cell_type": "code",
   "execution_count": 2,
   "metadata": {},
   "outputs": [],
   "source": [
    "# Initial Conditions\n",
    "length = 9.807\n",
    "method = 2 # 1 = Euler, 2 = Verlet\n",
    "theta0 = 45.0\n",
    "theta = theta0*math.pi/180.0\n",
    "omega = 0.0\n",
    "\n",
    "# Other constants\n",
    "gravity = 9.807 # gravitional acceleration\n",
    "g_over_L = gravity/length\n",
    "time = 0.0\n",
    "irev = 0.0\n",
    "tau = 0.001 \n",
    "\n",
    "Pi = math.pi"
   ]
  },
  {
   "cell_type": "code",
   "execution_count": 3,
   "metadata": {},
   "outputs": [
    {
     "name": "stdout",
     "output_type": "stream",
     "text": [
      "-0.7071067811865475 0.7853981633974483 0.7853978098440577\n"
     ]
    }
   ],
   "source": [
    "accel = -g_over_L*math.sin(theta)\n",
    "theta_old = theta - omega*tau + 0.5*tau*tau*accel\n",
    "print (accel, theta, theta_old)"
   ]
  },
  {
   "cell_type": "code",
   "execution_count": 4,
   "metadata": {},
   "outputs": [],
   "source": [
    "tau = 0.0001 # timestep in seconds\n",
    "nStep = 1000000 # number of steps\n",
    "\n",
    "t_plot = array('d')\n",
    "th_plot = array('d')\n",
    "period = array('d')\n",
    "trev = array('d')"
   ]
  },
  {
   "cell_type": "code",
   "execution_count": 5,
   "metadata": {},
   "outputs": [
    {
     "name": "stdout",
     "output_type": "stream",
     "text": [
      "Turning point at time t = 1.638600\n",
      "Turning point at time t = 4.905800\n",
      "Turning point at time t = 8.172900\n",
      "Turning point at time t = 11.440100\n",
      "Turning point at time t = 14.707300\n",
      "Turning point at time t = 17.974500\n",
      "Turning point at time t = 21.241600\n",
      "Turning point at time t = 24.508800\n",
      "Turning point at time t = 27.776000\n",
      "Turning point at time t = 31.043200\n",
      "Turning point at time t = 34.310300\n",
      "Turning point at time t = 37.577500\n",
      "Turning point at time t = 40.844700\n",
      "Turning point at time t = 44.111900\n",
      "Turning point at time t = 47.379000\n",
      "Turning point at time t = 50.646200\n",
      "Turning point at time t = 53.913400\n",
      "Turning point at time t = 57.180600\n",
      "Turning point at time t = 60.447700\n",
      "Turning point at time t = 63.714900\n",
      "Turning point at time t = 66.982100\n",
      "Turning point at time t = 70.249300\n",
      "Turning point at time t = 73.516400\n",
      "Turning point at time t = 76.783600\n",
      "Turning point at time t = 80.050800\n",
      "Turning point at time t = 83.318000\n",
      "Turning point at time t = 86.585200\n",
      "Turning point at time t = 89.852300\n",
      "Turning point at time t = 93.119500\n",
      "Turning point at time t = 96.386700\n",
      "Turning point at time t = 99.653900\n"
     ]
    }
   ],
   "source": [
    "for iStep in range(1,nStep+1):\n",
    "    t_plot.append(time)\n",
    "    th_plot.append(theta*180/Pi)\n",
    "    time = time + tau\n",
    "    accel = -g_over_L*math.sin(theta)\n",
    "    \n",
    "    if (method == 1):\n",
    "        theta_old = theta\n",
    "        theta = theta + tau*omega\n",
    "        omega = omega + tau*accel\n",
    "    else:\n",
    "        theta_new = 2*theta - theta_old + tau*tau*accel\n",
    "        theta_old = theta\n",
    "        theta = theta_new\n",
    "    \n",
    "    if (theta*theta_old < 0):\n",
    "        print (\"Turning point at time t = %f\" % time)\n",
    "        if (irev == 0):\n",
    "            time_old = time\n",
    "        else:\n",
    "            period.append(2.0*(time - time_old))\n",
    "            trev.append(time)\n",
    "            time_old = time\n",
    "        irev = irev + 1"
   ]
  },
  {
   "cell_type": "code",
   "execution_count": 6,
   "metadata": {},
   "outputs": [
    {
     "name": "stdout",
     "output_type": "stream",
     "text": [
      "30\n"
     ]
    }
   ],
   "source": [
    "nPeriod = int(irev - 1)\n",
    "print (nPeriod)"
   ]
  },
  {
   "cell_type": "code",
   "execution_count": 7,
   "metadata": {},
   "outputs": [],
   "source": [
    "gr = TGraph(nStep,t_plot,th_plot)\n",
    "grr = TGraph(nPeriod,trev,period)"
   ]
  },
  {
   "cell_type": "code",
   "execution_count": 8,
   "metadata": {},
   "outputs": [
    {
     "data": {
      "image/png": "[encoded data removed]",
      "text/plain": [
       "<IPython.core.display.Image object>"
      ]
     },
     "metadata": {},
     "output_type": "display_data"
    }
   ],
   "source": [
    "gr.SetMarkerColor(4)\n",
    "grr.SetMarkerColor(4)\n",
    "gr.SetMarkerStyle(21)\n",
    "grr.SetMarkerStyle(22)\n",
    "gr.SetTitle(\"Pendulum Amplitude vs. Time\")\n",
    "gr.GetXaxis().SetTitle(\"Time\")\n",
    "gr.GetYaxis().SetTitle(\"Amplitude\")\n",
    "grr.SetTitle(\"Pendulum Period vs. Time\")\n",
    "grr.GetXaxis().SetTitle(\"Time\")\n",
    "grr.GetYaxis().SetTitle(\"Period\")\n",
    "\n",
    "c1.cd()\n",
    "gr.Draw(\"AP\")\n",
    "c1.Draw()"
   ]
  },
  {
   "cell_type": "code",
   "execution_count": 9,
   "metadata": {},
   "outputs": [
    {
     "data": {
      "image/png": "[encoded data removed]",
      "text/plain": [
       "<IPython.core.display.Image object>"
      ]
     },
     "metadata": {},
     "output_type": "display_data"
    }
   ],
   "source": [
    "c2.cd()\n",
    "grr.Draw(\"AP\")\n",
    "c2.Draw()"
   ]
  },
  {
   "cell_type": "code",
   "execution_count": 10,
   "metadata": {},
   "outputs": [
    {
     "name": "stdout",
     "output_type": "stream",
     "text": [
      "Average Period = 6.534353 +/- 0.000016\n"
     ]
    }
   ],
   "source": [
    "AvePeriod = 0.0\n",
    "ErrorBar = 0.0\n",
    "for i in range(1,nPeriod+1):\n",
    "    AvePeriod = AvePeriod + period[i-1]\n",
    "AvePeriod = AvePeriod/nPeriod\n",
    "for i in range(1,nPeriod+1):\n",
    "    ErrorBar = ErrorBar + (period[i-1]-AvePeriod)*(period[i-1]-AvePeriod)\n",
    "ErrorBar = math.sqrt(ErrorBar/(nPeriod*(nPeriod-1)))\n",
    "print(\"Average Period = %f +/- %f\" % (AvePeriod,ErrorBar))\n",
    "    "
   ]
  },
  {
   "cell_type": "code",
   "execution_count": 11,
   "metadata": {},
   "outputs": [],
   "source": [
    "t0=theta0*Pi/180.0\n",
    "t_infinite = 2.0*Pi/math.sqrt(g_over_L)*(1.0+t0*t0/16.0+math.pow(t0,4)*11.0/3072.0+math.pow(t0,6)*173.0/737280.0)\n",
    "error_infinite = 2.0*Pi/math.sqrt(g_over_L)*math.pow(t0,8)*22931.0/1321205760.0"
   ]
  },
  {
   "cell_type": "code",
   "execution_count": 12,
   "metadata": {},
   "outputs": [
    {
     "name": "stdout",
     "output_type": "stream",
     "text": [
      "Infinite series prediction = 6.534329 +/- 0.000016\n"
     ]
    }
   ],
   "source": [
    "print(\"Infinite series prediction = %f +/- %f\" % (t_infinite,error_infinite))"
   ]
  },
  {
   "cell_type": "code",
   "execution_count": 13,
   "metadata": {},
   "outputs": [
    {
     "data": {
      "image/png": "[encoded data removed]",
      "text/plain": [
       "<IPython.core.display.Image object>"
      ]
     },
     "metadata": {},
     "output_type": "display_data"
    }
   ],
   "source": [
    "x = array('d')\n",
    "y = array('d')\n",
    "ex = array('d')\n",
    "ey = array('d')\n",
    "npoints = 2\n",
    "x.append(1)\n",
    "x.append(2)\n",
    "ex.append(0)\n",
    "ex.append(0)\n",
    "y.append(AvePeriod)\n",
    "y.append(t_infinite)\n",
    "ey.append(ErrorBar)\n",
    "ey.append(error_infinite)\n",
    "\n",
    "c3 = TCanvas(\"c3\",\"c3\",100,0,800,600)\n",
    "gr3 = TGraphErrors(npoints,x,y,ex,ey)\n",
    "gr3.SetMarkerStyle(21)\n",
    "gr3.SetTitle(\"Theory vs. Simulation\")\n",
    "gr3.GetXaxis().SetTitle(\"1=Sim,2=Theory\")\n",
    "gr3.GetYaxis().SetTitle(\"Average Period (s)\")\n",
    "gr3.Draw(\"AP\")\n",
    "c3.Draw()"
   ]
  },
  {
   "cell_type": "code",
   "execution_count": null,
   "metadata": {},
   "outputs": [],
   "source": []
  }
 ],
 "metadata": {
  "kernelspec": {
   "display_name": "Python 3",
   "language": "python",
   "name": "python3"
  },
  "language_info": {
   "codemirror_mode": {
    "name": "ipython",
    "version": 3
   },
   "file_extension": ".py",
   "mimetype": "text/x-python",
   "name": "python",
   "nbconvert_exporter": "python",
   "pygments_lexer": "ipython3",
   "version": "3.7.3"
  }
 },
 "nbformat": 4,
 "nbformat_minor": 2
}
