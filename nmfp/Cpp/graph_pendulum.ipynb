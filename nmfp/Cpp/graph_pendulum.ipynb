{
 "cells": [
  {
   "cell_type": "code",
   "execution_count": 1,
   "metadata": {},
   "outputs": [],
   "source": [
    "from array import array\n",
    "import P201_Functions as p201\n",
    "import numpy as np\n",
    "import math\n",
    "\n",
    "p201.set_dark_mode(True)\n"
   ]
  },
  {
   "cell_type": "code",
   "execution_count": 2,
   "metadata": {},
   "outputs": [],
   "source": [
    "# Initial Conditions\n",
    "length = 9.799 # length of pendulum in meters\n",
    "method = 2 # 1 = Euler, 2 = Verlet\n",
    "theta0 = -7.82*np.pi/180.0 # initial angle in radians\n",
    "omega = 0\n",
    "\n",
    "theta = theta0\n",
    "\n",
    "# Other constants\n",
    "gravity = 9.799 # gravitional acceleration in m/s^2\n",
    "a = 0.0 # forward acceleration of van\n",
    "g_over_L = gravity/length\n",
    "a_over_L = a/length\n",
    "\n",
    "tau = 0.00001 # timestep in seconds\n",
    "nStep = int(1/tau*102.27)\n",
    "\n",
    "Pi = math.pi"
   ]
  },
  {
   "cell_type": "code",
   "execution_count": 3,
   "metadata": {},
   "outputs": [
    {
     "name": "stdout",
     "output_type": "stream",
     "text": [
      "0.1360614003964808 -0.13648474750595657 -0.1364847474991535\n"
     ]
    }
   ],
   "source": [
    "#accel = -g_over_L*math.sin(theta) #simple pendulum\n",
    "accel = -g_over_L*math.sin(theta) - a_over_L*math.cos(theta) #pendulum in acc. van\n",
    "theta_old = theta - omega*tau + 0.5*tau*tau*accel\n",
    "print (accel, theta, theta_old)"
   ]
  },
  {
   "cell_type": "code",
   "execution_count": 4,
   "metadata": {},
   "outputs": [],
   "source": [
    "t_plot = array('d')\n",
    "th_plot = array('d')\n",
    "th_plot_corrected = array('d')\n",
    "period = array('d')\n",
    "trev = array('d')\n",
    "period_corrected = array('d')\n",
    "trev_corrected = array('d')\n"
   ]
  },
  {
   "cell_type": "code",
   "execution_count": 5,
   "metadata": {},
   "outputs": [
    {
     "name": "stdout",
     "output_type": "stream",
     "text": [
      "Zero Crossing at time t = 1.572630\n",
      "Zero Crossing at time t = 4.717890\n",
      "Zero Crossing at time t = 7.863140\n",
      "Zero Crossing at time t = 11.008390\n",
      "Zero Crossing at time t = 14.153650\n",
      "Zero Crossing at time t = 17.298900\n",
      "Zero Crossing at time t = 20.444160\n",
      "Zero Crossing at time t = 23.589410\n",
      "Zero Crossing at time t = 26.734670\n",
      "Zero Crossing at time t = 29.879920\n",
      "Zero Crossing at time t = 33.025170\n",
      "Zero Crossing at time t = 36.170430\n",
      "Zero Crossing at time t = 39.315680\n",
      "Zero Crossing at time t = 42.460940\n",
      "Zero Crossing at time t = 45.606190\n",
      "Zero Crossing at time t = 48.751440\n",
      "Zero Crossing at time t = 51.896700\n",
      "Zero Crossing at time t = 55.041950\n",
      "Zero Crossing at time t = 58.187210\n",
      "Zero Crossing at time t = 61.332460\n",
      "Zero Crossing at time t = 64.477720\n",
      "Zero Crossing at time t = 67.622970\n",
      "Zero Crossing at time t = 70.768220\n",
      "Zero Crossing at time t = 73.913480\n",
      "Zero Crossing at time t = 77.058730\n",
      "Zero Crossing at time t = 80.203990\n",
      "Zero Crossing at time t = 83.349240\n",
      "Zero Crossing at time t = 86.494490\n",
      "Zero Crossing at time t = 89.639750\n",
      "Zero Crossing at time t = 92.785000\n",
      "Zero Crossing at time t = 95.930260\n",
      "Zero Crossing at time t = 99.075510\n",
      "Zero Crossing at time t = 102.220770\n",
      "Zero Crossing at time t = 1.562840\n",
      "Zero Crossing at time t = 4.727660\n",
      "Zero Crossing at time t = 7.853340\n",
      "Zero Crossing at time t = 11.018170\n",
      "Zero Crossing at time t = 14.143850\n",
      "Zero Crossing at time t = 17.308680\n",
      "Zero Crossing at time t = 20.434360\n",
      "Zero Crossing at time t = 23.599190\n",
      "Zero Crossing at time t = 26.724870\n",
      "Zero Crossing at time t = 29.889700\n",
      "Zero Crossing at time t = 33.015380\n",
      "Zero Crossing at time t = 36.180200\n",
      "Zero Crossing at time t = 39.305890\n",
      "Zero Crossing at time t = 42.470710\n",
      "Zero Crossing at time t = 45.596390\n",
      "Zero Crossing at time t = 48.761220\n",
      "Zero Crossing at time t = 51.886900\n",
      "Zero Crossing at time t = 55.051730\n",
      "Zero Crossing at time t = 58.177410\n",
      "Zero Crossing at time t = 61.342240\n",
      "Zero Crossing at time t = 64.467920\n",
      "Zero Crossing at time t = 67.632750\n",
      "Zero Crossing at time t = 70.758430\n",
      "Zero Crossing at time t = 73.923250\n",
      "Zero Crossing at time t = 77.048940\n",
      "Zero Crossing at time t = 80.213760\n",
      "Zero Crossing at time t = 83.339440\n",
      "Zero Crossing at time t = 86.504270\n",
      "Zero Crossing at time t = 89.629950\n",
      "Zero Crossing at time t = 92.794780\n",
      "Zero Crossing at time t = 95.920460\n",
      "Zero Crossing at time t = 99.085290\n",
      "Zero Crossing at time t = 102.210970\n"
     ]
    }
   ],
   "source": [
    "\n",
    "time = 0.0\n",
    "irev = 0.0\n",
    "dsum = 0.0\n",
    "\n",
    "for iStep in range(1,nStep+1):\n",
    "    t_plot.append(time)\n",
    "    th_plot.append(theta*180/Pi)\n",
    "    dsum += theta*180/Pi\n",
    "    time = time + tau\n",
    "    #accel = -g_over_L*math.sin(theta) #simple pendulum\n",
    "    accel = -g_over_L*math.sin(theta) - a_over_L*math.cos(theta) #pendulum in acc. van\n",
    "    \n",
    "    if (method == 1):\n",
    "        theta_old = theta\n",
    "        theta = theta + tau*omega\n",
    "        omega = omega + tau*accel\n",
    "    else:\n",
    "        theta_new = 2*theta - theta_old + tau*tau*accel\n",
    "        theta_old = theta\n",
    "        theta = theta_new\n",
    "    \n",
    "    if (theta*theta_old < 0):\n",
    "        print (\"Zero Crossing at time t = %f\" % time)\n",
    "        if (irev == 0):\n",
    "            time_old = time\n",
    "        else:\n",
    "            period.append(2*(time - time_old))\n",
    "            trev.append(time)\n",
    "            time_old = time\n",
    "        irev = irev + 1\n",
    "\n",
    "theta_avg = dsum/nStep\n",
    "        \n",
    "for iStep in range(1,nStep+1):\n",
    "    th_plot_corrected.append(th_plot[iStep-1]-theta_avg)\n",
    "\n",
    "time = 0.0\n",
    "irev = 0.0\n",
    "dsum = 0.0\n",
    "time_old = 0.0\n",
    "\n",
    "for iStep in range(1,nStep-1):\n",
    "    time = time + tau\n",
    "    if (th_plot_corrected[iStep+1]*th_plot_corrected[iStep] < 0):\n",
    "        print (\"Zero Crossing at time t = %f\" % time)\n",
    "        if (irev==0):\n",
    "            time_old = time\n",
    "        else:\n",
    "            period_corrected.append(2*(time - time_old))\n",
    "            trev_corrected.append(time)\n",
    "            time_old = time\n",
    "        irev = irev + 1"
   ]
  },
  {
   "cell_type": "code",
   "execution_count": 6,
   "metadata": {},
   "outputs": [
    {
     "name": "stdout",
     "output_type": "stream",
     "text": [
      "Equilibrium Angle =  -0.0764711\n",
      "Equilibrium Angle Theory =  -0.0000000\n",
      "Number of periods =  32\n"
     ]
    }
   ],
   "source": [
    "theta_avg_theory = np.arctan(-a/gravity)*180.0/np.pi\n",
    "nPeriod = int(irev - 1)\n",
    "print (\"Equilibrium Angle = %11.7f\" % theta_avg)\n",
    "print (\"Equilibrium Angle Theory = %11.7f\" % theta_avg_theory)\n",
    "print (\"Number of periods = \",nPeriod)"
   ]
  },
  {
   "cell_type": "code",
   "execution_count": 7,
   "metadata": {},
   "outputs": [
    {
     "name": "stdout",
     "output_type": "stream",
     "text": [
      "Welcome to JupyROOT 6.24/06\n"
     ]
    }
   ],
   "source": [
    "from ROOT import TCanvas\n",
    "from ROOT import TGraph, TGraphErrors\n",
    "from ROOT import gStyle\n",
    "\n",
    "xcanvas = 1000\n",
    "ycanvas = 800\n",
    "\n",
    "c1 = TCanvas( 'c1', 'Pendulum Amplitude vs. Time', 0, 0, xcanvas, ycanvas )\n",
    "c1.SetGridx()\n",
    "c1.SetGridy()\n",
    "c1.GetFrame().SetFillColor( 21 )\n",
    "c1.GetFrame().SetBorderMode(-1 )\n",
    "c1.GetFrame().SetBorderSize( 5 )\n",
    "\n",
    "c2 = TCanvas( 'c2', 'Pendulum Period vs. Time', 0, 0, xcanvas, ycanvas )\n",
    "c2.SetGridx()\n",
    "c2.SetGridy()\n",
    "c2.GetFrame().SetFillColor( 21 )\n",
    "c2.GetFrame().SetBorderMode(-1 )\n",
    "c2.GetFrame().SetBorderSize( 5 )\n",
    "\n",
    "gr = TGraph(nStep,t_plot,th_plot_corrected)\n",
    "grr = TGraph(nPeriod,trev_corrected,period_corrected)"
   ]
  },
  {
   "cell_type": "code",
   "execution_count": 8,
   "metadata": {},
   "outputs": [
    {
     "data": {
      "image/png": "[encoded data removed]",
      "text/plain": [
       "<IPython.core.display.Image object>"
      ]
     },
     "metadata": {},
     "output_type": "display_data"
    }
   ],
   "source": [
    "gr.SetMarkerColor(4)\n",
    "grr.SetMarkerColor(4)\n",
    "gr.SetMarkerStyle(21)\n",
    "grr.SetMarkerStyle(22)\n",
    "gr.SetTitle(\"Pendulum Amplitude vs. Time\")\n",
    "gr.GetXaxis().SetTitle(\"Time\")\n",
    "gr.GetYaxis().SetTitle(\"Amplitude\")\n",
    "grr.SetTitle(\"Pendulum Period vs. Time\")\n",
    "grr.GetXaxis().SetTitle(\"Time\")\n",
    "grr.GetYaxis().SetTitle(\"Period\")\n",
    "\n",
    "c1.cd()\n",
    "gr.Draw(\"AP\")\n",
    "c1.Draw()"
   ]
  },
  {
   "cell_type": "code",
   "execution_count": 9,
   "metadata": {},
   "outputs": [
    {
     "data": {
      "image/png": "[encoded data removed]",
      "text/plain": [
       "<IPython.core.display.Image object>"
      ]
     },
     "metadata": {},
     "output_type": "display_data"
    }
   ],
   "source": [
    "c2.cd()\n",
    "grr.Draw(\"AP\")\n",
    "c2.Draw()"
   ]
  },
  {
   "cell_type": "code",
   "execution_count": 10,
   "metadata": {},
   "outputs": [
    {
     "name": "stdout",
     "output_type": "stream",
     "text": [
      "Average Period = 6.290508 +/- 0.007031\n"
     ]
    }
   ],
   "source": [
    "AvePeriod = 0.0\n",
    "ErrorBar = 0.0\n",
    "for i in range(1,nPeriod+1):\n",
    "    AvePeriod = AvePeriod + period_corrected[i-1]\n",
    "AvePeriod = AvePeriod/nPeriod\n",
    "for i in range(1,nPeriod+1):\n",
    "    ErrorBar = ErrorBar + (period_corrected[i-1]-AvePeriod)*(period_corrected[i-1]-AvePeriod)\n",
    "ErrorBar = math.sqrt(ErrorBar/(nPeriod*(nPeriod-1)))\n",
    "print(\"Average Period = %f +/- %f\" % (AvePeriod,ErrorBar))\n",
    "    "
   ]
  },
  {
   "cell_type": "code",
   "execution_count": 11,
   "metadata": {},
   "outputs": [],
   "source": [
    "t0=theta0\n",
    "#t_small_angle = 2.0*Pi/math.sqrt(g_over_L)\n",
    "t_small_angle = 2.0*Pi/math.sqrt(math.sqrt(gravity**2+a**2)/length)\n",
    "#t_infinite = 2.0*Pi/math.sqrt(g_over_L)*(1.0+t0*t0/16.0+math.pow(t0,4)*11.0/3072.0+math.pow(t0,6)*173.0/737280.0)\n",
    "t_infinite = t_small_angle*(1.0+t0*t0/16.0+math.pow(t0,4)*11.0/3072.0+math.pow(t0,6)*173.0/737280.0)\n",
    "#error_infinite = 2.0*Pi/math.sqrt(g_over_L)*math.pow(t0,8)*22931.0/1321205760.0\n",
    "error_infinite = t_small_angle*math.pow(t0,8)*22931.0/1321205760.0"
   ]
  },
  {
   "cell_type": "code",
   "execution_count": 12,
   "metadata": {},
   "outputs": [
    {
     "name": "stdout",
     "output_type": "stream",
     "text": [
      "Small Angle prediction = 6.283185\n",
      "Infinite series prediction = 6.290508 +/- 0.000000\n"
     ]
    }
   ],
   "source": [
    "print(\"Small Angle prediction = %f\" % (t_small_angle))\n",
    "print(\"Infinite series prediction = %f +/- %f\" % (t_infinite,error_infinite))"
   ]
  },
  {
   "cell_type": "code",
   "execution_count": 13,
   "metadata": {},
   "outputs": [
    {
     "data": {
      "image/png": "[encoded data removed]",
      "text/plain": [
       "<IPython.core.display.Image object>"
      ]
     },
     "metadata": {},
     "output_type": "display_data"
    }
   ],
   "source": [
    "x = array('d')\n",
    "y = array('d')\n",
    "ex = array('d')\n",
    "ey = array('d')\n",
    "npoints = 3\n",
    "x.append(1)\n",
    "x.append(2)\n",
    "x.append(3)\n",
    "ex.append(0)\n",
    "ex.append(0)\n",
    "ex.append(0)\n",
    "y.append(AvePeriod)\n",
    "y.append(t_infinite)\n",
    "y.append(t_small_angle)\n",
    "ey.append(ErrorBar)\n",
    "ey.append(error_infinite)\n",
    "ey.append(0)\n",
    "\n",
    "c3 = TCanvas(\"c3\",\"c3\",100,0,800,600)\n",
    "gr3 = TGraphErrors(npoints,x,y,ex,ey)\n",
    "gr3.SetMarkerStyle(20)\n",
    "gr3.SetTitle(\"Theory vs. Simulation\")\n",
    "gr3.GetXaxis().SetTitle(\"1=Sim,2=Theory,3=SmallAngle\")\n",
    "gr3.GetYaxis().SetTitle(\"Average Period (s)\")\n",
    "gr3.Draw(\"AP\")\n",
    "c3.Draw()"
   ]
  },
  {
   "cell_type": "code",
   "execution_count": null,
   "metadata": {},
   "outputs": [],
   "source": []
  }
 ],
 "metadata": {
  "kernelspec": {
   "display_name": "Python 3",
   "language": "python",
   "name": "python3"
  },
  "language_info": {
   "codemirror_mode": {
    "name": "ipython",
    "version": 3
   },
   "file_extension": ".py",
   "mimetype": "text/x-python",
   "name": "python",
   "nbconvert_exporter": "python",
   "pygments_lexer": "ipython3",
   "version": "3.6.8"
  },
  "latex_envs": {
   "LaTeX_envs_menu_present": true,
   "autoclose": false,
   "autocomplete": true,
   "bibliofile": "biblio.bib",
   "cite_by": "apalike",
   "current_citInitial": 1,
   "eqLabelWithNumbers": true,
   "eqNumInitial": 1,
   "hotkeys": {
    "equation": "Ctrl-E",
    "itemize": "Ctrl-I"
   },
   "labels_anchors": false,
   "latex_user_defs": false,
   "report_style_numbering": false,
   "user_envs_cfg": false
  }
 },
 "nbformat": 4,
 "nbformat_minor": 2
}
