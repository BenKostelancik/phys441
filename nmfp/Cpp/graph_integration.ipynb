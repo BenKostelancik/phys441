{
 "cells": [
  {
   "cell_type": "code",
   "execution_count": 1,
   "metadata": {},
   "outputs": [
    {
     "name": "stdout",
     "output_type": "stream",
     "text": [
      "Welcome to JupyROOT 6.18/00\n"
     ]
    }
   ],
   "source": [
    "from ROOT import TCanvas\n",
    "from ROOT import TH1F\n",
    "from ROOT import gStyle\n",
    "from array import array\n",
    "import math\n",
    "import random\n",
    "\n",
    "c1 = TCanvas( 'c1', 'Simple Integration Example', 200, 10, 700, 500 )\n",
    "c1.SetGridx()\n",
    "c1.SetGridy()\n",
    "c1.GetFrame().SetFillColor( 21 )\n",
    "c1.GetFrame().SetBorderMode(-1 )\n",
    "c1.GetFrame().SetBorderSize( 5 )"
   ]
  },
  {
   "cell_type": "code",
   "execution_count": 2,
   "metadata": {},
   "outputs": [],
   "source": [
    "def generator_function(x):\n",
    "    return 3.0/2.0*(1.0 - x*x)"
   ]
  },
  {
   "cell_type": "code",
   "execution_count": 3,
   "metadata": {},
   "outputs": [],
   "source": [
    "gStyle.SetOptFit(1)\n",
    "h1 = TH1F(\"h1\",\"h1\",100,-0.05,0.05)"
   ]
  },
  {
   "cell_type": "code",
   "execution_count": 4,
   "metadata": {},
   "outputs": [],
   "source": [
    "random.seed(1)"
   ]
  },
  {
   "cell_type": "code",
   "execution_count": 5,
   "metadata": {},
   "outputs": [
    {
     "name": "stdout",
     "output_type": "stream",
     "text": [
      "Error = 0.001414\n"
     ]
    }
   ],
   "source": [
    "niter = 100\n",
    "npoints = 100000\n",
    "xlow = 0.0\n",
    "xhigh = 1.0\n",
    "dx = (xhigh-xlow)/npoints\n",
    "\n",
    "error = 0.0\n",
    "for j in range(0,niter):\n",
    "    sum_iter = 0.0\n",
    "    sigma_iter = 0.0\n",
    "\n",
    "    for i in range(0,npoints):\n",
    "        xval = xlow+random.random()*(xhigh-xlow)\n",
    "        yval = generator_function(xval)\n",
    "        sum_iter = sum_iter + dx*yval\n",
    "        sigma_iter = sigma_iter + yval*yval\n",
    "        \n",
    "    error = error + math.sqrt(sigma_iter/npoints - sum_iter*sum_iter)/math.sqrt(npoints)\n",
    "    h1.Fill(1.0-sum_iter)\n",
    "\n",
    "print(\"Error Upper Bound = %f\" % (error/niter))"
   ]
  },
  {
   "cell_type": "code",
   "execution_count": null,
   "metadata": {},
   "outputs": [],
   "source": []
  },
  {
   "cell_type": "code",
   "execution_count": 6,
   "metadata": {},
   "outputs": [
    {
     "name": "stdout",
     "output_type": "stream",
     "text": [
      " FCN=6.4877 FROM MIGRAD    STATUS=CONVERGED      58 CALLS          59 TOTAL\n",
      "                     EDM=1.06408e-07    STRATEGY= 1      ERROR MATRIX ACCURATE \n",
      "  EXT PARAMETER                                   STEP         FIRST   \n",
      "  NO.   NAME      VALUE            ERROR          SIZE      DERIVATIVE \n",
      "   1  Constant     3.07191e+01   4.58335e+00   4.24448e-03  -4.75185e-05\n",
      "   2  Mean         8.41634e-05   1.32442e-04   1.73952e-07   9.95647e-06\n",
      "   3  Sigma        1.22350e-03   1.38728e-04   3.42341e-05   7.49846e-03\n"
     ]
    },
    {
     "data": {
      "image/png": "[encoded data removed]",
      "text/plain": [
       "<IPython.core.display.Image object>"
      ]
     },
     "metadata": {},
     "output_type": "display_data"
    }
   ],
   "source": [
    "h1.Draw()\n",
    "h1.Fit(\"gaus\")\n",
    "c1.Draw()"
   ]
  },
  {
   "cell_type": "code",
   "execution_count": null,
   "metadata": {
    "scrolled": true
   },
   "outputs": [],
   "source": []
  },
  {
   "cell_type": "code",
   "execution_count": null,
   "metadata": {},
   "outputs": [],
   "source": []
  },
  {
   "cell_type": "code",
   "execution_count": null,
   "metadata": {},
   "outputs": [],
   "source": []
  }
 ],
 "metadata": {
  "kernelspec": {
   "display_name": "Python 3",
   "language": "python",
   "name": "python3"
  },
  "language_info": {
   "codemirror_mode": {
    "name": "ipython",
    "version": 3
   },
   "file_extension": ".py",
   "mimetype": "text/x-python",
   "name": "python",
   "nbconvert_exporter": "python",
   "pygments_lexer": "ipython3",
   "version": "3.7.3"
  }
 },
 "nbformat": 4,
 "nbformat_minor": 2
}
