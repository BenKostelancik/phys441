{
 "cells": [
  {
   "cell_type": "code",
   "execution_count": 1,
   "outputs": [],
   "source": [
    "import numpy as np\n",
    "import matplotlib.pyplot as plt\n",
    "import scipy.stats as stats\n",
    "import random"
   ],
   "metadata": {
    "collapsed": false,
    "ExecuteTime": {
     "end_time": "2023-10-28T14:58:27.459667Z",
     "start_time": "2023-10-28T14:58:25.820734Z"
    }
   }
  },
  {
   "cell_type": "markdown",
   "source": [
    "# The Game of Frogger\n",
    "\n",
    "## The game of Frogger is a simple game where a frog starts at one side of a stream and tries to get to the other side of the stream. The stream has within it N lily pads. The frog starts, effectively, on pad 0 and can jump to pad 1, 2, 3, ..., N+1. The frog is equally likely to jump to any of the pads 1, 2, 3, ..., N+1.  The frog gets to the other side when she reaches pad N+1.\n",
    "\n",
    "## The question is, on average, how many jumps does it take for the frog to get to the other side of the stream?\n"
   ],
   "metadata": {
    "collapsed": false
   }
  },
  {
   "cell_type": "markdown",
   "source": [
    "## Analytic Solution\n",
    "\n",
    "### The expectation value for a discrete random variable is defined as:\n",
    "\n",
    "### $E = \\sum_{i=0}^{n} x_i p_i$\n",
    "\n",
    "### where $x_i$ is the value of the random variable and $p_i$ is the probability of the random variable taking on the value $x_i$.\n",
    "\n",
    "### Let's consider some simple cases:\n",
    "\n",
    "### n = 0\n",
    "\n",
    "### $E_0 = x_0 p_0 = 1 \\cdot 1 = 1$\n",
    "\n",
    "### n = 1\n",
    "\n",
    "### $E_1 = \\frac{1}{2} (1) + \\frac{1}{2} (2) = 1 + \\frac{1}{2} (1) = \\frac{3}{2}$ = 1.5\n",
    "\n",
    "### n = 2\n",
    "\n",
    "### $E_2 = \\frac{1}{3} (1) + \\frac{1}{3} (\\frac{1}{2} (2) + \\frac{1}{2} (3)) + \\frac{1}{3} (2)  = 1 + \\frac{1}{3} (\\frac{3}{2}) + \\frac{1}{3} (1) = \\frac{11}{6} = 1.8333$\n",
    "\n",
    "### We can observe a pattern now ... for each value of $n$, we can break down the problem into a sum of the previous problems (for smaller n values).  We see that for any value of n, the expectation value is:\n",
    "\n",
    "### $E_n = 1 + \\frac{1}{n+1} \\sum_{i=1}^{n} E_{n-i}$\n",
    "\n",
    "### So, we can calculate the expectation value for any value of n by calculating the expectation value for all smaller values of n.  A recursive solution to this problem seems appropriate.\n",
    "\n"
   ],
   "metadata": {
    "collapsed": false
   }
  },
  {
   "cell_type": "markdown",
   "source": [
    "### Set the number of lilypads"
   ],
   "metadata": {
    "collapsed": false
   }
  },
  {
   "cell_type": "code",
   "execution_count": 38,
   "metadata": {
    "ExecuteTime": {
     "end_time": "2023-10-28T15:58:34.649184Z",
     "start_time": "2023-10-28T15:58:34.630858Z"
    }
   },
   "outputs": [],
   "source": [
    "n = 5"
   ]
  },
  {
   "cell_type": "markdown",
   "source": [
    "### seed the random number generator"
   ],
   "metadata": {
    "collapsed": false
   }
  },
  {
   "cell_type": "code",
   "execution_count": 39,
   "metadata": {
    "ExecuteTime": {
     "end_time": "2023-10-28T15:58:35.480732Z",
     "start_time": "2023-10-28T15:58:35.469045Z"
    }
   },
   "outputs": [],
   "source": [
    "random.seed(1)"
   ]
  },
  {
   "cell_type": "code",
   "execution_count": 49,
   "metadata": {
    "ExecuteTime": {
     "end_time": "2023-10-28T16:02:29.411381Z",
     "start_time": "2023-10-28T16:02:29.399315Z"
    }
   },
   "outputs": [],
   "source": [
    "start = 0 # start at lilypad 0\n",
    "jumpsum = 0 # keep track of the number of jumps per simulation\n",
    "total_jumps = 0 # keep track of the total number of jumps for all simulations\n",
    "n_trys = 1000 # number of simulations to run\n",
    "\n",
    "x = [] # array for the number of lilypads for plotting\n",
    "y = [] # array for the expectation value for plotting\n",
    "eval = [] # array for the analytic solution\n",
    "evalr2 = [] # array for the analytic solution\n",
    "evalr3 = [] # array for the analytic solution\n",
    "sigma = [] # array for the error on the expectation value"
   ]
  },
  {
   "cell_type": "code",
   "execution_count": 50,
   "metadata": {
    "ExecuteTime": {
     "end_time": "2023-10-28T16:02:29.973963Z",
     "start_time": "2023-10-28T16:02:29.960708Z"
    }
   },
   "outputs": [
    {
     "name": "stdout",
     "output_type": "stream",
     "text": [
      "Theory:  0 1\n",
      "Theory:  1 1.5\n",
      "Theory:  2 1.8333333333333333\n",
      "Theory:  3 2.083333333333333\n",
      "Theory:  4 2.283333333333333\n",
      "Theory:  5 2.4499999999999997\n"
     ]
    }
   ],
   "source": [
    "# loop over the number of lilypads (it's n+1 so that we actually do the n=1000 case)\n",
    "for npad in range(0,n+1): \n",
    "\n",
    "    if (npad == 0):\n",
    "        eval.append(1)\n",
    "    else:\n",
    "        sum = 1.0\n",
    "        for i in range(0,npad):\n",
    "            #print(i,npad,npad-i)\n",
    "            #print(eval[npad-i-1])\n",
    "            sum = sum + 1.0/(npad+1)*(eval[npad-i-1])\n",
    "        eval.append(sum)\n",
    "    print(\"Theory: \",npad,eval[npad])\n",
    "  "
   ]
  },
  {
   "cell_type": "code",
   "execution_count": 51,
   "outputs": [
    {
     "name": "stdout",
     "output_type": "stream",
     "text": [
      "0 1.0\n",
      "Expectation value for n = 0 is 1.000000\n",
      "1 1.5\n",
      "Expectation value for n = 1 is 2.000000\n",
      "2 1.833333333333333\n",
      "Expectation value for n = 2 is 2.497000\n",
      "3 2.083333333333333\n",
      "Expectation value for n = 3 is 2.833000\n",
      "4 2.283333333333333\n",
      "Expectation value for n = 4 is 3.090000\n",
      "5 2.4499999999999997\n",
      "Expectation value for n = 5 is 3.302000\n"
     ]
    }
   ],
   "source": [
    "for npad in range(0,n+1):\n",
    "    \n",
    "    x.append(npad+1)\n",
    "    \n",
    "    sum2 = 1.0/stats.hmean(x)*(npad+1)\n",
    "    evalr3.append(sum2)\n",
    "    \n",
    "    print (npad,sum2)\n",
    "    \n",
    "    end = npad+1\n",
    "    for j in range(n_trys):\n",
    "        while start < npad+1:\n",
    "            jump = int(random.uniform(1,(end-start)))\n",
    "            #print (\"Jump = \",jump)\n",
    "            start = start + jump\n",
    "            #print (\"Now at \",start)\n",
    "            jumpsum = jumpsum + 1\n",
    "        start = 0\n",
    "        #print (\"j = %d, Total_jumps = %d\" % (j,jumpsum))\n",
    "        total_jumps = total_jumps + jumpsum\n",
    "        jumpsum = 0\n",
    "    \n",
    "    #print (npad,total_jumps,n_trys)\n",
    "\n",
    "    expectation_value = total_jumps/n_trys*1.0\n",
    "    y.append(expectation_value)\n",
    "    sigma.append(expectation_value*1/np.sqrt(n_trys))\n",
    "    total_jumps = 0\n",
    "    \n",
    "    print (\"Expectation value for n = %d is %f\" % (npad,expectation_value))\n",
    "  "
   ],
   "metadata": {
    "collapsed": false,
    "ExecuteTime": {
     "end_time": "2023-10-28T16:02:30.628418Z",
     "start_time": "2023-10-28T16:02:30.617603Z"
    }
   }
  },
  {
   "cell_type": "code",
   "execution_count": 6,
   "metadata": {
    "ExecuteTime": {
     "end_time": "2023-07-12T14:13:04.866112Z",
     "start_time": "2023-07-12T14:13:04.318502Z"
    }
   },
   "outputs": [
    {
     "data": {
      "text/plain": "[<matplotlib.lines.Line2D at 0x12d2de530>]"
     },
     "execution_count": 6,
     "metadata": {},
     "output_type": "execute_result"
    },
    {
     "data": {
      "text/plain": "<Figure size 1500x1200 with 1 Axes>",
      "image/png": "[encoded data removed]"
     },
     "metadata": {},
     "output_type": "display_data"
    }
   ],
   "source": [
    "def fitfunction(x,*paramlist):\n",
    "    return paramlist[0]+paramlist[1]*x+paramlist[2]*x*x+paramlist[3]*x*x*x\n",
    "\n",
    "\n",
    "fig = plt.figure(figsize=(15,12))\n",
    "ax1 = fig.add_subplot(111)\n",
    "\n",
    "ax1.set_title(\"Frog Problem\")\n",
    "ax1.set_xlabel('N')\n",
    "ax1.set_ylabel('Expected Number of Jumps / N')\n",
    "ax1.set_xlim(0,n+1)\n",
    "#ax1.set_yscale(\"log\")\n",
    "#ax1.set_xscale(\"log\")\n",
    "ax1.grid(True)\n",
    "\n",
    "ax1.errorbar(x,y,yerr=sigma,fmt='o')\n",
    "ax1.plot(x,evalr,'r--')\n",
    "ax1.plot(x,evalr2,'b--')\n",
    "ax1.plot(x,evalr3,'g--')\n"
   ]
  },
  {
   "cell_type": "code",
   "execution_count": null,
   "metadata": {},
   "outputs": [],
   "source": []
  }
 ],
 "metadata": {
  "kernelspec": {
   "display_name": "Python 3",
   "language": "python",
   "name": "python3"
  },
  "language_info": {
   "codemirror_mode": {
    "name": "ipython",
    "version": 3
   },
   "file_extension": ".py",
   "mimetype": "text/x-python",
   "name": "python",
   "nbconvert_exporter": "python",
   "pygments_lexer": "ipython3",
   "version": "3.6.8"
  }
 },
 "nbformat": 4,
 "nbformat_minor": 2
}
