{
 "cells": [
  {
   "cell_type": "code",
   "execution_count": 17,
   "metadata": {
    "ExecuteTime": {
     "end_time": "2023-07-17T00:46:15.641863Z",
     "start_time": "2023-07-17T00:46:15.636905Z"
    }
   },
   "outputs": [],
   "source": [
    "from array import array\n",
    "import math\n",
    "import numpy as np\n",
    "import random"
   ]
  },
  {
   "cell_type": "code",
   "execution_count": 18,
   "metadata": {
    "ExecuteTime": {
     "end_time": "2023-07-17T00:46:16.239918Z",
     "start_time": "2023-07-17T00:46:16.235947Z"
    }
   },
   "outputs": [],
   "source": [
    "def fitfunction(x,par):\n",
    "    return par[0]*x/(par[1]+x)\n",
    "\n",
    "def fitfunction_python(x,*par):\n",
    "    return par[0]*x/(par[1]+x)\n",
    "\n",
    "def fitfunction_root(x,par):\n",
    "    return par[0]*x[0]/(par[1]+x[0])"
   ]
  },
  {
   "cell_type": "code",
   "execution_count": 19,
   "metadata": {
    "ExecuteTime": {
     "end_time": "2023-07-17T00:46:16.811431Z",
     "start_time": "2023-07-17T00:46:16.786076Z"
    }
   },
   "outputs": [],
   "source": [
    "def jacobian_beta1(x,par):\n",
    "    return -x/(par[1]+x)"
   ]
  },
  {
   "cell_type": "code",
   "execution_count": 20,
   "metadata": {
    "ExecuteTime": {
     "end_time": "2023-07-17T00:46:17.324894Z",
     "start_time": "2023-07-17T00:46:17.320894Z"
    }
   },
   "outputs": [],
   "source": [
    "def jacobian_beta2(x,par):\n",
    "    return par[0]*x/((par[1]+x)*(par[1]+x))"
   ]
  },
  {
   "cell_type": "code",
   "execution_count": 21,
   "metadata": {
    "ExecuteTime": {
     "end_time": "2023-07-17T00:46:17.863863Z",
     "start_time": "2023-07-17T00:46:17.839833Z"
    }
   },
   "outputs": [],
   "source": [
    "\n",
    "\n",
    "par_actual = array('d')\n",
    "par_actual.append(0.3797)\n",
    "par_actual.append(0.5111)\n",
    "\n",
    "beta_order = 2 #Set the order of the polynomial\n",
    "m = 7 #Set the number of data points\n",
    "x = array('d')\n",
    "y = array('d')\n",
    "ex = array('d')\n",
    "ey = array('d')\n",
    "\n",
    "x.append(0.038)\n",
    "x.append(0.194)\n",
    "x.append(0.425)\n",
    "x.append(0.626)\n",
    "x.append(1.253)\n",
    "x.append(2.500)\n",
    "x.append(3.740)"
   ]
  },
  {
   "cell_type": "code",
   "execution_count": 22,
   "metadata": {
    "ExecuteTime": {
     "end_time": "2023-07-17T00:46:18.523106Z",
     "start_time": "2023-07-17T00:46:18.519322Z"
    }
   },
   "outputs": [],
   "source": [
    "random.seed(1)\n",
    "\n",
    "for i in range(0,m):\n",
    "    r = random.gauss(0.0,0.005)\n",
    "    y.append(fitfunction(x[i],par_actual)+r)\n",
    "    ex.append(0)\n",
    "    ey.append(0.005)"
   ]
  },
  {
   "cell_type": "code",
   "execution_count": 23,
   "metadata": {
    "ExecuteTime": {
     "end_time": "2023-07-17T00:46:19.012705Z",
     "start_time": "2023-07-17T00:46:19.008291Z"
    }
   },
   "outputs": [],
   "source": [
    "n = beta_order\n",
    "\n",
    "Jacobian = np.zeros(shape = (m,n))\n",
    "Jacobian2 = np.zeros(shape = (m,n))\n",
    "JacobianT = np.zeros(shape = (n,m))\n",
    "Weights = np.zeros(shape = (m,m))\n",
    "JTW = np.zeros(shape = (n,m))\n",
    "WJ = np.zeros(shape = (m,n))\n",
    "residuals = np.zeros(shape = (m,1))\n",
    "JTWr = np.zeros(shape = (n,1))\n",
    "JTWJ = np.zeros(shape = (n,n))\n",
    "JTWJInv = np.zeros(shape = (n,n))\n",
    "\n",
    "betas = np.zeros(shape = (n,1))\n",
    "Delta = np.zeros(shape = (n,1))"
   ]
  },
  {
   "cell_type": "code",
   "execution_count": 24,
   "metadata": {
    "ExecuteTime": {
     "end_time": "2023-07-17T00:46:19.685803Z",
     "start_time": "2023-07-17T00:46:19.678013Z"
    }
   },
   "outputs": [],
   "source": [
    "betas[0][0] = 0.90\n",
    "betas[1][0] = 0.20\n",
    "\n",
    "parameter_matrix = array('d')\n",
    "parameter_matrix_dbeta = array('d')\n",
    "parameter_matrix.append(betas[0][0])\n",
    "parameter_matrix.append(betas[1][0])\n",
    "parameter_matrix_dbeta.append(betas[0][0])\n",
    "parameter_matrix_dbeta.append(betas[1][0])\n",
    "\n",
    "dbetamax = 10000\n",
    "dbeta = 0\n",
    "epsilon = 0.000001\n",
    "epsilon_beta = 0.005\n",
    "\n",
    "jacobian_flag = 1"
   ]
  },
  {
   "cell_type": "code",
   "execution_count": 25,
   "metadata": {
    "ExecuteTime": {
     "end_time": "2023-07-17T00:46:21.615118Z",
     "start_time": "2023-07-17T00:46:21.608326Z"
    }
   },
   "outputs": [],
   "source": [
    "while (dbetamax > epsilon):\n",
    "    for i in range(0,m):\n",
    "        function_value = fitfunction(x[i],parameter_matrix)\n",
    "        residuals[i][0]=y[i]-function_value\n",
    "        \n",
    "        for k in range(0,m):\n",
    "            if (i==k):\n",
    "                Weights[i][k]=1.0/(ey[i]*ey[i])\n",
    "            else:\n",
    "                Weights[i][k]=0.0\n",
    "                \n",
    "        if (jacobian_flag == 1):\n",
    "            for j in range(0,n):\n",
    "                for k in range(0,n):\n",
    "                    if (k==j):\n",
    "                        parameter_matrix_dbeta[k]=parameter_matrix[k]+epsilon_beta\n",
    "                    else:\n",
    "                        parameter_matrix_dbeta[k]=parameter_matrix[k]\n",
    "                f0 = fitfunction(x[i],parameter_matrix)\n",
    "                f1 = fitfunction(x[i],parameter_matrix_dbeta)\n",
    "                jacobian = (f0-f1)/epsilon_beta\n",
    "                Jacobian[i][j]=jacobian\n",
    "                #print(i,j,jacobian)\n",
    "                #print(parameter_matrix[0],parameter_matrix_dbeta[0])\n",
    "                #print(parameter_matrix[1],parameter_matrix_dbeta[1])\n",
    "                #print(f0,f1)    \n",
    "        else:\n",
    "            for j in range(0,n):\n",
    "                if (j==0):\n",
    "                    jacobian = jacobian_beta1(x[i],parameter_matrix)\n",
    "                else:\n",
    "                    jacobian = jacobian_beta2(x[i],parameter_matrix)\n",
    "                Jacobian[i][j]=jacobian\n",
    "                #print(i,j,jacobian)\n",
    "            \n",
    "    JacobianT = Jacobian.transpose()\n",
    "    JTW = np.array(np.matrix(JacobianT)*np.matrix(Weights))\n",
    "    JTWr = np.array(np.matrix(JTW)*np.matrix(residuals))\n",
    "    WJ = np.array(np.matrix(Weights)*np.matrix(Jacobian))\n",
    "    JTWJ = np.array(np.matrix(JacobianT)*np.matrix(WJ))\n",
    "    JTWJInv = np.array(np.linalg.inv(JTWJ))\n",
    "    Delta = np.array(np.matrix(JTWJInv)*np.matrix(JTWr))\n",
    "\n",
    "    dbetamax = 0.0\n",
    "    \n",
    "    for j in range(0,n):\n",
    "        parameter_matrix[j]=parameter_matrix[j]-Delta[j][0]\n",
    "        dbeta = math.fabs(Delta[j][0]/parameter_matrix[j])\n",
    "        if (dbeta > dbetamax): \n",
    "            dbetamax = dbeta\n",
    "        #print (\"dbetamax = %f\" % dbetamax )"
   ]
  },
  {
   "cell_type": "code",
   "execution_count": 26,
   "metadata": {
    "ExecuteTime": {
     "end_time": "2023-07-17T00:46:22.558477Z",
     "start_time": "2023-07-17T00:46:22.555443Z"
    }
   },
   "outputs": [
    {
     "name": "stdout",
     "output_type": "stream",
     "text": [
      "[[-0.07288012  0.05141082]\n",
      " [-0.28638737  0.1558393 ]\n",
      " [-0.46785342  0.19020048]\n",
      " [-0.56426685  0.18802111]\n",
      " [-0.72160619  0.15387408]\n",
      " [-0.83796893  0.10412461]\n",
      " [-0.88554158  0.07776734]]\n",
      " \n",
      "[[-0.07288012 -0.28638737 -0.46785342 -0.56426685 -0.72160619 -0.83796893\n",
      "  -0.88554158]\n",
      " [ 0.05141082  0.1558393   0.19020048  0.18802111  0.15387408  0.10412461\n",
      "   0.07776734]]\n",
      " \n",
      "[[-0.00048757]\n",
      " [-0.00017548]]\n",
      " \n",
      "[[105268.17817261 -20424.52611625]\n",
      " [-20424.52611625   5560.96192737]]\n",
      " \n",
      "[[3.30555000e-05 1.21407579e-04]\n",
      " [1.21407579e-04 6.25735674e-04]]\n",
      " \n"
     ]
    }
   ],
   "source": [
    "print(Jacobian)\n",
    "print(\" \")\n",
    "\n",
    "print(JacobianT)\n",
    "print(\" \")\n",
    "\n",
    "print(JTWr)\n",
    "print(\" \")\n",
    "\n",
    "print(JTWJ)\n",
    "print(\" \")\n",
    "\n",
    "print(JTWJInv)\n",
    "print(\" \")\n"
   ]
  },
  {
   "cell_type": "code",
   "execution_count": 27,
   "metadata": {
    "ExecuteTime": {
     "end_time": "2023-07-17T00:46:24.975080Z",
     "start_time": "2023-07-17T00:46:24.972363Z"
    }
   },
   "outputs": [
    {
     "name": "stdout",
     "output_type": "stream",
     "text": [
      "i x y fit = 0 0.038000 0.032718 0.027063 \n",
      "i x y fit = 1 0.194000 0.111717 0.106345 \n",
      "i x y fit = 2 0.425000 0.172720 0.173730 \n",
      "i x y fit = 3 0.626000 0.205211 0.209531 \n",
      "i x y fit = 4 1.253000 0.264231 0.267957 \n",
      "i x y fit = 5 2.500000 0.315407 0.311166 \n",
      "i x y fit = 6 3.740000 0.328939 0.328832 \n",
      " \n",
      "chi2/dof = 4.495800 / 5.000000\n",
      " beta[1] = 0.371334 +/- 0.005749\n",
      " beta[2] = 0.483404 +/- 0.025015\n"
     ]
    }
   ],
   "source": [
    "error_sum = 0\n",
    "yfit = 0\n",
    "error = array('d')\n",
    "\n",
    "for j in range(0,m):\n",
    "    yfit = fitfunction(x[j],parameter_matrix)\n",
    "    print (\"i x y fit = %d %f %f %f \" % (j,x[j],y[j],yfit))\n",
    "    error_sum = error_sum + (yfit-y[j])*(yfit-y[j])/(ey[j]*ey[j])\n",
    "    yfit = 0\n",
    "\n",
    "print (\" \")\n",
    "    \n",
    "chi2 = error_sum/(m-n)\n",
    "print (\"chi2/dof = %f / %f\" % (error_sum,(m-n)))\n",
    "\n",
    "for k in range(0,n):\n",
    "        error.append(math.sqrt(JTWJInv[k][k]))\n",
    "        print(\" beta[%d] = %f +/- %f\" % ((k+1),parameter_matrix[k],error[k]))\n"
   ]
  },
  {
   "cell_type": "code",
   "execution_count": 28,
   "metadata": {
    "ExecuteTime": {
     "end_time": "2023-07-17T00:46:56.798951Z",
     "start_time": "2023-07-17T00:46:56.549817Z"
    }
   },
   "outputs": [
    {
     "name": "stdout",
     "output_type": "stream",
     "text": [
      "[0.37131744 0.48331875] [[3.28804580e-05 1.20060847e-04]\n",
      " [1.20060847e-04 6.16487924e-04]]\n",
      "Coefficients (from curve_fit)\n",
      "[0.37131744 0.48331875]\n",
      "Covariance Matrix (from curve_fit)\n",
      "[[3.28804580e-05 1.20060847e-04]\n",
      " [1.20060847e-04 6.16487924e-04]]\n",
      "Chi^2 / dof = 2.428E+00 / 0\n",
      "Fit Parameter 0: 3.713E-01 +/- 5.734E-03\n",
      "0 1 8.433E-01\n",
      "Fit Parameter 1: 4.833E-01 +/- 2.483E-02\n"
     ]
    },
    {
     "data": {
      "text/plain": "<Figure size 1100x800 with 1 Axes>",
      "image/png": "[encoded data removed]"
     },
     "metadata": {},
     "output_type": "display_data"
    }
   ],
   "source": [
    "import matplotlib.pyplot as plt\n",
    "from scipy.optimize import curve_fit\n",
    "\n",
    "x = np.array(x)\n",
    "y = np.array(y)\n",
    "ex = np.array(ex)\n",
    "ey = np.array(ey)\n",
    "\n",
    "fig = plt.figure(figsize=(11,8))\n",
    "ax1 = fig.add_subplot(111)\n",
    "\n",
    "ax1.set_title(\"Polynomial Fit\")\n",
    "ax1.set_xlabel('X')\n",
    "ax1.set_ylabel('Y')\n",
    "ax1.set_yscale(\"linear\")\n",
    "ax1.grid(True)\n",
    "\n",
    "ax1.plot(x,y,'o')\n",
    "\n",
    "ax1.errorbar(x,y,yerr=ey,fmt='o')\n",
    "\n",
    "init_vals = [0.3, 0.75]\n",
    "popt, pcov = curve_fit(fitfunction_python,x,y,sigma=ey,p0=init_vals,absolute_sigma=True)\n",
    "\n",
    "print (popt,pcov)\n",
    "\n",
    "xi = np.linspace(np.min(x),np.max(x),100)\n",
    "ps = np.random.multivariate_normal(popt,pcov,10000)\n",
    "ysample=np.asarray([fitfunction_python(xi,*pi) for pi in ps])\n",
    "lower = np.percentile(ysample,16.0,axis=0)\n",
    "upper = np.percentile(ysample,84.0,axis=0)\n",
    "\n",
    "print(\"Coefficients (from curve_fit)\")\n",
    "print (popt)\n",
    "print(\"Covariance Matrix (from curve_fit)\")\n",
    "print (pcov)\n",
    "\n",
    "yfit = []\n",
    "chi2=0\n",
    "for i in range (0,n):\n",
    "    yfit.append(fitfunction_python(x[i],*popt))\n",
    "    #chi2 += (y[i]-yfit[i])*(y[i]-yfit[i])\n",
    "    chi2 += (y[i]-yfit[i])*(y[i]-yfit[i])/(ey[i]*ey[i])\n",
    "\n",
    "print (\"Chi^2 / dof = %.3E / %d\" % (chi2,n-len(init_vals)))\n",
    "\n",
    "param = []\n",
    "rhom = []\n",
    "param.append(float(chi2))\n",
    "param.append(n-len(init_vals))\n",
    "for ii in range(0,len(init_vals)):\n",
    "    param.append(float(popt[ii]))\n",
    "    param.append(float(np.sqrt(pcov[ii][ii])))\n",
    "    print(\"Fit Parameter %d: %.3E +/- %.3E\" % (ii,popt[ii],np.sqrt(pcov[ii][ii])))\n",
    "    for jj in range(0,len(init_vals)):\n",
    "        rhom.append(float(pcov[ii][jj])/pow(float(pcov[ii][ii]*pcov[jj][jj]),0.5))\n",
    "        if jj > ii:\n",
    "            print(\"%d %d %.3E\" % (ii,jj,rhom[ii*len(init_vals)+jj]))\n",
    "\n",
    "mylabel = \"Chi^2/dof = %.3E / %d\\n\"\n",
    "for i in range(0,len(init_vals)):\n",
    "    code = \"p\" + str(i)\n",
    "    mylabel = mylabel + code + \" = %.3E +/- %.3E\\n\"\n",
    "\n",
    "ax1.plot(xi, fitfunction_python(xi, *popt), 'r--', label = mylabel % tuple(param))\n",
    "ax1.plot(xi,lower,'b--')\n",
    "ax1.plot(xi,upper,'b--')\n",
    "\n",
    "leg = ax1.legend()\n",
    "plt.show()"
   ]
  },
  {
   "cell_type": "code",
   "execution_count": 40,
   "metadata": {
    "ExecuteTime": {
     "end_time": "2023-07-17T00:56:12.630158Z",
     "start_time": "2023-07-17T00:56:12.201671Z"
    }
   },
   "outputs": [
    {
     "data": {
      "text/plain": "<Figure size 640x480 with 2 Axes>",
      "image/png": "[encoded data removed]"
     },
     "metadata": {},
     "output_type": "display_data"
    }
   ],
   "source": [
    "from matplotlib.colors import LogNorm\n",
    "\n",
    "nbins = 101\n",
    "xwidth = 0.025\n",
    "ywidth = 0.005\n",
    "xlow = parameter_matrix[0] - 2*xwidth\n",
    "xhigh = parameter_matrix[0] + 2*xwidth\n",
    "ylow = parameter_matrix[1] - 2*ywidth\n",
    "yhigh = parameter_matrix[1] + 2*ywidth\n",
    "\n",
    "b1 = np.linspace(xlow, xhigh, nbins)\n",
    "b2 = np.linspace(ylow, yhigh, nbins)\n",
    "sums = np.zeros((nbins, nbins))\n",
    "\n",
    "for j in range(nbins):\n",
    "    for k in range(nbins):\n",
    "        pars = [b1[j], b2[k]]\n",
    "        total_sum = 0.0\n",
    "        for i in range(n):\n",
    "            yfit = fitfunction(x[i], pars)\n",
    "            total_sum += ((yfit - y[i])/ey[i]) ** 2\n",
    "        sums[j][k] = total_sum\n",
    "\n",
    "fig, ax = plt.subplots()\n",
    "\n",
    "# Create a meshgrid of b1 and b2\n",
    "B1, B2 = np.meshgrid(b1, b2)\n",
    "\n",
    "# Plot the sums as a color map\n",
    "im = ax.imshow(sums, norm=LogNorm(),extent=[xlow, xhigh, ylow, yhigh], origin='lower', aspect='auto', cmap='hot')\n",
    "\n",
    "# Set labels and title\n",
    "ax.set_xlabel('Parameter 1')\n",
    "ax.set_ylabel('Parameter 2')\n",
    "ax.set_title('S^2 Histogram')\n",
    "\n",
    "# Add a colorbar\n",
    "cbar = fig.colorbar(im)\n",
    "\n",
    "plt.show()\n"
   ]
  },
  {
   "cell_type": "code",
   "execution_count": 16,
   "metadata": {
    "ExecuteTime": {
     "end_time": "2023-07-17T00:44:43.622174Z",
     "start_time": "2023-07-17T00:44:43.616990Z"
    }
   },
   "outputs": [],
   "source": []
  },
  {
   "cell_type": "code",
   "execution_count": 16,
   "metadata": {
    "ExecuteTime": {
     "end_time": "2023-07-17T00:44:43.915600Z",
     "start_time": "2023-07-17T00:44:43.909386Z"
    }
   },
   "outputs": [],
   "source": [
    "\n"
   ]
  },
  {
   "cell_type": "code",
   "execution_count": 16,
   "metadata": {
    "ExecuteTime": {
     "end_time": "2023-07-17T00:44:44.132377Z",
     "start_time": "2023-07-17T00:44:44.125158Z"
    }
   },
   "outputs": [],
   "source": []
  },
  {
   "cell_type": "code",
   "execution_count": 16,
   "metadata": {
    "ExecuteTime": {
     "end_time": "2023-07-17T00:44:44.432314Z",
     "start_time": "2023-07-17T00:44:44.426385Z"
    }
   },
   "outputs": [],
   "source": [
    "\n"
   ]
  },
  {
   "cell_type": "code",
   "execution_count": 16,
   "metadata": {
    "ExecuteTime": {
     "end_time": "2023-07-17T00:44:44.835987Z",
     "start_time": "2023-07-17T00:44:44.813646Z"
    }
   },
   "outputs": [],
   "source": []
  },
  {
   "cell_type": "code",
   "execution_count": null,
   "metadata": {},
   "outputs": [],
   "source": []
  }
 ],
 "metadata": {
  "kernelspec": {
   "display_name": "Python 3",
   "language": "python",
   "name": "python3"
  },
  "language_info": {
   "codemirror_mode": {
    "name": "ipython",
    "version": 3
   },
   "file_extension": ".py",
   "mimetype": "text/x-python",
   "name": "python",
   "nbconvert_exporter": "python",
   "pygments_lexer": "ipython3",
   "version": "3.7.3"
  }
 },
 "nbformat": 4,
 "nbformat_minor": 2
}
