{
 "cells": [
  {
   "cell_type": "code",
   "execution_count": 1,
   "metadata": {
    "ExecuteTime": {
     "end_time": "2023-07-14T01:48:17.656454Z",
     "start_time": "2023-07-14T01:48:13.296711Z"
    }
   },
   "outputs": [
    {
     "name": "stdout",
     "output_type": "stream",
     "text": [
      "Welcome to JupyROOT 6.26/06\n"
     ]
    }
   ],
   "source": [
    "from ROOT import TCanvas, TFile\n",
    "from ROOT import TGraph, TGraphPolar\n",
    "from ROOT import gStyle\n",
    "from array import array\n",
    "import math\n",
    "\n",
    "c1 = TCanvas( 'c1', 'The Main Canvas', 200, 10, 1000, 800 )\n",
    "c1.SetGridx()\n",
    "c1.SetGridy()\n",
    "c1.GetFrame().SetFillColor( 21 )\n",
    "c1.GetFrame().SetBorderMode(-1 )\n",
    "c1.GetFrame().SetBorderSize( 5 )\n",
    "c1.Divide(3,1)"
   ]
  },
  {
   "cell_type": "code",
   "execution_count": 2,
   "metadata": {
    "ExecuteTime": {
     "end_time": "2023-07-14T01:48:17.769890Z",
     "start_time": "2023-07-14T01:48:17.662747Z"
    }
   },
   "outputs": [],
   "source": [
    "def gravrk(x,t,param,deriv):\n",
    "    GM = param[0]\n",
    "    r1 = x[0]\n",
    "    r2 = x[1]\n",
    "    v1 = x[2]\n",
    "    v2 = x[3]\n",
    "    normR = math.sqrt(r1*r1+r2*r2)\n",
    "    accel1 = -GM*r1/(normR*normR*normR)\n",
    "    accel2 = -GM*r2/(normR*normR*normR)\n",
    "    deriv[0] = v1\n",
    "    deriv[1] = v2\n",
    "    deriv[2] = accel1\n",
    "    deriv[3] = accel2"
   ]
  },
  {
   "cell_type": "code",
   "execution_count": 3,
   "metadata": {
    "ExecuteTime": {
     "end_time": "2023-07-14T01:48:17.886799Z",
     "start_time": "2023-07-14T01:48:17.771456Z"
    }
   },
   "outputs": [],
   "source": [
    "def rk4(x,nX,t,tau,deriv,param):\n",
    "    F1 = array('d')\n",
    "    F2 = array('d')\n",
    "    F3 = array('d')\n",
    "    F4 = array('d')\n",
    "    xtemp = array('d')\n",
    "    \n",
    "    for i in range(0,nX):\n",
    "        F1.append(0.0)\n",
    "        F2.append(0.0)\n",
    "        F3.append(0.0)\n",
    "        F4.append(0.0)\n",
    "        xtemp.append(0.0)\n",
    "        \n",
    "    gravrk(x,t,param,F1)\n",
    "    \n",
    "    half_tau = 0.5*tau\n",
    "    t_half = t + half_tau\n",
    "    \n",
    "    for i in range(0,nX):\n",
    "        xtemp[i] = x[i] + half_tau*F1[i]\n",
    "        \n",
    "    gravrk(xtemp,t_half,param,F2)\n",
    "    \n",
    "    for i in range(0,nX):\n",
    "        xtemp[i] = x[i] + half_tau*F2[i]\n",
    "        \n",
    "    gravrk(xtemp,t_half,param,F3)\n",
    "    \n",
    "    t_full = t + tau\n",
    "\n",
    "    for i in range(0,nX):\n",
    "        xtemp[i] = x[i] + tau*F3[i]\n",
    "        \n",
    "    gravrk(xtemp,t_full,param,F4)\n",
    "    \n",
    "    for i in range(0,nX):\n",
    "        x[i] = x[i] + tau/6.0*(F1[i]+F4[i]+2.0*(F2[i]+F3[i]))"
   ]
  },
  {
   "cell_type": "code",
   "execution_count": 4,
   "metadata": {
    "ExecuteTime": {
     "end_time": "2023-07-14T01:48:18.000757Z",
     "start_time": "2023-07-14T01:48:17.894448Z"
    }
   },
   "outputs": [],
   "source": [
    "def rka(x,nX,t,tau,err,deriv,param):\n",
    "    tSave = t\n",
    "    safe1 = 0.9\n",
    "    safe2 = 0.2\n",
    "    \n",
    "    xSmall = array('d')\n",
    "    xBig = array('d')\n",
    "    for i in range(0,nX):\n",
    "        xSmall.append(0.0)\n",
    "        xBig.append(0.0)\n",
    "        \n",
    "    maxTry = 100\n",
    "    for iTry in range(0,maxTry):\n",
    "        half_tau = 0.5*tau\n",
    "        for i in range(0,nX):\n",
    "            xSmall[i]=x[i]\n",
    "        rk4(xSmall,nX,tSave,half_tau,deriv,param)\n",
    "        t = tSave + half_tau\n",
    "        rk4(xSmall,nX,t,half_tau,deriv,param)\n",
    "        \n",
    "        t = tSave + tau\n",
    "        for i in range(0,nX):\n",
    "            xBig[i] = x[i]\n",
    "        rk4(xBig,nX,tSave,tau,deriv,param)\n",
    "        \n",
    "        errorRatio = 0.0\n",
    "        eps = 1.0E-16\n",
    "        for i in range(0,nX):\n",
    "            scale = err * (math.fabs(xSmall[i]) + math.fabs(xBig[i]))/2.0\n",
    "            xDiff = xSmall[i]-xBig[i]\n",
    "            ratio = math.fabs(xDiff)/(scale+eps)\n",
    "            if (errorRatio <= ratio):\n",
    "                errorRatio = ratio\n",
    "                \n",
    "        tau_old = tau\n",
    "        tau = safe1*tau_old*math.pow(errorRatio,-0.20)\n",
    "        if (tau <= tau_old/safe2):\n",
    "            tau = tau_old/safe2\n",
    "        if (tau >= safe2/tau_old):\n",
    "            tau = safe2/tau_old\n",
    "            \n",
    "        if (errorRatio < 1):\n",
    "            for i in range(0,nX):\n",
    "                x[i] = xSmall[i]\n",
    "            return\n",
    "        \n",
    "    print(\"Error:  Adaptive Runge-Kutta Routine failed\")"
   ]
  },
  {
   "cell_type": "code",
   "execution_count": 5,
   "metadata": {
    "ExecuteTime": {
     "end_time": "2023-07-14T01:48:18.131175Z",
     "start_time": "2023-07-14T01:48:18.007558Z"
    }
   },
   "outputs": [
    {
     "name": "stdout",
     "output_type": "stream",
     "text": [
      "17.834 4.543681827715934 17.245478 39.47530582087944 35.079477999999995 0.19270507865654937\n"
     ]
    }
   ],
   "source": [
    "# Circular Orbit of radius 1 for testing\n",
    "#\n",
    "#r0 = 1.0\n",
    "#v0 = 2.0*math.pi\n",
    "#\n",
    "# Earth - circular with zero eccentricity\n",
    "#\n",
    "#semi_major = 1.0\n",
    "#eccentricity = 0.0\n",
    "#\n",
    "# Halley's Comet\n",
    "#\n",
    "semi_major = 17.834\n",
    "eccentricity = 0.967\n",
    "\n",
    "nStep = 77000\n",
    "tau = 0.01\n",
    "method = 3\n",
    "\n",
    "# Everything below this point is calculated.\n",
    "semi_minor = semi_major*math.sqrt(1-eccentricity*eccentricity)\n",
    "GMSIUnits = 1.32712442099E+20\n",
    "SecondsInYear = 31556952\n",
    "AUnit = 149597870700\n",
    "GM = GMSIUnits/math.pow(AUnit,3)*math.pow(SecondsInYear,2)\n",
    "F = math.sqrt((semi_major)**2-(semi_minor)**2)  # distance from centre of the ellipse to focus\n",
    "r0 = semi_major+F\n",
    "\n",
    "v0 = math.sqrt(GM*(2/r0-1/semi_major))\n",
    "print (semi_major,semi_minor,F,GM,r0,v0)\n",
    "\n",
    "param = array('d')\n",
    "param.append(GM)\n",
    "mass = 1.0\n",
    "adaptErr = 0.001\n",
    "time = 0.0"
   ]
  },
  {
   "cell_type": "code",
   "execution_count": 6,
   "metadata": {
    "ExecuteTime": {
     "end_time": "2023-07-14T01:48:18.226791Z",
     "start_time": "2023-07-14T01:48:18.121073Z"
    }
   },
   "outputs": [],
   "source": [
    "r = array('d')\n",
    "v = array('d')\n",
    "state = array('d')\n",
    "accel = array('d')\n",
    "deriv = array('d')\n",
    "\n",
    "nState = 4\n",
    "\n",
    "r.append(r0)\n",
    "r.append(0.0)\n",
    "v.append(0.0)\n",
    "v.append(v0)\n",
    "accel.append(0.0)\n",
    "accel.append(0.0)\n",
    "\n",
    "state.append(r[0])\n",
    "state.append(r[1])\n",
    "state.append(v[0])\n",
    "state.append(v[1])\n",
    "\n",
    "for i in range(0,nState):\n",
    "    deriv.append(0.0)"
   ]
  },
  {
   "cell_type": "code",
   "execution_count": 7,
   "metadata": {
    "ExecuteTime": {
     "end_time": "2023-07-14T01:48:18.337593Z",
     "start_time": "2023-07-14T01:48:18.227180Z"
    }
   },
   "outputs": [],
   "source": [
    "rplot = array('d')\n",
    "thplot = array('d')\n",
    "tplot = array('d')\n",
    "kinetic = array('d')\n",
    "potential = array('d')\n",
    "energy = array('d')"
   ]
  },
  {
   "cell_type": "code",
   "execution_count": 8,
   "metadata": {
    "ExecuteTime": {
     "end_time": "2023-07-14T01:48:19.700754Z",
     "start_time": "2023-07-14T01:48:18.337914Z"
    }
   },
   "outputs": [],
   "source": [
    "for iStep in range(0,nStep):\n",
    "    normR = math.sqrt(r[0]*r[0]+r[1]*r[1])\n",
    "    normV = math.sqrt(v[0]*v[0]+v[1]*v[1])\n",
    "    rplot.append(normR)\n",
    "    thplot.append(math.atan2(r[1],r[0]))\n",
    "    tplot.append(time)\n",
    "    kinetic.append(0.5*mass*normV*normV)\n",
    "    potential.append(-1.0*GM*mass/normR)\n",
    "    energy.append(kinetic[iStep]+potential[iStep])\n",
    "    \n",
    "    if (method == 1):\n",
    "        accel[0] = -1.0*GM*r[0]/(normR*normR*normR)\n",
    "        accel[1] = -1.0*GM*r[1]/(normR*normR*normR)\n",
    "        r[0] = r[0] + tau*v[0]\n",
    "        r[1] = r[1] + tau*v[1]\n",
    "        v[0] = v[0] + tau*accel[0]\n",
    "        v[1] = v[1] + tau*accel[1]\n",
    "        time = time + tau\n",
    "    else:\n",
    "        if (method == 2):\n",
    "            accel[0] = -1.0*GM*r[0]/(normR*normR*normR)\n",
    "            accel[1] = -1.0*GM*r[1]/(normR*normR*normR)\n",
    "            v[0] = v[0] + tau*accel[0]\n",
    "            v[1] = v[1] + tau*accel[1]\n",
    "            r[0] = r[0] + tau*v[0]\n",
    "            r[1] = r[1] + tau*v[1]\n",
    "            #print(r[0],r[1],v[0],v[1])\n",
    "            time = time + tau\n",
    "        else:\n",
    "            if (method == 3):\n",
    "                rk4(state,nState,time,tau,deriv,param)\n",
    "                r[0]=state[0]\n",
    "                r[1]=state[1]\n",
    "                v[0]=state[2]\n",
    "                v[1]=state[3]\n",
    "                time = time + tau\n",
    "            else:\n",
    "                if (method == 4):\n",
    "                    rka(state,nState,time,tau,adaptErr,deriv,param)\n",
    "                    r[0]=state[0]\n",
    "                    r[1]=state[1]\n",
    "                    v[0]=state[2]\n",
    "                    v[1]=state[3]\n",
    "                    time = time + tau\n",
    "                    \n",
    "                "
   ]
  },
  {
   "cell_type": "code",
   "execution_count": 9,
   "metadata": {
    "ExecuteTime": {
     "end_time": "2023-07-14T01:48:20.237428Z",
     "start_time": "2023-07-14T01:48:19.748492Z"
    }
   },
   "outputs": [
    {
     "data": {
      "image/png": "[encoded data removed]",
      "text/plain": "<IPython.core.display.Image object>"
     },
     "metadata": {},
     "output_type": "display_data"
    }
   ],
   "source": [
    "gStyle.SetOptFit(1)\n",
    "c1.Draw()\n",
    "\n",
    "grr = TGraph(nStep,thplot,rplot)\n",
    "#grr = TGraphPolar(nStep,thplot,rplot)\n",
    "grt = TGraph(nStep,tplot,rplot)\n",
    "gre = TGraph(nStep,tplot,energy)\n",
    "grk = TGraph(nStep,tplot,potential)\n",
    "grp = TGraph(nStep,tplot,kinetic)\n",
    "grr.SetMarkerColor(2)\n",
    "grt.SetMarkerColor(2)\n",
    "gre.SetMarkerColor(3)\n",
    "grk.SetMarkerColor(4)\n",
    "grp.SetMarkerColor(2)\n",
    "\n",
    "#print (rplot)\n",
    "\n",
    "c1.cd(1)\n",
    "grr.GetHistogram().SetMaximum(40.0)\n",
    "grr.GetHistogram().SetMinimum(0.0)\n",
    "#grr.SetMarkerStyle(22)\n",
    "grr.SetTitle(\"Keplerian Motion\")\n",
    "grr.GetXaxis().SetTitle(\"Theta\")\n",
    "grr.GetYaxis().SetTitle(\"Radius\")\n",
    "grr.Draw(\"AP\")\n",
    "\n",
    "c1.cd(2)\n",
    "grt.GetHistogram().SetMaximum(40.0)\n",
    "grt.GetHistogram().SetMinimum(0.0)\n",
    "#grt.SetMarkerStyle(22)\n",
    "grt.SetTitle(\"Keplerian Motion\")\n",
    "grt.GetXaxis().SetTitle(\"Time\")\n",
    "grt.GetYaxis().SetTitle(\"Radius\")\n",
    "grt.Draw(\"AP\")\n",
    "\n",
    "c1.cd(3)\n",
    "gre.GetHistogram().SetMaximum(40.0)\n",
    "gre.GetHistogram().SetMinimum(-40.0)\n",
    "#gre.SetMarkerStyle(22)\n",
    "#grk.SetMarkerStyle(22)\n",
    "#grp.SetMarkerStyle(22)\n",
    "gre.SetTitle(\"Keplerian Motion\")\n",
    "gre.GetXaxis().SetTitle(\"Time\")\n",
    "gre.GetYaxis().SetTitle(\"Energy\")\n",
    "gre.Draw(\"AP\")\n",
    "grk.Draw(\"P\")\n",
    "grp.Draw(\"P\")\n",
    "c1.Draw()"
   ]
  },
  {
   "cell_type": "code",
   "execution_count": null,
   "metadata": {},
   "outputs": [],
   "source": []
  },
  {
   "cell_type": "code",
   "execution_count": null,
   "metadata": {},
   "outputs": [],
   "source": []
  }
 ],
 "metadata": {
  "kernelspec": {
   "display_name": "Python 3",
   "language": "python",
   "name": "python3"
  },
  "language_info": {
   "codemirror_mode": {
    "name": "ipython",
    "version": 3
   },
   "file_extension": ".py",
   "mimetype": "text/x-python",
   "name": "python",
   "nbconvert_exporter": "python",
   "pygments_lexer": "ipython3",
   "version": "3.6.8"
  }
 },
 "nbformat": 4,
 "nbformat_minor": 2
}
