{
 "cells": [
  {
   "cell_type": "code",
   "execution_count": 1,
   "metadata": {
    "ExecuteTime": {
     "end_time": "2023-07-17T13:20:03.356984Z",
     "start_time": "2023-07-17T13:20:02.347277Z"
    }
   },
   "outputs": [],
   "source": [
    "from array import array\n",
    "import matplotlib.pyplot as plt"
   ]
  },
  {
   "cell_type": "code",
   "execution_count": 2,
   "metadata": {
    "ExecuteTime": {
     "end_time": "2023-07-17T13:20:03.365260Z",
     "start_time": "2023-07-17T13:20:03.361060Z"
    }
   },
   "outputs": [],
   "source": [
    "def fderiv(y,t,deriv):\n",
    "    deriv[0] = 2.0*t*y[0]*y[0]\n",
    "    #deriv[0] = a*math.pow(math.sin(t),2)*y[0]"
   ]
  },
  {
   "cell_type": "code",
   "execution_count": 3,
   "metadata": {
    "ExecuteTime": {
     "end_time": "2023-07-17T13:20:03.375067Z",
     "start_time": "2023-07-17T13:20:03.366094Z"
    }
   },
   "outputs": [],
   "source": [
    "def yexact(t):\n",
    "    return 1.0/(1.0-t*t)\n",
    "    #return 2*param[0]*math.exp(0.5*(t - math.sin(t)*math.cos(t)))"
   ]
  },
  {
   "cell_type": "code",
   "execution_count": 4,
   "metadata": {
    "ExecuteTime": {
     "end_time": "2023-07-17T13:20:03.382429Z",
     "start_time": "2023-07-17T13:20:03.377783Z"
    }
   },
   "outputs": [],
   "source": [
    "def euler(y,nY,t,tau,deriv):\n",
    "    F1 = array('d')\n",
    "    \n",
    "    for i in range(0,nY):\n",
    "        F1.append(0.0)\n",
    "    \n",
    "    fderiv(y,t,F1)\n",
    "    \n",
    "    for i in range(0,nY):\n",
    "        y[i] = y[i] + tau*F1[i]"
   ]
  },
  {
   "cell_type": "code",
   "execution_count": 5,
   "metadata": {
    "ExecuteTime": {
     "end_time": "2023-07-17T13:20:03.391977Z",
     "start_time": "2023-07-17T13:20:03.387113Z"
    }
   },
   "outputs": [],
   "source": [
    "def rk2(y,nY,t,tau,deriv):\n",
    "    F1 = array('d')\n",
    "    F2 = array('d')\n",
    "    ytemp = array('d')\n",
    "    \n",
    "    for i in range(0,nY):\n",
    "        F1.append(0.0)\n",
    "        F2.append(0.0)\n",
    "        ytemp.append(0.0)\n",
    "    \n",
    "    fderiv(y,t,F1)\n",
    "    \n",
    "    half_tau = 0.5*tau\n",
    "    t_half = t + half_tau\n",
    "    \n",
    "    for i in range(0,nY):\n",
    "        ytemp[i]=y[i]+half_tau*F1[i]\n",
    "        \n",
    "    fderiv(ytemp,t_half,F2)\n",
    "        \n",
    "    for i in range(0,nY):\n",
    "        y[i] = y[i] + tau*F2[i]"
   ]
  },
  {
   "cell_type": "code",
   "execution_count": 6,
   "metadata": {
    "ExecuteTime": {
     "end_time": "2023-07-17T13:20:03.407514Z",
     "start_time": "2023-07-17T13:20:03.401614Z"
    }
   },
   "outputs": [],
   "source": [
    "# Wikipedia page y' = (sin(t))^2*y\n",
    "\n",
    "nStep = 100000\n",
    "a = 0.9999\n",
    "tau = a/nStep\n",
    "\n",
    "# Everything below this point is calculated.\n",
    "y0 = 1.0\n",
    "yp0 = 0.0\n",
    "\n",
    "tlow = 0\n",
    "thigh = tlow + (nStep-1)*tau\n",
    "\n",
    "yy = array('d')\n",
    "tt = array('d')\n",
    "nexact = 10000\n",
    "dt = (thigh-tlow)/nexact\n",
    "for i in range(0,nexact+1):\n",
    "    texact = tlow + i*dt\n",
    "    yy.append(yexact(texact))\n",
    "    tt.append(texact)\n",
    "    \n",
    "#print(yy,tt)"
   ]
  },
  {
   "cell_type": "code",
   "execution_count": 7,
   "metadata": {
    "ExecuteTime": {
     "end_time": "2023-07-17T13:20:05.266405Z",
     "start_time": "2023-07-17T13:20:03.471083Z"
    }
   },
   "outputs": [
    {
     "name": "stdout",
     "output_type": "stream",
     "text": [
      "0.9998999999988085 0.9998999999985428 0.9999099989988085\n"
     ]
    }
   ],
   "source": [
    "y1 = array('d')\n",
    "y2 = array('d')\n",
    "y3 = array('d')\n",
    "\n",
    "state1 = array('d')\n",
    "state2 = array('d')\n",
    "state3 = array('d')\n",
    "\n",
    "deriv1 = array('d')\n",
    "deriv2 = array('d')\n",
    "deriv3 = array('d')\n",
    "\n",
    "nState = 1\n",
    "\n",
    "y1.append(y0)\n",
    "y2.append(y0)\n",
    "y3.append(y0)\n",
    "\n",
    "state1.append(y1[0])\n",
    "state2.append(y2[0])\n",
    "state3.append(y3[0])\n",
    "\n",
    "for i in range(0,nState):\n",
    "    deriv1.append(yp0)\n",
    "    deriv2.append(yp0)\n",
    "    deriv3.append(yp0)\n",
    "    \n",
    "yplot1 = array('d')\n",
    "yplot2 = array('d')\n",
    "yplot3 = array('d')\n",
    "\n",
    "tplot1 = array('d')\n",
    "tplot2 = array('d')\n",
    "tplot3 = array('d')\n",
    "\n",
    "for method in range(1,4):\n",
    "    time = 0.0\n",
    "    for iStep in range(0,nStep+1):\n",
    "        \n",
    "        if (method == 1):\n",
    "            yplot1.append(y1[0])\n",
    "            tplot1.append(time)\n",
    "            euler(state1,nState,time,tau,deriv1)\n",
    "            y1[0] = state1[0]\n",
    "            time = time + tau\n",
    "        else:\n",
    "            if (method == 2):\n",
    "                yplot2.append(y2[0])\n",
    "                tplot2.append(time)\n",
    "                euler(state2,nState,time,tau/2.0,deriv2)\n",
    "                y2[0] = state2[0]\n",
    "                time = time + tau/2.0\n",
    "                yplot2.append(y2[0])\n",
    "                tplot2.append(time)\n",
    "                euler(state2,nState,time,tau/2.0,deriv2)\n",
    "                y2[0] = state2[0]\n",
    "                time = time + tau/2.0\n",
    "            else:\n",
    "                rk2(state3,nState,time,tau,deriv3)\n",
    "                y3[0]=state3[0]\n",
    "                time = time + tau\n",
    "                yplot3.append(y3[0])\n",
    "                tplot3.append(time)\n",
    "                \n",
    "\n",
    "print (tplot1[nStep],tplot2[2*nStep],tplot3[nStep])    "
   ]
  },
  {
   "cell_type": "code",
   "execution_count": 7,
   "metadata": {
    "ExecuteTime": {
     "end_time": "2023-07-17T13:20:14.126102Z",
     "start_time": "2023-07-17T13:20:14.119305Z"
    }
   },
   "outputs": [],
   "source": []
  },
  {
   "cell_type": "code",
   "execution_count": 8,
   "metadata": {
    "ExecuteTime": {
     "end_time": "2023-07-17T13:20:16.921992Z",
     "start_time": "2023-07-17T13:20:15.213297Z"
    }
   },
   "outputs": [
    {
     "data": {
      "text/plain": "<matplotlib.legend.Legend at 0x10e8abf70>"
     },
     "execution_count": 8,
     "metadata": {},
     "output_type": "execute_result"
    },
    {
     "data": {
      "text/plain": "<Figure size 640x480 with 1 Axes>",
      "image/png": "[encoded data removed]"
     },
     "metadata": {},
     "output_type": "display_data"
    }
   ],
   "source": [
    "plt.plot(tplot1,yplot1,'r-',label='Euler')\n",
    "plt.plot(tplot2,yplot2,'b-',label='Euler Midpoint')\n",
    "plt.plot(tplot3,yplot3,'g-',label='Second Order Runge Kutta')\n",
    "plt.plot(tt,yy,'c--',label='Exact Solution')\n",
    "plt.yscale('log')\n",
    "plt.legend()"
   ]
  },
  {
   "cell_type": "code",
   "execution_count": null,
   "metadata": {},
   "outputs": [],
   "source": []
  }
 ],
 "metadata": {
  "kernelspec": {
   "display_name": "Python 3",
   "language": "python",
   "name": "python3"
  },
  "language_info": {
   "codemirror_mode": {
    "name": "ipython",
    "version": 3
   },
   "file_extension": ".py",
   "mimetype": "text/x-python",
   "name": "python",
   "nbconvert_exporter": "python",
   "pygments_lexer": "ipython3",
   "version": "3.6.8"
  }
 },
 "nbformat": 4,
 "nbformat_minor": 4
}
