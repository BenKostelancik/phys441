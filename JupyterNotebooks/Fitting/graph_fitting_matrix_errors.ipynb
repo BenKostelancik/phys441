{
 "cells": [
  {
   "cell_type": "code",
   "execution_count": 46,
   "metadata": {
    "ExecuteTime": {
     "end_time": "2023-07-16T21:11:49.032584Z",
     "start_time": "2023-07-16T21:11:48.993373Z"
    }
   },
   "outputs": [],
   "source": [
    "\n",
    "from array import array\n",
    "import math\n",
    "import numpy as np\n",
    "\n"
   ]
  },
  {
   "cell_type": "code",
   "execution_count": 47,
   "metadata": {
    "ExecuteTime": {
     "end_time": "2023-07-16T21:11:49.060906Z",
     "start_time": "2023-07-16T21:11:49.001580Z"
    }
   },
   "outputs": [],
   "source": [
    "def generator_function(x,par):\n",
    "    return par[0]+par[1]*x+par[2]*x*x+par[3]*x*x*x\n",
    "\n",
    "def generator_function_root(x,par):\n",
    "    return par[0]+par[1]*x[0]+par[2]*x[0]*x[0]+par[3]*x[0]*x[0]*x[0]\n",
    "\n",
    "def fitfunction(x,*paramlist):\n",
    "    return paramlist[0]+paramlist[1]*x+paramlist[2]*x*x+paramlist[3]*x*x*x\n",
    "\n",
    "par = array('d')\n",
    "par.append(1.80)\n",
    "par.append(-4.05)\n",
    "par.append(0.40)\n",
    "par.append(1.0000)"
   ]
  },
  {
   "cell_type": "code",
   "execution_count": 48,
   "metadata": {
    "ExecuteTime": {
     "end_time": "2023-07-16T21:11:49.061104Z",
     "start_time": "2023-07-16T21:11:49.004625Z"
    }
   },
   "outputs": [],
   "source": [
    "\n",
    "m = 3 #Set the order of the polynomial\n",
    "n = 15 #Set the number of data points\n",
    "walk = array('d')\n",
    "walk = [-1,1,-.5,.5,0,-1,1,-.5,.5,0,-1,1,-.5,.5,0]\n",
    "sigma = array('d')\n",
    "sigma = [1,1,1,2,2,2,1,1,1,3,3,3,1,1,1]"
   ]
  },
  {
   "cell_type": "code",
   "execution_count": 49,
   "metadata": {
    "ExecuteTime": {
     "end_time": "2023-07-16T21:11:49.061182Z",
     "start_time": "2023-07-16T21:11:49.015547Z"
    }
   },
   "outputs": [],
   "source": [
    "x = array('d')\n",
    "y = array('d')\n",
    "ex = array('d')\n",
    "ey = array('d')"
   ]
  },
  {
   "cell_type": "code",
   "execution_count": 50,
   "metadata": {
    "ExecuteTime": {
     "end_time": "2023-07-16T21:11:49.061243Z",
     "start_time": "2023-07-16T21:11:49.018321Z"
    }
   },
   "outputs": [],
   "source": [
    "for i in range(0,n):\n",
    "    x.append(-4.0+8.0*i/n)\n",
    "    y.append(generator_function(x[i],par)+0.5*walk[i])\n",
    "    ex.append(0.0)\n",
    "    ey.append(sigma[i])"
   ]
  },
  {
   "cell_type": "code",
   "execution_count": 51,
   "metadata": {
    "ExecuteTime": {
     "end_time": "2023-07-16T21:11:49.061304Z",
     "start_time": "2023-07-16T21:11:49.023510Z"
    }
   },
   "outputs": [],
   "source": [
    "m_params = m + 1\n",
    "a = np.zeros(shape = (m_params,m_params))\n",
    "v = np.zeros(shape = (m_params,1))"
   ]
  },
  {
   "cell_type": "code",
   "execution_count": 52,
   "metadata": {
    "ExecuteTime": {
     "end_time": "2023-07-16T21:11:49.061715Z",
     "start_time": "2023-07-16T21:11:49.037915Z"
    }
   },
   "outputs": [
    {
     "name": "stdout",
     "output_type": "stream",
     "text": [
      "Cofactor matrix:\n",
      "[[ 1.00833333e+01 -3.35555556e+00  6.71980247e+01 -5.53197037e+01]\n",
      " [-3.35555556e+00  6.71980247e+01 -5.53197037e+01  7.40389785e+02]\n",
      " [ 6.71980247e+01 -5.53197037e+01  7.40389785e+02 -9.68304626e+02]\n",
      " [-5.53197037e+01  7.40389785e+02 -9.68304626e+02  9.09794484e+03]]\n",
      "Constant matrix:\n",
      "[[ 3.48700617e+00]\n",
      " [ 4.40982867e+02]\n",
      " [-3.30025986e+02]\n",
      " [ 5.63221737e+03]]\n",
      "Inverse matrix\n",
      "[[ 0.27431292  0.05019039 -0.02823758 -0.0054219 ]\n",
      " [ 0.05019039  0.17365438 -0.01122607 -0.0150216 ]\n",
      " [-0.02823758 -0.01122607  0.00469904  0.001242  ]\n",
      " [-0.0054219  -0.0150216   0.001242    0.00143159]]\n",
      "Diagonal Check:\n",
      "[[ 1.00000000e+00  4.12100377e-16 -1.54404997e-16 -1.99010346e-17]\n",
      " [-1.23625986e-15  1.00000000e+00  1.81464793e-16  2.68557373e-16]\n",
      " [ 1.24460858e-15  5.01304535e-16  1.00000000e+00  4.05384769e-17]\n",
      " [-6.62107437e-15 -2.41144358e-14  3.07108591e-16  1.00000000e+00]]\n",
      "Coefficients:\n",
      "[[ 1.87146382]\n",
      " [-4.14638851]\n",
      " [ 0.39545786]\n",
      " [ 1.00996585]]\n"
     ]
    }
   ],
   "source": [
    "for k in range(0,m_params):\n",
    "    for i in range(0,n):\n",
    "        v[k][0]=v[k][0]+y[i]*math.pow(x[i],k)/math.pow(ey[i],2)\n",
    "    #print (\"v[%d] = %f\" % (k,v[k][0]))\n",
    "    for j in range(0,m_params):\n",
    "        for i in range(0,n):\n",
    "            a[k][j]=a[k][j]+math.pow(x[i],k+j)/math.pow(ey[i],2)\n",
    "        #print (\"a[%d][%d] = %f\" %(k,j,a[k][j]))\n",
    "        \n",
    "print (\"Cofactor matrix:\")\n",
    "print (a)\n",
    "print (\"Constant matrix:\")\n",
    "print (v)\n",
    "\n",
    "ainv = np.linalg.inv(a)\n",
    "u1 = np.dot(a,ainv)\n",
    "\n",
    "print (\"Inverse matrix\")\n",
    "print (ainv)\n",
    "print (\"Diagonal Check:\")\n",
    "print (u1)\n",
    "coeff = ainv*np.matrix(v)\n",
    "print (\"Coefficients:\")\n",
    "print (coeff)\n",
    "        "
   ]
  },
  {
   "cell_type": "code",
   "execution_count": 53,
   "metadata": {
    "ExecuteTime": {
     "end_time": "2023-07-16T21:11:49.061893Z",
     "start_time": "2023-07-16T21:11:49.047065Z"
    }
   },
   "outputs": [
    {
     "name": "stdout",
     "output_type": "stream",
     "text": [
      "i = 0  y = -40.100000  yfit = -39.853471\n",
      "i = 1  y = -20.514519  yfit = -21.078688\n",
      "i = 2  y = -8.367926  yfit = -8.054340\n",
      "i = 3  y = 0.250000  yfit = 0.138866\n",
      "i = 4  y = 4.249481  yfit = 4.420223\n",
      "i = 5  y = 5.040741  yfit = 5.709025\n",
      "i = 6  y = 5.284000  yfit = 4.924565\n",
      "i = 7  y = 2.639481  yfit = 2.986137\n",
      "i = 8  y = 1.017407  yfit = 0.813034\n",
      "i = 9  y = -0.672000  yfit = -0.675451\n",
      "i = 10  y = -1.018519  yfit = -0.560025\n",
      "i = 11  y = 2.638074  yfit = 2.078607\n",
      "i = 12  y = 7.958000  yfit = 8.159737\n",
      "i = 13  y = 18.851481  yfit = 18.602658\n",
      "i = 14  y = 34.228741  yfit = 34.326665\n",
      "chi2/dof = 1.060895 / 11.000000\n"
     ]
    }
   ],
   "source": [
    "yfit = 0\n",
    "error_sum = 0\n",
    "for j in range(0,n):\n",
    "    for k in range(0,m+1):\n",
    "        yfit = yfit + coeff[k]*math.pow(x[j],k)\n",
    "    print (\"i = %d  y = %f  yfit = %f\" % (j,y[j],yfit))\n",
    "    error_sum = error_sum + math.pow(((yfit-y[j])/ey[j]),2)\n",
    "    yfit = 0\n",
    "    \n",
    "chi2 = error_sum/(n-m)\n",
    "print (\"chi2/dof = %f / %f\" % (error_sum,(n-m-1)))"
   ]
  },
  {
   "cell_type": "code",
   "execution_count": 54,
   "metadata": {
    "ExecuteTime": {
     "end_time": "2023-07-16T21:11:49.062091Z",
     "start_time": "2023-07-16T21:11:49.054181Z"
    }
   },
   "outputs": [
    {
     "name": "stdout",
     "output_type": "stream",
     "text": [
      "Coefficients with Errors:\n",
      "p0 = 1.871464 +/- 0.523749\n",
      "p1 = -4.146389 +/- 0.416719\n",
      "p2 = 0.395458 +/- 0.068550\n",
      "p3 = 1.009966 +/- 0.037836\n"
     ]
    }
   ],
   "source": [
    "print (\"Coefficients with Errors:\")\n",
    "for k in range(0,m+1):\n",
    "    print(\"p%d = %f +/- %f\" % (k,coeff[k],math.pow(ainv[k][k],0.5)))"
   ]
  },
  {
   "cell_type": "code",
   "execution_count": 55,
   "outputs": [
    {
     "name": "stdout",
     "output_type": "stream",
     "text": [
      "[ 1.87146382 -4.14638852  0.39545786  1.00996585] [[ 0.02645612  0.00484061 -0.00272337 -0.00052292]\n",
      " [ 0.00484061  0.0167481  -0.0010827  -0.00144876]\n",
      " [-0.00272337 -0.0010827   0.0004532   0.00011979]\n",
      " [-0.00052292 -0.00144876  0.00011979  0.00013807]]\n",
      "Coefficients (from curve_fit)\n",
      "[ 1.87146382 -4.14638852  0.39545786  1.00996585]\n",
      "Covariance Matrix (from curve_fit)\n",
      "[[ 0.02645612  0.00484061 -0.00272337 -0.00052292]\n",
      " [ 0.00484061  0.0167481  -0.0010827  -0.00144876]\n",
      " [-0.00272337 -0.0010827   0.0004532   0.00011979]\n",
      " [-0.00052292 -0.00144876  0.00011979  0.00013807]]\n",
      "Chi^2 / dof = 1.061E+00 / 11\n",
      "Fit Parameter 0: 1.871E+00 +/- 1.627E-01\n",
      "0 1 2.300E-01\n",
      "0 2 -7.865E-01\n",
      "0 3 -2.736E-01\n",
      "Fit Parameter 1: -4.146E+00 +/- 1.294E-01\n",
      "1 2 -3.930E-01\n",
      "1 3 -9.527E-01\n",
      "Fit Parameter 2: 3.955E-01 +/- 2.129E-02\n",
      "2 3 4.789E-01\n",
      "Fit Parameter 3: 1.010E+00 +/- 1.175E-02\n"
     ]
    },
    {
     "data": {
      "text/plain": "<Figure size 1100x800 with 1 Axes>",
      "image/png": "[encoded data removed]"
     },
     "metadata": {},
     "output_type": "display_data"
    }
   ],
   "source": [
    "import matplotlib.pyplot as plt\n",
    "from scipy.optimize import curve_fit\n",
    "\n",
    "x = np.array(x)\n",
    "y = np.array(y)\n",
    "ex = np.array(ex)\n",
    "ey = np.array(ey)\n",
    "\n",
    "\n",
    "fig = plt.figure(figsize=(11,8))\n",
    "ax1 = fig.add_subplot(111)\n",
    "\n",
    "ax1.set_title(\"Polynomial Fit\")\n",
    "ax1.set_xlabel('X')\n",
    "ax1.set_ylabel('Y')\n",
    "ax1.set_yscale(\"linear\")\n",
    "ax1.grid(True)\n",
    "\n",
    "ax1.errorbar(x,y,yerr=sigma,fmt='o')\n",
    "\n",
    "init_vals = [0.0 for x in range(0,m_params)]\n",
    "popt, pcov = curve_fit(fitfunction,x,y,sigma=ey,p0=init_vals)\n",
    "\n",
    "print (popt,pcov)\n",
    "\n",
    "xi = np.linspace(np.min(x),np.max(x),100)\n",
    "ps = np.random.multivariate_normal(popt,pcov,10000)\n",
    "ysample=np.asarray([fitfunction(xi,*pi) for pi in ps])\n",
    "lower = np.percentile(ysample,16.0,axis=0)\n",
    "upper = np.percentile(ysample,84.0,axis=0)\n",
    "\n",
    "print(\"Coefficients (from curve_fit)\")\n",
    "print (popt)\n",
    "print(\"Covariance Matrix (from curve_fit)\")\n",
    "print (pcov)\n",
    "\n",
    "yfit = []\n",
    "chi2=0\n",
    "for i in range (0,n):\n",
    "    yfit.append(fitfunction(x[i],*popt))\n",
    "    #chi2 += (y[i]-yfit[i])*(y[i]-yfit[i])\n",
    "    chi2 += (y[i]-yfit[i])*(y[i]-yfit[i])/(sigma[i]*sigma[i])\n",
    "\n",
    "print (\"Chi^2 / dof = %.3E / %d\" % (chi2,n-len(init_vals)))\n",
    "\n",
    "param = []\n",
    "rhom = []\n",
    "param.append(float(chi2))\n",
    "param.append(n-len(init_vals))\n",
    "for ii in range(0,len(init_vals)):\n",
    "    param.append(float(popt[ii]))\n",
    "    param.append(float(np.sqrt(pcov[ii][ii])))\n",
    "    print(\"Fit Parameter %d: %.3E +/- %.3E\" % (ii,popt[ii],np.sqrt(pcov[ii][ii])))\n",
    "    for jj in range(0,len(init_vals)):\n",
    "        rhom.append(float(pcov[ii][jj])/pow(float(pcov[ii][ii]*pcov[jj][jj]),0.5))\n",
    "        if jj > ii:\n",
    "            print(\"%d %d %.3E\" % (ii,jj,rhom[ii*len(init_vals)+jj]))\n",
    "\n",
    "mylabel = \"Chi^2/dof = %.3E / %d\\n\"\n",
    "for i in range(0,len(init_vals)):\n",
    "    code = \"p\" + str(i)\n",
    "    mylabel = mylabel + code + \" = %.3E +/- %.3E\\n\"\n",
    "\n",
    "ax1.plot(xi, fitfunction(xi, *popt), 'r--', label = mylabel % tuple(param))\n",
    "ax1.plot(xi,lower,'b--')\n",
    "ax1.plot(xi,upper,'b--')\n",
    "\n",
    "leg = ax1.legend()\n",
    "plt.show()"
   ],
   "metadata": {
    "collapsed": false,
    "ExecuteTime": {
     "end_time": "2023-07-16T21:11:49.498259Z",
     "start_time": "2023-07-16T21:11:49.078482Z"
    }
   }
  },
  {
   "cell_type": "code",
   "execution_count": 55,
   "outputs": [],
   "source": [
    "\n"
   ],
   "metadata": {
    "collapsed": false,
    "ExecuteTime": {
     "end_time": "2023-07-16T21:11:49.502435Z",
     "start_time": "2023-07-16T21:11:49.499559Z"
    }
   }
  },
  {
   "cell_type": "code",
   "execution_count": 55,
   "metadata": {
    "ExecuteTime": {
     "end_time": "2023-07-16T21:11:49.507141Z",
     "start_time": "2023-07-16T21:11:49.503532Z"
    }
   },
   "outputs": [],
   "source": []
  },
  {
   "cell_type": "code",
   "execution_count": 55,
   "metadata": {
    "ExecuteTime": {
     "end_time": "2023-07-16T21:11:49.511928Z",
     "start_time": "2023-07-16T21:11:49.508907Z"
    }
   },
   "outputs": [],
   "source": []
  },
  {
   "cell_type": "code",
   "execution_count": 55,
   "metadata": {
    "ExecuteTime": {
     "end_time": "2023-07-16T21:11:49.612200Z",
     "start_time": "2023-07-16T21:11:49.512525Z"
    }
   },
   "outputs": [],
   "source": []
  }
 ],
 "metadata": {
  "kernelspec": {
   "display_name": "Python 3",
   "language": "python",
   "name": "python3"
  },
  "language_info": {
   "codemirror_mode": {
    "name": "ipython",
    "version": 3
   },
   "file_extension": ".py",
   "mimetype": "text/x-python",
   "name": "python",
   "nbconvert_exporter": "python",
   "pygments_lexer": "ipython3",
   "version": "3.7.3"
  }
 },
 "nbformat": 4,
 "nbformat_minor": 2
}
