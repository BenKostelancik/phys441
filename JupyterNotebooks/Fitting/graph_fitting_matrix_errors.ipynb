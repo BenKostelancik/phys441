{
 "cells": [
  {
   "cell_type": "code",
   "execution_count": 1,
   "metadata": {
    "ExecuteTime": {
     "end_time": "2023-07-14T02:32:14.556790Z",
     "start_time": "2023-07-14T02:32:11.907028Z"
    }
   },
   "outputs": [
    {
     "name": "stdout",
     "output_type": "stream",
     "text": [
      "Welcome to JupyROOT 6.28/04\n"
     ]
    }
   ],
   "source": [
    "from ROOT import TCanvas, TFile\n",
    "from ROOT import TGraph, TF1, TGraphErrors\n",
    "from ROOT import gStyle\n",
    "from array import array\n",
    "import math\n",
    "import numpy as np\n",
    "\n",
    "c1 = TCanvas( 'c1', 'Fitting Example with Errors', 200, 10, 700, 500 )\n",
    "c1.SetGridx()\n",
    "c1.SetGridy()\n",
    "c1.GetFrame().SetFillColor( 21 )\n",
    "c1.GetFrame().SetBorderMode(-1 )\n",
    "c1.GetFrame().SetBorderSize( 5 )"
   ]
  },
  {
   "cell_type": "code",
   "execution_count": 2,
   "metadata": {
    "ExecuteTime": {
     "end_time": "2023-07-14T02:32:16.497719Z",
     "start_time": "2023-07-14T02:32:16.391659Z"
    }
   },
   "outputs": [],
   "source": [
    "def generator_function(x,par):\n",
    "    return par[0]+par[1]*x+par[2]*x*x+par[3]*x*x*x\n",
    "\n",
    "def generator_function_root(x,par):\n",
    "    return par[0]+par[1]*x[0]+par[2]*x[0]*x[0]+par[3]*x[0]*x[0]*x[0]\n",
    "\n",
    "par = array('d')\n",
    "par.append(1.80)\n",
    "par.append(-4.05)\n",
    "par.append(0.40)\n",
    "par.append(1.0000)"
   ]
  },
  {
   "cell_type": "code",
   "execution_count": 3,
   "metadata": {
    "ExecuteTime": {
     "end_time": "2023-07-14T02:32:18.865244Z",
     "start_time": "2023-07-14T02:32:18.760671Z"
    }
   },
   "outputs": [],
   "source": [
    "gStyle.SetOptFit(1)\n",
    "m = 3 #Set the order of the polynomial\n",
    "n = 15 #Set the number of data points\n",
    "walk = array('d')\n",
    "walk = [-1,1,-.5,.5,0,-1,1,-.5,.5,0,-1,1,-.5,.5,0]\n",
    "sigma = array('d')\n",
    "sigma = [1,1,1,2,2,2,1,1,1,3,3,3,1,1,1]"
   ]
  },
  {
   "cell_type": "code",
   "execution_count": 4,
   "metadata": {
    "ExecuteTime": {
     "end_time": "2023-07-14T02:32:19.745339Z",
     "start_time": "2023-07-14T02:32:19.638838Z"
    }
   },
   "outputs": [],
   "source": [
    "x = array('d')\n",
    "y = array('d')\n",
    "ex = array('d')\n",
    "ey = array('d')"
   ]
  },
  {
   "cell_type": "code",
   "execution_count": 5,
   "metadata": {
    "ExecuteTime": {
     "end_time": "2023-07-14T02:32:20.713221Z",
     "start_time": "2023-07-14T02:32:20.605995Z"
    }
   },
   "outputs": [],
   "source": [
    "for i in range(0,n):\n",
    "    x.append(-4.0+8.0*i/n)\n",
    "    y.append(generator_function(x[i],par)+0.5*walk[i])\n",
    "    ex.append(0.0)\n",
    "    ey.append(sigma[i])"
   ]
  },
  {
   "cell_type": "code",
   "execution_count": 6,
   "metadata": {
    "ExecuteTime": {
     "end_time": "2023-07-14T02:32:22.027696Z",
     "start_time": "2023-07-14T02:32:21.923388Z"
    }
   },
   "outputs": [],
   "source": [
    "m_params = m + 1\n",
    "a = np.zeros(shape = (m_params,m_params))\n",
    "v = np.zeros(shape = (m_params,1))"
   ]
  },
  {
   "cell_type": "code",
   "execution_count": 7,
   "metadata": {
    "ExecuteTime": {
     "end_time": "2023-07-14T02:32:23.016815Z",
     "start_time": "2023-07-14T02:32:22.908822Z"
    }
   },
   "outputs": [
    {
     "name": "stdout",
     "output_type": "stream",
     "text": [
      "Cofactor matrix:\n",
      "[[ 1.00833333e+01 -3.35555556e+00  6.71980247e+01 -5.53197037e+01]\n",
      " [-3.35555556e+00  6.71980247e+01 -5.53197037e+01  7.40389785e+02]\n",
      " [ 6.71980247e+01 -5.53197037e+01  7.40389785e+02 -9.68304626e+02]\n",
      " [-5.53197037e+01  7.40389785e+02 -9.68304626e+02  9.09794484e+03]]\n",
      "Constant matrix:\n",
      "[[ 3.48700617e+00]\n",
      " [ 4.40982867e+02]\n",
      " [-3.30025986e+02]\n",
      " [ 5.63221737e+03]]\n",
      "Inverse matrix\n",
      "[[ 0.27431292  0.05019039 -0.02823758 -0.0054219 ]\n",
      " [ 0.05019039  0.17365438 -0.01122607 -0.0150216 ]\n",
      " [-0.02823758 -0.01122607  0.00469904  0.001242  ]\n",
      " [-0.0054219  -0.0150216   0.001242    0.00143159]]\n",
      "Diagonal Check:\n",
      "[[ 1.00000000e+00  4.12100377e-16 -1.54404997e-16 -1.99010346e-17]\n",
      " [-1.23625986e-15  1.00000000e+00  1.81464793e-16  2.68557373e-16]\n",
      " [ 1.24460858e-15  5.01304535e-16  1.00000000e+00  4.05384769e-17]\n",
      " [-6.62107437e-15 -2.41144358e-14  3.07108591e-16  1.00000000e+00]]\n",
      "Coefficients:\n",
      "[[ 1.87146382]\n",
      " [-4.14638851]\n",
      " [ 0.39545786]\n",
      " [ 1.00996585]]\n"
     ]
    }
   ],
   "source": [
    "for k in range(0,m_params):\n",
    "    for i in range(0,n):\n",
    "        v[k][0]=v[k][0]+y[i]*math.pow(x[i],k)/math.pow(ey[i],2)\n",
    "    #print (\"v[%d] = %f\" % (k,v[k][0]))\n",
    "    for j in range(0,m_params):\n",
    "        for i in range(0,n):\n",
    "            a[k][j]=a[k][j]+math.pow(x[i],k+j)/math.pow(ey[i],2)\n",
    "        #print (\"a[%d][%d] = %f\" %(k,j,a[k][j]))\n",
    "        \n",
    "print (\"Cofactor matrix:\")\n",
    "print (a)\n",
    "print (\"Constant matrix:\")\n",
    "print (v)\n",
    "\n",
    "ainv = np.linalg.inv(a)\n",
    "u1 = np.dot(a,ainv)\n",
    "\n",
    "print (\"Inverse matrix\")\n",
    "print (ainv)\n",
    "print (\"Diagonal Check:\")\n",
    "print (u1)\n",
    "coeff = ainv*np.matrix(v)\n",
    "print (\"Coefficients:\")\n",
    "print (coeff)\n",
    "        "
   ]
  },
  {
   "cell_type": "code",
   "execution_count": 8,
   "metadata": {
    "ExecuteTime": {
     "end_time": "2023-07-14T02:32:24.163731Z",
     "start_time": "2023-07-14T02:32:24.059830Z"
    }
   },
   "outputs": [
    {
     "name": "stdout",
     "output_type": "stream",
     "text": [
      "i = 0  y = -40.100000  yfit = -39.853471\n",
      "i = 1  y = -20.514519  yfit = -21.078688\n",
      "i = 2  y = -8.367926  yfit = -8.054340\n",
      "i = 3  y = 0.250000  yfit = 0.138866\n",
      "i = 4  y = 4.249481  yfit = 4.420223\n",
      "i = 5  y = 5.040741  yfit = 5.709025\n",
      "i = 6  y = 5.284000  yfit = 4.924565\n",
      "i = 7  y = 2.639481  yfit = 2.986137\n",
      "i = 8  y = 1.017407  yfit = 0.813034\n",
      "i = 9  y = -0.672000  yfit = -0.675451\n",
      "i = 10  y = -1.018519  yfit = -0.560025\n",
      "i = 11  y = 2.638074  yfit = 2.078607\n",
      "i = 12  y = 7.958000  yfit = 8.159737\n",
      "i = 13  y = 18.851481  yfit = 18.602658\n",
      "i = 14  y = 34.228741  yfit = 34.326665\n",
      "chi2/dof = 1.060895 / 11.000000\n"
     ]
    },
    {
     "name": "stderr",
     "output_type": "stream",
     "text": [
      "/var/folders/jg/3shqt61x201b290vj1j83q5r0000gq/T/ipykernel_5167/2015070024.py:6: DeprecationWarning: Conversion of an array with ndim > 0 to a scalar is deprecated, and will error in future. Ensure you extract a single element from your array before performing this operation. (Deprecated NumPy 1.25.)\n",
      "  print (\"i = %d  y = %f  yfit = %f\" % (j,y[j],yfit))\n",
      "/var/folders/jg/3shqt61x201b290vj1j83q5r0000gq/T/ipykernel_5167/2015070024.py:7: DeprecationWarning: Conversion of an array with ndim > 0 to a scalar is deprecated, and will error in future. Ensure you extract a single element from your array before performing this operation. (Deprecated NumPy 1.25.)\n",
      "  error_sum = error_sum + math.pow(((yfit-y[j])/ey[j]),2)\n"
     ]
    }
   ],
   "source": [
    "yfit = 0\n",
    "error_sum = 0\n",
    "for j in range(0,n):\n",
    "    for k in range(0,m+1):\n",
    "        yfit = yfit + coeff[k]*math.pow(x[j],k)\n",
    "    print (\"i = %d  y = %f  yfit = %f\" % (j,y[j],yfit))\n",
    "    error_sum = error_sum + math.pow(((yfit-y[j])/ey[j]),2)\n",
    "    yfit = 0\n",
    "    \n",
    "chi2 = error_sum/(n-m)\n",
    "print (\"chi2/dof = %f / %f\" % (error_sum,(n-m-1)))"
   ]
  },
  {
   "cell_type": "code",
   "execution_count": 9,
   "metadata": {
    "ExecuteTime": {
     "end_time": "2023-07-14T02:32:28.172335Z",
     "start_time": "2023-07-14T02:32:28.060218Z"
    }
   },
   "outputs": [
    {
     "name": "stdout",
     "output_type": "stream",
     "text": [
      "Coefficients with Errors:\n",
      "p0 = 1.871464 +/- 0.523749\n",
      "p1 = -4.146389 +/- 0.416719\n",
      "p2 = 0.395458 +/- 0.068550\n",
      "p3 = 1.009966 +/- 0.037836\n"
     ]
    },
    {
     "name": "stderr",
     "output_type": "stream",
     "text": [
      "/var/folders/jg/3shqt61x201b290vj1j83q5r0000gq/T/ipykernel_5167/3746815851.py:3: DeprecationWarning: Conversion of an array with ndim > 0 to a scalar is deprecated, and will error in future. Ensure you extract a single element from your array before performing this operation. (Deprecated NumPy 1.25.)\n",
      "  print(\"p%d = %f +/- %f\" % (k,coeff[k],math.pow(ainv[k][k],0.5)))\n"
     ]
    }
   ],
   "source": [
    "print (\"Coefficients with Errors:\")\n",
    "for k in range(0,m+1):\n",
    "    print(\"p%d = %f +/- %f\" % (k,coeff[k],math.pow(ainv[k][k],0.5)))"
   ]
  },
  {
   "cell_type": "code",
   "execution_count": 10,
   "metadata": {
    "ExecuteTime": {
     "end_time": "2023-07-14T02:32:33.243782Z",
     "start_time": "2023-07-14T02:32:31.876452Z"
    }
   },
   "outputs": [
    {
     "name": "stdout",
     "output_type": "stream",
     "text": [
      "pol3\n",
      "Fit 1: 1.060895 11.000000 \n",
      "\n"
     ]
    },
    {
     "data": {
      "image/png": "[encoded data removed]",
      "text/plain": "<IPython.core.display.Image object>"
     },
     "metadata": {},
     "output_type": "display_data"
    }
   ],
   "source": [
    "poltype = \"pol\"+str(m)\n",
    "print (poltype)\n",
    "gr = TGraphErrors(n,x,y,ex,ey)\n",
    "pfit1 = TF1(\"pfit1\",poltype)\n",
    "pfit2 = TF1(\"pfit2\",generator_function_root,-5.0,5.0,4)\n",
    "gr.SetMarkerStyle(21)\n",
    "gr.SetTitle(\"Cubic Fit\")\n",
    "gr.GetXaxis().SetTitle(\"X\")\n",
    "gr.GetYaxis().SetTitle(\"Y\")\n",
    "gr.Fit(\"pfit1\",\"q\")\n",
    "gr.Fit(\"pfit2\",\"q\")\n",
    "pfit1chi2 = pfit2.GetChisquare()\n",
    "pfit1ndf = pfit2.GetNDF()\n",
    "pfit1chi2ndf = pfit1chi2/pfit1ndf\n",
    "print(\"Fit 1: %f %f \\n\" % (pfit1chi2,pfit1ndf))\n",
    "gr.Draw(\"AP\")\n",
    "c1.Draw()"
   ]
  },
  {
   "cell_type": "code",
   "execution_count": null,
   "metadata": {},
   "outputs": [],
   "source": []
  },
  {
   "cell_type": "code",
   "execution_count": null,
   "metadata": {},
   "outputs": [],
   "source": []
  }
 ],
 "metadata": {
  "kernelspec": {
   "display_name": "Python 3",
   "language": "python",
   "name": "python3"
  },
  "language_info": {
   "codemirror_mode": {
    "name": "ipython",
    "version": 3
   },
   "file_extension": ".py",
   "mimetype": "text/x-python",
   "name": "python",
   "nbconvert_exporter": "python",
   "pygments_lexer": "ipython3",
   "version": "3.7.3"
  }
 },
 "nbformat": 4,
 "nbformat_minor": 2
}
