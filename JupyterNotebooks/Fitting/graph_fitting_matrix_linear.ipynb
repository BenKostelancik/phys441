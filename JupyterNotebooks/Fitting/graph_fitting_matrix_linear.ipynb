{
 "cells": [
  {
   "cell_type": "code",
   "execution_count": 2,
   "metadata": {
    "ExecuteTime": {
     "end_time": "2023-07-16T23:31:22.866510Z",
     "start_time": "2023-07-16T23:31:22.858872Z"
    }
   },
   "outputs": [],
   "source": [
    "from array import array\n",
    "import math\n",
    "import numpy as np"
   ]
  },
  {
   "cell_type": "code",
   "execution_count": 3,
   "metadata": {
    "ExecuteTime": {
     "end_time": "2023-07-16T23:31:23.296535Z",
     "start_time": "2023-07-16T23:31:23.290261Z"
    }
   },
   "outputs": [],
   "source": [
    "def generator_function(x,par):\n",
    "    return par[0]+par[1]*x"
   ]
  },
  {
   "cell_type": "code",
   "execution_count": 4,
   "metadata": {
    "ExecuteTime": {
     "end_time": "2023-07-16T23:31:23.562957Z",
     "start_time": "2023-07-16T23:31:23.556514Z"
    }
   },
   "outputs": [],
   "source": [
    "m = 1 #Set the order of the polynomial\n",
    "n = 15 #Set the number of data points\n",
    "jitter = array('d')\n",
    "jitter = [-2,2,-1,1,0,-2,2,-1,1,0,-2,2,-1,1,0]"
   ]
  },
  {
   "cell_type": "code",
   "execution_count": 5,
   "metadata": {
    "ExecuteTime": {
     "end_time": "2023-07-16T23:31:23.880507Z",
     "start_time": "2023-07-16T23:31:23.873502Z"
    }
   },
   "outputs": [],
   "source": [
    "x = array('d')\n",
    "y = array('d')"
   ]
  },
  {
   "cell_type": "code",
   "execution_count": 6,
   "metadata": {
    "ExecuteTime": {
     "end_time": "2023-07-16T23:31:24.197369Z",
     "start_time": "2023-07-16T23:31:24.190285Z"
    }
   },
   "outputs": [],
   "source": [
    "par = array('d')\n",
    "par.append(1.80)\n",
    "par.append(4.05)\n",
    "\n",
    "for i in range(0,n):\n",
    "    x.append(-4.0+8.0*i/n)\n",
    "    y.append(generator_function(x[i],par)+jitter[i])"
   ]
  },
  {
   "cell_type": "code",
   "execution_count": 7,
   "metadata": {
    "ExecuteTime": {
     "end_time": "2023-07-16T23:31:24.559293Z",
     "start_time": "2023-07-16T23:31:24.557008Z"
    }
   },
   "outputs": [],
   "source": [
    "m_params = m + 1\n",
    "a = np.zeros(shape = (m_params,m_params))\n",
    "v = np.zeros(shape = (m_params,1))"
   ]
  },
  {
   "cell_type": "code",
   "execution_count": 8,
   "metadata": {
    "ExecuteTime": {
     "end_time": "2023-07-16T23:31:25.017687Z",
     "start_time": "2023-07-16T23:31:24.993556Z"
    }
   },
   "outputs": [
    {
     "name": "stdout",
     "output_type": "stream",
     "text": [
      "A matrix = \n",
      "[[15.         -4.        ]\n",
      " [-4.         80.71111111]]\n",
      "V matrix = \n",
      "[[ 10.8 ]\n",
      " [324.48]]\n",
      "A_inverse = \n",
      "[[0.06755952 0.00334821]\n",
      " [0.00334821 0.0125558 ]]\n",
      "Diagonal Check:\n",
      "[[ 1.00000000e+00  0.00000000e+00]\n",
      " [-2.75793497e-17  1.00000000e+00]]\n",
      "Coefficients:\n",
      "[[1.81607143]\n",
      " [4.11026786]]\n"
     ]
    }
   ],
   "source": [
    "for k in range(0,m_params):\n",
    "    for i in range(0,n):\n",
    "        v[k][0]=v[k][0]+y[i]*math.pow(x[i],k)\n",
    "    #print (\"v[%d] = %f\" % (k,v[k][0]))\n",
    "    for j in range(0,m_params):\n",
    "        for i in range(0,n):\n",
    "            a[k][j]=a[k][j]+math.pow(x[i],k+j)\n",
    "        #print (\"a[%d][%d] = %f\" %(k,j,a[k][j]))\n",
    "        \n",
    "print (\"A matrix = \")        \n",
    "print (a)\n",
    "print(\"V matrix = \")\n",
    "print (v)\n",
    "\n",
    "ainv = np.linalg.inv(a)\n",
    "u1 = np.dot(a,ainv)\n",
    "\n",
    "print (\"A_inverse = \")\n",
    "print (ainv)\n",
    "print (\"Diagonal Check:\")\n",
    "print (u1)\n",
    "coeff = ainv*np.matrix(v)\n",
    "print (\"Coefficients:\")\n",
    "print (coeff)\n",
    "        "
   ]
  },
  {
   "cell_type": "code",
   "execution_count": 9,
   "metadata": {
    "ExecuteTime": {
     "end_time": "2023-07-16T23:31:25.779420Z",
     "start_time": "2023-07-16T23:31:25.775215Z"
    }
   },
   "outputs": [
    {
     "name": "stdout",
     "output_type": "stream",
     "text": [
      "i = 0  y = -16.400000  yfit = -14.625000\n",
      "i = 1  y = -10.240000  yfit = -12.432857\n",
      "i = 2  y = -11.080000  yfit = -10.240714\n",
      "i = 3  y = -6.920000  yfit = -8.048571\n",
      "i = 4  y = -5.760000  yfit = -5.856429\n",
      "i = 5  y = -5.600000  yfit = -3.664286\n",
      "i = 6  y = 0.560000  yfit = -1.472143\n",
      "i = 7  y = -0.280000  yfit = 0.720000\n",
      "i = 8  y = 3.880000  yfit = 2.912143\n",
      "i = 9  y = 5.040000  yfit = 5.104286\n",
      "i = 10  y = 5.200000  yfit = 7.296429\n",
      "i = 11  y = 11.360000  yfit = 9.488571\n",
      "i = 12  y = 10.520000  yfit = 11.680714\n",
      "i = 13  y = 14.680000  yfit = 13.872857\n",
      "i = 14  y = 15.840000  yfit = 16.065000\n",
      "chi2/dof = 29.710714 / 13.000000\n"
     ]
    },
    {
     "name": "stderr",
     "output_type": "stream",
     "text": [
      "/var/folders/jg/3shqt61x201b290vj1j83q5r0000gq/T/ipykernel_84364/353095447.py:6: DeprecationWarning: Conversion of an array with ndim > 0 to a scalar is deprecated, and will error in future. Ensure you extract a single element from your array before performing this operation. (Deprecated NumPy 1.25.)\n",
      "  print (\"i = %d  y = %f  yfit = %f\" % (i,y[i],yfit))\n",
      "/var/folders/jg/3shqt61x201b290vj1j83q5r0000gq/T/ipykernel_84364/353095447.py:7: DeprecationWarning: Conversion of an array with ndim > 0 to a scalar is deprecated, and will error in future. Ensure you extract a single element from your array before performing this operation. (Deprecated NumPy 1.25.)\n",
      "  chi2 = chi2 + math.pow((yfit-y[i]),2)\n"
     ]
    }
   ],
   "source": [
    "yfit = 0\n",
    "chi2 = 0\n",
    "for i in range(0,n):\n",
    "    for j in range(0,m+1):\n",
    "        yfit = yfit + coeff[j]*math.pow(x[i],j)\n",
    "    print (\"i = %d  y = %f  yfit = %f\" % (i,y[i],yfit))\n",
    "    chi2 = chi2 + math.pow((yfit-y[i]),2)\n",
    "    yfit = 0\n",
    "    \n",
    "chi2perdof = chi2/(n-m-1)\n",
    "print (\"chi2/dof = %f / %f\" % (chi2,(n-m-1)))"
   ]
  },
  {
   "cell_type": "code",
   "execution_count": 10,
   "metadata": {
    "ExecuteTime": {
     "end_time": "2023-07-16T23:31:26.298181Z",
     "start_time": "2023-07-16T23:31:26.291632Z"
    }
   },
   "outputs": [
    {
     "name": "stdout",
     "output_type": "stream",
     "text": [
      "k = 0, err = 0.392942\n",
      "k = 1, err = 0.169398\n"
     ]
    }
   ],
   "source": [
    "for k in range(0,m+1):\n",
    "    print(\"k = %d, err = %f\" % (k,math.pow(ainv[k][k]*chi2perdof,0.5)))"
   ]
  },
  {
   "cell_type": "code",
   "execution_count": 11,
   "outputs": [
    {
     "name": "stdout",
     "output_type": "stream",
     "text": [
      "Fit params:  [4.11026786 1.81607144]\n",
      "Covariance Matrix:  [[0.02869553 0.00765214]\n",
      " [0.00765214 0.1544032 ]]\n",
      "Errors in Fit params:  [0.16939755 0.39294173]\n",
      "Fit 1: 29.71071428571429 13\n",
      "\n"
     ]
    },
    {
     "data": {
      "text/plain": "<Figure size 640x480 with 1 Axes>",
      "image/png": "[encoded data removed]"
     },
     "metadata": {},
     "output_type": "display_data"
    }
   ],
   "source": [
    "import matplotlib.pyplot as plt\n",
    "import numpy as np\n",
    "from scipy.optimize import curve_fit\n",
    "\n",
    "x = np.array(x)\n",
    "y = np.array(y)\n",
    "\n",
    "fig, ax = plt.subplots()\n",
    "\n",
    "ax.set_xlabel('X')\n",
    "ax.set_ylabel('Y')\n",
    "ax.set_title('Linear Fit')\n",
    "\n",
    "# Perform linear fit using curve_fit\n",
    "def linear_func(x, a, b):\n",
    "    return a * x + b\n",
    "\n",
    "fit_params, covariance_matrix = curve_fit(linear_func, x, y)\n",
    "fit_line = linear_func(x, *fit_params)\n",
    "error_fit_params = np.sqrt(np.diag(covariance_matrix))\n",
    "\n",
    "print(\"Fit params: \",fit_params)\n",
    "print(\"Covariance Matrix: \",covariance_matrix)\n",
    "print(\"Errors in Fit params: \",error_fit_params)\n",
    "\n",
    "# Calculate chi-squared\n",
    "residuals = y - fit_line\n",
    "chi2 = np.sum(residuals ** 2)\n",
    "ndf = n - len(fit_params)\n",
    "chi2_ndf = chi2 / ndf\n",
    "print(f\"Fit 1: {chi2} {ndf}\\n\")\n",
    "\n",
    "ax.plot(x, y, 'o', markersize=5, label='Data')\n",
    "ax.plot(x, fit_line, '-', label='Linear Fit')\n",
    "ax.legend()\n",
    "\n",
    "plt.show()\n"
   ],
   "metadata": {
    "collapsed": false,
    "ExecuteTime": {
     "end_time": "2023-07-16T23:31:27.140907Z",
     "start_time": "2023-07-16T23:31:26.909854Z"
    }
   }
  },
  {
   "cell_type": "code",
   "execution_count": null,
   "metadata": {
    "is_executing": true,
    "ExecuteTime": {
     "start_time": "2023-07-16T23:27:13.429017Z"
    }
   },
   "outputs": [],
   "source": []
  },
  {
   "cell_type": "code",
   "execution_count": null,
   "metadata": {
    "is_executing": true
   },
   "outputs": [],
   "source": []
  }
 ],
 "metadata": {
  "kernelspec": {
   "display_name": "Python 3",
   "language": "python",
   "name": "python3"
  },
  "language_info": {
   "codemirror_mode": {
    "name": "ipython",
    "version": 3
   },
   "file_extension": ".py",
   "mimetype": "text/x-python",
   "name": "python",
   "nbconvert_exporter": "python",
   "pygments_lexer": "ipython3",
   "version": "3.6.8"
  }
 },
 "nbformat": 4,
 "nbformat_minor": 2
}
