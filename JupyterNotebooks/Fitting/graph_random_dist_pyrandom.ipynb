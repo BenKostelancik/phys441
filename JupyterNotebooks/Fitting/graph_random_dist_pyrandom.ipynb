{
 "cells": [
  {
   "cell_type": "code",
   "execution_count": 4,
   "metadata": {
    "ExecuteTime": {
     "end_time": "2023-07-16T16:20:06.724099Z",
     "start_time": "2023-07-16T16:20:06.721944Z"
    }
   },
   "outputs": [],
   "source": []
  },
  {
   "cell_type": "code",
   "execution_count": 4,
   "metadata": {
    "ExecuteTime": {
     "end_time": "2023-07-16T16:20:07.294714Z",
     "start_time": "2023-07-16T16:20:07.288970Z"
    }
   },
   "outputs": [],
   "source": []
  },
  {
   "cell_type": "code",
   "execution_count": 4,
   "metadata": {
    "ExecuteTime": {
     "end_time": "2023-07-16T16:20:08.377235Z",
     "start_time": "2023-07-16T16:20:08.374107Z"
    }
   },
   "outputs": [],
   "source": []
  },
  {
   "cell_type": "code",
   "execution_count": null,
   "metadata": {
    "is_executing": true,
    "ExecuteTime": {
     "start_time": "2023-07-16T16:20:09.453280Z"
    }
   },
   "outputs": [],
   "source": [
    "import matplotlib.pyplot as plt\n",
    "import numpy as np\n",
    "import random\n",
    "import math\n",
    "\n",
    "# Set the seed for random number generation\n",
    "random.seed(1)\n",
    "\n",
    "# Define the number of points, seed, and number of bins\n",
    "npoints = 10000000\n",
    "iseed = 1\n",
    "nbins = 100\n",
    "\n",
    "# Create a figure and axes\n",
    "fig, ax = plt.subplots()\n",
    "\n",
    "# Generate random numbers using the Python random module and fill the histogram\n",
    "data = [random.random() for _ in range(npoints)]\n",
    "hist, bins, _ = ax.hist(data, bins=nbins, range=(0.0, 1.0), histtype='step', density=True)\n",
    "\n",
    "# Calculate the three-sigma error\n",
    "error = 3.0 / math.sqrt(npoints / nbins)\n",
    "print(\"Three-sigma Error = %f\" % error)\n",
    "\n",
    "# Add horizontal lines for error\n",
    "ax.axhline(1 + error, color='r', linestyle='--')\n",
    "ax.axhline(1 - error, color='r', linestyle='--')\n",
    "\n",
    "# Set the y-axis range\n",
    "ax.set_ylim(1 - 2.0 * error, 1.0 + 2.0 * error)\n",
    "\n",
    "# Set labels\n",
    "ax.set_title('Random Number Generation')\n",
    "ax.set_xlabel('Value')\n",
    "ax.set_ylabel('Frequency')\n",
    "\n",
    "# Show the plot\n",
    "plt.show()\n"
   ]
  },
  {
   "cell_type": "code",
   "execution_count": null,
   "metadata": {},
   "outputs": [],
   "source": []
  },
  {
   "cell_type": "code",
   "execution_count": null,
   "metadata": {},
   "outputs": [],
   "source": []
  }
 ],
 "metadata": {
  "kernelspec": {
   "display_name": "Python 3",
   "language": "python",
   "name": "python3"
  },
  "language_info": {
   "codemirror_mode": {
    "name": "ipython",
    "version": 3
   },
   "file_extension": ".py",
   "mimetype": "text/x-python",
   "name": "python",
   "nbconvert_exporter": "python",
   "pygments_lexer": "ipython3",
   "version": "3.6.8"
  }
 },
 "nbformat": 4,
 "nbformat_minor": 2
}
