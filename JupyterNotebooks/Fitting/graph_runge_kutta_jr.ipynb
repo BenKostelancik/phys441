{
 "cells": [
  {
   "cell_type": "code",
   "execution_count": 85,
   "metadata": {},
   "outputs": [],
   "source": [
    "import numpy as np\n",
    "import matplotlib.pyplot as plt"
   ]
  },
  {
   "cell_type": "code",
   "execution_count": 86,
   "metadata": {},
   "outputs": [],
   "source": [
    "def fderiv(y,t,deriv):\n",
    "    deriv[0] = 2.0*t*y[0]*y[0]\n",
    "    #deriv[0] = a*math.pow(math.sin(t),2)*y[0]"
   ]
  },
  {
   "cell_type": "code",
   "execution_count": 87,
   "metadata": {},
   "outputs": [],
   "source": [
    "def yexact(t):\n",
    "    return 1.0/(1.0-t*t)\n",
    "    #return 2*param[0]*math.exp(0.5*(t - math.sin(t)*math.cos(t)))"
   ]
  },
  {
   "cell_type": "code",
   "execution_count": 88,
   "metadata": {},
   "outputs": [],
   "source": [
    "def rk2(y,nY,t,tau,deriv):\n",
    "    F1 = array('d')\n",
    "    F2 = array('d')\n",
    "    ytemp = array('d')\n",
    "    \n",
    "    for i in range(0,nY):\n",
    "        F1.append(0.0)\n",
    "        F2.append(0.0)\n",
    "        ytemp.append(0.0)\n",
    "    \n",
    "    fderiv(y,t,F1)\n",
    "    \n",
    "    half_tau = 0.5*tau\n",
    "    t_half = t + half_tau\n",
    "    \n",
    "    for i in range(0,nY):\n",
    "        ytemp[i]=y[i]+half_tau*F1[i]\n",
    "        \n",
    "    fderiv(ytemp,t_half,F2)\n",
    "        \n",
    "    for i in range(0,nY):\n",
    "        y[i] = y[i] + tau*F2[i]"
   ]
  },
  {
   "cell_type": "code",
   "execution_count": 89,
   "metadata": {},
   "outputs": [],
   "source": [
    "def rk4(y,nY,t,tau,deriv):\n",
    "    F1 = np.array('d')\n",
    "    F2 = np.array('d')\n",
    "    F3 = np.array('d')\n",
    "    F4 = np.array('d')\n",
    "    ytemp = np.array('d')\n",
    "    \n",
    "    for i in range(0,nY):\n",
    "        F1.append(0.0)\n",
    "        F2.append(0.0)\n",
    "        F3.append(0.0)\n",
    "        F4.append(0.0)\n",
    "        ytemp.append(0.0)\n",
    "        \n",
    "    fderiv(y,t,F1)\n",
    "    \n",
    "    half_tau = 0.5*tau\n",
    "    t_half = t + half_tau\n",
    "    \n",
    "    for i in range(0,nY):\n",
    "        ytemp[i] = y[i] + half_tau*F1[i]\n",
    "        \n",
    "    fderiv(ytemp,t_half,F2)\n",
    "    \n",
    "    for i in range(0,nY):\n",
    "        ytemp[i] = y[i] + half_tau*F2[i]\n",
    "        \n",
    "    fderiv(ytemp,t_half,F3)\n",
    "    \n",
    "    t_full = t + tau\n",
    "\n",
    "    for i in range(0,nY):\n",
    "        ytemp[i] = y[i] + tau*F3[i]\n",
    "        \n",
    "    fderiv(ytemp,t_full,F4)\n",
    "    \n",
    "    for i in range(0,nY):\n",
    "        y[i] = y[i] + tau/6.0*(F1[i]+F4[i]+2.0*(F2[i]+F3[i]))"
   ]
  },
  {
   "cell_type": "code",
   "execution_count": 90,
   "metadata": {},
   "outputs": [],
   "source": [
    "def rka(x,nX,t,tau,err,deriv):\n",
    "    tSave = t\n",
    "    safe1 = 0.9\n",
    "    safe2 = 0.2\n",
    "    \n",
    "    xSmall = np.array('d')\n",
    "    xBig = np.array('d')\n",
    "    for i in range(0,nX):\n",
    "        xSmall.append(0.0)\n",
    "        xBig.append(0.0)\n",
    "        \n",
    "    maxTry = 100\n",
    "    for iTry in range(0,maxTry):\n",
    "        half_tau = 0.5*tau\n",
    "        for i in range(0,nX):\n",
    "            xSmall[i]=x[i]\n",
    "        rk4(xSmall,nX,tSave,half_tau,deriv)\n",
    "        t = tSave + half_tau\n",
    "        rk4(xSmall,nX,t,half_tau,deriv)\n",
    "        \n",
    "        t = tSave + tau\n",
    "        for i in range(0,nX):\n",
    "            xBig[i] = x[i]\n",
    "        rk4(xBig,nX,tSave,tau,deriv)\n",
    "        \n",
    "        errorRatio = 0.0\n",
    "        eps = 1.0E-16\n",
    "        for i in range(0,nX):\n",
    "            scale = err * (math.fabs(xSmall[i]) + math.fabs(xBig[i]))/2.0\n",
    "            xDiff = xSmall[i]-xBig[i]\n",
    "            ratio = math.fabs(xDiff)/(scale+eps)\n",
    "            if (errorRatio <= ratio):\n",
    "                errorRatio = ratio\n",
    "                \n",
    "        tau_old = tau\n",
    "        tau = safe1*tau_old*math.pow(errorRatio,-0.20)\n",
    "        if (tau <= tau_old/safe2):\n",
    "            tau = tau_old/safe2\n",
    "        if (tau >= safe2/tau_old):\n",
    "            tau = safe2/tau_old\n",
    "            \n",
    "        if (errorRatio < 1):\n",
    "            for i in range(0,nX):\n",
    "                x[i] = xSmall[i]\n",
    "            return\n",
    "        \n",
    "    print(\"Error:  Adaptive Runge-Kutta Routine failed\")"
   ]
  },
  {
   "cell_type": "code",
   "execution_count": 83,
   "metadata": {},
   "outputs": [],
   "source": [
    "# Wikipedia page y' = (sin(t))^2*y\n",
    "\n",
    "nStep = 10000\n",
    "\n",
    "a = 0.9999\n",
    "\n",
    "tau = a/nStep\n",
    "\n",
    "\n",
    "# Everything below this point is calculated.\n",
    "y0 = 1.0\n",
    "yp0 = 0.0\n",
    "\n",
    "adaptErr = 0.001\n",
    "time = 0.0\n",
    "\n",
    "tlow = 0\n",
    "thigh = tlow + (nStep-1)*tau\n",
    "#print(tlow,thigh)\n",
    "yy = np.array('d')\n",
    "tt = np.array('d')\n",
    "nexact = 10001\n",
    "dt = (thigh-tlow)/nexact\n",
    "for i in range(0,nexact+1):\n",
    "    texact = tlow + i*dt\n",
    "    np.append(yy,yexact(texact))\n",
    "    np.append(tt,texact)\n",
    "#print(yy,tt)"
   ]
  },
  {
   "cell_type": "code",
   "execution_count": 84,
   "metadata": {},
   "outputs": [
    {
     "ename": "IndexError",
     "evalue": "too many indices for array: array is 0-dimensional, but 1 were indexed",
     "output_type": "error",
     "traceback": [
      "\u001b[0;31m---------------------------------------------------------------------------\u001b[0m",
      "\u001b[0;31mIndexError\u001b[0m                                Traceback (most recent call last)",
      "\u001b[0;32m<ipython-input-84-54d95858af32>\u001b[0m in \u001b[0;36m<module>\u001b[0;34m\u001b[0m\n\u001b[1;32m      7\u001b[0m \u001b[0mnp\u001b[0m\u001b[0;34m.\u001b[0m\u001b[0mappend\u001b[0m\u001b[0;34m(\u001b[0m\u001b[0my\u001b[0m\u001b[0;34m,\u001b[0m\u001b[0my0\u001b[0m\u001b[0;34m)\u001b[0m\u001b[0;34m\u001b[0m\u001b[0;34m\u001b[0m\u001b[0m\n\u001b[1;32m      8\u001b[0m \u001b[0;34m\u001b[0m\u001b[0m\n\u001b[0;32m----> 9\u001b[0;31m \u001b[0mnp\u001b[0m\u001b[0;34m.\u001b[0m\u001b[0mappend\u001b[0m\u001b[0;34m(\u001b[0m\u001b[0mstate\u001b[0m\u001b[0;34m,\u001b[0m\u001b[0my\u001b[0m\u001b[0;34m[\u001b[0m\u001b[0;36m0\u001b[0m\u001b[0;34m]\u001b[0m\u001b[0;34m)\u001b[0m\u001b[0;34m\u001b[0m\u001b[0;34m\u001b[0m\u001b[0m\n\u001b[0m\u001b[1;32m     10\u001b[0m \u001b[0;34m\u001b[0m\u001b[0m\n\u001b[1;32m     11\u001b[0m \u001b[0;32mfor\u001b[0m \u001b[0mi\u001b[0m \u001b[0;32min\u001b[0m \u001b[0mrange\u001b[0m\u001b[0;34m(\u001b[0m\u001b[0;36m0\u001b[0m\u001b[0;34m,\u001b[0m\u001b[0mnState\u001b[0m\u001b[0;34m)\u001b[0m\u001b[0;34m:\u001b[0m\u001b[0;34m\u001b[0m\u001b[0;34m\u001b[0m\u001b[0m\n",
      "\u001b[0;31mIndexError\u001b[0m: too many indices for array: array is 0-dimensional, but 1 were indexed"
     ]
    }
   ],
   "source": [
    "y = np.array('d')\n",
    "state = np.array('d')\n",
    "deriv = np.array('d')\n",
    "\n",
    "nState = 1\n",
    "\n",
    "np.append(y,y0)\n",
    "\n",
    "np.append(state,y[0])\n",
    "\n",
    "for i in range(0,nState):\n",
    "    np.append(deriv,yp0)"
   ]
  },
  {
   "cell_type": "code",
   "execution_count": 71,
   "metadata": {},
   "outputs": [],
   "source": [
    "yplot = array('d')\n",
    "tplot = array('d')\n",
    "method = 5"
   ]
  },
  {
   "cell_type": "code",
   "execution_count": 74,
   "metadata": {},
   "outputs": [
    {
     "name": "stdout",
     "output_type": "stream",
     "text": [
      "inf 1.9997000100007216\n",
      "1667.1389337973028 0.9997000399960004\n"
     ]
    }
   ],
   "source": [
    "for iStep in range(0,nStep):\n",
    "    yplot.append(y[0])\n",
    "    tplot.append(time)\n",
    "    \n",
    "    if (method == 1):\n",
    "        fderiv(state,time,deriv)\n",
    "        y[0] = y[0] + tau*deriv[0]\n",
    "        time = time + tau\n",
    "    else:\n",
    "        if (method == 2):\n",
    "            fderiv(state,time,deriv)\n",
    "            y[0] = y[0] + tau/2.0*deriv[0]\n",
    "            time = time + tau/2.0\n",
    "            yplot.append(y[0])\n",
    "            tplot.append(time)\n",
    "            fderiv(state,time,deriv)\n",
    "            y[0] = y[0] + tau/2.0*deriv[0]\n",
    "            time = time + tau/2.0\n",
    "        else:\n",
    "            if (method == 3):\n",
    "                rk4(state,nState,time,tau,deriv)\n",
    "                y[0]=state[0]\n",
    "                time = time + tau\n",
    "            else:\n",
    "                if (method == 4):\n",
    "                    rka(state,nState,time,tau,adaptErr,deriv)\n",
    "                    y[0]=state[0]\n",
    "                    time = time + tau\n",
    "                else:\n",
    "                    if (method == 5):\n",
    "                        rk2(state,nState,time,tau,deriv)\n",
    "                        y[0]=state[0]\n",
    "                        time = time + tau    \n",
    "print (yplot[-1],tplot[-1])\n",
    "print (yy[10000],tt[10000])"
   ]
  },
  {
   "cell_type": "code",
   "execution_count": 75,
   "metadata": {},
   "outputs": [
    {
     "data": {
      "image/png": "[encoded data removed]",
      "text/plain": [
       "<IPython.core.display.Image object>"
      ]
     },
     "metadata": {},
     "output_type": "display_data"
    }
   ],
   "source": [
    "gStyle.SetOptFit(1)\n",
    "c1.Draw()\n",
    "\n",
    "if (method==2):\n",
    "    grr = TGraph(2*nStep-1,tplot,yplot)\n",
    "else:\n",
    "    grr = TGraph(nStep,tplot,yplot)\n",
    "grr.SetMarkerColor(2)\n",
    "grexact = TGraph(nexact+1,tt,yy)\n",
    "grexact.SetLineColor(4)\n",
    "\n",
    "c1.cd()\n",
    "grr.GetHistogram().SetMaximum(30.0)\n",
    "grr.GetHistogram().SetMinimum(0.0)\n",
    "grr.SetMarkerStyle(22)\n",
    "grr.SetTitle(\"Wikipedia\")\n",
    "grr.GetXaxis().SetTitle(\"Time\")\n",
    "grr.GetYaxis().SetTitle(\"Y\")\n",
    "grr.Draw(\"APL\")\n",
    "grexact.Draw(\"L\")\n",
    "c1.Draw()"
   ]
  },
  {
   "cell_type": "code",
   "execution_count": null,
   "metadata": {},
   "outputs": [],
   "source": []
  },
  {
   "cell_type": "code",
   "execution_count": null,
   "metadata": {},
   "outputs": [],
   "source": []
  }
 ],
 "metadata": {
  "kernelspec": {
   "display_name": "Python 3",
   "language": "python",
   "name": "python3"
  },
  "language_info": {
   "codemirror_mode": {
    "name": "ipython",
    "version": 3
   },
   "file_extension": ".py",
   "mimetype": "text/x-python",
   "name": "python",
   "nbconvert_exporter": "python",
   "pygments_lexer": "ipython3",
   "version": "3.6.8"
  }
 },
 "nbformat": 4,
 "nbformat_minor": 4
}
