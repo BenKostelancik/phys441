{
 "cells": [
  {
   "cell_type": "code",
   "execution_count": 1,
   "metadata": {
    "ExecuteTime": {
     "end_time": "2023-07-16T19:00:43.114296Z",
     "start_time": "2023-07-16T19:00:42.630110Z"
    }
   },
   "outputs": [],
   "source": [
    "import numpy as np\n",
    "import matplotlib.pyplot as plt\n",
    "\n",
    "import random"
   ]
  },
  {
   "cell_type": "code",
   "execution_count": 2,
   "metadata": {
    "ExecuteTime": {
     "end_time": "2023-07-16T19:00:43.118614Z",
     "start_time": "2023-07-16T19:00:43.116636Z"
    }
   },
   "outputs": [],
   "source": [
    "def generator_function(x):\n",
    "    return 3.0/2.0*(1.0 - x*x)"
   ]
  },
  {
   "cell_type": "code",
   "execution_count": 3,
   "metadata": {
    "ExecuteTime": {
     "end_time": "2023-07-16T19:00:43.121601Z",
     "start_time": "2023-07-16T19:00:43.119797Z"
    }
   },
   "outputs": [],
   "source": [
    "random.seed(1)"
   ]
  },
  {
   "cell_type": "code",
   "execution_count": 4,
   "metadata": {
    "ExecuteTime": {
     "end_time": "2023-07-16T19:00:49.017906Z",
     "start_time": "2023-07-16T19:00:43.151444Z"
    }
   },
   "outputs": [
    {
     "name": "stdout",
     "output_type": "stream",
     "text": [
      "<module 'numpy' from '/Users/brash/anaconda3/envs/phys441/lib/python3.11/site-packages/numpy/__init__.py'>\n",
      "<module 'numpy' from '/Users/brash/anaconda3/envs/phys441/lib/python3.11/site-packages/numpy/__init__.py'>\n",
      "Integral = 0.996545 +/- 0.048402 for npoints = 100.000000\n",
      "Error = 0.003455\n",
      "Integral = 1.001320 +/- 0.011317 for npoints = 1000.000000\n",
      "Error = 0.001320\n",
      "Integral = 0.999330 +/- 0.003944 for npoints = 10000.000000\n",
      "Error = 0.000670\n",
      "Integral = 0.999991 +/- 0.001551 for npoints = 100000.000000\n",
      "Error = 0.000009\n",
      "Integral = 0.999935 +/- 0.000613 for npoints = 1000000.000000\n",
      "Error = 0.000065\n"
     ]
    }
   ],
   "source": [
    "max_order = 6\n",
    "min_order = 2\n",
    "nbins = 20\n",
    "\n",
    "norders = max_order - min_order + 1\n",
    "nbin = nbins\n",
    "\n",
    "npts = np.zeros(norders)\n",
    "print (np)\n",
    "enp = np.zeros(norders)\n",
    "sum2 = np.zeros(norders)\n",
    "esum2 = np.zeros(norders)\n",
    "esum3 = np.zeros(norders)\n",
    "np2 = np.zeros(norders)\n",
    "np3 = np.zeros(norders)\n",
    "\n",
    "print (np)\n",
    "\n",
    "sum = [[0 for x in range(0,nbin)] for y in range(0,norders)]\n",
    "\n",
    "for j in range(min_order,max_order+1):\n",
    "    npoints = 10**j\n",
    "    npts[j-min_order]=npoints\n",
    "    np2[j-min_order]=1.0/np.sqrt(npoints)\n",
    "    np3[j-min_order]=np.log(1.0*npoints)\n",
    "\n",
    "    for k in range(0,nbin):\n",
    "        xlow = 0.0\n",
    "        xhigh = 1.0\n",
    "        dx = (xhigh-xlow)/npoints\n",
    "        \n",
    "        for i in range(0,int(npoints)):\n",
    "            xval = xlow+random.random()*(xhigh-xlow)\n",
    "            yval = generator_function(xval)\n",
    "            sum[j-min_order][k] += dx*yval\n",
    "            \n",
    "    for k in range(0,nbin):\n",
    "        sum2[j-min_order] += sum[j-min_order][k]/nbin\n",
    "        \n",
    "    for k in range(0,nbin):\n",
    "        esum2[j-min_order] += (sum[j-min_order][k]-sum2[j-min_order])**2/nbin\n",
    "    \n",
    "    esum2[j-min_order]=np.sqrt(esum2[j-min_order])\n",
    "    print(\"Integral = %f +/- %f for npoints = %f\" %(sum2[j-min_order],esum2[j-min_order],npoints))\n",
    "    print(\"Error = %f\" %np.abs(1.0-sum2[j-min_order]))\n",
    "    esum3[j-min_order]=np.log(esum2[j-min_order])\n",
    "    \n",
    "    "
   ]
  },
  {
   "cell_type": "code",
   "execution_count": 5,
   "metadata": {
    "ExecuteTime": {
     "end_time": "2023-07-16T19:00:49.407562Z",
     "start_time": "2023-07-16T19:00:49.018074Z"
    }
   },
   "outputs": [
    {
     "data": {
      "text/plain": "<Figure size 640x480 with 1 Axes>",
      "image/png": "[encoded data removed]"
     },
     "metadata": {},
     "output_type": "display_data"
    }
   ],
   "source": [
    "plt.errorbar(npts,sum2,xerr=enp,yerr=esum2,fmt='o')\n",
    "plt.xscale(\"log\")"
   ]
  },
  {
   "cell_type": "code",
   "execution_count": 6,
   "metadata": {
    "ExecuteTime": {
     "end_time": "2023-07-16T19:00:49.525814Z",
     "start_time": "2023-07-16T19:00:49.411806Z"
    }
   },
   "outputs": [
    {
     "data": {
      "text/plain": "[<matplotlib.lines.Line2D at 0x10b490b90>]"
     },
     "execution_count": 6,
     "metadata": {},
     "output_type": "execute_result"
    },
    {
     "data": {
      "text/plain": "<Figure size 640x480 with 1 Axes>",
      "image/png": "[encoded data removed]"
     },
     "metadata": {},
     "output_type": "display_data"
    }
   ],
   "source": [
    "plt.plot(np3,esum3,'o')"
   ]
  },
  {
   "cell_type": "code",
   "execution_count": null,
   "metadata": {},
   "outputs": [],
   "source": []
  },
  {
   "cell_type": "code",
   "execution_count": null,
   "metadata": {
    "scrolled": true
   },
   "outputs": [],
   "source": []
  },
  {
   "cell_type": "code",
   "execution_count": null,
   "metadata": {},
   "outputs": [],
   "source": []
  },
  {
   "cell_type": "code",
   "execution_count": null,
   "metadata": {},
   "outputs": [],
   "source": []
  }
 ],
 "metadata": {
  "kernelspec": {
   "display_name": "Python 3",
   "language": "python",
   "name": "python3"
  },
  "language_info": {
   "codemirror_mode": {
    "name": "ipython",
    "version": 3
   },
   "file_extension": ".py",
   "mimetype": "text/x-python",
   "name": "python",
   "nbconvert_exporter": "python",
   "pygments_lexer": "ipython3",
   "version": "3.6.8"
  }
 },
 "nbformat": 4,
 "nbformat_minor": 2
}
