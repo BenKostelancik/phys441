{
 "cells": [
  {
   "cell_type": "code",
   "execution_count": 1,
   "metadata": {
    "ExecuteTime": {
     "end_time": "2023-07-14T13:24:38.764033Z",
     "start_time": "2023-07-14T13:24:34.241273Z"
    }
   },
   "outputs": [
    {
     "name": "stdout",
     "output_type": "stream",
     "text": [
      "Welcome to JupyROOT 6.26/06\n"
     ]
    }
   ],
   "source": [
    "from ROOT import TCanvas, TFile\n",
    "from ROOT import TGraph, TGraphPolar\n",
    "from ROOT import gStyle\n",
    "from array import array\n",
    "import math\n",
    "\n",
    "c1 = TCanvas( 'c1', 'The Main Canvas', 200, 10, 1000, 800 )\n",
    "c1.SetGridx()\n",
    "c1.SetGridy()\n",
    "c1.GetFrame().SetFillColor( 21 )\n",
    "c1.GetFrame().SetBorderMode(-1 )\n",
    "c1.GetFrame().SetBorderSize( 5 )\n",
    "c1.Divide(1,1)"
   ]
  },
  {
   "cell_type": "code",
   "execution_count": 2,
   "metadata": {
    "ExecuteTime": {
     "end_time": "2023-07-14T13:24:38.871949Z",
     "start_time": "2023-07-14T13:24:38.764438Z"
    }
   },
   "outputs": [],
   "source": [
    "def fderiv(y,t,deriv):\n",
    "    a = 1.0/3.0\n",
    "    #Example 1\n",
    "    #b = 2.0\n",
    "    #Example 2\n",
    "    b = -2.0\n",
    "    deriv[0] = a*y[0]*y[0]*math.exp(b*t)"
   ]
  },
  {
   "cell_type": "code",
   "execution_count": 3,
   "metadata": {
    "ExecuteTime": {
     "end_time": "2023-07-14T13:24:38.980694Z",
     "start_time": "2023-07-14T13:24:38.873601Z"
    }
   },
   "outputs": [],
   "source": [
    "def yexact(t):\n",
    "    #Example 1\n",
    "    #return -6.0/(-7.0+math.exp(2.0*t))\n",
    "    #Example 2\n",
    "    return -6.0*math.exp(2*t)/(-5.0*math.exp(2.0*t)-1)"
   ]
  },
  {
   "cell_type": "code",
   "execution_count": 4,
   "metadata": {
    "ExecuteTime": {
     "end_time": "2023-07-14T13:24:39.096799Z",
     "start_time": "2023-07-14T13:24:38.983668Z"
    }
   },
   "outputs": [],
   "source": [
    "def euler(y,nY,t,tau,deriv):\n",
    "    F1 = array('d')\n",
    "    \n",
    "    for i in range(0,nY):\n",
    "        F1.append(0.0)\n",
    "    \n",
    "    fderiv(y,t,F1)\n",
    "    \n",
    "    for i in range(0,nY):\n",
    "        y[i] = y[i] + tau*F1[i]"
   ]
  },
  {
   "cell_type": "code",
   "execution_count": 5,
   "metadata": {
    "ExecuteTime": {
     "end_time": "2023-07-14T13:24:39.212491Z",
     "start_time": "2023-07-14T13:24:39.105881Z"
    }
   },
   "outputs": [],
   "source": [
    "# y' = 1/3*y^2*e^(2t)\n",
    "\n",
    "#Example 1\n",
    "#nStep = 53\n",
    "#tau = .02\n",
    "#Example 2\n",
    "nStep = 53\n",
    "tau = 0.2\n",
    "\n",
    "# Everything below this point is calculated.\n",
    "y0 = 1\n",
    "yp0 = 0\n",
    "\n",
    "tlow = 0\n",
    "thigh = tlow + (nStep-1)*tau\n",
    "#print(tlow,thigh)\n",
    "\n",
    "yy = array('d')\n",
    "tt = array('d')\n",
    "nexact = 1000\n",
    "dt = (thigh-tlow)/nexact\n",
    "for i in range(0,nexact+1):\n",
    "    texact = tlow + i*dt\n",
    "    yy.append(yexact(texact))\n",
    "    tt.append(texact)\n",
    "#print(yy,tt)"
   ]
  },
  {
   "cell_type": "code",
   "execution_count": 5,
   "metadata": {
    "ExecuteTime": {
     "end_time": "2023-07-14T13:24:39.219265Z",
     "start_time": "2023-07-14T13:24:39.213669Z"
    }
   },
   "outputs": [],
   "source": []
  },
  {
   "cell_type": "code",
   "execution_count": 6,
   "metadata": {
    "ExecuteTime": {
     "end_time": "2023-07-14T13:24:39.336677Z",
     "start_time": "2023-07-14T13:24:39.225901Z"
    }
   },
   "outputs": [],
   "source": [
    "yplot1 = array('d')\n",
    "yplot2 = array('d')\n",
    "yplot3 = array('d')\n",
    "yplot4 = array('d')\n",
    "\n",
    "y1 = array('d')\n",
    "y2 = array('d')\n",
    "y3 = array('d')\n",
    "y4 = array('d')\n",
    "\n",
    "tplot1 = array('d')\n",
    "tplot2 = array('d')\n",
    "tplot3 = array('d')\n",
    "tplot4 = array('d')\n",
    "\n",
    "deriv1 = array('d')\n",
    "deriv2 = array('d')\n",
    "deriv3 = array('d')\n",
    "deriv4 = array('d')\n",
    "\n",
    "state1 = array('d')\n",
    "state2 = array('d')\n",
    "state3 = array('d')\n",
    "state4 = array('d')\n",
    "\n",
    "nState = 1\n",
    "\n",
    "y1.append(y0)\n",
    "y2.append(y0)\n",
    "y3.append(y0)\n",
    "y4.append(y0)\n",
    "\n",
    "state1.append(y1[0])\n",
    "state2.append(y2[0])\n",
    "state3.append(y3[0])\n",
    "state4.append(y3[0])\n",
    "\n",
    "for i in range(0,nState):\n",
    "    deriv1.append(yp0)\n",
    "    deriv2.append(yp0)\n",
    "    deriv3.append(yp0)\n",
    "    deriv4.append(yp0)"
   ]
  },
  {
   "cell_type": "code",
   "execution_count": 7,
   "metadata": {
    "ExecuteTime": {
     "end_time": "2023-07-14T13:24:39.450092Z",
     "start_time": "2023-07-14T13:24:39.341089Z"
    }
   },
   "outputs": [],
   "source": [
    "def rk2(y,nY,t,tau,deriv):\n",
    "    F1 = array('d')\n",
    "    F2 = array('d')\n",
    "    ytemp = array('d')\n",
    "    \n",
    "    for i in range(0,nY):\n",
    "        F1.append(0.0)\n",
    "        F2.append(0.0)\n",
    "        ytemp.append(0.0)\n",
    "    \n",
    "    fderiv(y,t,F1)\n",
    "    \n",
    "    half_tau = 0.5*tau\n",
    "    t_half = t + half_tau\n",
    "    \n",
    "    for i in range(0,nY):\n",
    "        ytemp[i]=y[i]+half_tau*F1[i]\n",
    "        \n",
    "    fderiv(ytemp,t_half,F2)\n",
    "        \n",
    "    for i in range(0,nY):\n",
    "        y[i] = y[i] + tau*F2[i]"
   ]
  },
  {
   "cell_type": "code",
   "execution_count": 8,
   "metadata": {
    "ExecuteTime": {
     "end_time": "2023-07-14T13:24:39.568955Z",
     "start_time": "2023-07-14T13:24:39.460382Z"
    }
   },
   "outputs": [],
   "source": [
    "for method in range(1,5):\n",
    "    time = 0.0\n",
    "    for iStep in range(0,nStep):\n",
    "        if (method == 1):\n",
    "            # Euler Method\n",
    "            yplot1.append(y1[0])\n",
    "            tplot1.append(time)\n",
    "            euler(state1,nState,time,tau,deriv1)\n",
    "            y1[0] = state1[0]\n",
    "            time = time + tau\n",
    "        else:\n",
    "            if (method == 2):\n",
    "                # Explicit Midpoint Method\n",
    "                yplot2.append(y2[0])\n",
    "                tplot2.append(time)\n",
    "\n",
    "                euler(state2,nState,time,tau/2.0,deriv2)\n",
    "                time = time + tau/2.0\n",
    "                \n",
    "                yplot2.append(y2[0])\n",
    "                tplot2.append(time)\n",
    "                \n",
    "                euler(state2,nState,time,tau/2.0,deriv2)\n",
    "                y2[0] = state2[0]\n",
    "                time = time + tau/2.0\n",
    "            else:\n",
    "                if (method == 3):\n",
    "                    # Implicit Midpoint Method\n",
    "                    yplot3.append(y3[0])\n",
    "                    tplot3.append(time)\n",
    "                \n",
    "                    yorig = state3[0]\n",
    "                    euler(state3,nState,time,tau,deriv3)\n",
    "                    state3[0] = (state3[0]+yorig)/2.0\n",
    "                    y3[0] = state3[0]\n",
    "                    time = time + tau/2.0\n",
    "                    \n",
    "                    yplot3.append(y3[0])\n",
    "                    tplot3.append(time)\n",
    "                    \n",
    "                    euler(state3,nState,time,tau/2.0,deriv3)\n",
    "                    y3[0] = state3[0]\n",
    "                    time = time + tau/2.0\n",
    "                else:\n",
    "                    if (method == 4):\n",
    "                        # Second Order Runge-Kutta Method\n",
    "                        yplot4.append(y4[0])\n",
    "                        tplot4.append(time)\n",
    "                        rk2(state4,nState,time,tau,deriv4)\n",
    "                        y4[0]=state4[0]\n",
    "                        time = time + tau"
   ]
  },
  {
   "cell_type": "code",
   "execution_count": 8,
   "metadata": {
    "ExecuteTime": {
     "end_time": "2023-07-14T13:24:39.577673Z",
     "start_time": "2023-07-14T13:24:39.570967Z"
    }
   },
   "outputs": [],
   "source": []
  },
  {
   "cell_type": "code",
   "execution_count": 9,
   "metadata": {
    "ExecuteTime": {
     "end_time": "2023-07-14T13:24:40.057270Z",
     "start_time": "2023-07-14T13:24:39.610604Z"
    }
   },
   "outputs": [
    {
     "data": {
      "image/png": "[encoded data removed]",
      "text/plain": "<IPython.core.display.Image object>"
     },
     "metadata": {},
     "output_type": "display_data"
    }
   ],
   "source": [
    "gStyle.SetOptFit(1)\n",
    "c1.Draw()\n",
    "\n",
    "gre = TGraph(nStep,tplot1,yplot1)\n",
    "gre.SetMarkerColor(2)\n",
    "gre.SetLineColor(2)\n",
    "gre.SetMarkerStyle(22)\n",
    "\n",
    "grm = TGraph(2*nStep-1,tplot2,yplot2)\n",
    "grm.SetMarkerColor(3)\n",
    "grm.SetLineColor(3)\n",
    "grm.SetMarkerStyle(23)\n",
    "\n",
    "gri = TGraph(2*nStep-1,tplot3,yplot3)\n",
    "gri.SetMarkerColor(6)\n",
    "gri.SetLineColor(6)\n",
    "gri.SetMarkerStyle(24)\n",
    "\n",
    "grr = TGraph(nStep,tplot4,yplot4)\n",
    "grr.SetMarkerColor(7)\n",
    "grr.SetLineColor(7)\n",
    "grr.SetMarkerStyle(25)\n",
    "\n",
    "grexact = TGraph(nexact+1,tt,yy)\n",
    "grexact.SetLineColor(4)\n",
    "\n",
    "c1.cd()\n",
    "#Example 1\n",
    "#gre.GetHistogram().SetMaximum(40)\n",
    "#gre.GetHistogram().SetMinimum(-3)\n",
    "#Example 2\n",
    "gre.GetHistogram().SetMaximum(1.3)\n",
    "gre.GetHistogram().SetMinimum(1.1)\n",
    "gre.SetTitle(\"Example Differential Equation\")\n",
    "gre.GetXaxis().SetTitle(\"Time\")\n",
    "gre.GetYaxis().SetTitle(\"Y\")\n",
    "gre.Draw(\"APL\")\n",
    "\n",
    "grm.Draw(\"PL\")\n",
    "gri.Draw(\"PL\")\n",
    "grr.Draw(\"PL\")\n",
    "grexact.Draw(\"L\")\n",
    "\n",
    "c1.Draw()"
   ]
  },
  {
   "cell_type": "code",
   "execution_count": null,
   "metadata": {},
   "outputs": [],
   "source": []
  },
  {
   "cell_type": "code",
   "execution_count": null,
   "metadata": {},
   "outputs": [],
   "source": []
  }
 ],
 "metadata": {
  "kernelspec": {
   "display_name": "Python 3",
   "language": "python",
   "name": "python3"
  },
  "language_info": {
   "codemirror_mode": {
    "name": "ipython",
    "version": 3
   },
   "file_extension": ".py",
   "mimetype": "text/x-python",
   "name": "python",
   "nbconvert_exporter": "python",
   "pygments_lexer": "ipython3",
   "version": "3.6.8"
  }
 },
 "nbformat": 4,
 "nbformat_minor": 2
}
