{
 "cells": [
  {
   "cell_type": "code",
   "execution_count": 8,
   "metadata": {
    "ExecuteTime": {
     "end_time": "2023-07-13T13:16:05.550107Z",
     "start_time": "2023-07-13T13:16:04.898105Z"
    }
   },
   "outputs": [],
   "source": [
    "from array import array\n",
    "import matplotlib.pyplot as plt"
   ]
  },
  {
   "cell_type": "code",
   "execution_count": 9,
   "metadata": {
    "ExecuteTime": {
     "end_time": "2023-07-13T13:16:06.774767Z",
     "start_time": "2023-07-13T13:16:06.767963Z"
    }
   },
   "outputs": [],
   "source": [
    "def growthfunction(x,par):\n",
    "    return par[0]*x*(1.0-x)"
   ]
  },
  {
   "cell_type": "code",
   "execution_count": 9,
   "metadata": {
    "ExecuteTime": {
     "end_time": "2023-07-13T13:16:07.359648Z",
     "start_time": "2023-07-13T13:16:07.348422Z"
    }
   },
   "outputs": [],
   "source": []
  },
  {
   "cell_type": "code",
   "execution_count": 15,
   "metadata": {
    "ExecuteTime": {
     "end_time": "2023-07-13T13:17:03.405639Z",
     "start_time": "2023-07-13T13:17:03.397897Z"
    }
   },
   "outputs": [],
   "source": [
    "lambda_start = 3.99999999\n",
    "npoints = 10000000\n",
    "xstart = 0.5\n",
    "iflag = 1"
   ]
  },
  {
   "cell_type": "code",
   "execution_count": 18,
   "metadata": {
    "ExecuteTime": {
     "end_time": "2023-07-13T13:19:08.542959Z",
     "start_time": "2023-07-13T13:19:04.319225Z"
    }
   },
   "outputs": [],
   "source": [
    "lmbda = array('d')\n",
    "xvalue = array('d')\n",
    "\n",
    "population=xstart\n",
    "lmbda.append(lambda_start)\n",
    "\n",
    "n = npoints\n",
    "population = []\n",
    "population.append(xstart)\n",
    "for i in range(1,n):\n",
    "    year=i\n",
    "    x = growthfunction(xstart,lmbda)\n",
    "    population.append(x)\n",
    "    xstart = x"
   ]
  },
  {
   "cell_type": "code",
   "execution_count": null,
   "metadata": {
    "is_executing": true,
    "ExecuteTime": {
     "start_time": "2023-07-13T13:20:12.143460Z"
    }
   },
   "outputs": [],
   "source": [
    "# Create a figure and axes\n",
    "fig, ax = plt.subplots(figsize=(10, 8))\n",
    "\n",
    "# Set the grid lines\n",
    "ax.grid(True)\n",
    "\n",
    "# Set the background color\n",
    "ax.set_facecolor('#F0F0F0')\n",
    "\n",
    "# Set the border properties\n",
    "ax.spines['top'].set_visible(False)\n",
    "ax.spines['right'].set_visible(False)\n",
    "\n",
    "# Set the canvas size\n",
    "ax.set_title('Simple Chaos Example')\n",
    "\n",
    "# Set the line and marker properties\n",
    "line_color = 'r'\n",
    "line_width = 2\n",
    "marker_color = 'b'\n",
    "marker_style = 'o'\n",
    "marker_size = 5\n",
    "\n",
    "# Create the plot\n",
    "plt.hist(population, nbins=1000)\n",
    "\n",
    "# Set the plot title and axis labels\n",
    "plt.title(\"Growth Function: lambda*x*(1-x)\")\n",
    "plt.xlabel(\"Population\")\n",
    "plt.ylabel(\"Frequency\")\n",
    "plt.yscale(\"log\")"
   ]
  },
  {
   "cell_type": "code",
   "execution_count": null,
   "metadata": {
    "is_executing": true
   },
   "outputs": [],
   "source": []
  },
  {
   "cell_type": "code",
   "execution_count": 8,
   "metadata": {
    "scrolled": true
   },
   "outputs": [
    {
     "name": "stdout",
     "output_type": "stream",
     "text": [
      "9999999\n",
      "0.14616744650062063\n"
     ]
    }
   ],
   "source": []
  },
  {
   "cell_type": "code",
   "execution_count": null,
   "metadata": {},
   "outputs": [],
   "source": []
  },
  {
   "cell_type": "code",
   "execution_count": null,
   "metadata": {},
   "outputs": [],
   "source": []
  }
 ],
 "metadata": {
  "kernelspec": {
   "display_name": "Python 3",
   "language": "python",
   "name": "python3"
  },
  "language_info": {
   "codemirror_mode": {
    "name": "ipython",
    "version": 3
   },
   "file_extension": ".py",
   "mimetype": "text/x-python",
   "name": "python",
   "nbconvert_exporter": "python",
   "pygments_lexer": "ipython3",
   "version": "3.6.8"
  }
 },
 "nbformat": 4,
 "nbformat_minor": 2
}
