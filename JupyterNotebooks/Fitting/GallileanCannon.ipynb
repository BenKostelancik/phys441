{
 "cells": [
  {
   "cell_type": "code",
   "execution_count": 1,
   "metadata": {},
   "outputs": [],
   "source": [
    "from math import *\n",
    "\n",
    "c = 0.1\n",
    "gamma = 0.9\n",
    "h = 100.0\n",
    "g = 9.807\n",
    "\n",
    "N = 5\n",
    "vratio =[]\n",
    "mratio = []"
   ]
  },
  {
   "cell_type": "code",
   "execution_count": 2,
   "metadata": {},
   "outputs": [
    {
     "name": "stdout",
     "output_type": "stream",
     "text": [
      "v =  44.287695808203885\n",
      " \n",
      "i, v2m, v1m =  1 -31.014645547680665 42.96039078215156\n",
      "i, v2p, v1p =  1 103.48542050655975 29.510384176727523\n",
      "i, ratio =  1 2.336663008044551\n",
      "2.336663008044551 11.0\n",
      " \n",
      "i, v2m, v1m =  2 -0.13189550739957795 99.06984047647931\n",
      "i, v2p, v1p =  2 180.23489719056204 81.03316120668316\n",
      "i, ratio =  2 1.741645309149005\n",
      "1.741645309149005 100.99999999999999\n",
      " \n",
      "i, v2m, v1m =  3 50.499907177790355 170.75613689196263\n",
      "i, v2p, v1p =  3 269.1475975671944 148.89136785302222\n",
      "i, ratio =  3 1.4933156772776646\n",
      "1.4933156772776646 1000.9999999999998\n",
      " \n",
      "i, v2m, v1m =  4 117.5347207859212 252.96535590778186\n",
      "i, v2p, v1p =  4 363.7722391893042 228.34160406744357\n",
      "i, ratio =  4 1.3515715632515952\n",
      "1.3515715632515952 10000.999999999998\n"
     ]
    }
   ],
   "source": [
    "v = sqrt(2*g*h)\n",
    "print (\"v = \",v)\n",
    "vi = v\n",
    "\n",
    "for i in range(1,N):\n",
    "\n",
    "    a = c*(c+1)\n",
    "    b = -2.0*c*(vi-c*v)\n",
    "    cc = (vi-c*v)**2 - gamma*(c*v**2+vi**2)\n",
    "\n",
    "    print(\" \")\n",
    "    #print (\"abc = \",a,b,cc)\n",
    "\n",
    "    v2m = (-b-sqrt(b**2-4*a*cc))/(2.0*a)\n",
    "    v1m = vi-c*v-c*v2m\n",
    "\n",
    "    print (\"i, v2m, v1m = \",i,v2m,v1m)\n",
    "\n",
    "    v2p = (-b+sqrt(b**2-4*a*cc))/(2.0*a)\n",
    "    v1p = vi-c*v-c*v2p\n",
    "\n",
    "    print (\"i, v2p, v1p = \",i,v2p,v1p)\n",
    "\n",
    "    print (\"i, ratio = \",i,v2p/vi)\n",
    "    vratio.append(v2p/vi)\n",
    "    mratio.append(1.0+1.0/c**i)\n",
    "    print(vratio[i-1],mratio[i-1])\n",
    "    \n",
    "    vi = v2p\n",
    "    "
   ]
  },
  {
   "cell_type": "code",
   "execution_count": 3,
   "metadata": {},
   "outputs": [
    {
     "name": "stdout",
     "output_type": "stream",
     "text": [
      "hd =  6746.723870949339\n"
     ]
    }
   ],
   "source": [
    "hd = v2p**2/(2.0*g)\n",
    "print (\"hd = \",hd)"
   ]
  },
  {
   "cell_type": "code",
   "execution_count": null,
   "metadata": {},
   "outputs": [],
   "source": []
  },
  {
   "cell_type": "code",
   "execution_count": null,
   "metadata": {},
   "outputs": [],
   "source": []
  },
  {
   "cell_type": "code",
   "execution_count": null,
   "metadata": {},
   "outputs": [],
   "source": []
  },
  {
   "cell_type": "code",
   "execution_count": null,
   "metadata": {},
   "outputs": [],
   "source": []
  },
  {
   "cell_type": "code",
   "execution_count": null,
   "metadata": {},
   "outputs": [],
   "source": []
  },
  {
   "cell_type": "code",
   "execution_count": null,
   "metadata": {},
   "outputs": [],
   "source": []
  }
 ],
 "metadata": {
  "kernelspec": {
   "display_name": "Python 3",
   "language": "python",
   "name": "python3"
  },
  "language_info": {
   "codemirror_mode": {
    "name": "ipython",
    "version": 3
   },
   "file_extension": ".py",
   "mimetype": "text/x-python",
   "name": "python",
   "nbconvert_exporter": "python",
   "pygments_lexer": "ipython3",
   "version": "3.6.8"
  }
 },
 "nbformat": 4,
 "nbformat_minor": 2
}
