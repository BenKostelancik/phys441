{
 "cells": [
  {
   "cell_type": "code",
   "execution_count": 1,
   "metadata": {
    "ExecuteTime": {
     "end_time": "2023-07-14T01:44:16.171070Z",
     "start_time": "2023-07-14T01:44:13.298482Z"
    }
   },
   "outputs": [
    {
     "name": "stdout",
     "output_type": "stream",
     "text": [
      "Welcome to JupyROOT 6.26/06\n"
     ]
    }
   ],
   "source": [
    "from ROOT import TCanvas\n",
    "from ROOT import TH1F\n",
    "from ROOT import gStyle\n",
    "from array import array\n",
    "import math\n",
    "import random\n",
    "\n",
    "c1 = TCanvas( 'c1', 'Simple Integration Example', 200, 10, 700, 500 )\n",
    "c1.SetGridx()\n",
    "c1.SetGridy()\n",
    "c1.GetFrame().SetFillColor( 21 )\n",
    "c1.GetFrame().SetBorderMode(-1 )\n",
    "c1.GetFrame().SetBorderSize( 5 )"
   ]
  },
  {
   "cell_type": "code",
   "execution_count": 2,
   "metadata": {
    "ExecuteTime": {
     "end_time": "2023-07-14T01:44:16.285050Z",
     "start_time": "2023-07-14T01:44:16.174274Z"
    }
   },
   "outputs": [],
   "source": [
    "def generator_function(x):\n",
    "    return 3.0/2.0*(1.0 - x*x)"
   ]
  },
  {
   "cell_type": "code",
   "execution_count": 3,
   "metadata": {
    "ExecuteTime": {
     "end_time": "2023-07-14T01:44:16.407579Z",
     "start_time": "2023-07-14T01:44:16.301029Z"
    }
   },
   "outputs": [],
   "source": [
    "gStyle.SetOptFit(1)\n",
    "h1 = TH1F(\"h1\",\"h1\",100,0.98,1.02)"
   ]
  },
  {
   "cell_type": "code",
   "execution_count": 4,
   "metadata": {
    "ExecuteTime": {
     "end_time": "2023-07-14T01:44:18.248060Z",
     "start_time": "2023-07-14T01:44:18.141654Z"
    }
   },
   "outputs": [],
   "source": [
    "random.seed(1)"
   ]
  },
  {
   "cell_type": "code",
   "execution_count": 5,
   "metadata": {
    "ExecuteTime": {
     "end_time": "2023-07-14T01:44:27.272622Z",
     "start_time": "2023-07-14T01:44:21.560811Z"
    }
   },
   "outputs": [
    {
     "name": "stdout",
     "output_type": "stream",
     "text": [
      "Error Upper Bound = 0.000141\n"
     ]
    }
   ],
   "source": [
    "niter = 100\n",
    "npoints = 100000\n",
    "xlow = 0.0\n",
    "xhigh = 1.0\n",
    "dx = (xhigh-xlow)/npoints\n",
    "\n",
    "error = 0.0\n",
    "for j in range(0,niter):\n",
    "    sum_iter = 0.0\n",
    "    sigma_iter = 0.0\n",
    "\n",
    "    for i in range(0,npoints):\n",
    "        xval = xlow+random.random()*(xhigh-xlow)\n",
    "        yval = generator_function(xval)\n",
    "        sum_iter = sum_iter + dx*yval\n",
    "        sigma_iter = sigma_iter + dx*yval*yval\n",
    "        \n",
    "    error = error + math.pow(math.sqrt(sigma_iter - sum_iter*sum_iter)/math.sqrt(npoints),2)\n",
    "    h1.Fill(sum_iter)\n",
    "\n",
    "print(\"Error Upper Bound = %f\" % (math.sqrt(error)/niter))"
   ]
  },
  {
   "cell_type": "code",
   "execution_count": 5,
   "metadata": {
    "ExecuteTime": {
     "end_time": "2023-07-14T01:44:29.990243Z",
     "start_time": "2023-07-14T01:44:29.984516Z"
    }
   },
   "outputs": [],
   "source": []
  },
  {
   "cell_type": "code",
   "execution_count": 6,
   "metadata": {
    "ExecuteTime": {
     "end_time": "2023-07-14T01:44:31.209755Z",
     "start_time": "2023-07-14T01:44:30.940551Z"
    }
   },
   "outputs": [
    {
     "name": "stdout",
     "output_type": "stream",
     "text": [
      " FCN=15.0726 FROM MIGRAD    STATUS=CONVERGED      72 CALLS          73 TOTAL\n",
      "                     EDM=1.21911e-06    STRATEGY= 1      ERROR MATRIX ACCURATE \n",
      "  EXT PARAMETER                                   STEP         FIRST   \n",
      "  NO.   NAME      VALUE            ERROR          SIZE      DERIVATIVE \n",
      "   1  Constant     1.30587e+01   2.14915e+00   2.77711e-03   2.42803e-04\n",
      "   2  Mean         9.99945e-01   1.26995e-04   4.76811e-07  -4.36415e+00\n",
      "   3  Sigma        1.04275e-03   1.34738e-04   4.82992e-05   4.08443e-02\n"
     ]
    },
    {
     "data": {
      "image/png": "[encoded data removed]",
      "text/plain": "<IPython.core.display.Image object>"
     },
     "metadata": {},
     "output_type": "display_data"
    }
   ],
   "source": [
    "h1.Draw()\n",
    "h1.Fit(\"gaus\")\n",
    "c1.Draw()"
   ]
  },
  {
   "cell_type": "code",
   "execution_count": null,
   "metadata": {
    "scrolled": true
   },
   "outputs": [],
   "source": []
  },
  {
   "cell_type": "code",
   "execution_count": null,
   "metadata": {},
   "outputs": [],
   "source": []
  },
  {
   "cell_type": "code",
   "execution_count": null,
   "metadata": {},
   "outputs": [],
   "source": []
  }
 ],
 "metadata": {
  "kernelspec": {
   "display_name": "Python 3",
   "language": "python",
   "name": "python3"
  },
  "language_info": {
   "codemirror_mode": {
    "name": "ipython",
    "version": 3
   },
   "file_extension": ".py",
   "mimetype": "text/x-python",
   "name": "python",
   "nbconvert_exporter": "python",
   "pygments_lexer": "ipython3",
   "version": "3.6.8"
  }
 },
 "nbformat": 4,
 "nbformat_minor": 2
}
