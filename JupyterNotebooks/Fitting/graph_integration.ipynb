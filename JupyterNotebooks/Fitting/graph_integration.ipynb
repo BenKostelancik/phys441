{
 "cells": [
  {
   "cell_type": "code",
   "execution_count": 1,
   "metadata": {
    "ExecuteTime": {
     "end_time": "2023-07-16T18:26:42.632436Z",
     "start_time": "2023-07-16T18:26:42.629227Z"
    }
   },
   "outputs": [],
   "source": []
  },
  {
   "cell_type": "code",
   "execution_count": 2,
   "metadata": {
    "ExecuteTime": {
     "end_time": "2023-07-16T18:26:42.636211Z",
     "start_time": "2023-07-16T18:26:42.634168Z"
    }
   },
   "outputs": [],
   "source": []
  },
  {
   "cell_type": "code",
   "execution_count": 2,
   "metadata": {
    "ExecuteTime": {
     "end_time": "2023-07-16T18:26:42.638940Z",
     "start_time": "2023-07-16T18:26:42.636366Z"
    }
   },
   "outputs": [],
   "source": []
  },
  {
   "cell_type": "code",
   "execution_count": null,
   "metadata": {
    "is_executing": true,
    "ExecuteTime": {
     "start_time": "2023-07-16T18:58:29.439216Z"
    }
   },
   "outputs": [],
   "source": [
    "import matplotlib.pyplot as plt\n",
    "import numpy as np\n",
    "from scipy.stats import norm\n",
    "\n",
    "def generator_function(x):\n",
    "    return 3.0 / 2.0 * (1.0 - x * x)\n",
    "\n",
    "np.random.seed(1)\n",
    "\n",
    "niter = 1000\n",
    "nbins = 100\n",
    "deltax = 0.04\n",
    "\n",
    "npoints = 100000\n",
    "xlow = 0.0\n",
    "xhigh = 1.0\n",
    "dx = (xhigh - xlow) / npoints\n",
    "\n",
    "error = 0.0\n",
    "sum_iter = []\n",
    "for j in range(niter):\n",
    "    sum_iteration = 0.0\n",
    "    sigma_iteration = 0.0\n",
    "\n",
    "    for i in range(npoints):\n",
    "        xval = xlow + np.random.random() * (xhigh - xlow)\n",
    "        yval = generator_function(xval)\n",
    "        sum_iteration = sum_iteration + dx * yval\n",
    "        sigma_iteration = sigma_iteration + dx * yval * yval\n",
    "\n",
    "    error = error + np.power(np.sqrt(sigma_iteration - sum_iteration * sum_iteration) / np.sqrt(npoints), 2)\n",
    "    sum_iter.append(sum_iteration)\n",
    "\n",
    "print(\"Error Upper Bound =\", np.sqrt(error) / niter)\n",
    "\n",
    "# Create histogram\n",
    "fig, ax = plt.subplots()\n",
    "h1, bins, _ = ax.hist(sum_iter, bins=nbins, range=(1-deltax/2, 1+deltax/2), color='blue', alpha=0.7, label='h1')\n",
    "\n",
    "ax.grid(True)\n",
    "ax.patch.set_facecolor('lightgrey')\n",
    "\n",
    "# Fit Gaussian to the histogram\n",
    "(mu, sigma) = norm.fit(sum_iter)\n",
    "print(f\"Fit results: {mu} {sigma/np.sqrt(niter)}\")\n",
    "x = np.linspace(1-deltax/2, 1+deltax/2, nbins)\n",
    "y = norm.pdf(x, mu, sigma)\n",
    "ax.plot(x, y*deltax*niter/nbins, 'r-', linewidth=2, label='Fit: mu=%.4f, sigma=%.4f' % (mu, sigma))\n",
    "\n",
    "# Set labels and title\n",
    "ax.set_xlabel('x')\n",
    "ax.set_ylabel('Entries')\n",
    "ax.set_title('Simple Integration Example')\n",
    "\n",
    "# Add legend\n",
    "ax.legend()\n",
    "\n",
    "# Show the plot\n",
    "plt.show()\n"
   ]
  },
  {
   "cell_type": "code",
   "execution_count": 1,
   "metadata": {
    "ExecuteTime": {
     "end_time": "2023-07-16T18:53:02.018751Z",
     "start_time": "2023-07-16T18:53:02.014099Z"
    }
   },
   "outputs": [],
   "source": []
  },
  {
   "cell_type": "code",
   "execution_count": 1,
   "metadata": {
    "ExecuteTime": {
     "end_time": "2023-07-16T18:53:02.477076Z",
     "start_time": "2023-07-16T18:53:02.471894Z"
    }
   },
   "outputs": [],
   "source": []
  },
  {
   "cell_type": "code",
   "execution_count": 1,
   "metadata": {
    "ExecuteTime": {
     "end_time": "2023-07-16T18:53:02.879636Z",
     "start_time": "2023-07-16T18:53:02.874755Z"
    }
   },
   "outputs": [],
   "source": [
    "\n",
    "\n"
   ]
  },
  {
   "cell_type": "code",
   "execution_count": null,
   "metadata": {
    "scrolled": true
   },
   "outputs": [],
   "source": []
  },
  {
   "cell_type": "code",
   "execution_count": null,
   "metadata": {},
   "outputs": [],
   "source": []
  },
  {
   "cell_type": "code",
   "execution_count": null,
   "metadata": {},
   "outputs": [],
   "source": []
  }
 ],
 "metadata": {
  "kernelspec": {
   "display_name": "Python 3",
   "language": "python",
   "name": "python3"
  },
  "language_info": {
   "codemirror_mode": {
    "name": "ipython",
    "version": 3
   },
   "file_extension": ".py",
   "mimetype": "text/x-python",
   "name": "python",
   "nbconvert_exporter": "python",
   "pygments_lexer": "ipython3",
   "version": "3.6.8"
  }
 },
 "nbformat": 4,
 "nbformat_minor": 2
}
