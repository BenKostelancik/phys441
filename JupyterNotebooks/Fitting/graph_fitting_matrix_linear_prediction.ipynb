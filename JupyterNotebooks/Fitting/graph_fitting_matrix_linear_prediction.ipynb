{
 "cells": [
  {
   "cell_type": "code",
   "execution_count": 1,
   "metadata": {
    "ExecuteTime": {
     "end_time": "2023-07-16T23:39:42.711623Z",
     "start_time": "2023-07-16T23:39:42.629969Z"
    }
   },
   "outputs": [],
   "source": [
    "from array import array\n",
    "import math\n",
    "import numpy as np"
   ]
  },
  {
   "cell_type": "code",
   "execution_count": 2,
   "metadata": {
    "ExecuteTime": {
     "end_time": "2023-07-16T23:39:42.717366Z",
     "start_time": "2023-07-16T23:39:42.714438Z"
    }
   },
   "outputs": [],
   "source": [
    "def generator_function(x,par,ichoice):\n",
    "    sum = 0.0\n",
    "    for i in range(len(par)):\n",
    "        sum = sum + par[i]*math.pow(x,i)\n",
    "    return sum\n",
    "\n",
    "def fitfunction(x,*paramlist):\n",
    "    fitval = 0.0\n",
    "    for i in range(len(paramlist)):\n",
    "        fitval += paramlist[i]*x**i\n",
    "    return fitval"
   ]
  },
  {
   "cell_type": "code",
   "execution_count": 3,
   "metadata": {
    "ExecuteTime": {
     "end_time": "2023-07-16T23:39:42.721515Z",
     "start_time": "2023-07-16T23:39:42.718549Z"
    }
   },
   "outputs": [],
   "source": [
    "ichoice = 1"
   ]
  },
  {
   "cell_type": "code",
   "execution_count": 4,
   "metadata": {
    "ExecuteTime": {
     "end_time": "2023-07-16T23:39:42.741300Z",
     "start_time": "2023-07-16T23:39:42.723291Z"
    }
   },
   "outputs": [],
   "source": [
    "if ichoice == 1:\n",
    "    m = 1\n",
    "    n = 15\n",
    "    par = array('d')\n",
    "    par.append(1.80)\n",
    "    par.append(4.05)\n",
    "    jitter = array('d')\n",
    "    jitter = [-2,2,-1,1,0,-2,2,-1,1,0,-2,2,-1,1,0]\n",
    "    sigma = array('d')\n",
    "    sigma = [7,6,5,4,3,2,1,.5,1,2,3,4,5,6,7]\n",
    "    Title = \"Linear Fit\"\n",
    "    xlow = -4.0\n",
    "    xhigh = 4.0\n",
    "elif ichoice == 2:\n",
    "    m = 1\n",
    "    n = 10\n",
    "    par = array('d')\n",
    "    par.append(6.81)\n",
    "    par.append(0.656)\n",
    "    jitter = array('d')\n",
    "    jitter = [.3,.2,-.5,-.2,.2,.6,-.4,-1.5,.7,.5]\n",
    "    sigma = array('d')\n",
    "    sigma = [0.51,0.51,0.51,0.51,0.51,0.51,0.51,0.51,0.51,0.51]\n",
    "    Title = \"Linear Fit\"\n",
    "    xlow = 41.0\n",
    "    xhigh = 50.0\n",
    "elif ichoice == 3:\n",
    "    m = 1\n",
    "    n = 15\n",
    "    par = array('d')\n",
    "    par.append(1.80)\n",
    "    par.append(4.05)\n",
    "    jitter = array('d')\n",
    "    jitter = [-2,2,-1,1,0,-2,2,-1,1,0,-2,2,-1,1,0] \n",
    "    sigma = array('d')\n",
    "    sigma = [.7,6,5,4,3,2,1,.5,1,2,3,4,5,6,.7]\n",
    "    Title = \"Linear Fit\"\n",
    "    xlow = -4.0\n",
    "    xhigh = 4.0\n",
    "elif ichoice == 4:\n",
    "    m = 1\n",
    "    n = 15\n",
    "    par = array('d')\n",
    "    par.append(1.80)\n",
    "    par.append(4.05)\n",
    "    jitter = array('d')\n",
    "    jitter = [-2,2,-1,1,0,-2,2,-1,1,0,-2,2,-1,1,0]\n",
    "    sigma = array('d') \n",
    "    sigma = [1,2,3,4,5,6,7,8,7,6,5,4,3,2,1]\n",
    "    Title = \"Linear Fit\"\n",
    "    xlow = -4.0\n",
    "    xhigh = 4.0\n",
    "elif ichoice == 5:\n",
    "    m = 3\n",
    "    n = 15\n",
    "    par = array('d')\n",
    "    par.append(1.80)\n",
    "    par.append(4.05)\n",
    "    par.append(0.00)\n",
    "    par.append(0.20)\n",
    "    jitter = array('d')\n",
    "    jitter = [-2,2,-1,1,0,-2,2,-1,1,0,-2,2,-1,1,0]\n",
    "    sigma = array('d')\n",
    "    sigma = [7,6,5,4,3,2,1,.5,1,2,3,4,5,6,7]\n",
    "    Title = \"Cubic Fit\"\n",
    "    xlow = -4.0\n",
    "    xhigh = 4.0\n",
    "elif ichoice == 6:\n",
    "    m = 2\n",
    "    n = 15\n",
    "    par = array('d')\n",
    "    par.append(1.80)\n",
    "    par.append(4.05)\n",
    "    par.append(5.10)\n",
    "    jitter = array('d')\n",
    "    jitter = [-2,2,-1,1,0,-2,2,-1,1,0,-2,2,-1,1,0]\n",
    "    sigma = array('d')\n",
    "    sigma = [1,2,3,4,5,6,7,8,7,6,5,4,3,2,1]\n",
    "    Title = \"Quadratic Fit\"\n",
    "    xlow = -4.0\n",
    "    xhigh = 4.0\n",
    "else:\n",
    "    print(\"Invalid choice!!!!\")"
   ]
  },
  {
   "cell_type": "code",
   "execution_count": 5,
   "metadata": {
    "ExecuteTime": {
     "end_time": "2023-07-16T23:39:42.743428Z",
     "start_time": "2023-07-16T23:39:42.736672Z"
    }
   },
   "outputs": [],
   "source": [
    "x = array('d')\n",
    "y = array('d')\n",
    "ex = array('d')\n",
    "ey = array('d')\n",
    "\n",
    "rootfitstring = \"pol\"+str(m)"
   ]
  },
  {
   "cell_type": "code",
   "execution_count": 6,
   "metadata": {
    "ExecuteTime": {
     "end_time": "2023-07-16T23:39:42.757483Z",
     "start_time": "2023-07-16T23:39:42.741434Z"
    }
   },
   "outputs": [],
   "source": [
    "for i in range(0,n):\n",
    "    x.append(xlow+(xhigh-xlow)*i/(n-1))\n",
    "    y.append(generator_function(x[i],par,ichoice)+jitter[i])\n",
    "    ex.append(0.0)\n",
    "    ey.append(sigma[i])"
   ]
  },
  {
   "cell_type": "code",
   "execution_count": 7,
   "metadata": {
    "ExecuteTime": {
     "end_time": "2023-07-16T23:39:42.757710Z",
     "start_time": "2023-07-16T23:39:42.745742Z"
    }
   },
   "outputs": [],
   "source": [
    "m_params = m + 1\n",
    "a = np.zeros(shape = (m_params,m_params))\n",
    "v = np.zeros(shape = (m_params,1))"
   ]
  },
  {
   "cell_type": "code",
   "execution_count": 8,
   "metadata": {
    "ExecuteTime": {
     "end_time": "2023-07-16T23:39:42.757987Z",
     "start_time": "2023-07-16T23:39:42.753743Z"
    }
   },
   "outputs": [
    {
     "name": "stdout",
     "output_type": "stream",
     "text": [
      "A matrix = \n",
      "[[ 7.02359410e+00 -4.16333634e-16]\n",
      " [-4.16333634e-16  4.57142857e+00]]\n",
      "V matrix = \n",
      "[[11.07026417]\n",
      " [18.34421769]]\n",
      "A_inverse = \n",
      "[[1.42377248e-01 1.29667206e-17]\n",
      " [1.29667206e-17 2.18750000e-01]]\n",
      "Diagonal Check:\n",
      "[[ 1.00000000e+00  1.15555797e-32]\n",
      " [-2.33884325e-33  1.00000000e+00]]\n",
      "Coefficients:\n",
      "k = 0, coeff = 1.576154 +/- 0.377329\n",
      "k = 1, coeff = 4.012798 +/- 0.467707\n"
     ]
    },
    {
     "name": "stderr",
     "output_type": "stream",
     "text": [
      "/var/folders/jg/3shqt61x201b290vj1j83q5r0000gq/T/ipykernel_84617/2090500146.py:25: DeprecationWarning: Conversion of an array with ndim > 0 to a scalar is deprecated, and will error in future. Ensure you extract a single element from your array before performing this operation. (Deprecated NumPy 1.25.)\n",
      "  print(\"k = %d, coeff = %f +/- %f\" % (k,coeff[k],math.pow(ainv[k][k],0.5)))\n"
     ]
    }
   ],
   "source": [
    "for k in range(0,m_params):\n",
    "    for i in range(0,n):\n",
    "        v[k][0]=v[k][0]+y[i]*math.pow(x[i],k)/math.pow(ey[i],2)\n",
    "    #print (\"v[%d] = %f\" % (k,v[k][0]))\n",
    "    for j in range(0,m_params):\n",
    "        for i in range(0,n):\n",
    "            a[k][j]=a[k][j]+math.pow(x[i],k+j)/math.pow(ey[i],2)\n",
    "        #print (\"a[%d][%d] = %f\" %(k,j,a[k][j]))\n",
    "        \n",
    "print (\"A matrix = \")        \n",
    "print (a)\n",
    "print(\"V matrix = \")\n",
    "print (v)\n",
    "\n",
    "ainv = np.linalg.inv(a)\n",
    "u1 = np.dot(a,ainv)\n",
    "\n",
    "print (\"A_inverse = \")\n",
    "print (ainv)\n",
    "print (\"Diagonal Check:\")\n",
    "print (u1)\n",
    "coeff = ainv*np.matrix(v)\n",
    "print (\"Coefficients:\")\n",
    "for k in range(0,m+1):\n",
    "    print(\"k = %d, coeff = %f +/- %f\" % (k,coeff[k],math.pow(ainv[k][k],0.5)))"
   ]
  },
  {
   "cell_type": "code",
   "execution_count": 9,
   "metadata": {
    "ExecuteTime": {
     "end_time": "2023-07-16T23:39:42.765316Z",
     "start_time": "2023-07-16T23:39:42.762332Z"
    }
   },
   "outputs": [
    {
     "name": "stdout",
     "output_type": "stream",
     "text": [
      "i = 0  y = -16.400000  yfit = -14.475037\n",
      "i = 1  y = -10.085714  yfit = -12.182010\n",
      "i = 2  y = -10.771429  yfit = -9.888982\n",
      "i = 3  y = -6.457143  yfit = -7.595955\n",
      "i = 4  y = -5.142857  yfit = -5.302928\n",
      "i = 5  y = -4.828571  yfit = -3.009901\n",
      "i = 6  y = 1.485714  yfit = -0.716873\n",
      "i = 7  y = 0.800000  yfit = 1.576154\n",
      "i = 8  y = 5.114286  yfit = 3.869181\n",
      "i = 9  y = 6.428571  yfit = 6.162208\n",
      "i = 10  y = 6.742857  yfit = 8.455235\n",
      "i = 11  y = 13.057143  yfit = 10.748263\n",
      "i = 12  y = 12.371429  yfit = 13.041290\n",
      "i = 13  y = 16.685714  yfit = 15.334317\n",
      "i = 14  y = 18.000000  yfit = 17.627344\n",
      "chi2/dof = 10.699207 / 13.000000\n",
      "[[1.00000000e+00 7.34743623e-17]\n",
      " [7.34743623e-17 1.00000000e+00]]\n"
     ]
    },
    {
     "name": "stderr",
     "output_type": "stream",
     "text": [
      "/var/folders/jg/3shqt61x201b290vj1j83q5r0000gq/T/ipykernel_84617/3703061364.py:8: DeprecationWarning: Conversion of an array with ndim > 0 to a scalar is deprecated, and will error in future. Ensure you extract a single element from your array before performing this operation. (Deprecated NumPy 1.25.)\n",
      "  print (\"i = %d  y = %f  yfit = %f\" % (i,y[i],yfit))\n",
      "/var/folders/jg/3shqt61x201b290vj1j83q5r0000gq/T/ipykernel_84617/3703061364.py:9: DeprecationWarning: Conversion of an array with ndim > 0 to a scalar is deprecated, and will error in future. Ensure you extract a single element from your array before performing this operation. (Deprecated NumPy 1.25.)\n",
      "  chi2 = chi2 + math.pow(((yfit-y[i])/ey[i]),2)\n"
     ]
    }
   ],
   "source": [
    "yfit = 0\n",
    "chi2 = 0\n",
    "rho = array('d')\n",
    "\n",
    "for i in range(0,n):\n",
    "    for j in range(0,m+1):\n",
    "        yfit = yfit + coeff[j]*math.pow(x[i],j)\n",
    "    print (\"i = %d  y = %f  yfit = %f\" % (i,y[i],yfit))\n",
    "    chi2 = chi2 + math.pow(((yfit-y[i])/ey[i]),2)\n",
    "    yfit = 0\n",
    "    \n",
    "chi2perdof = chi2/(n-m)\n",
    "print (\"chi2/dof = %f / %f\" % (chi2,(n-m-1)))\n",
    "\n",
    "rho = np.zeros(shape = (m_params,m_params))\n",
    "\n",
    "for k in range(0,m_params):\n",
    "    for j in range(0,m_params):\n",
    "        rho[k][j]=rho[k][j]+ainv[k][j]/math.sqrt(ainv[k][k]*ainv[j][j])    \n",
    "print (rho)"
   ]
  },
  {
   "cell_type": "code",
   "execution_count": 9,
   "metadata": {
    "ExecuteTime": {
     "end_time": "2023-07-16T23:39:42.795647Z",
     "start_time": "2023-07-16T23:39:42.769718Z"
    }
   },
   "outputs": [],
   "source": []
  },
  {
   "cell_type": "code",
   "execution_count": 10,
   "metadata": {
    "ExecuteTime": {
     "end_time": "2023-07-16T23:39:42.796186Z",
     "start_time": "2023-07-16T23:39:42.776303Z"
    }
   },
   "outputs": [
    {
     "name": "stdout",
     "output_type": "stream",
     "text": [
      "0 -4.0 [[-14.47503673]] 1.9085013094182544 -12.566535418715379 -16.383538037551887\n",
      "1 -3.428571428571429 [[-12.18200952]] 1.647363293108039 -10.534646224141241 -13.82937281035732\n",
      "2 -2.857142857142857 [[-9.88898231]] 1.388557357031202 -8.500424949333725 -11.277539663396128\n",
      "3 -2.2857142857142856 [[-7.5959551]] 1.1336817855590402 -6.462273309921533 -8.729636881039614\n",
      "4 -1.7142857142857144 [[-5.30292788]] 0.8861345219030428 -4.416793362693176 -6.189062406499262\n",
      "5 -1.1428571428571428 [[-3.00990067]] 0.6542870423334676 -2.355613631378398 -3.664187716045333\n",
      "6 -0.5714285714285716 [[-0.71687346]] 0.4623914137176022 -0.2544820491099107 -1.179264876545115\n",
      "7 0.0 [[1.57615375]] 0.3773290978061343 1.9534828458629758 1.1988246502507072\n",
      "8 0.5714285714285712 [[3.86918096]] 0.46239141371760206 4.331572372658796 3.406789545223592\n",
      "9 1.1428571428571432 [[6.16220817]] 0.6542870423334678 6.816495212159018 5.507921127492083\n",
      "10 1.7142857142857144 [[8.45523538]] 0.8861345219030428 9.341369902612946 7.56910085880686\n",
      "11 2.2857142857142856 [[10.74826259]] 1.1336817855590404 11.881944377153296 9.614580806035214\n",
      "12 2.8571428571428568 [[13.0412898]] 1.3885573570312018 14.429847159509809 11.652732445447405\n",
      "13 3.428571428571429 [[15.33431701]] 1.647363293108039 16.981680306471002 13.686953720254923\n",
      "14 4.0 [[17.62734422]] 1.9085013094182544 19.535845533665572 15.718842914829063\n"
     ]
    },
    {
     "name": "stderr",
     "output_type": "stream",
     "text": [
      "/var/folders/jg/3shqt61x201b290vj1j83q5r0000gq/T/ipykernel_84617/604238187.py:16: DeprecationWarning: Conversion of an array with ndim > 0 to a scalar is deprecated, and will error in future. Ensure you extract a single element from your array before performing this operation. (Deprecated NumPy 1.25.)\n",
      "  yfiterr.append(yval)\n",
      "/var/folders/jg/3shqt61x201b290vj1j83q5r0000gq/T/ipykernel_84617/604238187.py:17: DeprecationWarning: Conversion of an array with ndim > 0 to a scalar is deprecated, and will error in future. Ensure you extract a single element from your array before performing this operation. (Deprecated NumPy 1.25.)\n",
      "  yfitplus2.append(yval+math.sqrt(yerror2))\n",
      "/var/folders/jg/3shqt61x201b290vj1j83q5r0000gq/T/ipykernel_84617/604238187.py:18: DeprecationWarning: Conversion of an array with ndim > 0 to a scalar is deprecated, and will error in future. Ensure you extract a single element from your array before performing this operation. (Deprecated NumPy 1.25.)\n",
      "  yfitminus2.append(yval-math.sqrt(yerror2))\n"
     ]
    }
   ],
   "source": [
    "xfiterr = array('d')\n",
    "yfiterr = array('d')\n",
    "yfitplus2 = array('d')\n",
    "yfitminus2 = array('d')\n",
    "\n",
    "for i in range(0,n):\n",
    "    xfiterr.append(xlow+(xhigh-xlow)*i/(n-1))\n",
    "    yerror2 = 0.0\n",
    "    yval = 0.0\n",
    "    for k in range(0,m+1):\n",
    "        for j in range(0,m+1):\n",
    "            term = rho[k][j]*math.pow(xfiterr[i],k)*math.pow(ainv[k][k],0.5)*(math.pow(xfiterr[i],j)*math.pow(ainv[j][j],0.5))\n",
    "            #print (k,j,term)\n",
    "            yerror2 = yerror2 + term\n",
    "        yval = yval + coeff[k]*math.pow(xfiterr[i],k)\n",
    "    yfiterr.append(yval)\n",
    "    yfitplus2.append(yval+math.sqrt(yerror2))\n",
    "    yfitminus2.append(yval-math.sqrt(yerror2))\n",
    "    print(i,xfiterr[i],yval,math.sqrt(yerror2),yfitplus2[i],yfitminus2[i])"
   ]
  },
  {
   "cell_type": "code",
   "execution_count": 11,
   "metadata": {
    "scrolled": false,
    "ExecuteTime": {
     "end_time": "2023-07-16T23:39:43.569657Z",
     "start_time": "2023-07-16T23:39:42.791112Z"
    }
   },
   "outputs": [
    {
     "name": "stdout",
     "output_type": "stream",
     "text": [
      "[1.57615375 4.01279762] [[1.42377248e-01 1.98039745e-10]\n",
      " [1.98039745e-10 2.18749996e-01]]\n",
      "Coefficients (from curve_fit)\n",
      "[1.57615375 4.01279762]\n",
      "Covariance Matrix (from curve_fit)\n",
      "[[1.42377248e-01 1.98039745e-10]\n",
      " [1.98039745e-10 2.18749996e-01]]\n",
      "Chi^2 / dof = 1.070E+01 / 13\n",
      "Fit Parameter 0: 1.576E+00 +/- 3.773E-01\n",
      "0 1 1.122E-09\n",
      "Fit Parameter 1: 4.013E+00 +/- 4.677E-01\n"
     ]
    },
    {
     "data": {
      "text/plain": "<Figure size 1100x800 with 1 Axes>",
      "image/png": "[encoded data removed]"
     },
     "metadata": {},
     "output_type": "display_data"
    }
   ],
   "source": [
    "import matplotlib.pyplot as plt\n",
    "from scipy.optimize import curve_fit\n",
    "\n",
    "x = np.array(x)\n",
    "y = np.array(y)\n",
    "ex = np.array(ex)\n",
    "ey = np.array(ey)\n",
    "\n",
    "fig = plt.figure(figsize=(11,8))\n",
    "ax1 = fig.add_subplot(111)\n",
    "\n",
    "ax1.set_title(\"Polynomial Fit\")\n",
    "ax1.set_xlabel('X')\n",
    "ax1.set_ylabel('Y')\n",
    "ax1.set_yscale(\"linear\")\n",
    "ax1.grid(True)\n",
    "\n",
    "ax1.errorbar(x,y,yerr=ey,fmt='o')\n",
    "\n",
    "init_vals = [0.0 for x in range(0,m_params)]\n",
    "#popt, pcov = curve_fit(fitfunction,x,y,sigma=ey,p0=init_vals)\n",
    "popt, pcov = curve_fit(fitfunction,x,y,sigma=ey,p0=init_vals,absolute_sigma=True)\n",
    "\n",
    "print (popt,pcov)\n",
    "\n",
    "xi = np.linspace(np.min(x),np.max(x),100)\n",
    "ps = np.random.multivariate_normal(popt,pcov,10000)\n",
    "ysample=np.asarray([fitfunction(xi,*pi) for pi in ps])\n",
    "lower = np.percentile(ysample,16.0,axis=0)\n",
    "upper = np.percentile(ysample,84.0,axis=0)\n",
    "\n",
    "print(\"Coefficients (from curve_fit)\")\n",
    "print (popt)\n",
    "print(\"Covariance Matrix (from curve_fit)\")\n",
    "print (pcov)\n",
    "\n",
    "yfit = []\n",
    "chi2=0\n",
    "for i in range (0,n):\n",
    "    yfit.append(fitfunction(x[i],*popt))\n",
    "    #chi2 += (y[i]-yfit[i])*(y[i]-yfit[i])\n",
    "    chi2 += (y[i]-yfit[i])*(y[i]-yfit[i])/(ey[i]*ey[i])\n",
    "\n",
    "print (\"Chi^2 / dof = %.3E / %d\" % (chi2,n-len(init_vals)))\n",
    "\n",
    "param = []\n",
    "rhom = []\n",
    "param.append(float(chi2))\n",
    "param.append(n-len(init_vals))\n",
    "for ii in range(0,len(init_vals)):\n",
    "    param.append(float(popt[ii]))\n",
    "    param.append(float(np.sqrt(pcov[ii][ii])))\n",
    "    print(\"Fit Parameter %d: %.3E +/- %.3E\" % (ii,popt[ii],np.sqrt(pcov[ii][ii])))\n",
    "    for jj in range(0,len(init_vals)):\n",
    "        rhom.append(float(pcov[ii][jj])/pow(float(pcov[ii][ii]*pcov[jj][jj]),0.5))\n",
    "        if jj > ii:\n",
    "            print(\"%d %d %.3E\" % (ii,jj,rhom[ii*len(init_vals)+jj]))\n",
    "\n",
    "mylabel = \"Chi^2/dof = %.3E / %d\\n\"\n",
    "for i in range(0,len(init_vals)):\n",
    "    code = \"p\" + str(i)\n",
    "    mylabel = mylabel + code + \" = %.3E +/- %.3E\\n\"\n",
    "\n",
    "ax1.plot(xi, fitfunction(xi, *popt), 'r--', label = mylabel % tuple(param))\n",
    "ax1.plot(xi,lower,'b--')\n",
    "ax1.plot(xi,upper,'b--')\n",
    "\n",
    "leg = ax1.legend()\n",
    "plt.show()"
   ]
  },
  {
   "cell_type": "code",
   "execution_count": 12,
   "metadata": {
    "ExecuteTime": {
     "end_time": "2023-07-16T23:39:43.579105Z",
     "start_time": "2023-07-16T23:39:43.572705Z"
    }
   },
   "outputs": [
    {
     "name": "stdout",
     "output_type": "stream",
     "text": [
      "P201 Error Calculation = 1.576154 +/- 0.377329 \n",
      "Proper Error Calculation = 1.576154 +/- 0.377329 \n"
     ]
    },
    {
     "name": "stderr",
     "output_type": "stream",
     "text": [
      "/var/folders/jg/3shqt61x201b290vj1j83q5r0000gq/T/ipykernel_84617/1387294335.py:8: DeprecationWarning: Conversion of an array with ndim > 0 to a scalar is deprecated, and will error in future. Ensure you extract a single element from your array before performing this operation. (Deprecated NumPy 1.25.)\n",
      "  print (\"P201 Error Calculation = %f +/- %f \" % (yfitvalue,yerrorvalue))\n"
     ]
    }
   ],
   "source": [
    "index=7\n",
    "yfitvalue = 0.0\n",
    "yerrorvalue = 0.0\n",
    "for k in range(0,m_params):\n",
    "    yfitvalue = yfitvalue + coeff[k]*math.pow(x[index],k)\n",
    "    yerrorvalue = yerrorvalue + math.pow(math.pow(x[index],k)*math.pow(ainv[k][k],0.5),2)\n",
    "yerrorvalue = math.sqrt(yerrorvalue)\n",
    "print (\"P201 Error Calculation = %f +/- %f \" % (yfitvalue,yerrorvalue))\n",
    "print (\"Proper Error Calculation = %f +/- %f \" % ((yfitplus2[index]+yfitminus2[index])/2.0,(yfitplus2[index]-yfitminus2[index])/2.0))\n"
   ]
  },
  {
   "cell_type": "code",
   "execution_count": 12,
   "metadata": {
    "ExecuteTime": {
     "end_time": "2023-07-16T23:39:43.580829Z",
     "start_time": "2023-07-16T23:39:43.576844Z"
    }
   },
   "outputs": [],
   "source": []
  },
  {
   "cell_type": "code",
   "execution_count": 12,
   "metadata": {
    "ExecuteTime": {
     "end_time": "2023-07-16T23:39:43.583381Z",
     "start_time": "2023-07-16T23:39:43.580604Z"
    }
   },
   "outputs": [],
   "source": []
  },
  {
   "cell_type": "code",
   "execution_count": 12,
   "metadata": {
    "ExecuteTime": {
     "end_time": "2023-07-16T23:39:43.588077Z",
     "start_time": "2023-07-16T23:39:43.584192Z"
    }
   },
   "outputs": [],
   "source": []
  }
 ],
 "metadata": {
  "kernelspec": {
   "display_name": "Python 3",
   "language": "python",
   "name": "python3"
  },
  "language_info": {
   "codemirror_mode": {
    "name": "ipython",
    "version": 3
   },
   "file_extension": ".py",
   "mimetype": "text/x-python",
   "name": "python",
   "nbconvert_exporter": "python",
   "pygments_lexer": "ipython3",
   "version": "3.7.3"
  }
 },
 "nbformat": 4,
 "nbformat_minor": 2
}
