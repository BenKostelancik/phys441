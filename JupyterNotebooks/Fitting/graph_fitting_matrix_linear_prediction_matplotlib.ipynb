{
 "cells": [
  {
   "cell_type": "code",
   "execution_count": 2,
   "metadata": {
    "ExecuteTime": {
     "end_time": "2023-07-16T23:43:32.237709Z",
     "start_time": "2023-07-16T23:43:32.233092Z"
    }
   },
   "outputs": [],
   "source": [
    "from array import array\n",
    "import math\n",
    "import numpy as np"
   ]
  },
  {
   "cell_type": "code",
   "execution_count": 3,
   "metadata": {
    "ExecuteTime": {
     "end_time": "2023-07-16T23:43:32.639764Z",
     "start_time": "2023-07-16T23:43:32.631767Z"
    }
   },
   "outputs": [],
   "source": [
    "def generator_function(x,par,ichoice):\n",
    "    if (ichoice == 5):\n",
    "        return par[0]+par[1]*x+par[2]*x*x+par[3]*x*x*x\n",
    "    elif (ichoice ==6):\n",
    "        return par[0]+par[1]*x+par[2]*x*x\n",
    "    else:\n",
    "        return par[0]+par[1]*x"
   ]
  },
  {
   "cell_type": "code",
   "execution_count": 4,
   "metadata": {
    "ExecuteTime": {
     "end_time": "2023-07-16T23:43:33.022705Z",
     "start_time": "2023-07-16T23:43:33.015035Z"
    }
   },
   "outputs": [],
   "source": [
    "def fitfunction(x,*paramlist):\n",
    "    if (ichoice == 5):\n",
    "        return paramlist[0]+paramlist[1]*x+paramlist[2]*x*x+paramlist[3]*x*x*x\n",
    "    elif (ichoice ==6):\n",
    "        return paramlist[0]+paramlist[1]*x+paramlist[2]*x*x\n",
    "    else:\n",
    "        return paramlist[0]+paramlist[1]*x"
   ]
  },
  {
   "cell_type": "code",
   "execution_count": 21,
   "metadata": {
    "ExecuteTime": {
     "end_time": "2023-07-16T23:50:38.438669Z",
     "start_time": "2023-07-16T23:50:38.433375Z"
    }
   },
   "outputs": [],
   "source": [
    "ichoice = 1"
   ]
  },
  {
   "cell_type": "code",
   "execution_count": 22,
   "metadata": {
    "ExecuteTime": {
     "end_time": "2023-07-16T23:50:40.487173Z",
     "start_time": "2023-07-16T23:50:40.484119Z"
    }
   },
   "outputs": [],
   "source": [
    "if ichoice == 1:\n",
    "    m = 1\n",
    "    n = 15\n",
    "    par = []\n",
    "    par.append(1.80)\n",
    "    par.append(4.05)\n",
    "    par = np.array(par)\n",
    "    jitter = [-2,2,-1,1,0,-2,2,-1,1,0,-2,2,-1,1,0]\n",
    "    jitter = np.array(jitter)\n",
    "    sigma = [7,6,5,4,3,2,1,.5,1,2,3,4,5,6,7]\n",
    "    sigma = np.array(sigma)\n",
    "    Title = \"Linear Fit\"\n",
    "    xlow = 0.0\n",
    "    xhigh = 8.0\n",
    "elif ichoice == 2:\n",
    "    m = 1\n",
    "    n = 10\n",
    "    par = []\n",
    "    par.append(6.81)\n",
    "    par.append(0.656)\n",
    "    par = np.array(par)\n",
    "    jitter = [.3,.2,-.5,-.2,.2,.6,-.4,-1.5,.7,.5]\n",
    "    jitter = np.array(jitter)\n",
    "    sigma = [0.51,0.51,0.51,0.51,0.51,0.51,0.51,0.51,0.51,0.51]\n",
    "    sigma = np.array(sigma)\n",
    "    Title = \"Linear Fit\"\n",
    "    xlow = 41.0\n",
    "    xhigh = 50.0\n",
    "elif ichoice == 3:\n",
    "    m = 1\n",
    "    n = 15\n",
    "    par = []\n",
    "    par.append(1.80)\n",
    "    par.append(4.05)\n",
    "    par = np.array(par)\n",
    "    jitter = [-2,2,-1,1,0,-2,2,-1,1,0,-2,2,-1,1,0]\n",
    "    jitter = np.array(jitter)\n",
    "    sigma = [.7,6,5,4,3,2,1,.5,1,2,3,4,5,6,.7]\n",
    "    sigma = np.array(sigma)\n",
    "    Title = \"Linear Fit\"\n",
    "    xlow = -4.0\n",
    "    xhigh = 4.0\n",
    "elif ichoice == 4:\n",
    "    m = 1\n",
    "    n = 15\n",
    "    par = []\n",
    "    par.append(1.80)\n",
    "    par.append(4.05)\n",
    "    par = np.array(par)\n",
    "    jitter = [-2,2,-1,1,0,-2,2,-1,1,0,-2,2,-1,1,0]\n",
    "    jitter = np.array(jitter)\n",
    "    sigma = [1,2,3,4,5,6,7,8,7,6,5,4,3,2,1]\n",
    "    sigma = np.array(sigma)\n",
    "    Title = \"Linear Fit\"\n",
    "    xlow = -4.0\n",
    "    xhigh = 4.0\n",
    "elif ichoice == 5:\n",
    "    m = 3\n",
    "    n = 15\n",
    "    par = []\n",
    "    par.append(1.80)\n",
    "    par.append(4.05)\n",
    "    par.append(0.00)\n",
    "    par.append(0.20)\n",
    "    par = np.array(par)\n",
    "    jitter = [-2,2,-1,1,0,-2,2,-1,1,0,-2,2,-1,1,0]\n",
    "    jitter = np.array(jitter)\n",
    "    sigma = [7,6,5,4,3,2,1,.5,1,2,3,4,5,6,7]\n",
    "    sigma = np.array(sigma)\n",
    "    Title = \"Cubic Fit\"\n",
    "    xlow = -4.0\n",
    "    xhigh = 4.0\n",
    "elif ichoice == 6:\n",
    "    m = 2\n",
    "    n = 15\n",
    "    par = []\n",
    "    par.append(1.80)\n",
    "    par.append(4.05)\n",
    "    par.append(5.10)\n",
    "    par=np.array(par)\n",
    "    jitter = [-2,2,-1,1,0,-2,2,-1,1,0,-2,2,-1,1,0]\n",
    "    jitter = np.array(jitter)\n",
    "    sigma = [1,2,3,4,5,6,7,8,7,6,5,4,3,2,1]\n",
    "    sigma = np.array(sigma)\n",
    "    Title = \"Quadratic Fit\"\n",
    "    xlow = -4.0\n",
    "    xhigh = 4.0\n",
    "else:\n",
    "    print(\"Invalid choice!!!!\")"
   ]
  },
  {
   "cell_type": "code",
   "execution_count": 23,
   "metadata": {
    "ExecuteTime": {
     "end_time": "2023-07-16T23:50:40.969583Z",
     "start_time": "2023-07-16T23:50:40.962210Z"
    }
   },
   "outputs": [],
   "source": [
    "x = [0.0 for i in range(n)]\n",
    "y = [0.0 for i in range(n)]\n",
    "ex = [0.0 for i in range(n)]\n",
    "ey = [0.0 for i in range(n)]\n",
    "x = np.array(x)\n",
    "y = np.array(y)\n",
    "ex = np.array(ex)\n",
    "ey = np.array(ey)\n",
    "\n",
    "rootfitstring = \"pol\"+str(m)"
   ]
  },
  {
   "cell_type": "code",
   "execution_count": 24,
   "metadata": {
    "ExecuteTime": {
     "end_time": "2023-07-16T23:50:41.358667Z",
     "start_time": "2023-07-16T23:50:41.348421Z"
    }
   },
   "outputs": [
    {
     "name": "stdout",
     "output_type": "stream",
     "text": [
      "[0.         0.57142857 1.14285714 1.71428571 2.28571429 2.85714286\n",
      " 3.42857143 4.         4.57142857 5.14285714 5.71428571 6.28571429\n",
      " 6.85714286 7.42857143 8.        ] [-0.2         6.11428571  5.42857143  9.74285714 11.05714286 11.37142857\n",
      " 17.68571429 17.         21.31428571 22.62857143 22.94285714 29.25714286\n",
      " 28.57142857 32.88571429 34.2       ] [0. 0. 0. 0. 0. 0. 0. 0. 0. 0. 0. 0. 0. 0. 0.] [7.  6.  5.  4.  3.  2.  1.  0.5 1.  2.  3.  4.  5.  6.  7. ]\n"
     ]
    }
   ],
   "source": [
    "for i in range(0,n):\n",
    "    x[i]=float(xlow+(xhigh-xlow)*i/(n-1))\n",
    "    y[i]=float(generator_function(x[i],par,ichoice)+jitter[i])\n",
    "    ex[i]=float(0.0)\n",
    "    ey[i]=float(sigma[i])\n",
    "    \n",
    "print(x,y,ex,ey)"
   ]
  },
  {
   "cell_type": "code",
   "execution_count": 25,
   "metadata": {
    "ExecuteTime": {
     "end_time": "2023-07-16T23:50:41.798796Z",
     "start_time": "2023-07-16T23:50:41.793630Z"
    }
   },
   "outputs": [],
   "source": [
    "m_params = m + 1\n",
    "a = np.zeros(shape = (m_params,m_params))\n",
    "v = np.zeros(shape = (m_params,1))"
   ]
  },
  {
   "cell_type": "code",
   "execution_count": 26,
   "metadata": {
    "ExecuteTime": {
     "end_time": "2023-07-16T23:50:42.345940Z",
     "start_time": "2023-07-16T23:50:42.313735Z"
    }
   },
   "outputs": [
    {
     "name": "stdout",
     "output_type": "stream",
     "text": [
      "A matrix = \n",
      "[[  7.0235941   28.09437642]\n",
      " [ 28.09437642 116.94893424]]\n",
      "V matrix = \n",
      "[[124.85248866]\n",
      " [517.75417234]]\n",
      "A_inverse = \n",
      "[[ 3.64237725 -0.875     ]\n",
      " [-0.875       0.21875   ]]\n",
      "Diagonal Check:\n",
      "[[ 1.000000e+00  2.780580e-16]\n",
      " [-4.448928e-15  1.000000e+00]]\n",
      "Coefficients:\n",
      "k = 0, coeff = 1.724963 +/- 1.908501\n",
      "k = 1, coeff = 4.012798 +/- 0.467707\n"
     ]
    },
    {
     "name": "stderr",
     "output_type": "stream",
     "text": [
      "/var/folders/jg/3shqt61x201b290vj1j83q5r0000gq/T/ipykernel_84684/2090500146.py:25: DeprecationWarning: Conversion of an array with ndim > 0 to a scalar is deprecated, and will error in future. Ensure you extract a single element from your array before performing this operation. (Deprecated NumPy 1.25.)\n",
      "  print(\"k = %d, coeff = %f +/- %f\" % (k,coeff[k],math.pow(ainv[k][k],0.5)))\n"
     ]
    }
   ],
   "source": [
    "for k in range(0,m_params):\n",
    "    for i in range(0,n):\n",
    "        v[k][0]=v[k][0]+y[i]*math.pow(x[i],k)/math.pow(ey[i],2)\n",
    "    #print (\"v[%d] = %f\" % (k,v[k][0]))\n",
    "    for j in range(0,m_params):\n",
    "        for i in range(0,n):\n",
    "            a[k][j]=a[k][j]+math.pow(x[i],k+j)/math.pow(ey[i],2)\n",
    "        #print (\"a[%d][%d] = %f\" %(k,j,a[k][j]))\n",
    "        \n",
    "print (\"A matrix = \")        \n",
    "print (a)\n",
    "print(\"V matrix = \")\n",
    "print (v)\n",
    "\n",
    "ainv = np.linalg.inv(a)\n",
    "u1 = np.dot(a,ainv)\n",
    "\n",
    "print (\"A_inverse = \")\n",
    "print (ainv)\n",
    "print (\"Diagonal Check:\")\n",
    "print (u1)\n",
    "coeff = ainv*np.matrix(v)\n",
    "print (\"Coefficients:\")\n",
    "for k in range(0,m+1):\n",
    "    print(\"k = %d, coeff = %f +/- %f\" % (k,coeff[k],math.pow(ainv[k][k],0.5)))"
   ]
  },
  {
   "cell_type": "code",
   "execution_count": 27,
   "metadata": {
    "ExecuteTime": {
     "end_time": "2023-07-16T23:50:43.176445Z",
     "start_time": "2023-07-16T23:50:43.165204Z"
    }
   },
   "outputs": [
    {
     "name": "stdout",
     "output_type": "stream",
     "text": [
      "i = 0  y = -0.200000  yfit = 1.724963\n",
      "i = 1  y = 6.114286  yfit = 4.017990\n",
      "i = 2  y = 5.428571  yfit = 6.311018\n",
      "i = 3  y = 9.742857  yfit = 8.604045\n",
      "i = 4  y = 11.057143  yfit = 10.897072\n",
      "i = 5  y = 11.371429  yfit = 13.190099\n",
      "i = 6  y = 17.685714  yfit = 15.483127\n",
      "i = 7  y = 17.000000  yfit = 17.776154\n",
      "i = 8  y = 21.314286  yfit = 20.069181\n",
      "i = 9  y = 22.628571  yfit = 22.362208\n",
      "i = 10  y = 22.942857  yfit = 24.655235\n",
      "i = 11  y = 29.257143  yfit = 26.948263\n",
      "i = 12  y = 28.571429  yfit = 29.241290\n",
      "i = 13  y = 32.885714  yfit = 31.534317\n",
      "i = 14  y = 34.200000  yfit = 33.827344\n",
      "chi2/dof = 10.699207 / 13.000000\n",
      "[[ 1.         -0.98026063]\n",
      " [-0.98026063  1.        ]]\n"
     ]
    },
    {
     "name": "stderr",
     "output_type": "stream",
     "text": [
      "/var/folders/jg/3shqt61x201b290vj1j83q5r0000gq/T/ipykernel_84684/1116166297.py:7: DeprecationWarning: Conversion of an array with ndim > 0 to a scalar is deprecated, and will error in future. Ensure you extract a single element from your array before performing this operation. (Deprecated NumPy 1.25.)\n",
      "  print (\"i = %d  y = %f  yfit = %f\" % (i,y[i],yfit))\n",
      "/var/folders/jg/3shqt61x201b290vj1j83q5r0000gq/T/ipykernel_84684/1116166297.py:8: DeprecationWarning: Conversion of an array with ndim > 0 to a scalar is deprecated, and will error in future. Ensure you extract a single element from your array before performing this operation. (Deprecated NumPy 1.25.)\n",
      "  chi2 = chi2 + math.pow(((yfit-y[i])/ey[i]),2)\n"
     ]
    }
   ],
   "source": [
    "yfit = 0\n",
    "chi2 = 0\n",
    "\n",
    "for i in range(0,n):\n",
    "    for j in range(0,m+1):\n",
    "        yfit = yfit + coeff[j]*math.pow(x[i],j)\n",
    "    print (\"i = %d  y = %f  yfit = %f\" % (i,y[i],yfit))\n",
    "    chi2 = chi2 + math.pow(((yfit-y[i])/ey[i]),2)\n",
    "    yfit = 0\n",
    "    \n",
    "chi2perdof = chi2/(n-m)\n",
    "print (\"chi2/dof = %f / %f\" % (chi2,(n-m-1)))\n",
    "\n",
    "rho = np.zeros(shape = (m_params,m_params))\n",
    "\n",
    "for k in range(0,m_params):\n",
    "    for j in range(0,m_params):\n",
    "        rho[k][j]=rho[k][j]+ainv[k][j]/math.sqrt(ainv[k][k]*ainv[j][j])    \n",
    "print (rho)"
   ]
  },
  {
   "cell_type": "code",
   "execution_count": 27,
   "metadata": {
    "ExecuteTime": {
     "end_time": "2023-07-16T23:50:44.087548Z",
     "start_time": "2023-07-16T23:50:44.086025Z"
    }
   },
   "outputs": [],
   "source": []
  },
  {
   "cell_type": "code",
   "execution_count": 28,
   "metadata": {
    "ExecuteTime": {
     "end_time": "2023-07-16T23:50:44.905939Z",
     "start_time": "2023-07-16T23:50:44.904083Z"
    }
   },
   "outputs": [
    {
     "name": "stdout",
     "output_type": "stream",
     "text": [
      "0 0.0 [[1.72496327]] 1.9085013094182517 3.633464581284586 -0.18353803755191733\n",
      "1 0.5714285714285714 [[4.01799048]] 1.6473632931080366 5.665353775858731 2.370627189642657\n",
      "2 1.1428571428571428 [[6.31101769]] 1.3885573570312002 7.699575050666255 4.922460336603853\n",
      "3 1.7142857142857142 [[8.6040449]] 1.133681785559039 9.737726690078453 7.470363118960375\n",
      "4 2.2857142857142856 [[10.89707212]] 0.8861345219030418 11.783206637306815 10.010937593500731\n",
      "5 2.857142857142857 [[13.19009933]] 0.6542870423334671 13.8443863686216 12.535812283954668\n",
      "6 3.4285714285714284 [[15.48312654]] 0.4623914137176024 15.945517950890096 15.020735123454891\n",
      "7 4.0 [[17.77615375]] 0.3773290978061344 18.15348284586299 17.398824650250717\n",
      "8 4.571428571428571 [[20.06918096]] 0.4623914137176024 20.53157237265881 19.60678954522361\n",
      "9 5.142857142857143 [[22.36220817]] 0.6542870423334667 23.016495212159043 21.707921127492106\n",
      "10 5.714285714285714 [[24.65523538]] 0.8861345219030422 25.541369902612974 23.76910085880689\n",
      "11 6.285714285714286 [[26.94826259]] 1.13368178555904 28.081944377153334 25.814580806035252\n",
      "12 6.857142857142857 [[29.2412898]] 1.3885573570312006 30.62984715950985 27.85273244544745\n",
      "13 7.428571428571429 [[31.53431701]] 1.647363293108038 33.18168030647105 29.886953720254976\n",
      "14 8.0 [[33.82734422]] 1.9085013094182521 35.735845533665625 31.918842914829124\n"
     ]
    },
    {
     "name": "stderr",
     "output_type": "stream",
     "text": [
      "/var/folders/jg/3shqt61x201b290vj1j83q5r0000gq/T/ipykernel_84684/604238187.py:16: DeprecationWarning: Conversion of an array with ndim > 0 to a scalar is deprecated, and will error in future. Ensure you extract a single element from your array before performing this operation. (Deprecated NumPy 1.25.)\n",
      "  yfiterr.append(yval)\n",
      "/var/folders/jg/3shqt61x201b290vj1j83q5r0000gq/T/ipykernel_84684/604238187.py:17: DeprecationWarning: Conversion of an array with ndim > 0 to a scalar is deprecated, and will error in future. Ensure you extract a single element from your array before performing this operation. (Deprecated NumPy 1.25.)\n",
      "  yfitplus2.append(yval+math.sqrt(yerror2))\n",
      "/var/folders/jg/3shqt61x201b290vj1j83q5r0000gq/T/ipykernel_84684/604238187.py:18: DeprecationWarning: Conversion of an array with ndim > 0 to a scalar is deprecated, and will error in future. Ensure you extract a single element from your array before performing this operation. (Deprecated NumPy 1.25.)\n",
      "  yfitminus2.append(yval-math.sqrt(yerror2))\n"
     ]
    }
   ],
   "source": [
    "xfiterr = array('d')\n",
    "yfiterr = array('d')\n",
    "yfitplus2 = array('d')\n",
    "yfitminus2 = array('d')\n",
    "\n",
    "for i in range(0,n):\n",
    "    xfiterr.append(xlow+(xhigh-xlow)*i/(n-1))\n",
    "    yerror2 = 0.0\n",
    "    yval = 0.0\n",
    "    for k in range(0,m+1):\n",
    "        for j in range(0,m+1):\n",
    "            term = rho[k][j]*math.pow(xfiterr[i],k)*math.pow(ainv[k][k],0.5)*(math.pow(xfiterr[i],j)*math.pow(ainv[j][j],0.5))\n",
    "            #print (k,j,term)\n",
    "            yerror2 = yerror2 + term\n",
    "        yval = yval + coeff[k]*math.pow(xfiterr[i],k)\n",
    "    yfiterr.append(yval)\n",
    "    yfitplus2.append(yval+math.sqrt(yerror2))\n",
    "    yfitminus2.append(yval-math.sqrt(yerror2))\n",
    "    print(i,xfiterr[i],yval,math.sqrt(yerror2),yfitplus2[i],yfitminus2[i])"
   ]
  },
  {
   "cell_type": "code",
   "execution_count": 28,
   "metadata": {
    "ExecuteTime": {
     "end_time": "2023-07-16T23:50:45.746247Z",
     "start_time": "2023-07-16T23:50:45.745913Z"
    }
   },
   "outputs": [],
   "source": []
  },
  {
   "cell_type": "code",
   "execution_count": 29,
   "metadata": {
    "ExecuteTime": {
     "end_time": "2023-07-16T23:50:46.856493Z",
     "start_time": "2023-07-16T23:50:46.590174Z"
    }
   },
   "outputs": [
    {
     "name": "stdout",
     "output_type": "stream",
     "text": [
      "Coefficients (from curve_fit)\n",
      "[1.72496324 4.01279763]\n",
      "Covariance Matrix (from curve_fit)\n",
      "[[ 3.64237678 -0.87499986]\n",
      " [-0.87499986  0.21874996]]\n",
      "Chi^2 / dof = 1.070E+01 / 13\n",
      "Fit Parameter 0: 1.725E+00 +/- 1.909E+00\n",
      "0 1 -9.803E-01\n",
      "Fit Parameter 1: 4.013E+00 +/- 4.677E-01\n"
     ]
    },
    {
     "data": {
      "text/plain": "<Figure size 1500x1200 with 1 Axes>",
      "image/png": "[encoded data removed]"
     },
     "metadata": {},
     "output_type": "display_data"
    }
   ],
   "source": [
    "import matplotlib.pyplot as plt\n",
    "from scipy.optimize import curve_fit\n",
    "\n",
    "fig = plt.figure(figsize=(15,12))\n",
    "ax1 = fig.add_subplot(111)\n",
    "\n",
    "ax1.set_title(\"Fitting - Error Comparison\")\n",
    "ax1.set_xlabel('X')\n",
    "ax1.set_ylabel('Y')\n",
    "ax1.set_xlim(xlow-1,xhigh+6)\n",
    "ax1.set_yscale(\"linear\")\n",
    "ax1.grid(True)\n",
    "\n",
    "ax1.errorbar(x,y,yerr=sigma,fmt='o')\n",
    "\n",
    "init_vals = [0.0 for x in range(0,m_params)]\n",
    "popt, pcov = curve_fit(fitfunction,x,y,p0=init_vals,sigma=sigma,absolute_sigma=True)\n",
    "\n",
    "xi = np.linspace(np.min(x),np.max(x),100)\n",
    "ps = np.random.multivariate_normal(popt,pcov,10000)\n",
    "ysample=np.asarray([fitfunction(xi,*pi) for pi in ps])\n",
    "lower = np.percentile(ysample,16.0,axis=0)\n",
    "upper = np.percentile(ysample,84.0,axis=0)\n",
    "\n",
    "print(\"Coefficients (from curve_fit)\")\n",
    "print (popt)\n",
    "print(\"Covariance Matrix (from curve_fit)\")\n",
    "print (pcov)\n",
    "\n",
    "npoints = n\n",
    "\n",
    "yfit = []\n",
    "chi2=0\n",
    "for i in range (0,npoints):\n",
    "    yfit.append(fitfunction(x[i],*popt))\n",
    "    #chi2 += (y[i]-yfit[i])*(y[i]-yfit[i])\n",
    "    chi2 += (y[i]-yfit[i])*(y[i]-yfit[i])/(sigma[i]*sigma[i])\n",
    "\n",
    "print (\"Chi^2 / dof = %.3E / %d\" % (chi2,npoints-len(init_vals)))\n",
    "\n",
    "param = []\n",
    "rhom = []\n",
    "param.append(float(chi2))\n",
    "param.append(npoints-len(init_vals))\n",
    "for ii in range(0,len(init_vals)):\n",
    "    param.append(float(popt[ii]))\n",
    "    param.append(float(np.sqrt(pcov[ii][ii])))\n",
    "    print(\"Fit Parameter %d: %.3E +/- %.3E\" % (ii,popt[ii],np.sqrt(pcov[ii][ii])))\n",
    "    for jj in range(0,len(init_vals)):\n",
    "        rhom.append(float(pcov[ii][jj])/pow(float(pcov[ii][ii]*pcov[jj][jj]),0.5))\n",
    "        if jj > ii:\n",
    "            print(\"%d %d %.3E\" % (ii,jj,rhom[ii*len(init_vals)+jj]))\n",
    "\n",
    "mylabel = \"Chi^2/dof = %.3E / %d\\n\"\n",
    "for i in range(0,len(init_vals)):\n",
    "    code = \"p\" + str(i)\n",
    "    mylabel = mylabel + code + \" = %.3E +/- %.3E\\n\"\n",
    "\n",
    "ax1.plot(xi, fitfunction(xi, *popt), 'r-', label = mylabel % tuple(param))\n",
    "ax1.plot(xi,lower,'r--')\n",
    "ax1.plot(xi,upper,'r--')\n",
    "\n",
    "leg = ax1.legend()\n",
    "plt.show()"
   ]
  },
  {
   "cell_type": "code",
   "execution_count": 30,
   "metadata": {
    "ExecuteTime": {
     "end_time": "2023-07-16T23:50:51.355497Z",
     "start_time": "2023-07-16T23:50:51.350556Z"
    }
   },
   "outputs": [
    {
     "name": "stdout",
     "output_type": "stream",
     "text": [
      "P201 Error Calculation = 1.724963 +/- 1.908501 \n",
      "Proper Error Calculation = 1.724963 +/- 1.908501 \n",
      "P201 Error Calculation = 4.017990 +/- 1.927124 \n",
      "Proper Error Calculation = 4.017990 +/- 1.647363 \n",
      "P201 Error Calculation = 6.311018 +/- 1.981941 \n",
      "Proper Error Calculation = 6.311018 +/- 1.388557 \n",
      "P201 Error Calculation = 8.604045 +/- 2.070081 \n",
      "Proper Error Calculation = 8.604045 +/- 1.133682 \n",
      "P201 Error Calculation = 10.897072 +/- 2.187518 \n",
      "Proper Error Calculation = 10.897072 +/- 0.886135 \n",
      "P201 Error Calculation = 13.190099 +/- 2.329827 \n",
      "Proper Error Calculation = 13.190099 +/- 0.654287 \n",
      "P201 Error Calculation = 15.483127 +/- 2.492751 \n",
      "Proper Error Calculation = 15.483127 +/- 0.462391 \n",
      "P201 Error Calculation = 17.776154 +/- 2.672523 \n",
      "Proper Error Calculation = 17.776154 +/- 0.377329 \n",
      "P201 Error Calculation = 20.069181 +/- 2.865974 \n",
      "Proper Error Calculation = 20.069181 +/- 0.462391 \n",
      "P201 Error Calculation = 22.362208 +/- 3.070520 \n",
      "Proper Error Calculation = 22.362208 +/- 0.654287 \n",
      "P201 Error Calculation = 24.655235 +/- 3.284088 \n",
      "Proper Error Calculation = 24.655235 +/- 0.886135 \n",
      "P201 Error Calculation = 26.948263 +/- 3.505030 \n",
      "Proper Error Calculation = 26.948263 +/- 1.133682 \n",
      "P201 Error Calculation = 29.241290 +/- 3.732036 \n",
      "Proper Error Calculation = 29.241290 +/- 1.388557 \n",
      "P201 Error Calculation = 31.534317 +/- 3.964064 \n",
      "Proper Error Calculation = 31.534317 +/- 1.647363 \n",
      "P201 Error Calculation = 33.827344 +/- 4.200283 \n",
      "Proper Error Calculation = 33.827344 +/- 1.908501 \n",
      "[0.         0.57142857 1.14285714 1.71428571 2.28571429 2.85714286\n",
      " 3.42857143 4.         4.57142857 5.14285714 5.71428571 6.28571429\n",
      " 6.85714286 7.42857143 8.        ] array('d', [1.9085013094182517, 1.9271237167031472, 1.9819413547745215, 2.0700807691750396, 2.187517860706129, 2.3298265029322383, 2.492750653290406, 2.6725226375189366, 2.865973799510341, 3.07051974977616, 3.2840880607724734, 3.5050298701877423, 3.73203584304404, 3.9640643056690847, 4.2002829961862265]) array('d', [1.9085013094182517, 1.6473632931080369, 1.3885573570312006, 1.1336817855590393, 0.8861345219030419, 0.6542870423334666, 0.4623914137176026, 0.3773290978061361, 0.46239141371760084, 0.6542870423334683, 0.8861345219030419, 1.133681785559041, 1.3885573570311998, 1.6473632931080378, 1.9085013094182504])\n"
     ]
    },
    {
     "name": "stderr",
     "output_type": "stream",
     "text": [
      "/var/folders/jg/3shqt61x201b290vj1j83q5r0000gq/T/ipykernel_84684/577883384.py:13: DeprecationWarning: Conversion of an array with ndim > 0 to a scalar is deprecated, and will error in future. Ensure you extract a single element from your array before performing this operation. (Deprecated NumPy 1.25.)\n",
      "  print (\"P201 Error Calculation = %f +/- %f \" % (yfitvalue,yerrorvalue))\n"
     ]
    }
   ],
   "source": [
    "yerr_trad = array('d')\n",
    "yerr_proper = array('d')\n",
    "ymax = 0.0\n",
    "for index in range(n):\n",
    "    yfitvalue = 0.0\n",
    "    yerrorvalue = 0.0\n",
    "    for k in range(0,m_params):\n",
    "        yfitvalue = yfitvalue + coeff[k]*math.pow(x[index],k)\n",
    "        yerrorvalue = yerrorvalue + math.pow(math.pow(x[index],k)*math.pow(ainv[k][k],0.5),2)\n",
    "    yerrorvalue = math.sqrt(yerrorvalue)\n",
    "    if yerrorvalue>ymax:\n",
    "        ymax = yerrorvalue\n",
    "    print (\"P201 Error Calculation = %f +/- %f \" % (yfitvalue,yerrorvalue))\n",
    "    print (\"Proper Error Calculation = %f +/- %f \" % ((yfitplus2[index]+yfitminus2[index])/2.0,(yfitplus2[index]-yfitminus2[index])/2.0))\n",
    "    yerr_trad.append(yerrorvalue)\n",
    "    yerr_proper.append((yfitplus2[index]-yfitminus2[index])/2.0)\n",
    "\n",
    "print(x,yerr_trad,yerr_proper)"
   ]
  },
  {
   "cell_type": "code",
   "execution_count": 31,
   "outputs": [
    {
     "data": {
      "text/plain": "<Figure size 640x480 with 1 Axes>",
      "image/png": "[encoded data removed]"
     },
     "metadata": {},
     "output_type": "display_data"
    }
   ],
   "source": [
    "\n",
    "fig, ax = plt.subplots()\n",
    "\n",
    "ax.set_xlabel('X')\n",
    "ax.set_ylabel('Y')\n",
    "ax.set_title(\"Error Comparison\")\n",
    "ax.set_xlim(xlow - 1.0, xhigh + 6.0)\n",
    "ax.set_ylim(0.0, 1.1 * ymax)\n",
    "\n",
    "# Plot traditional error band\n",
    "ax.plot(x, yerr_trad, 'o', markersize=5, label='Traditional Error')\n",
    "\n",
    "# Plot proper error band\n",
    "ax.plot(x, yerr_proper, 'o', color='red', alpha=0.3, label='Proper Error')\n",
    "\n",
    "ax.legend()\n",
    "\n",
    "plt.show()"
   ],
   "metadata": {
    "collapsed": false,
    "ExecuteTime": {
     "end_time": "2023-07-16T23:51:01.265851Z",
     "start_time": "2023-07-16T23:51:01.101082Z"
    }
   }
  },
  {
   "cell_type": "code",
   "execution_count": 20,
   "metadata": {
    "ExecuteTime": {
     "end_time": "2023-07-16T23:50:27.072810Z",
     "start_time": "2023-07-16T23:50:27.064424Z"
    }
   },
   "outputs": [],
   "source": []
  },
  {
   "cell_type": "code",
   "execution_count": null,
   "metadata": {},
   "outputs": [],
   "source": []
  },
  {
   "cell_type": "code",
   "execution_count": null,
   "metadata": {},
   "outputs": [],
   "source": []
  },
  {
   "cell_type": "code",
   "execution_count": null,
   "metadata": {},
   "outputs": [],
   "source": []
  }
 ],
 "metadata": {
  "kernelspec": {
   "display_name": "Python 3",
   "language": "python",
   "name": "python3"
  },
  "language_info": {
   "codemirror_mode": {
    "name": "ipython",
    "version": 3
   },
   "file_extension": ".py",
   "mimetype": "text/x-python",
   "name": "python",
   "nbconvert_exporter": "python",
   "pygments_lexer": "ipython3",
   "version": "3.6.8"
  }
 },
 "nbformat": 4,
 "nbformat_minor": 4
}
