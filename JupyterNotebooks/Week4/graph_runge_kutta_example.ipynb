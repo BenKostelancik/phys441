{
 "cells": [
  {
   "cell_type": "code",
   "execution_count": 3,
   "id": "initial_id",
   "metadata": {
    "collapsed": true,
    "ExecuteTime": {
     "end_time": "2023-09-19T15:00:34.456108Z",
     "start_time": "2023-09-19T15:00:33.644032Z"
    }
   },
   "outputs": [],
   "source": [
    "import numpy as np\n",
    "import matplotlib.pyplot as plt\n",
    " \n",
    "def f(y,t):\n",
    "    return y*t**2\n",
    "\n",
    "def y(t):\n",
    "    return np.exp(t**3/3)"
   ]
  },
  {
   "cell_type": "code",
   "execution_count": null,
   "outputs": [],
   "source": [
    "t0 = 0.0\n",
    "y0 = 1.0\n",
    "\n",
    "tau = 1.0"
   ],
   "metadata": {
    "collapsed": false
   },
   "id": "7cb07f4c0cb42aa0"
  },
  {
   "cell_type": "code",
   "execution_count": 9,
   "outputs": [
    {
     "name": "stdout",
     "output_type": "stream",
     "text": [
      "First Order RK: y1_est = 1.00000, y1_exact = 1.39561, error = 28.347\n"
     ]
    }
   ],
   "source": [
    "# First Order RK\n",
    "\n",
    "y1 = y0 + tau*f(y0,t0)\n",
    "print(f\"First Order RK: y1_est = %.5f, y1_exact = %.5f, error = %.3f\" % (y1,y(tau), np.abs(y1-y(tau))*100/y(tau)))"
   ],
   "metadata": {
    "collapsed": false,
    "ExecuteTime": {
     "end_time": "2023-09-19T15:07:44.930979Z",
     "start_time": "2023-09-19T15:07:44.918559Z"
    }
   },
   "id": "3f969c8dccfbeb0d"
  },
  {
   "cell_type": "code",
   "execution_count": 10,
   "outputs": [
    {
     "name": "stdout",
     "output_type": "stream",
     "text": [
      "Second Order RK: y1_est = 1.50000, y1_exact = 1.39561, error = 7.480\n"
     ]
    }
   ],
   "source": [
    "# Second Order RK\n",
    "\n",
    "k1 = f(y0,t0)\n",
    "k2 = f(y0+tau*k1,t0+tau)\n",
    "\n",
    "y1 = y0 + tau*(k1+k2)/2.0\n",
    "print(f\"Second Order RK: y1_est = %.5f, y1_exact = %.5f, error = %.3f\" % (y1,y(tau), np.abs(y1-y(tau))*100/y(tau)))"
   ],
   "metadata": {
    "collapsed": false,
    "ExecuteTime": {
     "end_time": "2023-09-19T15:08:22.546368Z",
     "start_time": "2023-09-19T15:08:22.538851Z"
    }
   },
   "id": "efb7da3c12d7e867"
  },
  {
   "cell_type": "code",
   "execution_count": 11,
   "outputs": [
    {
     "name": "stdout",
     "output_type": "stream",
     "text": [
      "Third Order RK: y1_est = 1.37500, y1_exact = 1.39561, error = 1.477\n"
     ]
    }
   ],
   "source": [
    "# Third Order RK\n",
    "\n",
    "k1 = f(y0,t0)\n",
    "k2 = f(y0+tau*k1/2.0,t0+tau/2.0)\n",
    "k3 = f(y0+tau*k2,t0+tau)\n",
    "\n",
    "y1 = y0 + tau*(k1+4*k2+k3)/6.0\n",
    "print(f\"Third Order RK: y1_est = %.5f, y1_exact = %.5f, error = %.3f\" % (y1,y(tau), np.abs(y1-y(tau))*100/y(tau)))"
   ],
   "metadata": {
    "collapsed": false,
    "ExecuteTime": {
     "end_time": "2023-09-19T15:08:49.918629Z",
     "start_time": "2023-09-19T15:08:49.904741Z"
    }
   },
   "id": "9b48ebd4cb5209af"
  },
  {
   "cell_type": "code",
   "execution_count": 12,
   "outputs": [
    {
     "name": "stdout",
     "output_type": "stream",
     "text": [
      "0.0 0.25 0.28125 1.28125\n",
      "Fourth Order RK: y1_est = 1.39062, y1_exact = 1.39561, error = 0.357\n"
     ]
    }
   ],
   "source": [
    "# Fourth Order RK\n",
    "\n",
    "k1 = f(y0,t0)\n",
    "k2 = f(y0+tau*k1/2.0,t0+tau/2.0)\n",
    "k3 = f(y0+tau*k2/2.0,t0+tau/2.0)\n",
    "k4 = f(y0+tau*k3,t0+tau)\n",
    "\n",
    "print(k1,k2,k3,k4)\n",
    "\n",
    "y1 = y0 + tau*(k1+2*k2+2*k3+k4)/6.0\n",
    "\n",
    "print(f\"Fourth Order RK: y1_est = %.5f, y1_exact = %.5f, error = %.3f\" % (y1,y(tau), np.abs(y1-y(tau))*100/y(tau)))"
   ],
   "metadata": {
    "collapsed": false,
    "ExecuteTime": {
     "end_time": "2023-09-19T15:09:19.316800Z",
     "start_time": "2023-09-19T15:09:19.305889Z"
    }
   },
   "id": "de0f78d1a858b565"
  },
  {
   "cell_type": "code",
   "execution_count": null,
   "outputs": [],
   "source": [],
   "metadata": {
    "collapsed": false
   },
   "id": "2dcc2e31b57184b1"
  }
 ],
 "metadata": {
  "kernelspec": {
   "display_name": "Python 3",
   "language": "python",
   "name": "python3"
  },
  "language_info": {
   "codemirror_mode": {
    "name": "ipython",
    "version": 2
   },
   "file_extension": ".py",
   "mimetype": "text/x-python",
   "name": "python",
   "nbconvert_exporter": "python",
   "pygments_lexer": "ipython2",
   "version": "2.7.6"
  }
 },
 "nbformat": 4,
 "nbformat_minor": 5
}
