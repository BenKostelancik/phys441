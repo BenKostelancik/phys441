{
 "cells": [
  {
   "cell_type": "code",
   "execution_count": 1,
   "metadata": {
    "ExecuteTime": {
     "end_time": "2023-09-12T13:24:00.727239Z",
     "start_time": "2023-09-12T13:24:00.164403Z"
    }
   },
   "outputs": [],
   "source": [
    "import numpy as np\n",
    "import matplotlib.pyplot as plt\n",
    "\n",
    "import random\n",
    "random.seed(1)"
   ]
  },
  {
   "cell_type": "markdown",
   "source": [
    "# Numerical Integration Investigation\n",
    "\n",
    "In this example, we will investigate a few different methods of numerical integration.  We will use the following function as our test case:\n",
    "\n",
    "$$y = \\frac{3}{2}(1-x^2)$$\n",
    "\n",
    "We will integrate this function from $x=0$ to $x=1$.\n",
    "\n",
    "The exact value of the integral is:\n",
    "\n",
    "$$\\int_0^1 y dx = 1$$"
   ],
   "metadata": {
    "collapsed": false
   }
  },
  {
   "cell_type": "code",
   "execution_count": 2,
   "metadata": {
    "ExecuteTime": {
     "end_time": "2023-09-12T13:24:00.733250Z",
     "start_time": "2023-09-12T13:24:00.729045Z"
    }
   },
   "outputs": [],
   "source": [
    "def generator_function(x):\n",
    "    return 3.0/2.0*(1.0 - x*x)"
   ]
  },
  {
   "cell_type": "markdown",
   "source": [
    "## Monte Carlo Integration\n",
    "\n",
    "Another method of numerical integration is the Monte Carlo method.  In this method, we generate a large number of random points in the interval, and evaluate the function at each point.  The integral is then the average of the function values times the width of the interval.  The error in this method is proportional to the width of the interval, so the error decreases as $n$ increases.  The error is also proportional to the second derivative of the function, so the error decreases as the function becomes smoother.\n",
    "\n",
    "We will consider n values of $n$ from $10^2$ to $10^6$."
   ],
   "metadata": {
    "collapsed": false
   }
  },
  {
   "cell_type": "code",
   "execution_count": null,
   "metadata": {
    "is_executing": true,
    "ExecuteTime": {
     "start_time": "2023-09-12T13:24:01.629047Z"
    }
   },
   "outputs": [
    {
     "name": "stdout",
     "output_type": "stream",
     "text": [
      "Integral = 0.900296868815594 +/- 0.199406262368812 for npoints = 100\n",
      "Error = 0.199406\n",
      "Integral = 0.971688466328547 +/- 0.056623067342906 for npoints = 1000\n",
      "Error = 0.056623\n",
      "Integral = 1.000364165793696 +/- 0.000728331587391 for npoints = 10000\n",
      "Error = 0.000728\n",
      "Integral = 1.001367759555037 +/- 0.002735519110074 for npoints = 100000\n",
      "Error = 0.002736\n",
      "Integral = 1.000422150122018 +/- 0.000844300244035 for npoints = 1000000\n",
      "Error = 0.000844\n",
      "Integral = 0.999928071772677 +/- 0.000143856454646 for npoints = 10000000\n",
      "Error = 0.000144\n"
     ]
    }
   ],
   "source": [
    "max_order = 8\n",
    "min_order = 2\n",
    "Iexact = 1.0\n",
    "\n",
    "norders = max_order - min_order + 1\n",
    "\n",
    "npts = np.zeros(norders)\n",
    "\n",
    "enp = np.zeros(norders)\n",
    "sum2 = np.zeros(norders)\n",
    "esum2 = np.zeros(norders)\n",
    "\n",
    "for j in range(min_order,max_order+1):\n",
    "    npoints = 10**j\n",
    "    # array to hold number of points\n",
    "    npts[j-min_order]=npoints\n",
    "\n",
    "    xlow = 0.0\n",
    "    xhigh = 1.0\n",
    "    dx = (xhigh-xlow)/npoints\n",
    "        \n",
    "    for i in range(0,int(npoints-1)): # Note that for the trapezoidal rule, we need to evaluate the function at the endpoints of each interval,\n",
    "                                      # so we only go to n-1\n",
    "        xval = xlow + np.random.random()*(xhigh-xlow)\n",
    "        sum2[j-min_order] += generator_function(xval)*dx\n",
    "    \n",
    "    esum2[j-min_order] += 2.0*np.abs(sum2[j-min_order]-Iexact)\n",
    "    \n",
    "    print(\"Integral = %.15f +/- %.15f for npoints = %d\" %(sum2[j-min_order],esum2[j-min_order],npoints))\n",
    "    print(\"Error = %f\" %np.abs(esum2[j-min_order]))\n",
    "    \n",
    "    "
   ]
  },
  {
   "cell_type": "code",
   "execution_count": null,
   "metadata": {
    "is_executing": true
   },
   "outputs": [],
   "source": [
    "plt.errorbar(npts,sum2,xerr=enp,yerr=esum2,fmt='o',capsize=5)\n",
    "plt.xscale(\"log\")\n",
    "plt.xlabel(\"Number of Points\")\n",
    "plt.ylabel(\"Integral\")\n",
    "plt.title(\"Rectangular Integration (Midpoint Rule)\")\n",
    "plt.ylim(0.9,1.1)\n",
    "plt.show()"
   ]
  },
  {
   "cell_type": "code",
   "execution_count": null,
   "metadata": {
    "is_executing": true
   },
   "outputs": [],
   "source": [
    "plt.plot(npts,esum2,'o')\n",
    "plt.xscale(\"log\")\n",
    "plt.yscale(\"log\")\n",
    "\n",
    "slope = (np.log(esum2[max_order-min_order])-np.log(esum2[0]))/(np.log(npts[max_order-min_order])-np.log(npts[0]))\n",
    "print(\"Slope = %f\" %slope)"
   ]
  },
  {
   "cell_type": "code",
   "execution_count": 5,
   "metadata": {
    "ExecuteTime": {
     "end_time": "2023-09-05T19:41:09.496018Z",
     "start_time": "2023-09-05T19:41:09.489633Z"
    }
   },
   "outputs": [],
   "source": []
  },
  {
   "cell_type": "code",
   "execution_count": 5,
   "metadata": {
    "scrolled": true,
    "ExecuteTime": {
     "end_time": "2023-09-05T19:41:09.504626Z",
     "start_time": "2023-09-05T19:41:09.496403Z"
    }
   },
   "outputs": [],
   "source": []
  },
  {
   "cell_type": "code",
   "execution_count": 5,
   "metadata": {
    "ExecuteTime": {
     "end_time": "2023-09-05T19:41:09.504965Z",
     "start_time": "2023-09-05T19:41:09.501678Z"
    }
   },
   "outputs": [],
   "source": []
  },
  {
   "cell_type": "code",
   "execution_count": 5,
   "metadata": {
    "ExecuteTime": {
     "end_time": "2023-09-05T19:41:09.560725Z",
     "start_time": "2023-09-05T19:41:09.509229Z"
    }
   },
   "outputs": [],
   "source": []
  }
 ],
 "metadata": {
  "kernelspec": {
   "display_name": "Python 3",
   "language": "python",
   "name": "python3"
  },
  "language_info": {
   "codemirror_mode": {
    "name": "ipython",
    "version": 3
   },
   "file_extension": ".py",
   "mimetype": "text/x-python",
   "name": "python",
   "nbconvert_exporter": "python",
   "pygments_lexer": "ipython3",
   "version": "3.6.8"
  }
 },
 "nbformat": 4,
 "nbformat_minor": 2
}
