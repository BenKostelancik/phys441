{
 "cells": [
  {
   "cell_type": "code",
   "execution_count": 1,
   "metadata": {
    "ExecuteTime": {
     "end_time": "2023-09-07T15:01:33.766821Z",
     "start_time": "2023-09-07T15:01:33.765719Z"
    }
   },
   "outputs": [],
   "source": [
    "from array import array\n",
    "import math"
   ]
  },
  {
   "cell_type": "markdown",
   "source": [
    "# Keplerian Motion\n",
    "\n",
    "The great physicist, Johannes Kepler, discovered that the planets orbit the Sun in elliptical orbits.  The Sun is located at one of the foci of the ellipse.  The eccentricity of the ellipse is given by the formula:\n",
    "\n",
    "$$e = \\sqrt{1-\\frac{b^2}{a^2}}$$\n",
    "\n",
    "where $a$ is the semi-major axis and $b$ is the semi-minor axis.  The distance from the centre of the ellipse to the focus is given by the formula:\n",
    "\n",
    "$$f = \\sqrt{a^2-b^2}$$\n",
    "\n",
    "The orbit of the Earth around the Sun is almost circular with an eccentricity of $e = 0.0167$.  The orbit of Halley's Comet is highly elliptical with an eccentricity of $e = 0.967$.\n",
    "\n",
    "The equations of motion for a particle in an elliptical orbit are given by:\n",
    "\n",
    "$$\\frac{d^2x}{dt^2} = -\\frac{GMx}{r^3}$$\n",
    "$$\\frac{d^2y}{dt^2} = -\\frac{GMy}{r^3}$$\n",
    "\n",
    "where $r = \\sqrt{x^2+y^2}$ and $G$ is the gravitational constant.  The initial conditions for the position and velocity of the particle are given by:\n",
    "\n",
    "$$x(0) = a+f$$\n",
    "$$y(0) = 0$$\n",
    "\n",
    "$$v_x(0) = 0$$\n",
    "$$v_y(0) = \\sqrt{\\frac{GM}{a}}$$\n",
    "\n",
    "where $a$ is the semi-major axis of the ellipse."
   ],
   "metadata": {
    "collapsed": false
   }
  },
  {
   "cell_type": "code",
   "execution_count": 1,
   "metadata": {
    "ExecuteTime": {
     "end_time": "2023-09-07T15:01:33.773052Z",
     "start_time": "2023-09-07T15:01:33.767877Z"
    }
   },
   "outputs": [],
   "source": []
  },
  {
   "cell_type": "markdown",
   "source": [
    "# Circular Orbit\n",
    "\n",
    "The simplest case of an elliptical orbit is a circular orbit.  In this case, the semi-major axis is equal to the semi-minor axis, so the eccentricity is zero.  The equations of motion for a circular orbit are given by:\n",
    "\n",
    "$$\\frac{d^2x}{dt^2} = -\\frac{GMx}{r^3}$$\n",
    "$$\\frac{d^2y}{dt^2} = -\\frac{GMy}{r^3}$$\n",
    "\n",
    "where $r = \\sqrt{x^2+y^2}$ and $G$ is the gravitational constant.  The initial conditions for the position and velocity of the particle are given by:\n",
    "\n",
    "$$x(0) = r_0$$\n",
    "$$y(0) = 0$$\n",
    "$$v_x(0) = 0$$\n",
    "$$v_y(0) = \\sqrt{\\frac{GM}{r_0}}$$\n",
    "\n",
    "where $r_0$ is the radius of the circular orbit.\n",
    "\n",
    "For planetary motion, a common system of units is one where distances are measured in astronomical units (1 A.U. = \n",
    "$1.496 \\times 10^{11}$ m) and time is measured in years (1 year = $3.156 \\times 10^7$ s).  In SI units, the gravitational constant is given by:\n",
    "\n",
    "$$G = 1.32712442099 \\times 10^{20} \\frac{m^3}{s^2}$$\n",
    "\n",
    "The mass of the Sun is given by:\n",
    "\n",
    "$$M = 1.989 \\times 10^{30} kg$$\n",
    "\n",
    "Converting to astronomical units and years, the gravitational constant times the mass of the Sun is given by:\n",
    "\n",
    "$$GM = 1.32712442099 \\times 10^{20} \\frac{m^3}{s^2} \\times \\frac{1}{(1.496 \\times 10^{11} m)^3} \\times \\frac{(3.156 \\times 10^7 s)^2}{1 year} = 4 \\pi^2$$\n",
    "\n",
    "Assuming the earth's orbit to be circular, the radius of the earth's orbit is given by:\n",
    "\n",
    "$$r_0 = 1 A.U. = 1.496 \\times 10^{11} m$$\n",
    "\n",
    "and the initial velocity will be:\n",
    "\n",
    "$$v_0 = \\sqrt{\\frac{GM}{r_0}} = \\sqrt{\\frac{4 \\pi^2}{1}} = 2 \\pi$$"
   ],
   "metadata": {
    "collapsed": false
   }
  },
  {
   "cell_type": "code",
   "execution_count": 2,
   "outputs": [
    {
     "name": "stdout",
     "output_type": "stream",
     "text": [
      "Initial Conditions:\n",
      "Semi-major axis =  1.0 A.U.\n",
      "Semi-minor axis =  1.0 A.U.\n",
      "Focus =  0.0 A.U.\n",
      "GM =  39.47530582087944 A.U.^3/year^2\n",
      "Initial radius =  1.0 A.U.\n",
      "Initial velocity =  6.282937674438561 A.U./year\n"
     ]
    }
   ],
   "source": [
    "# Circular Orbit of radius 1 for testing\n",
    "#\n",
    "#r0 = 1.0\n",
    "#v0 = 2.0*math.pi\n",
    "#\n",
    "# Earth - circular with zero eccentricity\n",
    "#\n",
    "semi_major = 1.0\n",
    "eccentricity = 0.0\n",
    "#\n",
    "# Halley's Comet\n",
    "#\n",
    "#semi_major = 17.834\n",
    "#eccentricity = 0.967\n",
    "\n",
    "nStep = 1000 # number of steps to calculate (i.e 10 years for a timestep of 0.01 years)\n",
    "tau = 0.01 # time step (in years)\n",
    "method = 3 # 1 = Euler, 2 = Euler-Cromer, 3 = Runge-Kutta, 4 = Adaptive Runge-Kutta\n",
    "\n",
    "# Everything below this point is calculated.\n",
    "semi_minor = semi_major*math.sqrt(1-eccentricity*eccentricity)\n",
    "GMSIUnits = 1.32712442099E+20\n",
    "SecondsInYear = 31556952\n",
    "AUnit = 149597870700\n",
    "GM = GMSIUnits/math.pow(AUnit,3)*math.pow(SecondsInYear,2)\n",
    "F = math.sqrt((semi_major)**2-(semi_minor)**2)  # distance from centre of the ellipse to focus\n",
    "r0 = semi_major+F\n",
    "\n",
    "v0 = math.sqrt(GM*(2/r0-1/semi_major))\n",
    "print(\"Initial Conditions:\")\n",
    "print(\"Semi-major axis = \", semi_major, \"A.U.\")\n",
    "print(\"Semi-minor axis = \", semi_minor, \"A.U.\")\n",
    "print(\"Focus = \", F, \"A.U.\")\n",
    "print(\"GM = \", GM, \"A.U.^3/year^2\")\n",
    "print(\"Initial radius = \", r0, \"A.U.\")\n",
    "print(\"Initial velocity = \", v0, \"A.U./year\")\n",
    "\n",
    "param = array('d')\n",
    "param.append(GM)\n",
    "mass = 1.0\n",
    "adaptErr = 0.001\n",
    "time = 0.0"
   ],
   "metadata": {
    "collapsed": false,
    "ExecuteTime": {
     "end_time": "2023-09-07T15:01:33.779083Z",
     "start_time": "2023-09-07T15:01:33.773396Z"
    }
   }
  },
  {
   "cell_type": "code",
   "execution_count": 3,
   "outputs": [],
   "source": [
    "# Set up the arrays that will hold the position, velocity, and acceleration components\n",
    "# The state vector will contain the x and y components of the position and velocity\n",
    "\n",
    "r = array('d') # two components\n",
    "v = array('d') # two components\n",
    "state = array('d') # four components\n",
    "accel = array('d')  # two components\n",
    "deriv = array('d')  # four components\n",
    "\n",
    "nState = 4\n",
    "\n",
    "r.append(r0)\n",
    "r.append(0.0)\n",
    "v.append(0.0)\n",
    "v.append(v0)\n",
    "accel.append(0.0)\n",
    "accel.append(0.0)\n",
    "\n",
    "state.append(r[0])\n",
    "state.append(r[1])\n",
    "state.append(v[0])\n",
    "state.append(v[1])\n",
    "\n",
    "for i in range(0,nState):\n",
    "    deriv.append(0.0)\n",
    "    \n",
    "rplot = array('d') # plot of radius vs. theta\n",
    "thplot = array('d') # plot of theta vs. time\n",
    "tplot = array('d') # plot of radius vs. time\n",
    "kinetic = array('d') # plot of kinetic energy vs. time\n",
    "potential = array('d') # plot of potential energy vs. time\n",
    "energy = array('d') "
   ],
   "metadata": {
    "collapsed": false,
    "ExecuteTime": {
     "end_time": "2023-09-07T15:01:33.784912Z",
     "start_time": "2023-09-07T15:01:33.780851Z"
    }
   }
  },
  {
   "cell_type": "markdown",
   "source": [
    "# Runge-Kutta Methods\n",
    "\n",
    "We see that with a relatively small timestep, and using the Euler-Cromer method (which should be more stable due\n",
    "to its reversibility property) that we still have (numerical) oscillations in quantities that should be constant.  Thus, we\n",
    "seek an improved algorithm.  One such approach is the Runge-Kutta method(s).\n",
    "\n",
    "Runge-Kutta methods work as follows:\n",
    "\n",
    "Let an initial value problem be defined as follows:\n",
    "\n",
    "$$\\frac{dy}{dt} = f(t,y)$$\n",
    "$$y(t_0) = y_0$$\n",
    "\n",
    "We calculate the value of the function at subsequent timesteps according to:\n",
    "\n",
    "$$y_{n+1} = y_n + \\frac{\\tau}{6}(k_1 + 2*k_2 + 2*k_3 + k_4)$$\n",
    "$$t_{n+1} = t_n + \\tau$$\n",
    "\n",
    "where:\n",
    "\n",
    "$$k_1 = f(t_n, y_n)$$\n",
    "$$k_2 = f(t_n+\\frac{\\tau}{2}, y_n + \\tau\\frac{k_1}{2})$$\n",
    "$$k_3 = f(t_n+\\frac{\\tau}{2}, y_n + \\tau\\frac{k_2}{2})$$\n",
    "$$k_4 = f(t_n + \\tau, y_n +\\tau k_3)$$\n",
    "\n",
    "So, in order to implement this in code, we need two things:\n",
    "\n",
    "1. A function which calculates $f(t,y)$, which is the RHS of the differential equation, for various values of $t$ and $y$.\n",
    "2. A function which calculates $y_{n+1}$ and $t_{n+1}$, using the $f(t,y)$ function defined in Step 1.\n",
    "\n",
    "These two functions are defined in rk_functions.py, as gravrk() and rk4().  Note that in our case, we are actually solving FOUR differential equations at once (two for position and two for velocity), as defined above.\n"
   ],
   "metadata": {
    "collapsed": false
   }
  },
  {
   "cell_type": "code",
   "execution_count": 6,
   "outputs": [
    {
     "ename": "TypeError",
     "evalue": "'module' object is not callable",
     "output_type": "error",
     "traceback": [
      "\u001B[0;31m---------------------------------------------------------------------------\u001B[0m",
      "\u001B[0;31mTypeError\u001B[0m                                 Traceback (most recent call last)",
      "Cell \u001B[0;32mIn[6], line 34\u001B[0m\n\u001B[1;32m     32\u001B[0m \u001B[38;5;28;01melse\u001B[39;00m:\n\u001B[1;32m     33\u001B[0m     \u001B[38;5;28;01mif\u001B[39;00m (method \u001B[38;5;241m==\u001B[39m \u001B[38;5;241m3\u001B[39m):\n\u001B[0;32m---> 34\u001B[0m         \u001B[43mrk\u001B[49m\u001B[38;5;241;43m.\u001B[39;49m\u001B[43mrk4\u001B[49m\u001B[43m(\u001B[49m\u001B[43mstate\u001B[49m\u001B[43m,\u001B[49m\u001B[43mnState\u001B[49m\u001B[43m,\u001B[49m\u001B[43mtime\u001B[49m\u001B[43m,\u001B[49m\u001B[43mtau\u001B[49m\u001B[43m,\u001B[49m\u001B[43mderiv\u001B[49m\u001B[43m,\u001B[49m\u001B[43mparam\u001B[49m\u001B[43m)\u001B[49m\n\u001B[1;32m     35\u001B[0m         r[\u001B[38;5;241m0\u001B[39m]\u001B[38;5;241m=\u001B[39mstate[\u001B[38;5;241m0\u001B[39m]\n\u001B[1;32m     36\u001B[0m         r[\u001B[38;5;241m1\u001B[39m]\u001B[38;5;241m=\u001B[39mstate[\u001B[38;5;241m1\u001B[39m]\n",
      "File \u001B[0;32m~/phys441/JupyterNotebooks/Week4/rk_functions.py:26\u001B[0m, in \u001B[0;36mrk4\u001B[0;34m(x, nX, t, tau, deriv, param)\u001B[0m\n\u001B[1;32m     25\u001B[0m \u001B[38;5;28;01mdef\u001B[39;00m \u001B[38;5;21mrk4\u001B[39m(x, nX, t, tau, deriv, param):\n\u001B[0;32m---> 26\u001B[0m     F1 \u001B[38;5;241m=\u001B[39m \u001B[43marray\u001B[49m\u001B[43m(\u001B[49m\u001B[38;5;124;43m'\u001B[39;49m\u001B[38;5;124;43md\u001B[39;49m\u001B[38;5;124;43m'\u001B[39;49m\u001B[43m)\u001B[49m\n\u001B[1;32m     27\u001B[0m     F2 \u001B[38;5;241m=\u001B[39m array(\u001B[38;5;124m'\u001B[39m\u001B[38;5;124md\u001B[39m\u001B[38;5;124m'\u001B[39m)\n\u001B[1;32m     28\u001B[0m     F3 \u001B[38;5;241m=\u001B[39m array(\u001B[38;5;124m'\u001B[39m\u001B[38;5;124md\u001B[39m\u001B[38;5;124m'\u001B[39m)\n",
      "\u001B[0;31mTypeError\u001B[0m: 'module' object is not callable"
     ]
    }
   ],
   "source": [
    "import rk_functions as rk\n",
    "\n",
    "for iStep in range(0,nStep):\n",
    "    normR = math.sqrt(r[0]*r[0]+r[1]*r[1])\n",
    "    normV = math.sqrt(v[0]*v[0]+v[1]*v[1])\n",
    "    rplot.append(normR)\n",
    "    thplot.append(math.atan2(r[1],r[0]))\n",
    "    tplot.append(time)\n",
    "    kinetic.append(0.5*mass*normV*normV)\n",
    "    potential.append(-1.0*GM*mass/normR)\n",
    "    energy.append(kinetic[iStep]+potential[iStep])\n",
    "    \n",
    "    if (method == 1):\n",
    "        accel[0] = -1.0*GM*r[0]/(normR*normR*normR)\n",
    "        accel[1] = -1.0*GM*r[1]/(normR*normR*normR)\n",
    "        r[0] = r[0] + tau*v[0]\n",
    "        r[1] = r[1] + tau*v[1]\n",
    "        v[0] = v[0] + tau*accel[0]\n",
    "        v[1] = v[1] + tau*accel[1]\n",
    "        print(r[0],r[1],v[0],v[1])\n",
    "        time = time + tau\n",
    "    else:\n",
    "        if (method == 2):\n",
    "            accel[0] = -1.0*GM*r[0]/(normR*normR*normR)\n",
    "            accel[1] = -1.0*GM*r[1]/(normR*normR*normR)\n",
    "            v[0] = v[0] + tau*accel[0]\n",
    "            v[1] = v[1] + tau*accel[1]\n",
    "            r[0] = r[0] + tau*v[0]\n",
    "            r[1] = r[1] + tau*v[1]\n",
    "            #print(r[0],r[1],v[0],v[1])\n",
    "            time = time + tau\n",
    "        else:\n",
    "            if (method == 3):\n",
    "                rk.rk4(state,nState,time,tau,deriv,param)\n",
    "                r[0]=state[0]\n",
    "                r[1]=state[1]\n",
    "                v[0]=state[2]\n",
    "                v[1]=state[3]\n",
    "                time = time + tau\n",
    "            else:\n",
    "                if (method == 4):\n",
    "                    rk.rka(state,nState,time,tau,adaptErr,deriv,param)\n",
    "                    r[0]=state[0]\n",
    "                    r[1]=state[1]\n",
    "                    v[0]=state[2]\n",
    "                    v[1]=state[3]\n",
    "                    time = time + tau"
   ],
   "metadata": {
    "collapsed": false,
    "ExecuteTime": {
     "end_time": "2023-09-07T15:03:02.775011Z",
     "start_time": "2023-09-07T15:03:02.748560Z"
    }
   }
  },
  {
   "cell_type": "code",
   "execution_count": null,
   "outputs": [],
   "source": [
    "import matplotlib.pyplot as plt\n",
    "import numpy as np\n",
    "\n",
    "fig, (ax1, ax2, ax3) = plt.subplots(3, 1, figsize=(8, 10))\n",
    "\n",
    "# Keplerian Motion - Radius vs. Theta\n",
    "ax1.plot(thplot, rplot, marker='', linestyle='-', color='blue')\n",
    "ax1.set_title('Keplerian Motion')\n",
    "ax1.set_xlabel('Theta')\n",
    "ax1.set_ylabel('Radius')\n",
    "ax1.set_ylim(0, 4.0)\n",
    "ax1.grid(True)\n",
    "\n",
    "# Keplerian Motion - Radius vs. Time\n",
    "ax2.plot(tplot, rplot, marker='', linestyle='-', color='blue')\n",
    "ax2.set_title('Keplerian Motion')\n",
    "ax2.set_xlabel('Time')\n",
    "ax2.set_ylabel('Radius')\n",
    "ax2.set_ylim(0, 4.0)\n",
    "ax2.grid(True)\n",
    "\n",
    "# Keplerian Motion - Time vs. Energy\n",
    "ax3.plot(tplot, energy, marker='', linestyle='-', color='red', label='Energy')\n",
    "ax3.plot(tplot, potential, marker='', linestyle='-', color='green', label='Potential Energy')\n",
    "ax3.plot(tplot, kinetic, marker='', linestyle='-', color='blue', label='Kinetic Energy')\n",
    "ax3.set_title('Keplerian Motion')\n",
    "ax3.set_xlabel('Time')\n",
    "ax3.set_ylabel('Energy')\n",
    "ax3.set_ylim(-40, 40)\n",
    "ax3.legend()\n",
    "ax3.grid(True)\n",
    "\n",
    "plt.tight_layout()\n",
    "plt.show()"
   ],
   "metadata": {
    "collapsed": false,
    "ExecuteTime": {
     "end_time": "2023-09-07T15:01:33.977146Z",
     "start_time": "2023-09-07T15:01:33.973432Z"
    }
   }
  },
  {
   "cell_type": "code",
   "execution_count": null,
   "metadata": {
    "ExecuteTime": {
     "start_time": "2023-09-07T15:01:33.974706Z"
    }
   },
   "outputs": [],
   "source": []
  },
  {
   "cell_type": "code",
   "execution_count": null,
   "metadata": {
    "ExecuteTime": {
     "start_time": "2023-09-07T15:01:33.975810Z"
    }
   },
   "outputs": [],
   "source": []
  },
  {
   "cell_type": "code",
   "execution_count": null,
   "metadata": {
    "ExecuteTime": {
     "start_time": "2023-09-07T15:01:33.976855Z"
    }
   },
   "outputs": [],
   "source": []
  },
  {
   "cell_type": "code",
   "execution_count": null,
   "metadata": {
    "ExecuteTime": {
     "start_time": "2023-09-07T15:01:33.977990Z"
    }
   },
   "outputs": [],
   "source": []
  },
  {
   "cell_type": "code",
   "execution_count": null,
   "metadata": {
    "ExecuteTime": {
     "end_time": "2023-09-07T15:01:33.980152Z",
     "start_time": "2023-09-07T15:01:33.979297Z"
    }
   },
   "outputs": [],
   "source": []
  },
  {
   "cell_type": "code",
   "execution_count": null,
   "metadata": {
    "ExecuteTime": {
     "start_time": "2023-09-07T15:01:33.980258Z"
    }
   },
   "outputs": [],
   "source": []
  },
  {
   "cell_type": "code",
   "execution_count": null,
   "outputs": [],
   "source": [
    "\n",
    "\n"
   ],
   "metadata": {
    "collapsed": false,
    "ExecuteTime": {
     "start_time": "2023-09-07T15:01:33.981230Z"
    }
   }
  },
  {
   "cell_type": "code",
   "execution_count": null,
   "metadata": {
    "ExecuteTime": {
     "start_time": "2023-09-07T15:01:33.982315Z"
    }
   },
   "outputs": [],
   "source": [
    "\n",
    "\n",
    "\n",
    "\n"
   ]
  },
  {
   "cell_type": "code",
   "execution_count": null,
   "metadata": {
    "ExecuteTime": {
     "start_time": "2023-09-07T15:01:33.983063Z"
    }
   },
   "outputs": [],
   "source": []
  },
  {
   "cell_type": "code",
   "execution_count": null,
   "metadata": {
    "ExecuteTime": {
     "start_time": "2023-09-07T15:01:33.984095Z"
    }
   },
   "outputs": [],
   "source": []
  }
 ],
 "metadata": {
  "kernelspec": {
   "display_name": "Python 3",
   "language": "python",
   "name": "python3"
  },
  "language_info": {
   "codemirror_mode": {
    "name": "ipython",
    "version": 3
   },
   "file_extension": ".py",
   "mimetype": "text/x-python",
   "name": "python",
   "nbconvert_exporter": "python",
   "pygments_lexer": "ipython3",
   "version": "3.6.8"
  }
 },
 "nbformat": 4,
 "nbformat_minor": 2
}
