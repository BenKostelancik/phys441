{
 "cells": [
  {
   "cell_type": "markdown",
   "metadata": {
    "colab_type": "text",
    "id": "view-in-github"
   },
   "source": [
    "<a href=\"https://colab.research.google.com/github/brash99/phys441/blob/master/JupyterNotebooks/TravelingWaveConvection.ipynb\" target=\"_parent\"><img src=\"https://colab.research.google.com/assets/colab-badge.svg\" alt=\"Open In Colab\"/></a>"
   ]
  },
  {
   "cell_type": "code",
   "execution_count": 1,
   "metadata": {
    "id": "j_o0pie1j61U"
   },
   "outputs": [],
   "source": [
    "# Remember: comments in python are denoted by the pound sign\n",
    "import numpy as np                            #here we load numpy\n",
    "from matplotlib import pyplot as plt     #here we load matplotlib\n",
    "import time, sys                         #and load some utilities"
   ]
  },
  {
   "cell_type": "code",
   "execution_count": 2,
   "metadata": {
    "id": "DsjQi5MfkKHC"
   },
   "outputs": [],
   "source": [
    "#this makes matplotlib plots appear in the notebook (instead of a separate window)\n",
    "%matplotlib inline                  "
   ]
  },
  {
   "cell_type": "code",
   "execution_count": 3,
   "metadata": {
    "id": "thUmpMTTkPBq"
   },
   "outputs": [
    {
     "name": "stdout",
     "output_type": "stream",
     "text": [
      "Stability constant =  0.4799999999999999\n"
     ]
    }
   ],
   "source": [
    "# We define the x-axis to start at x=0.0m and end at x=20.0m.\n",
    "# \n",
    "# We specify the number of steps in x (nx), and the number\n",
    "# of steps in t (nt), and calculate dx and dt based on these choices.\n",
    "\n",
    "xrange = 20.0\n",
    "trange = 24.0\n",
    "nx = 401  # try changing this number from 41 to 81 and Run All ... what happens?\n",
    "dx = xrange / (nx-1)\n",
    "nt = 2001    #nt is the number of timesteps we want to calculate\n",
    "dt = trange/ (nt-1)  #dt is the amount of time each timestep covers (delta t)\n",
    "\n",
    "viscosity = 0.1\n",
    "print (\"Stability constant = \",viscosity*dt/(dx**2))\n",
    "\n",
    "x = np.linspace(0,xrange,nx)\n",
    "\n",
    "pulseShapeChoice = 1"
   ]
  },
  {
   "cell_type": "code",
   "execution_count": 4,
   "metadata": {
    "id": "hSC2t4s3kTUw"
   },
   "outputs": [],
   "source": [
    "# Set the wavefunction equal to all ones, initially\n",
    "u = np.ones(nx)      #numpy function ones()\n",
    "\n",
    "if (pulseShapeChoice == 1):\n",
    "  # Test Case 1: Square Pulse\n",
    "  u[int(9.75 / dx):int(10.25 / dx + 1)] = 2  #setting u = 2 between 0.5 and 1\n",
    "else:\n",
    "  # Test Case 2:  Gaussian Pulse\n",
    "  mu = 10.0\n",
    "  sigma = 0.25\n",
    "  for i in range(len(u)):\n",
    "    u[i]=u[i]+np.exp(-1.0*(x[i]-mu)**2/sigma**2)\n"
   ]
  },
  {
   "cell_type": "code",
   "execution_count": 5,
   "metadata": {
    "colab": {
     "base_uri": "https://localhost:8080/",
     "height": 282
    },
    "id": "DxUL7BDwkZBg",
    "outputId": "3efc7e72-f130-44e9-ccb1-0af35c9bb40a"
   },
   "outputs": [
    {
     "name": "stdout",
     "output_type": "stream",
     "text": [
      "Integral =  11.0\n"
     ]
    },
    {
     "data": {
      "image/png": "[encoded data removed]",
      "text/plain": [
       "<Figure size 432x288 with 1 Axes>"
      ]
     },
     "metadata": {
      "needs_background": "light"
     },
     "output_type": "display_data"
    }
   ],
   "source": [
    "plt.plot(x, u)\n",
    "print (\"Integral = \",u.sum()-len(x))"
   ]
  },
  {
   "cell_type": "code",
   "execution_count": 6,
   "metadata": {
    "id": "nvo0TMCMkheZ"
   },
   "outputs": [],
   "source": [
    "#un = np.ones(nx) #initialize a temporary array\n",
    "\n",
    "for n in range(nt):  #loop for values of n from 0 to nt, so it will run nt times\n",
    "    un = u.copy() ##copy the existing values of u into un\n",
    "    for i in range(1, nx-1): ## you can try commenting this line and...\n",
    "        u[i] = un[i] + viscosity * dt / dx**2 * (un[i+1] - 2.0*un[i] + un[i-1])"
   ]
  },
  {
   "cell_type": "code",
   "execution_count": 7,
   "metadata": {
    "colab": {
     "base_uri": "https://localhost:8080/",
     "height": 282
    },
    "id": "MQ0dgbPmkjeN",
    "outputId": "170602c2-460b-4050-897b-4a0cea1641f7"
   },
   "outputs": [
    {
     "name": "stdout",
     "output_type": "stream",
     "text": [
      "Integral =  10.9998845103147\n"
     ]
    },
    {
     "data": {
      "image/png": "[encoded data removed]",
      "text/plain": [
       "<Figure size 432x288 with 1 Axes>"
      ]
     },
     "metadata": {
      "needs_background": "light"
     },
     "output_type": "display_data"
    }
   ],
   "source": [
    "plt.plot(x, u)\n",
    "\n",
    "print (\"Integral = \",u.sum()-len(x))"
   ]
  },
  {
   "cell_type": "code",
   "execution_count": 8,
   "metadata": {
    "colab": {
     "base_uri": "https://localhost:8080/",
     "height": 399
    },
    "id": "Z0xe0waXuN_5",
    "outputId": "1a96eee7-4bb6-46ee-821b-a70d35ac1cca"
   },
   "outputs": [
    {
     "name": "stdout",
     "output_type": "stream",
     "text": [
      "Stability parameter =  0.4976671850699844\n",
      "nt_min =  1929.6120000000003\n",
      "Integral =  11.0\n",
      "Integral =  10.999884592300191\n",
      "Integral =  10.999884591150817\n",
      "Integral =  10.999884590002239\n",
      "Integral =  10.999884588854854\n",
      "Integral =  10.999884587708607\n",
      "Integral =  10.99988458656361\n"
     ]
    },
    {
     "data": {
      "image/png": "[encoded data removed]",
      "text/plain": [
       "<Figure size 432x288 with 1 Axes>"
      ]
     },
     "metadata": {
      "needs_background": "light"
     },
     "output_type": "display_data"
    }
   ],
   "source": [
    "xrange = 20.0\n",
    "trange = 24.0\n",
    "nx = 401  # try changing this number from 41 to 81 and Run All ... what happens?\n",
    "dx = xrange / (nx-1)\n",
    "nt = 1930    #nt is the number of timesteps we want to calculate\n",
    "dt = trange/ (nt-1)  #dt is the amount of time each timestep covers (delta t)\n",
    "\n",
    "print (\"Stability parameter = \",viscosity*dt/dx**2)\n",
    "print (\"nt_min = \",2*viscosity*trange*nx**2/xrange**2)\n",
    "\n",
    "u = np.ones(nx)      #numpy function ones()\n",
    "x = np.linspace(0, xrange, nx)\n",
    "\n",
    "if (pulseShapeChoice == 1):\n",
    "  # Test Case 1: Square Pulse\n",
    "  u[int(9.75 / dx):int(10.25 / dx + 1)] = 2  #setting u = 2 between 0.5 and 1\n",
    "else:\n",
    "  # Test Case 2:  Gaussian Pulse\n",
    "  mu = 10.00\n",
    "  sigma = 0.25\n",
    "  for i in range(len(u)):\n",
    "    u[i]=u[i]+np.exp(-1.0*(x[i]-mu)**2/sigma**2)\n",
    "\n",
    "plt.plot(x, u)\n",
    "print (\"Integral = \",u.sum()-len(x))\n",
    "\n",
    "for ntt in range(nt-3,nt+3):\n",
    "  dt = trange/(ntt-1)\n",
    "  u = np.ones(nx)      #numpy function ones()\n",
    "  if (pulseShapeChoice == 1):\n",
    "    u[int(9.75 / dx):int(10.25 / dx + 1)] = 2  #setting u = 2 between 0.5 and 1\n",
    "  else:\n",
    "    for i in range(len(u)):\n",
    "      u[i]=u[i]+np.exp(-1.0*(x[i]-mu)**2/sigma**2)\n",
    "  for n in range(ntt):  #loop for values of n from 0 to nt, so it will run nt times\n",
    "    un = u.copy() ##copy the existing values of u into un\n",
    "    for i in range(1, nx-1): ## you can try commenting this line and...\n",
    "        u[i] = un[i] + viscosity * dt / dx**2 * (un[i+1] - 2.0*un[i] + un[i-1])\n",
    "  plt.plot(x, u)\n",
    "  print (\"Integral = \",u.sum()-len(x))"
   ]
  },
  {
   "cell_type": "code",
   "execution_count": 9,
   "metadata": {
    "colab": {
     "base_uri": "https://localhost:8080/",
     "height": 433
    },
    "id": "8iXwFiKXgXJS",
    "outputId": "28f575c7-6820-4e6b-8da0-a6ecef9d5427"
   },
   "outputs": [
    {
     "name": "stdout",
     "output_type": "stream",
     "text": [
      "Integral =  10.999884594592743\n",
      "Integral =  10.999884593452862\n",
      "Integral =  10.999884592300191\n",
      "Integral =  10.999884591150817\n",
      "Integral =  10.999884590002239\n",
      "Integral =  10.999884588854854\n",
      "Integral =  10.999884587708607\n",
      "Integral =  10.99988458656361\n",
      "Integral =  10.999884585419863\n",
      "Integral =  10.999884584277083\n"
     ]
    },
    {
     "data": {
      "image/png": "[encoded data removed]",
      "text/plain": [
       "<Figure size 432x288 with 1 Axes>"
      ]
     },
     "metadata": {
      "needs_background": "light"
     },
     "output_type": "display_data"
    }
   ],
   "source": [
    "for ntt in range(nt-5,nt+5):\n",
    "  dt = trange/(ntt-1)\n",
    "  u = np.ones(nx)      #numpy function ones()\n",
    "  if (pulseShapeChoice == 1):\n",
    "    u[int(9.75 / dx):int(10.25 / dx + 1)] = 2  #setting u = 2 between 0.5 and 1\n",
    "  else:\n",
    "    for i in range(len(u)):\n",
    "      u[i]=u[i]+np.exp(-1.0*(x[i]-mu)**2/sigma**2)\n",
    "  for n in range(ntt):  #loop for values of n from 0 to nt, so it will run nt times\n",
    "    un = u.copy() ##copy the existing values of u into un\n",
    "    for i in range(1, nx-1): ## you can try commenting this line and...\n",
    "        u[i] = un[i] + viscosity * dt / dx**2 * (un[i+1] - 2.0*un[i] + un[i-1])\n",
    "  plt.plot(x, u)\n",
    "  print (\"Integral = \",u.sum()-len(x))"
   ]
  },
  {
   "cell_type": "code",
   "execution_count": null,
   "metadata": {
    "id": "e3jFHnvZb2e6"
   },
   "outputs": [],
   "source": []
  },
  {
   "cell_type": "code",
   "execution_count": null,
   "metadata": {
    "id": "V8261kZ96I6b"
   },
   "outputs": [],
   "source": []
  }
 ],
 "metadata": {
  "colab": {
   "authorship_tag": "ABX9TyMxCMXptwum57XeQ829fBfV",
   "include_colab_link": true,
   "name": "TravelingWaveConvection.ipynb",
   "provenance": []
  },
  "kernelspec": {
   "display_name": "Python 3",
   "language": "python",
   "name": "python3"
  },
  "language_info": {
   "codemirror_mode": {
    "name": "ipython",
    "version": 3
   },
   "file_extension": ".py",
   "mimetype": "text/x-python",
   "name": "python",
   "nbconvert_exporter": "python",
   "pygments_lexer": "ipython3",
   "version": "3.6.8"
  }
 },
 "nbformat": 4,
 "nbformat_minor": 1
}
