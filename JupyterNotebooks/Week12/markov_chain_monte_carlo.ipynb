{
 "cells": [
  {
   "cell_type": "code",
   "execution_count": 46,
   "id": "initial_id",
   "metadata": {
    "collapsed": true,
    "ExecuteTime": {
     "end_time": "2023-11-08T00:58:41.360006Z",
     "start_time": "2023-11-08T00:58:41.348134Z"
    }
   },
   "outputs": [],
   "source": [
    "import numpy as np\n",
    "import scipy.stats as stats\n",
    "import matplotlib.pyplot as plt"
   ]
  },
  {
   "cell_type": "code",
   "execution_count": 47,
   "outputs": [],
   "source": [
    "# Define the data for the first coin produced by the factory\n",
    "# We take this coin, flip it 100 times, and observe 57 heads and 43 tails\n",
    "x = 57\n",
    "n = 100\n",
    "\n",
    "# Define the Likelihood P(x|p) - binomial distribution\n",
    "def likelihood(p):\n",
    "    return stats.binom.pmf(x, n, p)"
   ],
   "metadata": {
    "collapsed": false,
    "ExecuteTime": {
     "end_time": "2023-11-08T00:58:41.820047Z",
     "start_time": "2023-11-08T00:58:41.814884Z"
    }
   },
   "id": "77e9b8ccd216071d"
  },
  {
   "cell_type": "code",
   "execution_count": 48,
   "outputs": [
    {
     "name": "stdout",
     "output_type": "stream",
     "text": [
      "0.0 1.0\n",
      "0.1 1.0\n",
      "0.2 1.0\n",
      "0.30000000000000004 1.0\n",
      "0.4 1.0\n",
      "0.5 1.0\n",
      "0.6000000000000001 1.0\n",
      "0.7000000000000001 1.0\n",
      "0.8 1.0\n",
      "0.9 1.0\n"
     ]
    }
   ],
   "source": [
    "# Define the prior P(p) - as we have never seen this coin before, we will assume a uniform distribution\n",
    "def prior(p):\n",
    "    return stats.uniform.pdf(p)\n",
    "\n",
    "for i in range(10):\n",
    "    print(i*0.1, prior(i*0.1))"
   ],
   "metadata": {
    "collapsed": false,
    "ExecuteTime": {
     "end_time": "2023-11-08T00:58:42.310843Z",
     "start_time": "2023-11-08T00:58:42.300470Z"
    }
   },
   "id": "3db0ee302eb866c8"
  },
  {
   "cell_type": "markdown",
   "source": [
    "# The Metropolis-Hastings MCMC\n",
    "\n",
    "As mentioned above, these methods draw samples from a continuous random variable — in our case for p. The MCMC we will use is of the random walk type, which randomly generates samples and keeps them or not based on how they fit the model.\n",
    "\n",
    "The Metropolis-Hastings algorithm is a Markov Chain Monte Carlo method for obtaining a sequence of random samples from a probability distribution for which direct sampling is difficult. This sequence can be used to approximate the distribution (e.g. to generate a histogram of the distribution); for example, the sequence can be used to approximate the posterior distribution in Bayesian inference.\n",
    "\n",
    "The algorithm is as follows:\n",
    "\n",
    "1. Propose a new value of p randomly between 0 and 1, call it p′ (or p_new).\n",
    "2. Compute the acceptance ratio, R.\n",
    "3. Generate another uniform random number between 0 and 1, call it u.\n",
    "4. If u < R, accept the new value and set p = p′. Otherwise, keep the current value of p.\n",
    "5. Record the final value of p for this sample.\n",
    "6. Repeat steps 1 through 5 many, many times.\n",
    "\n",
    "# Acceptance Ratio\n",
    "\n",
    "The Metropolis-Hastings algorithm is fairly straightforward, but first, we need to define how we will either accept or reject the new sample draw. Each iteration, a new value for p between 0 and 1 will be proposed, we will call this proposed value p′. We only want to accept and update this value if it is better than the previous. This is done by computing an acceptance ratio, R. This acceptance ratio is the ratio of our Bayes’ Theorem for the proposed value over the previous value and is shown below.\n",
    "\n",
    "\n"
   ],
   "metadata": {
    "collapsed": false
   },
   "id": "605c0aa3e09dbc03"
  },
  {
   "cell_type": "code",
   "execution_count": 49,
   "outputs": [],
   "source": [
    "# Define the acceptance ratio\n",
    "\n",
    "def acceptance_ratio(p, p_new):\n",
    "    return min(1, likelihood(p_new) * prior(p_new) / (likelihood(p) * prior(p)))"
   ],
   "metadata": {
    "collapsed": false,
    "ExecuteTime": {
     "end_time": "2023-11-08T00:58:43.656891Z",
     "start_time": "2023-11-08T00:58:43.645298Z"
    }
   },
   "id": "cdcde62c9e6cd36c"
  },
  {
   "cell_type": "markdown",
   "source": [
    "# Burn-in\n",
    "\n",
    "MCMCs are initialized randomly and must converge towards the correct value, and this can often take quite a lot of samples. When plotting our results and posterior distribution, it is not effective to include these early samples before the model has converged. So we implement what is called a “burn-in”, in which those first, less accurate samples are excluded. Burn-in for MCMCs is typically around 2000–5000 samples when the entire chain is around 10k–20k.\n",
    "\n",
    "# Lag\n",
    "\n",
    "Another very important thing to consider with MCMCs is sample independence. A new sample here is often dependent on the previous one as occasionally we do not accept a new random value and keep the old. To address this problem, we implement what is called “lag”. Lag is where rather than recording every sample, we record every other, or perhaps every fifth or tenth sample.\n",
    "\n",
    "# The Simulation\n",
    "\n",
    "Great, we now have everything we need to write and run our MCMC.\n"
   ],
   "metadata": {
    "collapsed": false
   },
   "id": "60a274b4f5f56883"
  },
  {
   "cell_type": "code",
   "execution_count": 50,
   "outputs": [],
   "source": [
    "# Create empty list to store samples\n",
    "results = []\n",
    "\n",
    "# Initialize a value of p\n",
    "p = np.random.uniform(0, 1)\n",
    "\n",
    "# Define model parameters\n",
    "n_samples = 25000\n",
    "burn_in = 5000\n",
    "lag = 5\n",
    "\n",
    "# Create the MCMC loop\n",
    "for i in range(n_samples):\n",
    "    # Propose a new value of p randomly from a uniform distribution between 0 and 1\n",
    "    p_new = np.random.random_sample()\n",
    "    # Compute acceptance probability\n",
    "    R = acceptance_ratio(p, p_new)\n",
    "    # Draw random sample to compare R to\n",
    "    u = np.random.random_sample()\n",
    "    # If R is greater than u, accept the new value of p (set p = p_new)\n",
    "    if u < R:\n",
    "        p = p_new\n",
    "    # Record values after burn in - how often determined by lag\n",
    "    if i > burn_in and i%lag == 0:\n",
    "        results.append(p)"
   ],
   "metadata": {
    "collapsed": false,
    "ExecuteTime": {
     "end_time": "2023-11-08T00:58:53.777371Z",
     "start_time": "2023-11-08T00:58:45.036886Z"
    }
   },
   "id": "95da2c97b9cf0e57"
  },
  {
   "cell_type": "code",
   "execution_count": 51,
   "outputs": [
    {
     "data": {
      "text/plain": "(array([0.07041079, 0.0352054 , 0.07041079, 0.17602698, 0.17602698,\n        0.24643778, 0.14082159, 0.31684857, 0.45767016, 0.88013492,\n        1.26739429, 1.1617781 , 2.14752921, 2.14752921, 3.48533429,\n        3.3797181 , 4.04862064, 6.30176604, 5.31601492, 6.44258762,\n        7.70998191, 7.11149016, 8.55491143, 7.21710635, 7.56916032,\n        9.39984096, 7.35792794, 6.54820381, 5.91450667, 6.75943619,\n        5.49204191, 5.10478254, 3.76697746, 3.41492349, 2.2883508 ,\n        1.72506445, 2.00670762, 1.72506445, 0.88013492, 0.59849175,\n        0.56328635, 0.31684857, 0.21123238, 0.0352054 , 0.14082159,\n        0.07041079, 0.        , 0.        , 0.        , 0.0352054 ]),\n array([0.3973432 , 0.40444616, 0.41154912, 0.41865208, 0.42575504,\n        0.432858  , 0.43996096, 0.44706392, 0.45416688, 0.46126984,\n        0.4683728 , 0.47547576, 0.48257872, 0.48968168, 0.49678464,\n        0.5038876 , 0.51099056, 0.51809352, 0.52519648, 0.53229944,\n        0.5394024 , 0.54650536, 0.55360831, 0.56071127, 0.56781423,\n        0.57491719, 0.58202015, 0.58912311, 0.59622607, 0.60332903,\n        0.61043199, 0.61753495, 0.62463791, 0.63174087, 0.63884383,\n        0.64594679, 0.65304975, 0.66015271, 0.66725567, 0.67435863,\n        0.68146159, 0.68856455, 0.69566751, 0.70277047, 0.70987343,\n        0.71697639, 0.72407935, 0.73118231, 0.73828527, 0.74538823,\n        0.75249119]),\n <BarContainer object of 50 artists>)"
     },
     "execution_count": 51,
     "metadata": {},
     "output_type": "execute_result"
    },
    {
     "data": {
      "text/plain": "<Figure size 640x480 with 1 Axes>",
      "image/png": "[encoded data removed]"
     },
     "metadata": {},
     "output_type": "display_data"
    }
   ],
   "source": [
    "plt.hist(results, bins=50, density=True)"
   ],
   "metadata": {
    "collapsed": false,
    "ExecuteTime": {
     "end_time": "2023-11-08T00:58:53.940891Z",
     "start_time": "2023-11-08T00:58:53.797250Z"
    }
   },
   "id": "f7399ec7ce4d4501"
  },
  {
   "cell_type": "code",
   "execution_count": 52,
   "outputs": [
    {
     "name": "stdout",
     "output_type": "stream",
     "text": [
      "Mean:  0.5690728035515621\n",
      "Standard Deviation:  0.04879207928888652\n",
      "Expected Mean:  0.57\n",
      "Expected Standard Deviation:  0.04950757517794625\n"
     ]
    }
   ],
   "source": [
    "print(\"Mean: \", np.mean(results))\n",
    "print(\"Standard Deviation: \", np.std(results))\n",
    "\n",
    "print(\"Expected Mean: \", x/n)\n",
    "print(\"Expected Standard Deviation: \", np.sqrt(x/n*(1-x/n)/n))"
   ],
   "metadata": {
    "collapsed": false,
    "ExecuteTime": {
     "end_time": "2023-11-08T00:58:53.946538Z",
     "start_time": "2023-11-08T00:58:53.942410Z"
    }
   },
   "id": "e5a0c1985456d39d"
  },
  {
   "cell_type": "markdown",
   "source": [
    "# Next Steps\n",
    "\n",
    "### Okay, so now let's suppose that the factory makes five hundred more coins. We do the same procedure of 100 flips (testing) for each of these coins, and determine a probability of heads for each. We can then use these probabilities as our prior for the next round of testing. This is the beauty of Bayesian statistics, we can update our prior with new information and get a better estimate of the true probability of heads.\n",
    "\n",
    "### Let's suppose that when we do this, we find that there is a distribution of probabilities for the five hundred coins that looks like this:  it is a roughly normal distribution with a mean of 0.511 and a standard deviation of 0.015. We can use this as our prior for the next round of testing."
   ],
   "metadata": {
    "collapsed": false
   },
   "id": "1c7b91904ad36c77"
  },
  {
   "cell_type": "code",
   "execution_count": 59,
   "outputs": [
    {
     "name": "stdout",
     "output_type": "stream",
     "text": [
      "Expected Mean:  0.5\n",
      "Expected Standard Deviation:  0.022360679774997897\n",
      "Expected Standard Deviation for coin with mu=0.511:  0.02235526783556842\n"
     ]
    }
   ],
   "source": [
    "# Expected mean and standard deviation of 500 fair coins\n",
    "print(\"Expected Mean: \", 0.5)\n",
    "print(\"Expected Standard Deviation: \", np.sqrt(0.5*(1-0.5)/500))\n",
    "\n",
    "print(\"Expected Standard Deviation for coin with mu=0.511: \", np.sqrt(0.511*(1-0.511)/500))\n",
    "\n",
    "# Define the prior P(p) - using the mean and standard deviation of the distribution of probabilities for the 500 coins\n",
    "# Note that we are using here the OBSERVED mean and standard deviation of the 500 coins, not the expected mean \n",
    "# and standard deviation of 500 fair coins ... that is, we are using the SAMPLE values, and not the expected \n",
    "# POPULATION values\n",
    "\n",
    "mean = 0.511\n",
    "std = 0.015\n",
    "\n",
    "def prior(p):\n",
    "    return stats.norm.pdf(p, mean, std)\n"
   ],
   "metadata": {
    "collapsed": false,
    "ExecuteTime": {
     "end_time": "2023-11-08T01:00:13.463213Z",
     "start_time": "2023-11-08T01:00:13.451231Z"
    }
   },
   "id": "8222e9ebe6bb1617"
  },
  {
   "cell_type": "code",
   "execution_count": 60,
   "outputs": [],
   "source": [
    "# Now, look at the 501st coin\n",
    "\n",
    "x = 63\n",
    "n = 100\n",
    "\n",
    "# Likelihood function - Binomial\n",
    "def likelihood(p):\n",
    "    return stats.binom.pmf(x, n, p)\n",
    "\n",
    "def acceptance_ratio(p, p_new):\n",
    "    return min(1, likelihood(p_new) * prior(p_new) / (likelihood(p) * prior(p)))\n"
   ],
   "metadata": {
    "collapsed": false,
    "ExecuteTime": {
     "end_time": "2023-11-08T01:00:13.933435Z",
     "start_time": "2023-11-08T01:00:13.920570Z"
    }
   },
   "id": "6e958a307f47a1df"
  },
  {
   "cell_type": "code",
   "execution_count": 61,
   "outputs": [],
   "source": [
    "# Create empty list to store samples\n",
    "results2 = []\n",
    "\n",
    "# Initialize a value of p\n",
    "p = np.random.uniform(0, 1)\n",
    "\n",
    "# Define model parameters\n",
    "n_samples = 25000\n",
    "burn_in = 5000\n",
    "lag = 5\n",
    "\n",
    "# Create the MCMC loop\n",
    "for i in range(n_samples):\n",
    "    # Propose a new value of p randomly from a uniform distribution between 0 and 1\n",
    "    p_new = np.random.random_sample()\n",
    "    # Compute acceptance probability\n",
    "    R = acceptance_ratio(p, p_new)\n",
    "    # Draw random sample to compare R to\n",
    "    u = np.random.random_sample()\n",
    "    # If R is greater than u, accept the new value of p (set p = p_new)\n",
    "    if u < R:\n",
    "        p = p_new\n",
    "    # Record values after burn in - how often determined by lag\n",
    "    if i > burn_in and i%lag == 0:\n",
    "        results2.append(p)"
   ],
   "metadata": {
    "collapsed": false,
    "ExecuteTime": {
     "end_time": "2023-11-08T01:00:23.298555Z",
     "start_time": "2023-11-08T01:00:14.294628Z"
    }
   },
   "id": "2db32f0febb00965"
  },
  {
   "cell_type": "code",
   "execution_count": 62,
   "outputs": [
    {
     "data": {
      "text/plain": "(array([ 1.07444186,  0.13430523,  0.        ,  0.26861047,  0.8058314 ,\n         4.16346221,  1.47735756,  1.74596802,  2.82040988,  4.96929361,\n         5.775125  ,  5.775125  ,  4.83498837,  7.52109302, 11.55025   ,\n        20.01147966, 14.63927035, 20.54870059, 13.56482849, 21.35453198,\n        26.59243605, 35.0536657 , 19.20564826, 36.53102326, 21.62314245,\n        26.86104652, 29.14423547, 27.12965698, 21.75744768, 19.07134303,\n        24.84646803, 16.78815407,  8.19261919, 17.99690117, 25.51799419,\n         9.26706105,  5.64081977,  4.43207268,  3.08902035,  6.71526163,\n         4.43207268,  2.41749419,  0.26861047,  0.        ,  0.67152616,\n         0.26861047,  0.        ,  0.        ,  0.        ,  0.53722093]),\n array([0.47530143, 0.47716332, 0.47902522, 0.48088712, 0.48274901,\n        0.48461091, 0.48647281, 0.4883347 , 0.4901966 , 0.4920585 ,\n        0.4939204 , 0.49578229, 0.49764419, 0.49950609, 0.50136798,\n        0.50322988, 0.50509178, 0.50695368, 0.50881557, 0.51067747,\n        0.51253937, 0.51440126, 0.51626316, 0.51812506, 0.51998695,\n        0.52184885, 0.52371075, 0.52557265, 0.52743454, 0.52929644,\n        0.53115834, 0.53302023, 0.53488213, 0.53674403, 0.53860593,\n        0.54046782, 0.54232972, 0.54419162, 0.54605351, 0.54791541,\n        0.54977731, 0.5516392 , 0.5535011 , 0.555363  , 0.5572249 ,\n        0.55908679, 0.56094869, 0.56281059, 0.56467248, 0.56653438,\n        0.56839628]),\n <BarContainer object of 50 artists>)"
     },
     "execution_count": 62,
     "metadata": {},
     "output_type": "execute_result"
    },
    {
     "data": {
      "text/plain": "<Figure size 640x480 with 1 Axes>",
      "image/png": "[encoded data removed]"
     },
     "metadata": {},
     "output_type": "display_data"
    }
   ],
   "source": [
    "plt.hist(results2, bins=50, density=True)"
   ],
   "metadata": {
    "collapsed": false,
    "ExecuteTime": {
     "end_time": "2023-11-08T01:00:23.454439Z",
     "start_time": "2023-11-08T01:00:23.305067Z"
    }
   },
   "id": "6267dabf35d2b0ab"
  },
  {
   "cell_type": "code",
   "execution_count": 63,
   "outputs": [
    {
     "name": "stdout",
     "output_type": "stream",
     "text": [
      "Mean:  0.520836145813496\n",
      "Standard Deviation:  0.01409337044725349\n",
      "Expected Mean:  0.5112375249500998\n"
     ]
    }
   ],
   "source": [
    "print(\"Mean: \", np.mean(results2))\n",
    "print(\"Standard Deviation: \", np.std(results2))\n",
    "\n",
    "print(\"Expected Mean: \", (500*0.511 + x/n)/(500+1))\n"
   ],
   "metadata": {
    "collapsed": false,
    "ExecuteTime": {
     "end_time": "2023-11-08T01:00:23.461550Z",
     "start_time": "2023-11-08T01:00:23.455352Z"
    }
   },
   "id": "ba866cff18f8c1a1"
  },
  {
   "cell_type": "markdown",
   "source": [
    "# Conclusion\n",
    "\n",
    "### Even though the data for this coin suggests a bias around 0.63, our Bayesian Inference model suggests the actual value is much closer to 0.52. \n",
    "\n",
    "### This is because our informed prior function holds weight in the model, telling us that even if we observed 63 heads for this coin, given that coins are produced with an average bias of around 0.51, we expect the bias for the 501st to be closer to the factory bias. \n",
    "\n",
    "### Even if this coin had exactly a 0.5 bias, observing 63 heads out of 100 tosses is not entirely unlikely, and we shouldn't assume this data to be representative of the exact value. The prior function holds weight just like the likelihood does in informing the posterior distribution. \n",
    "\n",
    "### If we were to produce thousands of more coins and inform the prior distribution even more, this would give it an even higher weight in the model. This idea of updating our understanding with more information to predict unknown parameters is exactly why Bayesian Inference is useful. It is tuning and manipulating these likelihood and prior functions with more and better data that allows us to improve and inform our inference model."
   ],
   "metadata": {
    "collapsed": false
   },
   "id": "d72544165af45b4f"
  },
  {
   "cell_type": "code",
   "execution_count": null,
   "outputs": [],
   "source": [],
   "metadata": {
    "collapsed": false
   },
   "id": "75edb08ad0015f83"
  }
 ],
 "metadata": {
  "kernelspec": {
   "display_name": "Python 3",
   "language": "python",
   "name": "python3"
  },
  "language_info": {
   "codemirror_mode": {
    "name": "ipython",
    "version": 2
   },
   "file_extension": ".py",
   "mimetype": "text/x-python",
   "name": "python",
   "nbconvert_exporter": "python",
   "pygments_lexer": "ipython2",
   "version": "2.7.6"
  }
 },
 "nbformat": 4,
 "nbformat_minor": 5
}
