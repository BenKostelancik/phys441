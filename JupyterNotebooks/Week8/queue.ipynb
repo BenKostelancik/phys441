{
 "cells": [
  {
   "cell_type": "markdown",
   "metadata": {},
   "source": [
    "# One Queue or Two"
   ]
  },
  {
   "cell_type": "markdown",
   "metadata": {},
   "source": [
    "This notebook presents a case study from *Modeling and Simulation in Python*.  It explores a question related to queueing theory, which is the study of systems that involve waiting in lines, also known as \"queues\".\n",
    "\n",
    "Suppose you are designing the checkout area for a new store.  There is room for two checkout counters and a waiting area for customers.  You can make two lines, one for each counter, or one line that serves both counters.\n",
    "\n",
    "In theory, you might expect a single line to be better, but it has some practical drawbacks: in order to maintain a single line, you would have to install rope barriers, and customers might be put off by what seems to be a longer line, even if it moves faster.\n",
    "\n",
    "So you'd like to check whether the single line is really better and by how much.  Simulation can help answer this question."
   ]
  },
  {
   "cell_type": "markdown",
   "metadata": {},
   "source": [
    "As we did in the bikeshare model, we'll assume that a customer is equally likely to arrive during any timestep.  I'll denote this probability using the Greek letter lambda, $\\lambda$, or the variable name `lam`.  The value of $\\lambda$ probably varies from day to day, so we'll have to consider a range of possibilities.\n",
    "\n",
    "Based on data from other stores, you know that it takes 5 minutes for a customer to check out, on average.  But checkout times are highly variable: most customers take less than 5 minutes, but some take substantially more.  A simple way to model this variability is to assume that when a customer is checking out, they have the same probability of finishing up during each time step.  I'll denote this probability using the Greek letter mu, $\\mu$, or the variable name `mu`.\n",
    "\n",
    "If we choose $\\mu=1/5$, the average number of time steps for each checkout will be 5 minutes, which is consistent with the data."
   ]
  },
  {
   "cell_type": "markdown",
   "metadata": {},
   "source": [
    "## One server, one queue\n",
    "\n",
    "Write a function called `make_system` that takes `lam` and `mu` as parameters and returns a `System` object with variables `lam`, `mu`, and `duration`.  Set `duration`, which is the number of time steps to simulate, to 10 hours, expressed in minutes. "
   ]
  },
  {
   "cell_type": "code",
   "execution_count": null,
   "metadata": {
    "tags": [],
    "ExecuteTime": {
     "end_time": "2023-09-26T13:16:59.742416Z",
     "start_time": "2023-09-26T13:16:59.733616Z"
    }
   },
   "outputs": [],
   "source": []
  },
  {
   "cell_type": "code",
   "execution_count": 1,
   "metadata": {
    "ExecuteTime": {
     "end_time": "2023-09-26T13:17:01.041049Z",
     "start_time": "2023-09-26T13:16:59.735413Z"
    }
   },
   "outputs": [],
   "source": [
    "from modsim import *"
   ]
  },
  {
   "cell_type": "code",
   "execution_count": 2,
   "metadata": {
    "ExecuteTime": {
     "end_time": "2023-09-26T13:17:01.050494Z",
     "start_time": "2023-09-26T13:17:01.042865Z"
    }
   },
   "outputs": [],
   "source": [
    "def make_system(lam, mu):\n",
    "    \"\"\"Make a System object.\n",
    "    \n",
    "    lam: arrival rate, per minute\n",
    "    mu: probability of finishing a checkout, per minute\n",
    "    duration: time to run simulation, in minutes\n",
    "    \"\"\"\n",
    "    return System(lam=lam, mu=mu, duration=10*60)"
   ]
  },
  {
   "cell_type": "markdown",
   "metadata": {},
   "source": [
    "Test this function by creating a `System` object with `lam=1/8` and `mu=1/5`."
   ]
  },
  {
   "cell_type": "code",
   "execution_count": 3,
   "metadata": {
    "ExecuteTime": {
     "end_time": "2023-09-26T13:17:01.050702Z",
     "start_time": "2023-09-26T13:17:01.047094Z"
    }
   },
   "outputs": [],
   "source": [
    "system = make_system(1/8, 1/5)"
   ]
  },
  {
   "cell_type": "markdown",
   "metadata": {},
   "source": [
    "Write an update function that takes as parameters `x`, which is the total number of customers in the store, including the one checking out; `t`, which is the number of minutes that have elapsed in the simulation, and `system`, which is a `System` object.\n",
    "\n",
    "If there's a customer checking out, it should use `flip` to decide whether they are done.  And it should use `flip` to decide if a new customer has arrived.\n",
    "\n",
    "It should return the total number of customers at the end of the time step."
   ]
  },
  {
   "cell_type": "code",
   "execution_count": 4,
   "metadata": {
    "ExecuteTime": {
     "end_time": "2023-09-26T13:17:01.055475Z",
     "start_time": "2023-09-26T13:17:01.051425Z"
    }
   },
   "outputs": [],
   "source": [
    "def update_func(x, t, system):\n",
    "    \"\"\"Update the queue.\n",
    "    \n",
    "    x: number of customers in the store\n",
    "    t: time step\n",
    "    system: System object\n",
    "    \n",
    "    returns: number of customers in the store at the end of the step\n",
    "    \"\"\"\n",
    "    \n",
    "    # if there's a customer checking out\n",
    "    if x > 0:\n",
    "        # see if they are done checking out\n",
    "        if flip(system.mu):\n",
    "            # if so, decrement x\n",
    "            x -= 1\n",
    "            \n",
    "    # see if a new customer arrives\n",
    "    if flip(system.lam):\n",
    "        # if so, increment x\n",
    "        x += 1\n",
    "    \n",
    "    return x"
   ]
  },
  {
   "cell_type": "markdown",
   "metadata": {},
   "source": [
    "Test your function by calling it with `x=1`, `t=0`, and the `System` object you created.  If you run it a few times, you should see different results."
   ]
  },
  {
   "cell_type": "code",
   "execution_count": 5,
   "metadata": {
    "ExecuteTime": {
     "end_time": "2023-09-26T13:17:01.060713Z",
     "start_time": "2023-09-26T13:17:01.056557Z"
    }
   },
   "outputs": [
    {
     "data": {
      "text/plain": "0"
     },
     "execution_count": 5,
     "metadata": {},
     "output_type": "execute_result"
    }
   ],
   "source": [
    "update_func(1, 0, system)"
   ]
  },
  {
   "cell_type": "markdown",
   "metadata": {},
   "source": [
    "Now we can run the simulation.  Here's a version of `run_simulation` that creates a `TimeSeries` with the total number of customers in the store, including the one checking out."
   ]
  },
  {
   "cell_type": "code",
   "execution_count": 6,
   "metadata": {
    "ExecuteTime": {
     "end_time": "2023-09-26T13:17:01.069392Z",
     "start_time": "2023-09-26T13:17:01.059145Z"
    }
   },
   "outputs": [],
   "source": [
    "def run_simulation(system, update_func):\n",
    "    \"\"\"Simulate a queueing system.\n",
    "    \n",
    "    system: System object\n",
    "    update_func: function object\n",
    "    \"\"\"\n",
    "    x = 0\n",
    "    results = TimeSeries()\n",
    "    results[0] = x\n",
    "    \n",
    "    for t in linrange(0, system.duration):\n",
    "        x = update_func(x, t, system)\n",
    "        results[t+1] = x\n",
    "\n",
    "    return results"
   ]
  },
  {
   "cell_type": "markdown",
   "metadata": {},
   "source": [
    "Call `run_simulation` with your update function and plot the results."
   ]
  },
  {
   "cell_type": "code",
   "execution_count": 7,
   "metadata": {
    "ExecuteTime": {
     "end_time": "2023-09-26T13:17:01.214001Z",
     "start_time": "2023-09-26T13:17:01.065539Z"
    }
   },
   "outputs": [],
   "source": [
    "results = run_simulation(system, update_func)"
   ]
  },
  {
   "cell_type": "markdown",
   "metadata": {},
   "source": [
    "After the simulation, we can compute `L`, which is the average number of customers in the system, and `W`, which is the average time customers spend in the store.  `L` and `W` are related by Little's Law:\n",
    "\n",
    "$L = \\lambda W$\n",
    "\n",
    "Where $\\lambda$ is the arrival rate.  Here's a function that computes them."
   ]
  },
  {
   "cell_type": "code",
   "execution_count": 8,
   "metadata": {
    "ExecuteTime": {
     "end_time": "2023-09-26T13:17:01.223164Z",
     "start_time": "2023-09-26T13:17:01.215880Z"
    }
   },
   "outputs": [],
   "source": [
    "def compute_metrics(results, system):\n",
    "    \"\"\"Compute average number of customers and wait time.\n",
    "    \n",
    "    results: TimeSeries of queue lengths\n",
    "    system: System object\n",
    "    \n",
    "    returns: L, W\n",
    "    \"\"\"\n",
    "    L = results.mean()\n",
    "    W = L / system.lam\n",
    "    return L, W"
   ]
  },
  {
   "cell_type": "markdown",
   "metadata": {},
   "source": [
    "Call `compute_metrics` with the results from your simulation."
   ]
  },
  {
   "cell_type": "code",
   "execution_count": 9,
   "metadata": {
    "ExecuteTime": {
     "end_time": "2023-09-26T13:17:01.227812Z",
     "start_time": "2023-09-26T13:17:01.222174Z"
    }
   },
   "outputs": [
    {
     "data": {
      "text/plain": "(1.4983388704318936, 11.986710963455149)"
     },
     "execution_count": 9,
     "metadata": {},
     "output_type": "execute_result"
    }
   ],
   "source": [
    "compute_metrics(results,system)# Solution goes here"
   ]
  },
  {
   "cell_type": "markdown",
   "metadata": {},
   "source": [
    "### Parameter sweep\n",
    "\n",
    "Since we don't know the actual value of $\\lambda$, we can sweep through a range of possibilities, from 10% to 80% of the completion rate, $\\mu$.  (If customers arrive faster than the completion rate, the queue grows without bound.  In that case the metrics `L` and `W` just depend on how long the store is open.)\n",
    "\n",
    "Create an array of values for `lam`."
   ]
  },
  {
   "cell_type": "code",
   "execution_count": 10,
   "metadata": {
    "ExecuteTime": {
     "end_time": "2023-09-26T13:17:01.228224Z",
     "start_time": "2023-09-26T13:17:01.224647Z"
    }
   },
   "outputs": [],
   "source": [
    "import numpy as np\n",
    "lam_array = np.linspace(0.1*system.mu, 0.8*system.mu, 101)"
   ]
  },
  {
   "cell_type": "markdown",
   "metadata": {},
   "source": [
    "Write a function that takes an array of values for `lam`, a single value for `mu`, and an update function.\n",
    "\n",
    "For each value of `lam`, it should run a simulation, compute `L` and `W`, and store the value of `W` in a `SweepSeries`.\n",
    "\n",
    "It should return the `SweepSeries`."
   ]
  },
  {
   "cell_type": "code",
   "execution_count": 11,
   "metadata": {
    "ExecuteTime": {
     "end_time": "2023-09-26T13:17:01.232856Z",
     "start_time": "2023-09-26T13:17:01.229241Z"
    }
   },
   "outputs": [],
   "source": [
    "def sweep_lambda(lam_array, mu, update_func):\n",
    "    \"\"\"Sweep through a range of values for `lam`.\n",
    "    \n",
    "    lam_array: array of values for `lam`\n",
    "    mu: probability of finishing a checkout\n",
    "    update_func: function object\n",
    "    \n",
    "    returns: SweepSeries of average wait times\n",
    "    \"\"\"\n",
    "    sweep = SweepSeries()\n",
    "    for lam in lam_array:\n",
    "        system = make_system(lam, mu)\n",
    "        results = run_simulation(system, update_func)\n",
    "        L, W = compute_metrics(results, system)\n",
    "        sweep[lam] = W\n",
    "    return sweep"
   ]
  },
  {
   "cell_type": "markdown",
   "metadata": {},
   "source": [
    "Call your function to generate a `SweepSeries`, and plot it."
   ]
  },
  {
   "cell_type": "code",
   "execution_count": 12,
   "metadata": {
    "ExecuteTime": {
     "end_time": "2023-09-26T13:17:15.511928Z",
     "start_time": "2023-09-26T13:17:01.234184Z"
    }
   },
   "outputs": [],
   "source": [
    "sweep = sweep_lambda(lam_array, system.mu, update_func)"
   ]
  },
  {
   "cell_type": "code",
   "execution_count": 13,
   "metadata": {
    "ExecuteTime": {
     "end_time": "2023-09-26T13:17:15.661606Z",
     "start_time": "2023-09-26T13:17:15.513373Z"
    }
   },
   "outputs": [
    {
     "data": {
      "text/plain": "<Axes: xlabel='Parameter'>"
     },
     "execution_count": 13,
     "metadata": {},
     "output_type": "execute_result"
    },
    {
     "data": {
      "text/plain": "<Figure size 675x450 with 1 Axes>",
      "image/png": "[encoded data removed]"
     },
     "metadata": {},
     "output_type": "display_data"
    }
   ],
   "source": [
    "sweep.plot(style='o', label='simulation')"
   ]
  },
  {
   "cell_type": "markdown",
   "metadata": {},
   "source": [
    "If we imagine that this range of values represents arrival rates on different days, we can use the average value of `W`, for a range of values of `lam`, to compare different queueing strategies."
   ]
  },
  {
   "cell_type": "code",
   "execution_count": 14,
   "metadata": {
    "ExecuteTime": {
     "end_time": "2023-09-26T13:17:15.665520Z",
     "start_time": "2023-09-26T13:17:15.660514Z"
    }
   },
   "outputs": [
    {
     "data": {
      "text/plain": "8.283712427866302"
     },
     "execution_count": 14,
     "metadata": {},
     "output_type": "execute_result"
    }
   ],
   "source": [
    "sweep.mean()"
   ]
  },
  {
   "cell_type": "markdown",
   "metadata": {},
   "source": [
    "### Analysis\n",
    "\n",
    "The model we chose for this system is a common model in queueing theory, in part because many of its properties can be derived analytically.\n",
    "\n",
    "In particular, we can derive the average time in the store as a function of $\\mu$ and $\\lambda$:\n",
    "\n",
    "$W = 1 / (\\mu - \\lambda)$\n",
    "\n",
    "You can read more about this model at <https://en.wikipedia.org/wiki/M/M/1_queue>, and about queueing theory in general at <https://en.wikipedia.org/wiki/Queueing_theory>.\n",
    "\n",
    "The following function plots the theoretical value of $W$ as a function of $\\lambda$."
   ]
  },
  {
   "cell_type": "code",
   "execution_count": 15,
   "metadata": {
    "ExecuteTime": {
     "end_time": "2023-09-26T13:17:15.675949Z",
     "start_time": "2023-09-26T13:17:15.666562Z"
    }
   },
   "outputs": [],
   "source": [
    "def plot_W(lam_array, mu):\n",
    "    \"\"\"Plot the theoretical mean wait time.\n",
    "    \n",
    "    lam_array: array of values for `lam`\n",
    "    mu: probability of finishing a checkout\n",
    "    \"\"\"\n",
    "    W_array = 1 / (mu - lam_array)\n",
    "    W_series = make_series(lam_array, W_array)\n",
    "    W_series.plot(style='-', label='analysis')"
   ]
  },
  {
   "cell_type": "markdown",
   "metadata": {},
   "source": [
    "Use this function to plot the theoretical results, then plot your simulation results again on the same graph.  How do they compare?"
   ]
  },
  {
   "cell_type": "code",
   "execution_count": 16,
   "metadata": {
    "ExecuteTime": {
     "end_time": "2023-09-26T13:17:15.820478Z",
     "start_time": "2023-09-26T13:17:15.668393Z"
    }
   },
   "outputs": [
    {
     "data": {
      "text/plain": "<matplotlib.legend.Legend at 0x1239bbfd0>"
     },
     "execution_count": 16,
     "metadata": {},
     "output_type": "execute_result"
    },
    {
     "data": {
      "text/plain": "<Figure size 675x450 with 1 Axes>",
      "image/png": "[encoded data removed]"
     },
     "metadata": {},
     "output_type": "display_data"
    }
   ],
   "source": [
    "plot_W(lam_array, system.mu)\n",
    "sweep.plot(style='o', label='simulation')\n",
    "plt.xlabel('Arrival rate (lam)')\n",
    "plt.ylabel('Average wait time (W)')\n",
    "plt.legend()"
   ]
  },
  {
   "cell_type": "markdown",
   "metadata": {},
   "source": [
    "## Multiple servers\n",
    "\n",
    "Now let's try the other two queueing strategies:\n",
    "\n",
    "1.  One queue with two checkout counters.\n",
    "2.  Two queues, one for each counter.\n",
    "\n",
    "The following figure shows the three scenarios:\n",
    "\n",
    "<https://github.com/AllenDowney/ModSim/raw/main/figs/queue.png>\n",
    "\n",
    "Write an update function for one queue with two servers."
   ]
  },
  {
   "cell_type": "code",
   "execution_count": 17,
   "metadata": {
    "ExecuteTime": {
     "end_time": "2023-09-26T13:17:15.820644Z",
     "start_time": "2023-09-26T13:17:15.816228Z"
    }
   },
   "outputs": [],
   "source": [
    "def update_one_queue_two_servers(x, t, system):\n",
    "    \"\"\"Update the queue.\n",
    "    \n",
    "    x: number of customers in the store\n",
    "    t: time step\n",
    "    system: System object\n",
    "    \n",
    "    returns: number of customers in the store at the end of the step\n",
    "    \"\"\"\n",
    "    \n",
    "    # if there's a customer checking out\n",
    "    if x > 0:\n",
    "        # see if they are done checking out in the first queue\n",
    "        if flip(system.mu):\n",
    "            # if so, decrement x\n",
    "            x -= 1\n",
    "            \n",
    "    # if there's a customer checking out\n",
    "    if x > 0:\n",
    "        # see if they are done checking out in the second queue\n",
    "        if flip(system.mu):\n",
    "            # if so, decrement x\n",
    "            x -= 1\n",
    "            \n",
    "    # see if a new customer arrives\n",
    "    if flip(system.lam):\n",
    "        # if so, increment x\n",
    "        x += 1\n",
    "    \n",
    "    return x"
   ]
  },
  {
   "cell_type": "markdown",
   "metadata": {},
   "source": [
    "Use this update function to simulate the system, plot the results, and print the metrics.\n",
    "\n",
    "Since we have two checkout counters now, we can consider values for $\\lambda$ that exceed $\\mu$.\n",
    "\n",
    "Create a new array of values for `lam` from 10% to 160% of `mu`.\n",
    "\n",
    "Use your sweep function to simulate the two server, one queue scenario with a range of values for `lam`.\n",
    "\n",
    "Plot the results and print the average value of `W` across all values of `lam`.\n",
    "\n"
   ]
  },
  {
   "cell_type": "code",
   "execution_count": 18,
   "metadata": {
    "ExecuteTime": {
     "end_time": "2023-09-26T13:17:30.422176Z",
     "start_time": "2023-09-26T13:17:15.821884Z"
    }
   },
   "outputs": [],
   "source": [
    "lam_array_one_queue_two_servers = np.linspace(0.1*system.mu, 1.6*system.mu, 101)\n",
    "sweep_one_queue_two_servers = sweep_lambda(lam_array_one_queue_two_servers, system.mu, update_one_queue_two_servers)"
   ]
  },
  {
   "cell_type": "markdown",
   "metadata": {},
   "source": []
  },
  {
   "cell_type": "code",
   "execution_count": 28,
   "metadata": {
    "ExecuteTime": {
     "end_time": "2023-09-26T13:20:01.795760Z",
     "start_time": "2023-09-26T13:20:01.647251Z"
    }
   },
   "outputs": [
    {
     "data": {
      "text/plain": "<matplotlib.legend.Legend at 0x123be4cd0>"
     },
     "execution_count": 28,
     "metadata": {},
     "output_type": "execute_result"
    },
    {
     "data": {
      "text/plain": "<Figure size 675x450 with 1 Axes>",
      "image/png": "[encoded data removed]"
     },
     "metadata": {},
     "output_type": "display_data"
    }
   ],
   "source": [
    "sweep_one_queue_two_servers.plot(style='o', label='One queue, two servers')\n",
    "sweep.plot(style='o', label='One queue, one server')\n",
    "plot_W(lam_array, system.mu)\n",
    "plt.xlabel('Arrival rate (lam)')\n",
    "plt.ylabel('Average wait time (W)')\n",
    "plt.legend()"
   ]
  },
  {
   "cell_type": "markdown",
   "metadata": {},
   "source": []
  },
  {
   "cell_type": "code",
   "execution_count": 20,
   "metadata": {
    "ExecuteTime": {
     "end_time": "2023-09-26T13:17:30.558917Z",
     "start_time": "2023-09-26T13:17:30.553246Z"
    }
   },
   "outputs": [],
   "source": [
    "# Solution goes here"
   ]
  },
  {
   "cell_type": "code",
   "execution_count": 21,
   "metadata": {
    "ExecuteTime": {
     "end_time": "2023-09-26T13:17:30.562486Z",
     "start_time": "2023-09-26T13:17:30.556930Z"
    }
   },
   "outputs": [],
   "source": [
    "# Solution goes here"
   ]
  },
  {
   "cell_type": "markdown",
   "metadata": {},
   "source": [
    "## Multiple queues\n",
    "\n",
    "To simulate the scenario with two separate queues, we need two state variables to keep track of customers in each queue.\n",
    "\n",
    "Write an update function that takes `x1`, `x2`, `t`, and `system` as parameters and returns `x1` and `x2` as return values.  f you are not sure how to return more than one return value, see `compute_metrics`.\n",
    "\n",
    "When a customer arrives, which queue do they join?"
   ]
  },
  {
   "cell_type": "code",
   "execution_count": 33,
   "metadata": {
    "ExecuteTime": {
     "end_time": "2023-09-26T13:39:37.214300Z",
     "start_time": "2023-09-26T13:39:37.179680Z"
    }
   },
   "outputs": [],
   "source": [
    "def update_two_servers_two_queues(x1, x2, t, system):\n",
    "    \"\"\"Update the queue.\n",
    "    \n",
    "    x1: number of customers in the first queue\n",
    "    x2: number of customers in the second queue\n",
    "    t: time step\n",
    "    system: System object\n",
    "    \n",
    "    returns: x1, x2\n",
    "    \"\"\"\n",
    "    \n",
    "    # if there's a customer checking out\n",
    "    if x1 > 0:\n",
    "        # see if they are done checking out in the first queue\n",
    "        if flip(system.mu):\n",
    "            # if so, decrement x\n",
    "            x1 -= 1\n",
    "            \n",
    "    # if there's a customer checking out\n",
    "    if x2 > 0:\n",
    "        # see if they are done checking out in the second queue\n",
    "        if flip(system.mu):\n",
    "            # if so, decrement x\n",
    "            x2 -= 1\n",
    "            \n",
    "    # see if a new customer arrives\n",
    "    if flip(system.lam):\n",
    "        # if so, increment x\n",
    "        if x1 <= x2:\n",
    "            x1 += 1\n",
    "        else:\n",
    "            x2 += 1\n",
    "    \n",
    "    return x1, x2\n",
    "\n",
    "def sweep_lambda_two_queues(lam_array, mu, update_func):\n",
    "    \"\"\"Sweep through a range of values for `lam`.\n",
    "    \n",
    "    lam_array: array of values for `lam`\n",
    "    mu: probability of finishing a checkout\n",
    "    update_func: function object\n",
    "    \n",
    "    returns: SweepSeries of average wait times\n",
    "    \"\"\"\n",
    "    sweep = SweepSeries()\n",
    "    for lam in lam_array:\n",
    "        system = make_system(lam, mu)\n",
    "        results = run_simulation_two_queues(system, update_func)\n",
    "        L, W = compute_metrics(results, system)\n",
    "        sweep[lam] = W\n",
    "    return sweep"
   ]
  },
  {
   "cell_type": "markdown",
   "metadata": {},
   "source": [
    "Write a version of `run_simulation` that works with this update function."
   ]
  },
  {
   "cell_type": "code",
   "execution_count": 34,
   "metadata": {
    "ExecuteTime": {
     "end_time": "2023-09-26T13:39:39.672705Z",
     "start_time": "2023-09-26T13:39:39.652333Z"
    }
   },
   "outputs": [],
   "source": [
    "def run_simulation_two_queues(system, update_func):\n",
    "    \"\"\"Simulate a queueing system.\n",
    "    \n",
    "    system: System object\n",
    "    update_func: function object\n",
    "    \"\"\"\n",
    "    x1 = 0\n",
    "    x2 = 0\n",
    "    results = TimeSeries()\n",
    "    results[0] = x1 + x2\n",
    "    \n",
    "    for t in linrange(0, system.duration):\n",
    "        x1, x2 = update_func(x1, x2, t, system)\n",
    "        results[t+1] = x1 + x2\n",
    "\n",
    "    return results"
   ]
  },
  {
   "cell_type": "markdown",
   "metadata": {},
   "source": [
    "Test your functions by running a simulation with a single value of `lam`."
   ]
  },
  {
   "cell_type": "code",
   "execution_count": 35,
   "metadata": {
    "ExecuteTime": {
     "end_time": "2023-09-26T13:39:41.276415Z",
     "start_time": "2023-09-26T13:39:41.120960Z"
    }
   },
   "outputs": [
    {
     "data": {
      "text/plain": "(0.5581395348837209, 4.465116279069767)"
     },
     "execution_count": 35,
     "metadata": {},
     "output_type": "execute_result"
    }
   ],
   "source": [
    "system = make_system(1/8, 1/5)\n",
    "results = run_simulation_two_queues(system, update_two_servers_two_queues)\n",
    "compute_metrics(results, system)"
   ]
  },
  {
   "cell_type": "markdown",
   "metadata": {},
   "source": [
    "Sweep a range of values for `lam`, plot the results, and print the average wait time across all values of `lam`.\n",
    "\n",
    "How do the results compare to the scenario with two servers and one queue."
   ]
  },
  {
   "cell_type": "code",
   "execution_count": 37,
   "metadata": {
    "ExecuteTime": {
     "end_time": "2023-09-26T13:40:08.688333Z",
     "start_time": "2023-09-26T13:39:54.181157Z"
    }
   },
   "outputs": [],
   "source": [
    "lam_array_two_queues_two_servers = np.linspace(0.1*system.mu, 1.6*system.mu, 101)\n",
    "sweep_two_queues_two_servers = sweep_lambda_two_queues(lam_array_two_queues_two_servers, system.mu, update_two_servers_two_queues)"
   ]
  },
  {
   "cell_type": "code",
   "execution_count": 39,
   "metadata": {
    "ExecuteTime": {
     "end_time": "2023-09-26T13:41:04.069504Z",
     "start_time": "2023-09-26T13:41:03.924289Z"
    }
   },
   "outputs": [
    {
     "data": {
      "text/plain": "<matplotlib.legend.Legend at 0x123c44c90>"
     },
     "execution_count": 39,
     "metadata": {},
     "output_type": "execute_result"
    },
    {
     "data": {
      "text/plain": "<Figure size 675x450 with 1 Axes>",
      "image/png": "[encoded data removed]"
     },
     "metadata": {},
     "output_type": "display_data"
    }
   ],
   "source": [
    "sweep_one_queue_two_servers.plot(style='o', label='One queue, two servers')\n",
    "sweep.plot(style='o', label='One queue, one server')\n",
    "plot_W(lam_array, system.mu)\n",
    "sweep_two_queues_two_servers.plot(style='o', label='Two queues, two servers')\n",
    "plt.xlabel('Arrival rate (lam)')\n",
    "plt.ylabel('Average wait time (W)')\n",
    "plt.legend()"
   ]
  },
  {
   "cell_type": "code",
   "execution_count": 27,
   "metadata": {
    "ExecuteTime": {
     "end_time": "2023-09-26T13:17:30.651316Z",
     "start_time": "2023-09-26T13:17:30.580099Z"
    }
   },
   "outputs": [],
   "source": [
    "# Solution goes here"
   ]
  },
  {
   "cell_type": "markdown",
   "metadata": {},
   "source": [
    "*Modeling and Simulation in Python*\n",
    "\n",
    "Copyright 2021 Allen Downey\n",
    "\n",
    "License: [Creative Commons Attribution-NonCommercial-ShareAlike 4.0 International](https://creativecommons.org/licenses/by-nc-sa/4.0/)"
   ]
  },
  {
   "cell_type": "code",
   "execution_count": 27,
   "metadata": {
    "ExecuteTime": {
     "end_time": "2023-09-26T13:17:30.651477Z",
     "start_time": "2023-09-26T13:17:30.582877Z"
    }
   },
   "outputs": [],
   "source": []
  }
 ],
 "metadata": {
  "celltoolbar": "Tags",
  "kernelspec": {
   "display_name": "Python 3 (ipykernel)",
   "language": "python",
   "name": "python3"
  },
  "language_info": {
   "codemirror_mode": {
    "name": "ipython",
    "version": 3
   },
   "file_extension": ".py",
   "mimetype": "text/x-python",
   "name": "python",
   "nbconvert_exporter": "python",
   "pygments_lexer": "ipython3",
   "version": "3.8.16"
  }
 },
 "nbformat": 4,
 "nbformat_minor": 2
}
