{
  "nbformat": 4,
  "nbformat_minor": 0,
  "metadata": {
    "colab": {
      "name": "TravelingWaveConvection.ipynb",
      "provenance": [],
      "authorship_tag": "ABX9TyMxCMXptwum57XeQ829fBfV",
      "include_colab_link": true
    },
    "kernelspec": {
      "name": "python3",
      "display_name": "Python 3"
    }
  },
  "cells": [
    {
      "cell_type": "markdown",
      "metadata": {
        "id": "view-in-github",
        "colab_type": "text"
      },
      "source": [
        "<a href=\"https://colab.research.google.com/github/brash99/phys441/blob/master/JupyterNotebooks/TravelingWaveConvection.ipynb\" target=\"_parent\"><img src=\"https://colab.research.google.com/assets/colab-badge.svg\" alt=\"Open In Colab\"/></a>"
      ]
    },
    {
      "cell_type": "code",
      "metadata": {
        "id": "j_o0pie1j61U"
      },
      "source": [
        "# Remember: comments in python are denoted by the pound sign\n",
        "import numpy as np                            #here we load numpy\n",
        "from matplotlib import pyplot as plt     #here we load matplotlib\n",
        "import time, sys                         #and load some utilities"
      ],
      "execution_count": null,
      "outputs": []
    },
    {
      "cell_type": "code",
      "metadata": {
        "id": "DsjQi5MfkKHC"
      },
      "source": [
        "#this makes matplotlib plots appear in the notebook (instead of a separate window)\n",
        "%matplotlib inline                  "
      ],
      "execution_count": null,
      "outputs": []
    },
    {
      "cell_type": "code",
      "metadata": {
        "id": "thUmpMTTkPBq"
      },
      "source": [
        "# We define the x-axis to start at x=0.0m and end at x=20.0m.\n",
        "# \n",
        "# We specify the number of steps in x (nx), and the number\n",
        "# of steps in t (nt), and calculate dx and dt based on these choices.\n",
        "\n",
        "xrange = 20.0\n",
        "trange = 12.0\n",
        "nx = 401  # try changing this number from 41 to 81 and Run All ... what happens?\n",
        "dx = xrange / (nx-1)\n",
        "nt = 2001    #nt is the number of timesteps we want to calculate\n",
        "dt = trange/ (nt-1)  #dt is the amount of time each timestep covers (delta t)\n",
        "\n",
        "x = np.linspace(0,xrange,nx)\n",
        "\n",
        "pulseShapeChoice = 1"
      ],
      "execution_count": null,
      "outputs": []
    },
    {
      "cell_type": "code",
      "metadata": {
        "id": "hSC2t4s3kTUw"
      },
      "source": [
        "# Set the wavefunction equal to all ones, initially\n",
        "u = np.ones(nx)      #numpy function ones()\n",
        "\n",
        "if (pulseShapeChoice == 1):\n",
        "  # Test Case 1: Square Pulse\n",
        "  u[int(0.5 / dx):int(1 / dx + 1)] = 2  #setting u = 2 between 0.5 and 1\n",
        "else:\n",
        "  # Test Case 2:  Gaussian Pulse\n",
        "  mu = 0.75\n",
        "  sigma = 0.25\n",
        "  for i in range(len(u)):\n",
        "    u[i]=u[i]+np.exp(-1.0*(x[i]-mu)**2/sigma**2)\n"
      ],
      "execution_count": null,
      "outputs": []
    },
    {
      "cell_type": "code",
      "metadata": {
        "colab": {
          "base_uri": "https://localhost:8080/",
          "height": 282
        },
        "id": "DxUL7BDwkZBg",
        "outputId": "3efc7e72-f130-44e9-ccb1-0af35c9bb40a"
      },
      "source": [
        "plt.plot(x, u)\n",
        "print (\"Integral = \",u.sum()-len(x))"
      ],
      "execution_count": null,
      "outputs": [
        {
          "output_type": "stream",
          "text": [
            "Integral =  11.0\n"
          ],
          "name": "stdout"
        },
        {
          "output_type": "display_data",
          "data": {
            "image/png": "[encoded data removed]",
            "text/plain": [
              "<Figure size 432x288 with 1 Axes>"
            ]
          },
          "metadata": {
            "tags": [],
            "needs_background": "light"
          }
        }
      ]
    },
    {
      "cell_type": "code",
      "metadata": {
        "id": "nvo0TMCMkheZ"
      },
      "source": [
        "#un = np.ones(nx) #initialize a temporary array\n",
        "\n",
        "for n in range(nt):  #loop for values of n from 0 to nt, so it will run nt times\n",
        "    un = u.copy() ##copy the existing values of u into un\n",
        "    for i in range(1, nx): ## you can try commenting this line and...\n",
        "        u[i] = un[i] - un[i] * dt / dx * (un[i] - un[i-1])"
      ],
      "execution_count": null,
      "outputs": []
    },
    {
      "cell_type": "code",
      "metadata": {
        "colab": {
          "base_uri": "https://localhost:8080/",
          "height": 282
        },
        "id": "MQ0dgbPmkjeN",
        "outputId": "170602c2-460b-4050-897b-4a0cea1641f7"
      },
      "source": [
        "plt.plot(x, u)\n",
        "\n",
        "print (\"Integral = \",u.sum()-len(x))"
      ],
      "execution_count": null,
      "outputs": [
        {
          "output_type": "stream",
          "text": [
            "Integral =  7.647490544604011\n"
          ],
          "name": "stdout"
        },
        {
          "output_type": "display_data",
          "data": {
            "image/png": "[encoded data removed]",
            "text/plain": [
              "<Figure size 432x288 with 1 Axes>"
            ]
          },
          "metadata": {
            "tags": [],
            "needs_background": "light"
          }
        }
      ]
    },
    {
      "cell_type": "code",
      "metadata": {
        "colab": {
          "base_uri": "https://localhost:8080/",
          "height": 399
        },
        "id": "Z0xe0waXuN_5",
        "outputId": "1a96eee7-4bb6-46ee-821b-a70d35ac1cca"
      },
      "source": [
        "xrange = 20.0\n",
        "trange = 12\n",
        "nx = 401  # try changing this number from 41 to 81 and Run All ... what happens?\n",
        "dx = xrange / (nx-1)\n",
        "nt = 481    #nt is the number of timesteps we want to calculate\n",
        "dt = trange/ (nt-1)  #dt is the amount of time each timestep covers (delta t)\n",
        "\n",
        "print (dt/dx)\n",
        "\n",
        "u = np.ones(nx)      #numpy function ones()\n",
        "x = np.linspace(0, xrange, nx)\n",
        "\n",
        "if (pulseShapeChoice == 1):\n",
        "  # Test Case 1: Square Pulse\n",
        "  u[int(0.5 / dx):int(1.0 / dx + 1)] = 2  #setting u = 2 between 0.5 and 1\n",
        "else:\n",
        "  # Test Case 2:  Gaussian Pulse\n",
        "  mu = 0.75\n",
        "  sigma = 0.25\n",
        "  for i in range(len(u)):\n",
        "    u[i]=u[i]+np.exp(-1.0*(x[i]-mu)**2/sigma**2)\n",
        "\n",
        "plt.plot(x, u)\n",
        "print (\"Integral = \",u.sum()-len(x))\n",
        "\n",
        "for ntt in range(nt-3,nt+3):\n",
        "  dt = trange/(ntt-1)\n",
        "  u = np.ones(nx)      #numpy function ones()\n",
        "  if (pulseShapeChoice == 1):\n",
        "    u[int(0.5 / dx):int(1.0 / dx + 1)] = 2  #setting u = 2 between 0.5 and 1\n",
        "  else:\n",
        "    for i in range(len(u)):\n",
        "      u[i]=u[i]+np.exp(-1.0*(x[i]-mu)**2/sigma**2)\n",
        "  for n in range(ntt):  #loop for values of n from 0 to nt, so it will run nt times\n",
        "    un = u.copy() ##copy the existing values of u into un\n",
        "    for i in range(1, nx): ## you can try commenting this line and...\n",
        "        u[i] = un[i] - un[i] * dt / dx * (un[i] - un[i-1])\n",
        "  plt.plot(x, u)\n",
        "  print (\"Integral = \",u.sum()-len(x))"
      ],
      "execution_count": null,
      "outputs": [
        {
          "output_type": "stream",
          "text": [
            "0.5\n",
            "Integral =  11.0\n",
            "Integral =  -1.13270077182176\n",
            "Integral =  -0.40476189453278266\n",
            "Integral =  0.21515986197721304\n",
            "Integral =  0.7463906909192701\n",
            "Integral =  1.2037883714579607\n",
            "Integral =  1.5992858279662414\n"
          ],
          "name": "stdout"
        },
        {
          "output_type": "display_data",
          "data": {
            "image/png": "[encoded data removed]",
            "text/plain": [
              "<Figure size 432x288 with 1 Axes>"
            ]
          },
          "metadata": {
            "tags": [],
            "needs_background": "light"
          }
        }
      ]
    },
    {
      "cell_type": "code",
      "metadata": {
        "colab": {
          "base_uri": "https://localhost:8080/",
          "height": 433
        },
        "id": "8iXwFiKXgXJS",
        "outputId": "28f575c7-6820-4e6b-8da0-a6ecef9d5427"
      },
      "source": [
        "for ntt in range(nt-5,nt+5):\n",
        "  dt = trange/(ntt-1)\n",
        "  u = np.ones(nx)      #numpy function ones()\n",
        "  if (pulseShapeChoice == 1):\n",
        "    u[int(0.5 / dx):int(1 / dx + 1)] = 2  #setting u = 2 between 0.5 and 1\n",
        "  else:\n",
        "    for i in range(len(u)):\n",
        "      u[i]=u[i]+np.exp(-1.0*(x[i]-mu)**2/sigma**2)\n",
        "  for n in range(ntt):  #loop for values of n from 0 to nt, so it will run nt times\n",
        "    un = u.copy() ##copy the existing values of u into un\n",
        "    for i in range(1, nx): ## you can try commenting this line and...\n",
        "        u[i] = un[i] - un[i] * dt / dx * (un[i] - un[i-1])\n",
        "  plt.plot(x, u)\n",
        "  print (\"Integral = \",u.sum()-len(x))"
      ],
      "execution_count": null,
      "outputs": [
        {
          "output_type": "stream",
          "text": [
            "Integral =  -3.0297607253964998\n",
            "Integral =  -1.9951281757558377\n",
            "Integral =  -1.13270077182176\n",
            "Integral =  -0.40476189453278266\n",
            "Integral =  0.21515986197721304\n",
            "Integral =  0.7463906909192701\n",
            "Integral =  1.2037883714579607\n",
            "Integral =  1.5992858279662414\n",
            "Integral =  1.9427137234046654\n",
            "Integral =  2.2422524682868357\n"
          ],
          "name": "stdout"
        },
        {
          "output_type": "display_data",
          "data": {
            "image/png": "[encoded data removed]",
            "text/plain": [
              "<Figure size 432x288 with 1 Axes>"
            ]
          },
          "metadata": {
            "tags": [],
            "needs_background": "light"
          }
        }
      ]
    },
    {
      "cell_type": "code",
      "metadata": {
        "id": "e3jFHnvZb2e6"
      },
      "source": [
        ""
      ],
      "execution_count": null,
      "outputs": []
    },
    {
      "cell_type": "code",
      "metadata": {
        "id": "V8261kZ96I6b"
      },
      "source": [
        ""
      ],
      "execution_count": null,
      "outputs": []
    }
  ]
}