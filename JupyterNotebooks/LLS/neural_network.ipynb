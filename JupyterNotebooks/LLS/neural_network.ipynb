{
 "cells": [
  {
   "cell_type": "code",
   "execution_count": 100,
   "id": "initial_id",
   "metadata": {
    "collapsed": true,
    "ExecuteTime": {
     "end_time": "2023-10-30T22:34:32.030679Z",
     "start_time": "2023-10-30T22:34:32.022046Z"
    }
   },
   "outputs": [],
   "source": [
    "import numpy as np\n",
    "import pandas as pd\n",
    "import matplotlib.pyplot as plt\n",
    "import statsmodels.formula.api as smf"
   ]
  },
  {
   "cell_type": "code",
   "execution_count": 101,
   "outputs": [],
   "source": [
    "# generate the data set\n",
    "\n",
    "# number of data points\n",
    "n = 10000\n",
    "\n",
    "x = np.zeros(n)\n",
    "y = np.zeros(n)\n",
    "v = np.zeros(n)\n",
    "result = np.zeros(n)\n",
    "\n",
    "for i in range(n):\n",
    "    x[i] = np.random.randint(0, 2)\n",
    "    y[i] = np.random.randint(0, 2)\n",
    "    v[i] = np.random.randint(0, 2)\n",
    "    z = x[i] + y[i]\n",
    "    if z == 0:\n",
    "        if v[i] == 0:\n",
    "            result[i] = 1\n",
    "        else:\n",
    "            result[i] = 0\n",
    "    elif z == 1:\n",
    "        result[i] = 0\n",
    "    elif z == 2:\n",
    "        result[i] = 1\n",
    "    else:\n",
    "        print('error')\n",
    "        \n",
    "    #print (i, x[i], y[i], v[i], result[i])"
   ],
   "metadata": {
    "collapsed": false,
    "ExecuteTime": {
     "end_time": "2023-10-30T22:34:32.514073Z",
     "start_time": "2023-10-30T22:34:32.382736Z"
    }
   },
   "id": "ee0f94f41784cf5"
  },
  {
   "cell_type": "code",
   "execution_count": 102,
   "outputs": [],
   "source": [
    "df = pd.DataFrame(columns = ['x', 'y', 'v', 'result'])"
   ],
   "metadata": {
    "collapsed": false,
    "ExecuteTime": {
     "end_time": "2023-10-30T22:34:32.948085Z",
     "start_time": "2023-10-30T22:34:32.939714Z"
    }
   },
   "id": "64e871ac711ebcc6"
  },
  {
   "cell_type": "code",
   "execution_count": 103,
   "outputs": [
    {
     "data": {
      "text/plain": "     x    y    v  result\n0  0.0  1.0  1.0     0.0\n1  0.0  0.0  0.0     1.0\n2  1.0  1.0  0.0     1.0\n3  0.0  1.0  1.0     0.0\n4  0.0  0.0  1.0     0.0",
      "text/html": "<div>\n<style scoped>\n    .dataframe tbody tr th:only-of-type {\n        vertical-align: middle;\n    }\n\n    .dataframe tbody tr th {\n        vertical-align: top;\n    }\n\n    .dataframe thead th {\n        text-align: right;\n    }\n</style>\n<table border=\"1\" class=\"dataframe\">\n  <thead>\n    <tr style=\"text-align: right;\">\n      <th></th>\n      <th>x</th>\n      <th>y</th>\n      <th>v</th>\n      <th>result</th>\n    </tr>\n  </thead>\n  <tbody>\n    <tr>\n      <th>0</th>\n      <td>0.0</td>\n      <td>1.0</td>\n      <td>1.0</td>\n      <td>0.0</td>\n    </tr>\n    <tr>\n      <th>1</th>\n      <td>0.0</td>\n      <td>0.0</td>\n      <td>0.0</td>\n      <td>1.0</td>\n    </tr>\n    <tr>\n      <th>2</th>\n      <td>1.0</td>\n      <td>1.0</td>\n      <td>0.0</td>\n      <td>1.0</td>\n    </tr>\n    <tr>\n      <th>3</th>\n      <td>0.0</td>\n      <td>1.0</td>\n      <td>1.0</td>\n      <td>0.0</td>\n    </tr>\n    <tr>\n      <th>4</th>\n      <td>0.0</td>\n      <td>0.0</td>\n      <td>1.0</td>\n      <td>0.0</td>\n    </tr>\n  </tbody>\n</table>\n</div>"
     },
     "execution_count": 103,
     "metadata": {},
     "output_type": "execute_result"
    }
   ],
   "source": [
    "df['x'] = x\n",
    "df['y'] = y\n",
    "df['v'] = v\n",
    "df['result'] = result\n",
    "df.head()"
   ],
   "metadata": {
    "collapsed": false,
    "ExecuteTime": {
     "end_time": "2023-10-30T22:34:33.468989Z",
     "start_time": "2023-10-30T22:34:33.457567Z"
    }
   },
   "id": "724ffadf294e0ad2"
  },
  {
   "cell_type": "code",
   "execution_count": 104,
   "outputs": [
    {
     "name": "stdout",
     "output_type": "stream",
     "text": [
      "     x    y    v  result  Results_pred  Results_Residual\n",
      "0  0.0  1.0  1.0     0.0     -0.122084          0.122084\n",
      "1  0.0  0.0  0.0     1.0      0.873156          0.126844\n",
      "2  1.0  1.0  0.0     1.0      0.878202          0.121798\n",
      "3  0.0  1.0  1.0     0.0     -0.122084          0.122084\n",
      "4  0.0  0.0  1.0     0.0      0.121988         -0.121988\n",
      "                            OLS Regression Results                            \n",
      "==============================================================================\n",
      "Dep. Variable:                 result   R-squared:                       0.933\n",
      "Model:                            OLS   Adj. R-squared:                  0.933\n",
      "Method:                 Least Squares   F-statistic:                 2.333e+04\n",
      "Date:                Mon, 30 Oct 2023   Prob (F-statistic):               0.00\n",
      "Time:                        18:34:34   Log-Likelihood:                 6608.4\n",
      "No. Observations:               10000   AIC:                        -1.320e+04\n",
      "Df Residuals:                    9993   BIC:                        -1.315e+04\n",
      "Df Model:                           6                                         \n",
      "Covariance Type:            nonrobust                                         \n",
      "==============================================================================\n",
      "                 coef    std err          t      P>|t|      [0.025      0.975]\n",
      "------------------------------------------------------------------------------\n",
      "Intercept      0.8732      0.003    262.276      0.000       0.867       0.880\n",
      "x             -0.7505      0.004   -173.374      0.000      -0.759      -0.742\n",
      "y             -0.7465      0.004   -171.551      0.000      -0.755      -0.738\n",
      "v             -0.7512      0.004   -173.685      0.000      -0.760      -0.743\n",
      "x:y            1.5021      0.005    300.309      0.000       1.492       1.512\n",
      "x:v            0.4969      0.005     99.337      0.000       0.487       0.507\n",
      "y:v            0.5024      0.005    100.455      0.000       0.493       0.512\n",
      "==============================================================================\n",
      "Omnibus:                    34452.469   Durbin-Watson:                   1.994\n",
      "Prob(Omnibus):                  0.000   Jarque-Bera (JB):             1662.271\n",
      "Skew:                           0.010   Prob(JB):                         0.00\n",
      "Kurtosis:                       1.003   Cond. No.                         9.29\n",
      "==============================================================================\n",
      "\n",
      "Notes:\n",
      "[1] Standard Errors assume that the covariance matrix of the errors is correctly specified.\n"
     ]
    }
   ],
   "source": [
    "# Fit a linear regression model to a single parameter - Sales vs. TV advertising costs\n",
    "model = smf.ols('result ~ x + y + v + x*y + x*v + y*v', data=df)\n",
    "model = model.fit()\n",
    "\n",
    "# View model summary\n",
    "# print(model.summary())\n",
    "\n",
    "# Predict values\n",
    "results_pred = model.predict()\n",
    "\n",
    "# Add this prediction to the DataFrame\n",
    "df['Results_pred'] = results_pred\n",
    "# Add the DIFFERENCE between Sales data and prediction to the DataFrame\n",
    "df['Results_Residual'] = df['result'] - results_pred\n",
    "print(df.head())\n",
    "\n",
    "print(model.summary())"
   ],
   "metadata": {
    "collapsed": false,
    "ExecuteTime": {
     "end_time": "2023-10-30T22:34:34.055925Z",
     "start_time": "2023-10-30T22:34:34.026205Z"
    }
   },
   "id": "883f0d3b2a51e372"
  },
  {
   "cell_type": "code",
   "execution_count": 99,
   "outputs": [
    {
     "name": "stdout",
     "output_type": "stream",
     "text": [
      "   x  y  v  result  Results_pred  Results_Residual\n",
      "0  1  1  1       1           1.0               0.0\n",
      "1  1  1  0       1           1.0               0.0\n",
      "2  1  0  0       0           0.0               0.0\n",
      "3  1  0  1       0          -0.0               0.0\n",
      "4  0  1  0       0           0.0               0.0\n",
      "5  0  1  1       0          -0.0               0.0\n",
      "6  0  0  1       0           0.0               0.0\n",
      "7  0  0  0       1           1.0               0.0\n"
     ]
    }
   ],
   "source": [
    "xt = np.array([1, 1, 1, 1, 0, 0, 0, 0])\n",
    "yt = np.array([1, 1, 0, 0, 1, 1, 0, 0])\n",
    "vt = np.array([1, 0, 0, 1, 0, 1, 1, 0])\n",
    "resultt = np.array([1, 1, 0, 0, 0, 0, 0, 1])\n",
    "\n",
    "dft = pd.DataFrame(columns = ['x', 'y', 'v', 'result'])\n",
    "dft['x'] = xt\n",
    "dft['y'] = yt\n",
    "dft['v'] = vt\n",
    "dft['result'] = resultt\n",
    "\n",
    "results_predt = model.predict(dft)\n",
    "dft['Results_pred'] = np.round(results_predt)\n",
    "dft['Results_Residual'] = dft['result'] -  np.round(results_predt)\n",
    "print(dft.head(8))\n"
   ],
   "metadata": {
    "collapsed": false,
    "ExecuteTime": {
     "end_time": "2023-10-30T22:34:30.109971Z",
     "start_time": "2023-10-30T22:34:30.068243Z"
    }
   },
   "id": "7b95b5c90984b00"
  },
  {
   "cell_type": "markdown",
   "source": [],
   "metadata": {
    "collapsed": false
   },
   "id": "386720e9b9020f76"
  },
  {
   "cell_type": "code",
   "execution_count": 99,
   "outputs": [],
   "source": [],
   "metadata": {
    "collapsed": false,
    "ExecuteTime": {
     "end_time": "2023-10-30T22:34:30.110240Z",
     "start_time": "2023-10-30T22:34:30.073298Z"
    }
   },
   "id": "e09a417ab48bab7d"
  },
  {
   "cell_type": "code",
   "execution_count": 99,
   "outputs": [],
   "source": [],
   "metadata": {
    "collapsed": false,
    "ExecuteTime": {
     "end_time": "2023-10-30T22:34:30.110439Z",
     "start_time": "2023-10-30T22:34:30.076910Z"
    }
   },
   "id": "4c1761556653e2d0"
  }
 ],
 "metadata": {
  "kernelspec": {
   "display_name": "Python 3",
   "language": "python",
   "name": "python3"
  },
  "language_info": {
   "codemirror_mode": {
    "name": "ipython",
    "version": 2
   },
   "file_extension": ".py",
   "mimetype": "text/x-python",
   "name": "python",
   "nbconvert_exporter": "python",
   "pygments_lexer": "ipython2",
   "version": "2.7.6"
  }
 },
 "nbformat": 4,
 "nbformat_minor": 5
}
