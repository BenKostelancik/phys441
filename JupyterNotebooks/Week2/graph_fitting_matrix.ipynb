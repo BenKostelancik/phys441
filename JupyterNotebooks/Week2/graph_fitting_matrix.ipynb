{
 "cells": [
  {
   "cell_type": "code",
   "execution_count": 1,
   "metadata": {
    "ExecuteTime": {
     "end_time": "2023-08-27T14:26:45.715545Z",
     "start_time": "2023-08-27T14:26:45.625876Z"
    }
   },
   "outputs": [],
   "source": [
    "import numpy as np"
   ]
  },
  {
   "cell_type": "markdown",
   "source": [
    "# Curve Fitting - A Linear Algebra Approach\n",
    "\n",
    "Consider the problem of fitting a polynomial of order $m$ to a set of $n$ data points $(x_i,y_i)$ where $i=1,2,...,n$.  The polynomial is given by\n",
    "\n",
    "$$ y = p_0 + p_1 x + p_2 x^2 + ... + p_m x^m $$\n",
    "\n",
    "The problem is to determine the coefficients $p_0,p_1,...,p_m$ that best fit the data.  This is a problem that arises in many areas of science and engineering.  For example, in physics, we often have a theoretical model that predicts the value of some quantity $y$ as a function of some other quantity $x$.  The model may be very complicated, but we may be able to approximate it by a polynomial of order $m$.  The coefficients of the polynomial can then be determined by fitting the polynomial to a set of data points $(x_i,y_i)$ that we have measured experimentally.  The coefficients of the polynomial can then be used to predict the value of $y$ for any value of $x$.\n",
    "\n",
    "The problem of fitting a polynomial to a set of data points can be solved using linear algebra.  The first step is to write down a set of $m+1$ linear equations in the $m+1$ unknowns $p_0,p_1,...,p_m$.  The equations are obtained by substituting the $x$ and $y$ values of the data points into the polynomial equation.  For example, if we have three data points $(x_1,y_1)$, $(x_2,y_2)$, and $(x_3,y_3)$, then we have the following three equations:\n",
    "\n",
    "$$ y_1 = p_0 + p_1 x_1 + p_2 x_1^2 + ... + p_m x_1^m $$\n",
    "$$ y_2 = p_0 + p_1 x_2 + p_2 x_2^2 + ... + p_m x_2^m $$\n",
    "$$ y_3 = p_0 + p_1 x_3 + p_2 x_3^2 + ... + p_m x_3^m $$\n"
   ],
   "metadata": {
    "collapsed": false
   }
  },
  {
   "cell_type": "markdown",
   "source": [
    "We define the $\\chi^2$ function as\n",
    "\n",
    "$$ \\chi^2 = \\sum_{i=1}^n \\left( \\frac{y_i - p_0 - p_1 x_i - p_2 x_i^2 - ... - p_m x_i^m}{\\sigma_i} \\right)^2 $$\n",
    "\n",
    "where $\\sigma_i$ is the uncertainty in the $y$ value of the $i$th data point.  The $\\chi^2$ function is a measure of the goodness of fit of the polynomial to the data.  The best fit is obtained by minimizing $\\chi^2$ with respect to the coefficients $p_0,p_1,...,p_m$.  This is done by setting the derivatives of $\\chi^2$ with respect to the coefficients equal to zero.  This gives a set of $m+1$ linear equations in the $m+1$ unknowns $p_0,p_1,...,p_m$.  The equations are given by\n",
    "\n",
    "$$ \\sum_{i=1}^n \\left( \\frac{1}{\\sigma_i^2} \\right) p_0 + \\sum_{i=1}^n \\left( \\frac{x_i}{\\sigma_i^2} \\right) p_1 + \\sum_{i=1}^n \\left( \\frac{x_i^2}{\\sigma_i^2} \\right) p_2 + ... + \\sum_{i=1}^n \\left( \\frac{x_i^m}{\\sigma_i^2} \\right) p_m = \\sum_{i=1}^n \\left( \\frac{y_i}{\\sigma_i^2} \\right) $$\n",
    "\n",
    "We can write this a matrix equation of the form\n",
    "\n",
    "$$ A \\vec{p} = \\vec{v} $$\n",
    "\n",
    "The matrix $A$ is an $m+1$ by $m+1$ matrix given by\n",
    "\n",
    "$$ A = \\begin{bmatrix}\n",
    "\\sum_{i=1}^n \\left( \\frac{1}{\\sigma_i^2} \\right) & \\sum_{i=1}^n \\left( \\frac{x_i}{\\sigma_i^2} \\right) & \\sum_{i=1}^n \\left( \\frac{x_i^2}{\\sigma_i^2} \\right) & ... & \\sum_{i=1}^n \\left( \\frac{x_i^m}{\\sigma_i^2} \\right) \\\\    \n",
    "\\sum_{i=1}^n \\left( \\frac{x_i}{\\sigma_i^2} \\right) & \\sum_{i=1}^n \\left( \\frac{x_i^2}{\\sigma_i^2} \\right) & \\sum_{i=1}^n \\left( \\frac{x_i^3}{\\sigma_i^2} \\right) & ... & \\sum_{i=1}^n \\left( \\frac{x_i^{m+1}}{\\sigma_i^2} \\right) \\\\\n",
    "\\sum_{i=1}^n \\left( \\frac{x_i^2}{\\sigma_i^2} \\right) & \\sum_{i=1}^n \\left( \\frac{x_i^3}{\\sigma_i^2} \\right) & \\sum_{i=1}^n \\left( \\frac{x_i^4}{\\sigma_i^2} \\right) & ... & \\sum_{i=1}^n \\left( \\frac{x_i^{m+2}}{\\sigma_i^2} \\right) \\\\\n",
    "\\vdots & \\vdots & \\vdots & \\ddots & \\vdots \\\\\n",
    "\\sum_{i=1}^n \\left( \\frac{x_i^m}{\\sigma_i^2} \\right) & \\sum_{i=1}^n \\left( \\frac{x_i^{m+1}}{\\sigma_i^2} \\right) & \\sum_{i=1}^n \\left( \\frac{x_i^{m+2}}{\\sigma_i^2} \\right) & ... & \\sum_{i=1}^n \\left( \\frac{x_i^{2m}}{\\sigma_i^2} \\right) \\\\\n",
    "\\end{bmatrix} $$\n",
    "\n",
    "and the matrix $\\vec{v}$ is an $m+1$ by $1$ matrix given by\n",
    "\n",
    "$$ \\vec{v} = \\begin{bmatrix}\n",
    "\\sum_{i=1}^n \\left( \\frac{y_i}{\\sigma_i^2} \\right) \\\\\n",
    "\\sum_{i=1}^n \\left( \\frac{x_i y_i}{\\sigma_i^2} \\right) \\\\\n",
    "\\sum_{i=1}^n \\left( \\frac{x_i^2 y_i}{\\sigma_i^2} \\right) \\\\\n",
    "\\vdots \\\\\n",
    "\\sum_{i=1}^n \\left( \\frac{x_i^m y_i}{\\sigma_i^2} \\right) \\\\\n",
    "\\end{bmatrix} $$\n",
    "\n",
    "\n",
    "\n"
   ],
   "metadata": {
    "collapsed": false
   }
  },
  {
   "cell_type": "markdown",
   "source": [
    "It is important to note that the matrices $A$ and $\\vec{v}$ depend $ONLY$ on the $x$ and $y$ values of the data points and the uncertainties $\\sigma_i$ in the $y$ values.\n",
    "\n",
    "The solution to the matrix equation $A \\vec{p} = \\vec{v}$ is given by\n",
    "\n",
    "$$ \\vec{p} = A^{-1} \\vec{v} $$\n",
    "\n",
    "where $A^{-1}$ is the inverse of the matrix $A$."
   ],
   "metadata": {
    "collapsed": false
   }
  },
  {
   "cell_type": "markdown",
   "source": [
    "The uncertainties in the fit parameters $p_0,p_1,...,p_m$ are given by the square root of the diagonal elements of the covariance matrix $C$ given by\n",
    "\n",
    "$$ C = \\left( A^T A \\right)^{-1} $$\n",
    "\n",
    "where $A^T$ is the transpose of the matrix $A$.\n",
    "\n",
    "The correlation coefficients between the fit parameters $p_i$ and $p_j$ are given by\n",
    "\n",
    "$$ \\rho_{ij} = \\frac{C_{ij}}{\\sqrt{C_{ii} C_{jj}}} $$\n",
    "\n",
    "where $C_{ij}$ is the element of the covariance matrix $C$ in the $i$th row and $j$th column."
   ],
   "metadata": {
    "collapsed": false
   }
  },
  {
   "cell_type": "code",
   "execution_count": 2,
   "metadata": {
    "ExecuteTime": {
     "end_time": "2023-08-27T14:26:45.730372Z",
     "start_time": "2023-08-27T14:26:45.717457Z"
    }
   },
   "outputs": [],
   "source": [
    "def generator_function(x,par):\n",
    "    return par[0]+par[1]*x+par[2]*x*x+par[3]*x*x*x\n",
    "\n",
    "def fitfunction(x,*paramlist):\n",
    "    return paramlist[0]+paramlist[1]*x+paramlist[2]*x*x+paramlist[3]*x*x*x\n",
    "\n",
    "par = []\n",
    "par.append(1.80)\n",
    "par.append(-4.05)\n",
    "par.append(0.40)\n",
    "par.append(1.0000)\n",
    "par = np.array(par)"
   ]
  },
  {
   "cell_type": "code",
   "execution_count": 3,
   "metadata": {
    "ExecuteTime": {
     "end_time": "2023-08-27T14:26:45.730622Z",
     "start_time": "2023-08-27T14:26:45.724625Z"
    }
   },
   "outputs": [],
   "source": [
    "m = 3 #Set the order of the polynomial\n",
    "n = 15 #Set the number of data points\n",
    "walk = [-2,2,-1,1,0,-2,2,-1,1,0,-2,2,-1,1,0]\n",
    "walk = np.array(walk)\n",
    "sigma = [0.0 for x in range(0,n)]\n",
    "sigma = np.array(sigma)"
   ]
  },
  {
   "cell_type": "code",
   "execution_count": 4,
   "metadata": {
    "ExecuteTime": {
     "end_time": "2023-08-27T14:26:45.740561Z",
     "start_time": "2023-08-27T14:26:45.730228Z"
    }
   },
   "outputs": [],
   "source": [
    "x = []\n",
    "y = []"
   ]
  },
  {
   "cell_type": "code",
   "execution_count": 5,
   "metadata": {
    "ExecuteTime": {
     "end_time": "2023-08-27T14:26:45.759316Z",
     "start_time": "2023-08-27T14:26:45.739607Z"
    }
   },
   "outputs": [],
   "source": [
    "for i in range(0,n):\n",
    "    x.append(-4.0+8.0*i/n)\n",
    "    y.append(generator_function(x[i],par)+walk[i])\n",
    "    #sigma[i]=np.abs(0.1*y[i])\n",
    "    sigma[i]=np.abs(10.0)\n",
    "x = np.array(x)\n",
    "y = np.array(y)"
   ]
  },
  {
   "cell_type": "code",
   "execution_count": 6,
   "metadata": {
    "ExecuteTime": {
     "end_time": "2023-08-27T14:26:45.759500Z",
     "start_time": "2023-08-27T14:26:45.744687Z"
    }
   },
   "outputs": [],
   "source": [
    "m_params = m + 1\n",
    "a = np.zeros(shape = (m_params,m_params))\n",
    "v = np.zeros(shape = (m_params,1))"
   ]
  },
  {
   "cell_type": "code",
   "execution_count": 7,
   "metadata": {
    "ExecuteTime": {
     "end_time": "2023-08-27T14:26:45.759859Z",
     "start_time": "2023-08-27T14:26:45.754016Z"
    }
   },
   "outputs": [
    {
     "name": "stdout",
     "output_type": "stream",
     "text": [
      "[[ 1.50000000e-01 -4.00000000e-02  8.07111111e-01 -6.40000000e-01]\n",
      " [-4.00000000e-02  8.07111111e-01 -6.40000000e-01  7.90715101e+00]\n",
      " [ 8.07111111e-01 -6.40000000e-01  7.90715101e+00 -1.02400000e+01]\n",
      " [-6.40000000e-01  7.90715101e+00 -1.02400000e+01  9.32004806e+01]]\n",
      "[[ 0.11484444]\n",
      " [ 4.35835101]\n",
      " [-3.10060626]\n",
      " [56.72382571]]\n",
      "Diagonal Check:\n",
      "[[ 1.00000000e+00  5.03609150e-19  8.90598535e-18  1.45325397e-17]\n",
      " [ 3.08630730e-16  1.00000000e+00 -4.45363680e-17 -1.52357771e-16]\n",
      " [-1.01235860e-15 -6.78677013e-16  1.00000000e+00  5.03321805e-17]\n",
      " [ 4.86633972e-15  5.20170500e-15  2.35568624e-16  1.00000000e+00]]\n",
      "Coefficients:\n",
      "[[ 1.82678571]\n",
      " [-4.20430571]\n",
      " [ 0.40511322]\n",
      " [ 1.02237035]]\n"
     ]
    }
   ],
   "source": [
    "for k in range(0,m_params):\n",
    "    for i in range(0,n):\n",
    "        v[k][0]=v[k][0]+y[i]*np.power(x[i],k)/(sigma[i]**2)\n",
    "    #print (\"v[%d] = %f\" % (k,v[k][0]))\n",
    "    for j in range(0,m_params):\n",
    "        for i in range(0,n):\n",
    "            a[k][j]=a[k][j]+np.power(x[i],k+j)/(sigma[i]**2)\n",
    "        #print (\"a[%d][%d] = %f\" %(k,j,a[k][j]))\n",
    "        \n",
    "print (a)\n",
    "print (v)\n",
    "\n",
    "ainv = np.linalg.inv(a)\n",
    "u1 = np.dot(a,ainv)\n",
    "\n",
    "#print (a)\n",
    "#print (ainv)\n",
    "print (\"Diagonal Check:\")\n",
    "print (u1)\n",
    "coeff = ainv*np.matrix(v)\n",
    "print (\"Coefficients:\")\n",
    "print (coeff)\n",
    "        "
   ]
  },
  {
   "cell_type": "code",
   "execution_count": 8,
   "metadata": {
    "ExecuteTime": {
     "end_time": "2023-08-27T14:26:45.777097Z",
     "start_time": "2023-08-27T14:26:45.764155Z"
    }
   },
   "outputs": [
    {
     "name": "stdout",
     "output_type": "stream",
     "text": [
      "i = 0  y = -41.600000  yfit = -40.305882\n",
      "i = 1  y = -19.014519  yfit = -21.323342\n",
      "i = 2  y = -9.117926  yfit = -8.159135\n",
      "i = 3  y = 1.000000  yfit = 0.117324\n",
      "i = 4  y = 4.249481  yfit = 4.436618\n",
      "i = 5  y = 3.540741  yfit = 5.729332\n",
      "i = 6  y = 6.784000  yfit = 4.926049\n",
      "i = 7  y = 1.889481  yfit = 2.957355\n",
      "i = 8  y = 1.767407  yfit = 0.753833\n",
      "i = 9  y = -0.672000  yfit = -0.753933\n",
      "i = 10  y = -2.518519  yfit = -0.635358\n",
      "i = 11  y = 4.138074  yfit = 2.040143\n",
      "i = 12  y = 7.208000  yfit = 8.203152\n",
      "i = 13  y = 19.601481  yfit = 18.784255\n",
      "i = 14  y = 34.228741  yfit = 34.714035\n",
      "chi2/dof = 0.289964 / 11.000000\n"
     ]
    }
   ],
   "source": [
    "yfit = 0\n",
    "chi2 = 0\n",
    "for j in range(0,n):\n",
    "    for k in range(0,m+1):\n",
    "        yfit = yfit + coeff[k]*np.power(x[j],k)\n",
    "    print (\"i = %d  y = %f  yfit = %f\" % (j,y[j],yfit))\n",
    "    chi2 = chi2 + np.power((yfit-y[j])/sigma[i],2)\n",
    "    yfit = 0\n",
    "    \n",
    "chi2perdof = chi2/(n-m-1)\n",
    "print (\"chi2/dof = %f / %f\" % (chi2,(n-m-1)))"
   ]
  },
  {
   "cell_type": "markdown",
   "source": [],
   "metadata": {
    "collapsed": false
   }
  },
  {
   "cell_type": "code",
   "execution_count": 9,
   "metadata": {
    "ExecuteTime": {
     "end_time": "2023-08-27T14:26:45.777417Z",
     "start_time": "2023-08-27T14:26:45.769169Z"
    }
   },
   "outputs": [
    {
     "name": "stdout",
     "output_type": "stream",
     "text": [
      "k = 0, err = 0.638326\n",
      "k = 1, err = 0.455858\n",
      "k = 2, err = 0.095799\n",
      "k = 3, err = 0.044716\n"
     ]
    }
   ],
   "source": [
    "for k in range(0,m+1):\n",
    "    print(\"k = %d, err = %f\" % (k,np.power(ainv[k][k]*chi2perdof,0.5)))"
   ]
  },
  {
   "cell_type": "code",
   "execution_count": 9,
   "metadata": {
    "ExecuteTime": {
     "end_time": "2023-08-27T14:26:45.783632Z",
     "start_time": "2023-08-27T14:26:45.776207Z"
    }
   },
   "outputs": [],
   "source": []
  },
  {
   "cell_type": "code",
   "execution_count": 10,
   "metadata": {
    "ExecuteTime": {
     "end_time": "2023-08-27T14:26:46.957164Z",
     "start_time": "2023-08-27T14:26:45.787006Z"
    }
   },
   "outputs": [
    {
     "name": "stdout",
     "output_type": "stream",
     "text": [
      "[ 1.8267857  -4.20430571  0.40511322  1.02237035] [[ 0.40746013  0.03345514 -0.04539429 -0.00502785]\n",
      " [ 0.03345514  0.20780617 -0.01064396 -0.01857005]\n",
      " [-0.04539429 -0.01064396  0.00917737  0.00159964]\n",
      " [-0.00502785 -0.01857005  0.00159964  0.00199955]]\n",
      "Coefficients (from curve_fit)\n",
      "[ 1.8267857  -4.20430571  0.40511322  1.02237035]\n",
      "Covariance Matrix (from curve_fit)\n",
      "[[ 0.40746013  0.03345514 -0.04539429 -0.00502785]\n",
      " [ 0.03345514  0.20780617 -0.01064396 -0.01857005]\n",
      " [-0.04539429 -0.01064396  0.00917737  0.00159964]\n",
      " [-0.00502785 -0.01857005  0.00159964  0.00199955]]\n",
      "Chi^2 / dof = 2.900E-01 / 11\n",
      "Fit Parameter 0: 1.827E+00 +/- 6.383E-01\n",
      "0 1 1.150E-01\n",
      "0 2 -7.423E-01\n",
      "0 3 -1.761E-01\n",
      "Fit Parameter 1: -4.204E+00 +/- 4.559E-01\n",
      "1 2 -2.437E-01\n",
      "1 3 -9.110E-01\n",
      "Fit Parameter 2: 4.051E-01 +/- 9.580E-02\n",
      "2 3 3.734E-01\n",
      "Fit Parameter 3: 1.022E+00 +/- 4.472E-02\n"
     ]
    },
    {
     "data": {
      "text/plain": "<Figure size 1100x800 with 1 Axes>",
      "image/png": "[encoded data removed]"
     },
     "metadata": {},
     "output_type": "display_data"
    }
   ],
   "source": [
    "import matplotlib.pyplot as plt\n",
    "from scipy.optimize import curve_fit\n",
    "\n",
    "fig = plt.figure(figsize=(11,8))\n",
    "ax1 = fig.add_subplot(111)\n",
    "\n",
    "ax1.set_title(\"Polynomial Fit\")\n",
    "ax1.set_xlabel('X')\n",
    "ax1.set_ylabel('Y')\n",
    "ax1.set_yscale(\"linear\")\n",
    "ax1.grid(True)\n",
    "\n",
    "ax1.errorbar(x,y,yerr=sigma,fmt='o')\n",
    "\n",
    "init_vals = [0.0 for x in range(0,m_params)]\n",
    "popt, pcov = curve_fit(fitfunction,x,y,sigma=sigma,absolute_sigma=False,p0=init_vals)\n",
    "\n",
    "print (popt,pcov)\n",
    "\n",
    "xi = np.linspace(np.min(x),np.max(x),100)\n",
    "ps = np.random.multivariate_normal(popt,pcov,10000)\n",
    "ysample=np.asarray([fitfunction(xi,*pi) for pi in ps])\n",
    "lower = np.percentile(ysample,16.0,axis=0)\n",
    "upper = np.percentile(ysample,84.0,axis=0)\n",
    "\n",
    "print(\"Coefficients (from curve_fit)\")\n",
    "print (popt)\n",
    "print(\"Covariance Matrix (from curve_fit)\")\n",
    "print (pcov)\n",
    "\n",
    "yfit = []\n",
    "chi2=0\n",
    "for i in range (0,n):\n",
    "    yfit.append(fitfunction(x[i],*popt))\n",
    "    #chi2 += (y[i]-yfit[i])*(y[i]-yfit[i])\n",
    "    chi2 += (y[i]-yfit[i])*(y[i]-yfit[i])/(sigma[i]*sigma[i])\n",
    "\n",
    "print (\"Chi^2 / dof = %.3E / %d\" % (chi2,n-len(init_vals)))\n",
    "\n",
    "param = []\n",
    "rhom = []\n",
    "param.append(float(chi2))\n",
    "param.append(n-len(init_vals))\n",
    "for ii in range(0,len(init_vals)):\n",
    "    param.append(float(popt[ii]))\n",
    "    param.append(float(np.sqrt(pcov[ii][ii])))\n",
    "    print(\"Fit Parameter %d: %.3E +/- %.3E\" % (ii,popt[ii],np.sqrt(pcov[ii][ii])))\n",
    "    for jj in range(0,len(init_vals)):\n",
    "        rhom.append(float(pcov[ii][jj])/np.power(float(pcov[ii][ii]*pcov[jj][jj]),0.5))\n",
    "        if jj > ii:\n",
    "            print(\"%d %d %.3E\" % (ii,jj,rhom[ii*len(init_vals)+jj]))\n",
    "\n",
    "mylabel = \"Chi^2/dof = %.3E / %d\\n\"\n",
    "for i in range(0,len(init_vals)):\n",
    "    code = \"p\" + str(i)\n",
    "    mylabel = mylabel + code + \" = %.3E +/- %.3E\\n\"\n",
    "\n",
    "ax1.plot(xi, fitfunction(xi, *popt), 'r--', label = mylabel % tuple(param))\n",
    "ax1.plot(xi,lower,'b--')\n",
    "ax1.plot(xi,upper,'b--')\n",
    "\n",
    "leg = ax1.legend()\n",
    "plt.show()"
   ]
  },
  {
   "cell_type": "code",
   "execution_count": 11,
   "metadata": {
    "ExecuteTime": {
     "end_time": "2023-08-27T14:26:46.965890Z",
     "start_time": "2023-08-27T14:26:46.959322Z"
    }
   },
   "outputs": [
    {
     "name": "stdout",
     "output_type": "stream",
     "text": [
      "Linear algebra fit:\n",
      "chi2/dof = 0.289964 / 11.000000\n",
      "p0 = 1.827e+00 +/- 6.383e-01\n",
      "p1 = -4.204e+00 +/- 4.559e-01\n",
      "p2 = 4.051e-01 +/- 9.580e-02\n",
      "p3 = 1.022e+00 +/- 4.472e-02\n"
     ]
    }
   ],
   "source": [
    "print(\"Linear algebra fit:\")\n",
    "print (\"chi2/dof = %f / %f\" % (chi2,(n-m-1)))\n",
    "for k in range(0,m+1):\n",
    "    print(\"p%d = %.3e +/- %.3e\" % (k,coeff[k],np.power(ainv[k][k]*chi2perdof,0.5)))"
   ]
  },
  {
   "cell_type": "code",
   "execution_count": 11,
   "outputs": [],
   "source": [],
   "metadata": {
    "collapsed": false,
    "ExecuteTime": {
     "end_time": "2023-08-27T14:26:46.974515Z",
     "start_time": "2023-08-27T14:26:46.965094Z"
    }
   }
  }
 ],
 "metadata": {
  "kernelspec": {
   "display_name": "Python 3",
   "language": "python",
   "name": "python3"
  },
  "language_info": {
   "codemirror_mode": {
    "name": "ipython",
    "version": 3
   },
   "file_extension": ".py",
   "mimetype": "text/x-python",
   "name": "python",
   "nbconvert_exporter": "python",
   "pygments_lexer": "ipython3",
   "version": "3.6.8"
  }
 },
 "nbformat": 4,
 "nbformat_minor": 2
}
