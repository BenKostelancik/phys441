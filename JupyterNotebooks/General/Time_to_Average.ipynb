{
 "cells": [
  {
   "cell_type": "code",
   "execution_count": 1,
   "metadata": {
    "ExecuteTime": {
     "end_time": "2023-07-15T14:13:08.619291Z",
     "start_time": "2023-07-15T14:13:07.873177Z"
    }
   },
   "outputs": [],
   "source": [
    "%matplotlib inline\n",
    "import numpy as np\n",
    "import matplotlib.pyplot as plt\n",
    "import time,sys"
   ]
  },
  {
   "cell_type": "code",
   "execution_count": 2,
   "metadata": {
    "ExecuteTime": {
     "end_time": "2023-07-15T14:13:37.175334Z",
     "start_time": "2023-07-15T14:13:37.165005Z"
    }
   },
   "outputs": [],
   "source": [
    "n = 100\n",
    "m = 1000\n",
    "my_array = np.ones((n,m))\n",
    "average = np.zeros(n)"
   ]
  },
  {
   "cell_type": "code",
   "execution_count": 3,
   "metadata": {
    "ExecuteTime": {
     "end_time": "2023-07-15T14:13:42.368220Z",
     "start_time": "2023-07-15T14:13:40.606491Z"
    }
   },
   "outputs": [
    {
     "name": "stdout",
     "output_type": "stream",
     "text": [
      "21.6 ms ± 1.47 ms per loop (mean ± std. dev. of 7 runs, 10 loops each)\n"
     ]
    }
   ],
   "source": [
    "%%timeit\n",
    "for i in range(n):\n",
    "    sum = 0\n",
    "    for j in range(m):\n",
    "        sum = sum + my_array[i,j]\n",
    "    average[i]=sum/m\n",
    "        "
   ]
  },
  {
   "cell_type": "code",
   "execution_count": 4,
   "metadata": {
    "ExecuteTime": {
     "end_time": "2023-07-15T14:13:48.696623Z",
     "start_time": "2023-07-15T14:13:48.685002Z"
    }
   },
   "outputs": [],
   "source": [
    "n = 1000\n",
    "m = 100\n",
    "my_array = np.ones((n,m))\n",
    "average = np.zeros(n)"
   ]
  },
  {
   "cell_type": "code",
   "execution_count": 5,
   "metadata": {
    "ExecuteTime": {
     "end_time": "2023-07-15T14:13:51.935580Z",
     "start_time": "2023-07-15T14:13:50.132751Z"
    }
   },
   "outputs": [
    {
     "name": "stdout",
     "output_type": "stream",
     "text": [
      "22.4 ms ± 2.2 ms per loop (mean ± std. dev. of 7 runs, 10 loops each)\n"
     ]
    }
   ],
   "source": [
    "%%timeit\n",
    "for i in range(n):\n",
    "    sum = 0\n",
    "    for j in range(m):\n",
    "        sum = sum + my_array[i,j]\n",
    "    average[i]=sum/m"
   ]
  },
  {
   "cell_type": "code",
   "execution_count": 6,
   "metadata": {
    "ExecuteTime": {
     "end_time": "2023-07-15T14:14:03.059448Z",
     "start_time": "2023-07-15T14:14:03.047811Z"
    }
   },
   "outputs": [],
   "source": [
    "n = 100\n",
    "m = 100\n",
    "my_array = np.ones((n,m))\n",
    "average = np.zeros(n)"
   ]
  },
  {
   "cell_type": "code",
   "execution_count": 7,
   "metadata": {
    "ExecuteTime": {
     "end_time": "2023-07-15T14:14:07.100693Z",
     "start_time": "2023-07-15T14:14:05.438005Z"
    }
   },
   "outputs": [
    {
     "name": "stdout",
     "output_type": "stream",
     "text": [
      "2.07 ms ± 147 µs per loop (mean ± std. dev. of 7 runs, 100 loops each)\n"
     ]
    }
   ],
   "source": [
    "%%timeit\n",
    "for i in range(n):\n",
    "    sum = 0\n",
    "    for j in range(m):\n",
    "        sum = sum + my_array[i,j]\n",
    "    average[i]=sum/m"
   ]
  },
  {
   "cell_type": "code",
   "execution_count": 8,
   "metadata": {
    "ExecuteTime": {
     "end_time": "2023-07-15T14:14:16.210894Z",
     "start_time": "2023-07-15T14:14:16.200925Z"
    }
   },
   "outputs": [],
   "source": [
    "n = 1000\n",
    "m = 10\n",
    "my_array = np.ones((n,m))\n",
    "average = np.zeros(n)"
   ]
  },
  {
   "cell_type": "code",
   "execution_count": 9,
   "metadata": {
    "ExecuteTime": {
     "end_time": "2023-07-15T14:14:18.924997Z",
     "start_time": "2023-07-15T14:14:16.957049Z"
    }
   },
   "outputs": [
    {
     "name": "stdout",
     "output_type": "stream",
     "text": [
      "2.5 ms ± 228 µs per loop (mean ± std. dev. of 7 runs, 100 loops each)\n"
     ]
    }
   ],
   "source": [
    "%%timeit\n",
    "for i in range(n):\n",
    "    sum = 0\n",
    "    for j in range(m):\n",
    "        sum = sum + my_array[i,j]\n",
    "    average[i]=sum/m"
   ]
  },
  {
   "cell_type": "code",
   "execution_count": 10,
   "metadata": {
    "ExecuteTime": {
     "end_time": "2023-07-15T14:14:58.261803Z",
     "start_time": "2023-07-15T14:14:28.084412Z"
    }
   },
   "outputs": [
    {
     "data": {
      "text/plain": "<matplotlib.collections.PathCollection at 0x107c2f490>"
     },
     "execution_count": 10,
     "metadata": {},
     "output_type": "execute_result"
    },
    {
     "data": {
      "text/plain": "<Figure size 640x480 with 1 Axes>",
      "image/png": "[encoded data removed]"
     },
     "metadata": {},
     "output_type": "display_data"
    }
   ],
   "source": [
    "from timeit import default_timer as timer\n",
    "\n",
    "nsize = []\n",
    "msize = []\n",
    "time = []\n",
    "\n",
    "for i in range(100,10000,100):\n",
    "    start = timer()\n",
    "    #n = 10**i\n",
    "    n = 100\n",
    "    m = 100*i\n",
    "    nsize.append(n)\n",
    "    msize.append(m)\n",
    "    my_array = np.ones((n,m))\n",
    "    average = np.mean(my_array,axis=0)\n",
    "    end = timer()\n",
    "    time.append(end-start)\n",
    "\n",
    "plt.scatter(msize,time)"
   ]
  },
  {
   "cell_type": "code",
   "execution_count": null,
   "metadata": {},
   "outputs": [],
   "source": []
  }
 ],
 "metadata": {
  "kernelspec": {
   "display_name": "Python 3",
   "language": "python",
   "name": "python3"
  },
  "language_info": {
   "codemirror_mode": {
    "name": "ipython",
    "version": 3
   },
   "file_extension": ".py",
   "mimetype": "text/x-python",
   "name": "python",
   "nbconvert_exporter": "python",
   "pygments_lexer": "ipython3",
   "version": "3.6.8"
  }
 },
 "nbformat": 4,
 "nbformat_minor": 4
}
