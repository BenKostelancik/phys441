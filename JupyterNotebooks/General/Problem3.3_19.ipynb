{
 "cells": [
  {
   "cell_type": "code",
   "execution_count": 1,
   "metadata": {},
   "outputs": [],
   "source": [
    "import numpy as np\n",
    "import sympy as sp\n",
    "import matplotlib.pyplot as plt"
   ]
  },
  {
   "cell_type": "code",
   "execution_count": 2,
   "metadata": {},
   "outputs": [],
   "source": [
    "from sympy import init_printing\n",
    "init_printing(use_latex=True)"
   ]
  },
  {
   "cell_type": "code",
   "execution_count": 3,
   "metadata": {},
   "outputs": [],
   "source": [
    "x, a, b, c, d, e, f = sp.symbols('x a b c d e f')"
   ]
  },
  {
   "cell_type": "code",
   "execution_count": 4,
   "metadata": {},
   "outputs": [],
   "source": [
    "L50 = (x-b)*(x-c)*(x-d)*(x-e)*(x-f)/((a-b)*(a-c)*(a-d)*(a-e)*(a-f))\n",
    "L51 = (x-a)*(x-c)*(x-d)*(x-e)*(x-f)/((b-a)*(b-c)*(b-d)*(b-e)*(b-f))\n",
    "L52 = (x-a)*(x-b)*(x-d)*(x-e)*(x-f)/((c-a)*(c-b)*(c-d)*(c-e)*(c-f))\n",
    "L53 = (x-a)*(x-b)*(x-c)*(x-e)*(x-f)/((d-a)*(d-b)*(d-c)*(d-e)*(d-f))\n",
    "L54 = (x-a)*(x-b)*(x-c)*(x-d)*(x-f)/((e-a)*(e-b)*(e-c)*(e-d)*(e-f))\n",
    "L55 = (x-a)*(x-b)*(x-c)*(x-d)*(x-e)/((f-a)*(f-b)*(f-c)*(f-d)*(f-e))"
   ]
  },
  {
   "cell_type": "code",
   "execution_count": 5,
   "metadata": {},
   "outputs": [],
   "source": [
    "y0, y1, y2, y3, y4, y5 = sp.symbols('y_0 y_1 y_2 y_3 y_4 y_5')"
   ]
  },
  {
   "cell_type": "code",
   "execution_count": 6,
   "metadata": {},
   "outputs": [],
   "source": [
    "P = L50*y0 + L51*y1 + L52*y2 + L53*y3 + L54*y4 + L55*y5"
   ]
  },
  {
   "cell_type": "code",
   "execution_count": 7,
   "metadata": {},
   "outputs": [
    {
     "data": {
      "image/png": "[encoded data removed]",
      "text/latex": [
       "$\\displaystyle \\frac{y_{0} \\left(- b + x\\right) \\left(- c + x\\right) \\left(- d + x\\right) \\left(- e + x\\right) \\left(- f + x\\right)}{\\left(a - b\\right) \\left(a - c\\right) \\left(a - d\\right) \\left(a - e\\right) \\left(a - f\\right)} + \\frac{y_{1} \\left(- a + x\\right) \\left(- c + x\\right) \\left(- d + x\\right) \\left(- e + x\\right) \\left(- f + x\\right)}{\\left(- a + b\\right) \\left(b - c\\right) \\left(b - d\\right) \\left(b - e\\right) \\left(b - f\\right)} + \\frac{y_{2} \\left(- a + x\\right) \\left(- b + x\\right) \\left(- d + x\\right) \\left(- e + x\\right) \\left(- f + x\\right)}{\\left(- a + c\\right) \\left(- b + c\\right) \\left(c - d\\right) \\left(c - e\\right) \\left(c - f\\right)} + \\frac{y_{3} \\left(- a + x\\right) \\left(- b + x\\right) \\left(- c + x\\right) \\left(- e + x\\right) \\left(- f + x\\right)}{\\left(- a + d\\right) \\left(- b + d\\right) \\left(- c + d\\right) \\left(d - e\\right) \\left(d - f\\right)} + \\frac{y_{4} \\left(- a + x\\right) \\left(- b + x\\right) \\left(- c + x\\right) \\left(- d + x\\right) \\left(- f + x\\right)}{\\left(- a + e\\right) \\left(- b + e\\right) \\left(- c + e\\right) \\left(- d + e\\right) \\left(e - f\\right)} + \\frac{y_{5} \\left(- a + x\\right) \\left(- b + x\\right) \\left(- c + x\\right) \\left(- d + x\\right) \\left(- e + x\\right)}{\\left(- a + f\\right) \\left(- b + f\\right) \\left(- c + f\\right) \\left(- d + f\\right) \\left(- e + f\\right)}$"
      ],
      "text/plain": [
       "y₀⋅(-b + x)⋅(-c + x)⋅(-d + x)⋅(-e + x)⋅(-f + x)   y₁⋅(-a + x)⋅(-c + x)⋅(-d + x\n",
       "─────────────────────────────────────────────── + ────────────────────────────\n",
       "    (a - b)⋅(a - c)⋅(a - d)⋅(a - e)⋅(a - f)           (-a + b)⋅(b - c)⋅(b - d)\n",
       "\n",
       ")⋅(-e + x)⋅(-f + x)   y₂⋅(-a + x)⋅(-b + x)⋅(-d + x)⋅(-e + x)⋅(-f + x)   y₃⋅(-a\n",
       "─────────────────── + ─────────────────────────────────────────────── + ──────\n",
       "⋅(b - e)⋅(b - f)         (-a + c)⋅(-b + c)⋅(c - d)⋅(c - e)⋅(c - f)         (-a\n",
       "\n",
       " + x)⋅(-b + x)⋅(-c + x)⋅(-e + x)⋅(-f + x)   y₄⋅(-a + x)⋅(-b + x)⋅(-c + x)⋅(-d \n",
       "───────────────────────────────────────── + ──────────────────────────────────\n",
       " + d)⋅(-b + d)⋅(-c + d)⋅(d - e)⋅(d - f)       (-a + e)⋅(-b + e)⋅(-c + e)⋅(-d +\n",
       "\n",
       "+ x)⋅(-f + x)   y₅⋅(-a + x)⋅(-b + x)⋅(-c + x)⋅(-d + x)⋅(-e + x)\n",
       "───────────── + ───────────────────────────────────────────────\n",
       " e)⋅(e - f)       (-a + f)⋅(-b + f)⋅(-c + f)⋅(-d + f)⋅(-e + f) "
      ]
     },
     "execution_count": 7,
     "metadata": {},
     "output_type": "execute_result"
    }
   ],
   "source": [
    "P"
   ]
  },
  {
   "cell_type": "code",
   "execution_count": 8,
   "metadata": {},
   "outputs": [
    {
     "data": {
      "image/png": "[encoded data removed]",
      "text/latex": [
       "$\\displaystyle 192209$"
      ],
      "text/plain": [
       "192209"
      ]
     },
     "execution_count": 8,
     "metadata": {},
     "output_type": "execute_result"
    }
   ],
   "source": [
    "P.subs([(x,-10), (a, 0), (b, 10), (c, 20), (d,30), (e,40), (f,50), (y0,179323), (y1,203302), (y2,226542), (y3,249663), (y4,281442), (y5,308746)])     "
   ]
  },
  {
   "cell_type": "code",
   "execution_count": 9,
   "metadata": {},
   "outputs": [
    {
     "data": {
      "image/png": "[encoded data removed]",
      "text/latex": [
       "$\\displaystyle \\frac{55172903}{256}$"
      ],
      "text/plain": [
       "55172903\n",
       "────────\n",
       "  256   "
      ]
     },
     "execution_count": 9,
     "metadata": {},
     "output_type": "execute_result"
    }
   ],
   "source": [
    "P.subs([(x,15), (a, 0), (b, 10), (c, 20), (d,30), (e,40), (f,50), (y0,179323), (y1,203302), (y2,226542), (y3,249663), (y4,281442), (y5,308746)])"
   ]
  },
  {
   "cell_type": "code",
   "execution_count": 10,
   "metadata": {},
   "outputs": [
    {
     "data": {
      "image/png": "[encoded data removed]",
      "text/latex": [
       "$\\displaystyle \\frac{4785364969}{15625}$"
      ],
      "text/plain": [
       "4785364969\n",
       "──────────\n",
       "  15625   "
      ]
     },
     "execution_count": 10,
     "metadata": {},
     "output_type": "execute_result"
    }
   ],
   "source": [
    "P.subs([(x,54), (a, 0), (b, 10), (c, 20), (d,30), (e,40), (f,50), (y0,179323), (y1,203302), (y2,226542), (y3,249663), (y4,281442), (y5,308746)])"
   ]
  },
  {
   "cell_type": "code",
   "execution_count": 11,
   "metadata": {},
   "outputs": [
    {
     "data": {
      "image/png": "[encoded data removed]",
      "text/latex": [
       "$\\displaystyle 266465$"
      ],
      "text/plain": [
       "266465"
      ]
     },
     "execution_count": 11,
     "metadata": {},
     "output_type": "execute_result"
    }
   ],
   "source": [
    "P.subs([(x,60), (a, 0), (b, 10), (c, 20), (d,30), (e,40), (f,50), (y0,179323), (y1,203302), (y2,226542), (y3,249663), (y4,281442), (y5,308746)])"
   ]
  },
  {
   "cell_type": "code",
   "execution_count": 13,
   "metadata": {},
   "outputs": [
    {
     "data": {
      "image/png": "[encoded data removed]",
      "text/latex": [
       "$\\displaystyle \\frac{y_{0} \\left(- b + x\\right) \\left(- c + x\\right) \\left(- d + x\\right) \\left(- e + x\\right)}{\\left(a - b\\right) \\left(a - c\\right) \\left(a - d\\right) \\left(a - e\\right) \\left(a - f\\right)} + \\frac{y_{0} \\left(- b + x\\right) \\left(- c + x\\right) \\left(- d + x\\right) \\left(- f + x\\right)}{\\left(a - b\\right) \\left(a - c\\right) \\left(a - d\\right) \\left(a - e\\right) \\left(a - f\\right)} + \\frac{y_{0} \\left(- b + x\\right) \\left(- c + x\\right) \\left(- e + x\\right) \\left(- f + x\\right)}{\\left(a - b\\right) \\left(a - c\\right) \\left(a - d\\right) \\left(a - e\\right) \\left(a - f\\right)} + \\frac{y_{0} \\left(- b + x\\right) \\left(- d + x\\right) \\left(- e + x\\right) \\left(- f + x\\right)}{\\left(a - b\\right) \\left(a - c\\right) \\left(a - d\\right) \\left(a - e\\right) \\left(a - f\\right)} + \\frac{y_{0} \\left(- c + x\\right) \\left(- d + x\\right) \\left(- e + x\\right) \\left(- f + x\\right)}{\\left(a - b\\right) \\left(a - c\\right) \\left(a - d\\right) \\left(a - e\\right) \\left(a - f\\right)} + \\frac{y_{1} \\left(- a + x\\right) \\left(- c + x\\right) \\left(- d + x\\right) \\left(- e + x\\right)}{\\left(- a + b\\right) \\left(b - c\\right) \\left(b - d\\right) \\left(b - e\\right) \\left(b - f\\right)} + \\frac{y_{1} \\left(- a + x\\right) \\left(- c + x\\right) \\left(- d + x\\right) \\left(- f + x\\right)}{\\left(- a + b\\right) \\left(b - c\\right) \\left(b - d\\right) \\left(b - e\\right) \\left(b - f\\right)} + \\frac{y_{1} \\left(- a + x\\right) \\left(- c + x\\right) \\left(- e + x\\right) \\left(- f + x\\right)}{\\left(- a + b\\right) \\left(b - c\\right) \\left(b - d\\right) \\left(b - e\\right) \\left(b - f\\right)} + \\frac{y_{1} \\left(- a + x\\right) \\left(- d + x\\right) \\left(- e + x\\right) \\left(- f + x\\right)}{\\left(- a + b\\right) \\left(b - c\\right) \\left(b - d\\right) \\left(b - e\\right) \\left(b - f\\right)} + \\frac{y_{1} \\left(- c + x\\right) \\left(- d + x\\right) \\left(- e + x\\right) \\left(- f + x\\right)}{\\left(- a + b\\right) \\left(b - c\\right) \\left(b - d\\right) \\left(b - e\\right) \\left(b - f\\right)} + \\frac{y_{2} \\left(- a + x\\right) \\left(- b + x\\right) \\left(- d + x\\right) \\left(- e + x\\right)}{\\left(- a + c\\right) \\left(- b + c\\right) \\left(c - d\\right) \\left(c - e\\right) \\left(c - f\\right)} + \\frac{y_{2} \\left(- a + x\\right) \\left(- b + x\\right) \\left(- d + x\\right) \\left(- f + x\\right)}{\\left(- a + c\\right) \\left(- b + c\\right) \\left(c - d\\right) \\left(c - e\\right) \\left(c - f\\right)} + \\frac{y_{2} \\left(- a + x\\right) \\left(- b + x\\right) \\left(- e + x\\right) \\left(- f + x\\right)}{\\left(- a + c\\right) \\left(- b + c\\right) \\left(c - d\\right) \\left(c - e\\right) \\left(c - f\\right)} + \\frac{y_{2} \\left(- a + x\\right) \\left(- d + x\\right) \\left(- e + x\\right) \\left(- f + x\\right)}{\\left(- a + c\\right) \\left(- b + c\\right) \\left(c - d\\right) \\left(c - e\\right) \\left(c - f\\right)} + \\frac{y_{2} \\left(- b + x\\right) \\left(- d + x\\right) \\left(- e + x\\right) \\left(- f + x\\right)}{\\left(- a + c\\right) \\left(- b + c\\right) \\left(c - d\\right) \\left(c - e\\right) \\left(c - f\\right)} + \\frac{y_{3} \\left(- a + x\\right) \\left(- b + x\\right) \\left(- c + x\\right) \\left(- e + x\\right)}{\\left(- a + d\\right) \\left(- b + d\\right) \\left(- c + d\\right) \\left(d - e\\right) \\left(d - f\\right)} + \\frac{y_{3} \\left(- a + x\\right) \\left(- b + x\\right) \\left(- c + x\\right) \\left(- f + x\\right)}{\\left(- a + d\\right) \\left(- b + d\\right) \\left(- c + d\\right) \\left(d - e\\right) \\left(d - f\\right)} + \\frac{y_{3} \\left(- a + x\\right) \\left(- b + x\\right) \\left(- e + x\\right) \\left(- f + x\\right)}{\\left(- a + d\\right) \\left(- b + d\\right) \\left(- c + d\\right) \\left(d - e\\right) \\left(d - f\\right)} + \\frac{y_{3} \\left(- a + x\\right) \\left(- c + x\\right) \\left(- e + x\\right) \\left(- f + x\\right)}{\\left(- a + d\\right) \\left(- b + d\\right) \\left(- c + d\\right) \\left(d - e\\right) \\left(d - f\\right)} + \\frac{y_{3} \\left(- b + x\\right) \\left(- c + x\\right) \\left(- e + x\\right) \\left(- f + x\\right)}{\\left(- a + d\\right) \\left(- b + d\\right) \\left(- c + d\\right) \\left(d - e\\right) \\left(d - f\\right)} + \\frac{y_{4} \\left(- a + x\\right) \\left(- b + x\\right) \\left(- c + x\\right) \\left(- d + x\\right)}{\\left(- a + e\\right) \\left(- b + e\\right) \\left(- c + e\\right) \\left(- d + e\\right) \\left(e - f\\right)} + \\frac{y_{4} \\left(- a + x\\right) \\left(- b + x\\right) \\left(- c + x\\right) \\left(- f + x\\right)}{\\left(- a + e\\right) \\left(- b + e\\right) \\left(- c + e\\right) \\left(- d + e\\right) \\left(e - f\\right)} + \\frac{y_{4} \\left(- a + x\\right) \\left(- b + x\\right) \\left(- d + x\\right) \\left(- f + x\\right)}{\\left(- a + e\\right) \\left(- b + e\\right) \\left(- c + e\\right) \\left(- d + e\\right) \\left(e - f\\right)} + \\frac{y_{4} \\left(- a + x\\right) \\left(- c + x\\right) \\left(- d + x\\right) \\left(- f + x\\right)}{\\left(- a + e\\right) \\left(- b + e\\right) \\left(- c + e\\right) \\left(- d + e\\right) \\left(e - f\\right)} + \\frac{y_{4} \\left(- b + x\\right) \\left(- c + x\\right) \\left(- d + x\\right) \\left(- f + x\\right)}{\\left(- a + e\\right) \\left(- b + e\\right) \\left(- c + e\\right) \\left(- d + e\\right) \\left(e - f\\right)} + \\frac{y_{5} \\left(- a + x\\right) \\left(- b + x\\right) \\left(- c + x\\right) \\left(- d + x\\right)}{\\left(- a + f\\right) \\left(- b + f\\right) \\left(- c + f\\right) \\left(- d + f\\right) \\left(- e + f\\right)} + \\frac{y_{5} \\left(- a + x\\right) \\left(- b + x\\right) \\left(- c + x\\right) \\left(- e + x\\right)}{\\left(- a + f\\right) \\left(- b + f\\right) \\left(- c + f\\right) \\left(- d + f\\right) \\left(- e + f\\right)} + \\frac{y_{5} \\left(- a + x\\right) \\left(- b + x\\right) \\left(- d + x\\right) \\left(- e + x\\right)}{\\left(- a + f\\right) \\left(- b + f\\right) \\left(- c + f\\right) \\left(- d + f\\right) \\left(- e + f\\right)} + \\frac{y_{5} \\left(- a + x\\right) \\left(- c + x\\right) \\left(- d + x\\right) \\left(- e + x\\right)}{\\left(- a + f\\right) \\left(- b + f\\right) \\left(- c + f\\right) \\left(- d + f\\right) \\left(- e + f\\right)} + \\frac{y_{5} \\left(- b + x\\right) \\left(- c + x\\right) \\left(- d + x\\right) \\left(- e + x\\right)}{\\left(- a + f\\right) \\left(- b + f\\right) \\left(- c + f\\right) \\left(- d + f\\right) \\left(- e + f\\right)}$"
      ],
      "text/plain": [
       " y₀⋅(-b + x)⋅(-c + x)⋅(-d + x)⋅(-e + x)    y₀⋅(-b + x)⋅(-c + x)⋅(-d + x)⋅(-f +\n",
       "─────────────────────────────────────── + ────────────────────────────────────\n",
       "(a - b)⋅(a - c)⋅(a - d)⋅(a - e)⋅(a - f)   (a - b)⋅(a - c)⋅(a - d)⋅(a - e)⋅(a -\n",
       "\n",
       " x)    y₀⋅(-b + x)⋅(-c + x)⋅(-e + x)⋅(-f + x)    y₀⋅(-b + x)⋅(-d + x)⋅(-e + x)\n",
       "─── + ─────────────────────────────────────── + ──────────────────────────────\n",
       " f)   (a - b)⋅(a - c)⋅(a - d)⋅(a - e)⋅(a - f)   (a - b)⋅(a - c)⋅(a - d)⋅(a - e\n",
       "\n",
       "⋅(-f + x)    y₀⋅(-c + x)⋅(-d + x)⋅(-e + x)⋅(-f + x)    y₁⋅(-a + x)⋅(-c + x)⋅(-\n",
       "───────── + ─────────────────────────────────────── + ────────────────────────\n",
       ")⋅(a - f)   (a - b)⋅(a - c)⋅(a - d)⋅(a - e)⋅(a - f)   (-a + b)⋅(b - c)⋅(b - d)\n",
       "\n",
       "d + x)⋅(-e + x)     y₁⋅(-a + x)⋅(-c + x)⋅(-d + x)⋅(-f + x)     y₁⋅(-a + x)⋅(-c\n",
       "──────────────── + ──────────────────────────────────────── + ────────────────\n",
       "⋅(b - e)⋅(b - f)   (-a + b)⋅(b - c)⋅(b - d)⋅(b - e)⋅(b - f)   (-a + b)⋅(b - c)\n",
       "\n",
       " + x)⋅(-e + x)⋅(-f + x)     y₁⋅(-a + x)⋅(-d + x)⋅(-e + x)⋅(-f + x)     y₁⋅(-c \n",
       "──────────────────────── + ──────────────────────────────────────── + ────────\n",
       "⋅(b - d)⋅(b - e)⋅(b - f)   (-a + b)⋅(b - c)⋅(b - d)⋅(b - e)⋅(b - f)   (-a + b)\n",
       "\n",
       "+ x)⋅(-d + x)⋅(-e + x)⋅(-f + x)      y₂⋅(-a + x)⋅(-b + x)⋅(-d + x)⋅(-e + x)   \n",
       "──────────────────────────────── + ───────────────────────────────────────── +\n",
       "⋅(b - c)⋅(b - d)⋅(b - e)⋅(b - f)   (-a + c)⋅(-b + c)⋅(c - d)⋅(c - e)⋅(c - f)  \n",
       "\n",
       "   y₂⋅(-a + x)⋅(-b + x)⋅(-d + x)⋅(-f + x)      y₂⋅(-a + x)⋅(-b + x)⋅(-e + x)⋅(\n",
       " ───────────────────────────────────────── + ─────────────────────────────────\n",
       " (-a + c)⋅(-b + c)⋅(c - d)⋅(c - e)⋅(c - f)   (-a + c)⋅(-b + c)⋅(c - d)⋅(c - e)\n",
       "\n",
       "-f + x)      y₂⋅(-a + x)⋅(-d + x)⋅(-e + x)⋅(-f + x)      y₂⋅(-b + x)⋅(-d + x)⋅\n",
       "──────── + ───────────────────────────────────────── + ───────────────────────\n",
       "⋅(c - f)   (-a + c)⋅(-b + c)⋅(c - d)⋅(c - e)⋅(c - f)   (-a + c)⋅(-b + c)⋅(c - \n",
       "\n",
       "(-e + x)⋅(-f + x)      y₃⋅(-a + x)⋅(-b + x)⋅(-c + x)⋅(-e + x)       y₃⋅(-a + x\n",
       "────────────────── + ────────────────────────────────────────── + ────────────\n",
       "d)⋅(c - e)⋅(c - f)   (-a + d)⋅(-b + d)⋅(-c + d)⋅(d - e)⋅(d - f)   (-a + d)⋅(-b\n",
       "\n",
       ")⋅(-b + x)⋅(-c + x)⋅(-f + x)       y₃⋅(-a + x)⋅(-b + x)⋅(-e + x)⋅(-f + x)     \n",
       "────────────────────────────── + ────────────────────────────────────────── + \n",
       " + d)⋅(-c + d)⋅(d - e)⋅(d - f)   (-a + d)⋅(-b + d)⋅(-c + d)⋅(d - e)⋅(d - f)   \n",
       "\n",
       "  y₃⋅(-a + x)⋅(-c + x)⋅(-e + x)⋅(-f + x)       y₃⋅(-b + x)⋅(-c + x)⋅(-e + x)⋅(\n",
       "────────────────────────────────────────── + ─────────────────────────────────\n",
       "(-a + d)⋅(-b + d)⋅(-c + d)⋅(d - e)⋅(d - f)   (-a + d)⋅(-b + d)⋅(-c + d)⋅(d - e\n",
       "\n",
       "-f + x)        y₄⋅(-a + x)⋅(-b + x)⋅(-c + x)⋅(-d + x)        y₄⋅(-a + x)⋅(-b +\n",
       "───────── + ─────────────────────────────────────────── + ────────────────────\n",
       ")⋅(d - f)   (-a + e)⋅(-b + e)⋅(-c + e)⋅(-d + e)⋅(e - f)   (-a + e)⋅(-b + e)⋅(-\n",
       "\n",
       " x)⋅(-c + x)⋅(-f + x)        y₄⋅(-a + x)⋅(-b + x)⋅(-d + x)⋅(-f + x)        y₄⋅\n",
       "─────────────────────── + ─────────────────────────────────────────── + ──────\n",
       "c + e)⋅(-d + e)⋅(e - f)   (-a + e)⋅(-b + e)⋅(-c + e)⋅(-d + e)⋅(e - f)   (-a + \n",
       "\n",
       "(-a + x)⋅(-c + x)⋅(-d + x)⋅(-f + x)        y₄⋅(-b + x)⋅(-c + x)⋅(-d + x)⋅(-f +\n",
       "───────────────────────────────────── + ──────────────────────────────────────\n",
       "e)⋅(-b + e)⋅(-c + e)⋅(-d + e)⋅(e - f)   (-a + e)⋅(-b + e)⋅(-c + e)⋅(-d + e)⋅(e\n",
       "\n",
       " x)        y₅⋅(-a + x)⋅(-b + x)⋅(-c + x)⋅(-d + x)         y₅⋅(-a + x)⋅(-b + x)\n",
       "───── + ──────────────────────────────────────────── + ───────────────────────\n",
       " - f)   (-a + f)⋅(-b + f)⋅(-c + f)⋅(-d + f)⋅(-e + f)   (-a + f)⋅(-b + f)⋅(-c +\n",
       "\n",
       "⋅(-c + x)⋅(-e + x)         y₅⋅(-a + x)⋅(-b + x)⋅(-d + x)⋅(-e + x)         y₅⋅(\n",
       "───────────────────── + ──────────────────────────────────────────── + ───────\n",
       " f)⋅(-d + f)⋅(-e + f)   (-a + f)⋅(-b + f)⋅(-c + f)⋅(-d + f)⋅(-e + f)   (-a + f\n",
       "\n",
       "-a + x)⋅(-c + x)⋅(-d + x)⋅(-e + x)         y₅⋅(-b + x)⋅(-c + x)⋅(-d + x)⋅(-e +\n",
       "───────────────────────────────────── + ──────────────────────────────────────\n",
       ")⋅(-b + f)⋅(-c + f)⋅(-d + f)⋅(-e + f)   (-a + f)⋅(-b + f)⋅(-c + f)⋅(-d + f)⋅(-\n",
       "\n",
       " x)   \n",
       "──────\n",
       "e + f)"
      ]
     },
     "execution_count": 13,
     "metadata": {},
     "output_type": "execute_result"
    }
   ],
   "source": [
    "P.diff(x)"
   ]
  },
  {
   "cell_type": "code",
   "execution_count": null,
   "metadata": {},
   "outputs": [],
   "source": []
  }
 ],
 "metadata": {
  "kernelspec": {
   "display_name": "Python 3",
   "language": "python",
   "name": "python3"
  },
  "language_info": {
   "codemirror_mode": {
    "name": "ipython",
    "version": 3
   },
   "file_extension": ".py",
   "mimetype": "text/x-python",
   "name": "python",
   "nbconvert_exporter": "python",
   "pygments_lexer": "ipython3",
   "version": "3.6.8"
  }
 },
 "nbformat": 4,
 "nbformat_minor": 2
}
