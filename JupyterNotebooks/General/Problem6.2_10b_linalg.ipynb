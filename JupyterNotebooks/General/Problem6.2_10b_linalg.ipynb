{
 "cells": [
  {
   "cell_type": "code",
   "execution_count": 1,
   "metadata": {},
   "outputs": [],
   "source": [
    "import numpy as np"
   ]
  },
  {
   "cell_type": "code",
   "execution_count": 2,
   "metadata": {},
   "outputs": [],
   "source": [
    "a = np.array([[3.3330,15920,10.333],[2.2220,16.710,9.612],[-1.5611,5.1792,-1.6855]])\n",
    "b = np.array([7953,0.965,2.714])"
   ]
  },
  {
   "cell_type": "code",
   "execution_count": 3,
   "metadata": {},
   "outputs": [
    {
     "name": "stdout",
     "output_type": "stream",
     "text": [
      "Exact solution:  [ 1.   0.5 -1. ]\n"
     ]
    }
   ],
   "source": [
    "try:\n",
    "    x_exact = np.linalg.solve(a,b)\n",
    "    print (\"Exact solution: \",x_exact)\n",
    "except:\n",
    "    print (\"Singular matrix!\")"
   ]
  },
  {
   "cell_type": "code",
   "execution_count": 4,
   "metadata": {},
   "outputs": [],
   "source": [
    "a = np.array([[3.33,1.59E04,10.3],[2.22,16.7,9.61],[-1.56,5.18,-1.69]])\n",
    "b = np.array([7.95E3,0.965,2.71])"
   ]
  },
  {
   "cell_type": "code",
   "execution_count": 5,
   "metadata": {},
   "outputs": [
    {
     "name": "stdout",
     "output_type": "stream",
     "text": [
      "Three digit truncation solution:  [ 1.01083696  0.50043787 -1.00274407]\n"
     ]
    }
   ],
   "source": [
    "try:\n",
    "    x = np.linalg.solve(a,b)\n",
    "    print (\"Three digit truncation solution: \",x)\n",
    "except:\n",
    "    print (\"Singular matrix!\")"
   ]
  },
  {
   "cell_type": "code",
   "execution_count": 6,
   "metadata": {},
   "outputs": [
    {
     "name": "stdout",
     "output_type": "stream",
     "text": [
      "Percentage Errors:  [1.08369634 0.08757455 0.27440722]\n"
     ]
    }
   ],
   "source": [
    "error = (x-x_exact)/x_exact*100.0\n",
    "print (\"Percentage Errors: \",error)"
   ]
  },
  {
   "cell_type": "code",
   "execution_count": null,
   "metadata": {},
   "outputs": [],
   "source": []
  }
 ],
 "metadata": {
  "kernelspec": {
   "display_name": "Python 3",
   "language": "python",
   "name": "python3"
  },
  "language_info": {
   "codemirror_mode": {
    "name": "ipython",
    "version": 3
   },
   "file_extension": ".py",
   "mimetype": "text/x-python",
   "name": "python",
   "nbconvert_exporter": "python",
   "pygments_lexer": "ipython3",
   "version": "3.6.8"
  }
 },
 "nbformat": 4,
 "nbformat_minor": 4
}
