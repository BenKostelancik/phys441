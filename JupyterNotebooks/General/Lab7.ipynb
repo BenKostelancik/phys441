{
 "cells": [
  {
   "cell_type": "code",
   "execution_count": 1,
   "metadata": {},
   "outputs": [
    {
     "name": "stdout",
     "output_type": "stream",
     "text": [
      "Enter an integer: 1995\n",
      "Your input contains only digits.\n"
     ]
    }
   ],
   "source": [
    "# LAB 7A\n",
    "#\n",
    "# http://www.w3schools.com is a good reference\n",
    "#\n",
    "user_string = input(\"Enter an integer: \")\n",
    "\n",
    "try:\n",
    "    user_int = int(user_string)\n",
    "    print ('Your input contains only digits.')\n",
    "except:\n",
    "    print ('Your input contains more than just digits.')\n",
    "    \n",
    "    \n",
    "# if ( search the string, and make sure it has only [0-9] ) then:\n",
    "#    print ('Your input contains only digits.')\n",
    "# else:\n",
    "#    print ('Your input contains more than just digits.')\n",
    "    \n"
   ]
  },
  {
   "cell_type": "code",
   "execution_count": 2,
   "metadata": {},
   "outputs": [
    {
     "name": "stdout",
     "output_type": "stream",
     "text": [
      "Enter a character, followed by a space and a phrase: n Monday\n",
      "\"n\" occurs this many times in \"Monday\": 1\n"
     ]
    }
   ],
   "source": [
    "# LAB 7B\n",
    "#\n",
    "input_string = input(\"Enter a character, followed by a space and a phrase: \")\n",
    "\n",
    "# First task:  Split the input_string up into the character to be searched for, and the phrase.\n",
    "\n",
    "search_character = input_string[0]\n",
    "\n",
    "phrase_string = input_string[2:]\n",
    "\n",
    "#print (search_character)\n",
    "#print (phrase_string)\n",
    "\n",
    "# Second task:  Go through each character in phrase_string, and compare it to search_character\n",
    "# if they are the same, then increment a counter.\n",
    "\n",
    "counter = 0\n",
    "for i in range(0,len(phrase_string)):\n",
    "    if (phrase_string[i] == search_character):\n",
    "        counter = counter + 1\n",
    "    #print (phrase_string[i],search_character,counter)\n",
    "        \n",
    "# Final Task: Print out the formatted output\n",
    "#\n",
    "# %s stands for a string\n",
    "# %.0f stands for a decimal number with 0 decimal places \n",
    "        \n",
    "print ('\"%s\" occurs this many times in \"%s\": %.0f' % (search_character,phrase_string,counter))"
   ]
  },
  {
   "cell_type": "code",
   "execution_count": 3,
   "metadata": {},
   "outputs": [
    {
     "name": "stdout",
     "output_type": "stream",
     "text": [
      "Enter a word of a phrase: Hannah\n",
      "\"Hannah\" is not a palindrome.\n"
     ]
    }
   ],
   "source": [
    "# LAB 7C\n",
    "#\n",
    "input_string_raw = input(\"Enter a word of a phrase: \")\n",
    "\n",
    "# First task:  remove the spaces!!!!\n",
    "\n",
    "input_string = input_string_raw.replace(\" \",\"\")\n",
    "\n",
    "#input_string = input_string.lower() <--- not sure if this is needed\n",
    "\n",
    "length = len(input_string)\n",
    "\n",
    "palindrome_flag = True\n",
    "\n",
    "for i in range(0,length):\n",
    "    j = length-1-i\n",
    "    if (input_string[i] == input_string[j]):\n",
    "        #print (input_string[i],input_string[j],palindrome_flag)\n",
    "        continue\n",
    "    else:\n",
    "        palindrome_flag = False\n",
    "        #print (input_string[i],input_string[j],palindrome_flag)\n",
    "        \n",
    "if (palindrome_flag == True):\n",
    "    print ('\"%s\" is a palindrome.' % (input_string_raw))\n",
    "else:\n",
    "    print ('\"%s\" is not a palindrome.' % (input_string_raw))"
   ]
  },
  {
   "cell_type": "code",
   "execution_count": 6,
   "metadata": {},
   "outputs": [
    {
     "name": "stdout",
     "output_type": "stream",
     "text": [
      "Enter a name: Doe, Hannah\n",
      "The input does not have the correct form\n"
     ]
    }
   ],
   "source": [
    "# LAB 7D\n",
    "#\n",
    "user_input = input(\"Enter a name: \")\n",
    "\n",
    "# Two allowed input formats:\n",
    "#\n",
    "# firstName middleName lastName\n",
    "#\n",
    "# firstName lastName\n",
    "\n",
    "user_input_split = user_input.split(\" \")\n",
    "\n",
    "#print(user_input_split)\n",
    "\n",
    "#print(len(user_input_split))\n",
    "\n",
    "# Conditions for good input string:\n",
    "# \n",
    "# Either two or three strings, in the split\n",
    "# Can only contain [A-Z] or [a-z]\n",
    "\n",
    "good_input_format = True\n",
    "\n",
    "if (len(user_input_split) == 3 or len(user_input_split) == 2):\n",
    "    for substring in user_input_split:\n",
    "        if substring.isalpha():\n",
    "            continue\n",
    "        else:\n",
    "            good_input_format = False\n",
    "else:\n",
    "    good_input_format = False\n",
    "    \n",
    "if good_input_format and len(user_input_split) == 2:\n",
    "    print ('%s, %s' %(user_input_split[1],user_input_split[0]))\n",
    "else:\n",
    "    if good_input_format and len(user_input_split) == 3:\n",
    "        print ('%s, %s %s.' %(user_input_split[2],user_input_split[0],user_input_split[1][0]))\n",
    "    else:\n",
    "        print ('The input does not have the correct form')"
   ]
  },
  {
   "cell_type": "code",
   "execution_count": null,
   "metadata": {},
   "outputs": [],
   "source": []
  },
  {
   "cell_type": "code",
   "execution_count": null,
   "metadata": {},
   "outputs": [],
   "source": []
  }
 ],
 "metadata": {
  "kernelspec": {
   "display_name": "Python 3",
   "language": "python",
   "name": "python3"
  },
  "language_info": {
   "codemirror_mode": {
    "name": "ipython",
    "version": 3
   },
   "file_extension": ".py",
   "mimetype": "text/x-python",
   "name": "python",
   "nbconvert_exporter": "python",
   "pygments_lexer": "ipython3",
   "version": "3.6.8"
  }
 },
 "nbformat": 4,
 "nbformat_minor": 2
}
