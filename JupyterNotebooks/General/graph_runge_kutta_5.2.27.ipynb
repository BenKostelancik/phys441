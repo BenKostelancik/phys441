{
 "cells": [
  {
   "cell_type": "code",
   "execution_count": 64,
   "metadata": {},
   "outputs": [],
   "source": [
    "from array import array\n",
    "import numpy as np\n",
    "import matplotlib.pyplot as plt\n",
    "import math"
   ]
  },
  {
   "cell_type": "code",
   "execution_count": 65,
   "metadata": {},
   "outputs": [],
   "source": [
    "def fderiv(par,y,t,deriv):\n",
    "    \n",
    "    k = par[0]\n",
    "    n1 = par[1]\n",
    "    n2 = par[2]\n",
    "    n3 = par[3]\n",
    "    \n",
    "    deriv[0] = k*(n1-y[0]/2.0)**2*(n2-y[0]/2.0)**2*(n3-3.0*y[0]/4.0)**3\n",
    "    \n",
    "    #print (y[0],deriv[0])"
   ]
  },
  {
   "cell_type": "markdown",
   "metadata": {},
   "source": [
    "### Fourth Order Runge Kutta Algorithm ###\n",
    "\n",
    "The algorithm is actually quite simple to implement.  We begin with some definitions. Consider a\n",
    "differential equation given by:\n",
    "\n",
    "\\begin{equation}\n",
    "y^\\prime = \\frac{dy}{dt} = f(t,y)\n",
    "\\end{equation}\n",
    "\n",
    "which we wish to solve on the interval $a \\leq t \\leq b$, in the case where we know the initial\n",
    "value of the function (and also its derivative) at $t=a$:\n",
    "\n",
    "\\begin{equation}\n",
    "y_a = y(t=a)\n",
    "\\end{equation}\n",
    "\\begin{equation}\n",
    "y^\\prime_a = f(t=a,y=y_a)\n",
    "\\end{equation}\n",
    "\n",
    "The Fourth-Order Runge Kutta algorithm proceeds as follows:\n",
    "\n",
    "\\begin{equation}\n",
    "F_1 = f(t_i,y_i) \\\\\n",
    "F_2 = f(t_i + \\frac{h}{2}, y_i + \\frac{h}{2}F_1) \\\\\n",
    "F_3 = f(t_i + \\frac{h}{2}, y_i + \\frac{h}{2}F_2) \\\\\n",
    "F_4 = f(t_i + h, y_i + h F_3)\n",
    "\\end{equation}\n",
    "\n",
    "\\begin{equation}\n",
    "y_{i+1} = y_i + \\frac{h}{6} \\left ( F_1 + 2F_2 + 2F3 + F_4 \\right)\n",
    "\\end{equation}"
   ]
  },
  {
   "cell_type": "code",
   "execution_count": 66,
   "metadata": {},
   "outputs": [],
   "source": [
    "def rk4(y,nY,t,tau,par,deriv):\n",
    "    F1 = array('d')\n",
    "    F2 = array('d')\n",
    "    F3 = array('d')\n",
    "    F4 = array('d')\n",
    "    ytemp = array('d')\n",
    "    \n",
    "    for i in range(0,nY):\n",
    "        F1.append(0.0)\n",
    "        F2.append(0.0)\n",
    "        F3.append(0.0)\n",
    "        F4.append(0.0)\n",
    "        ytemp.append(0.0)\n",
    "        \n",
    "    fderiv(par,y,t,F1)\n",
    "    \n",
    "    half_tau = 0.5*tau\n",
    "    t_half = t + half_tau\n",
    "    \n",
    "    for i in range(0,nY):\n",
    "        ytemp[i] = y[i] + half_tau*F1[i]\n",
    "        \n",
    "    fderiv(par,ytemp,t_half,F2)\n",
    "    \n",
    "    for i in range(0,nY):\n",
    "        ytemp[i] = y[i] + half_tau*F2[i]\n",
    "        \n",
    "    fderiv(par,ytemp,t_half,F3)\n",
    "    \n",
    "    t_full = t + tau\n",
    "\n",
    "    for i in range(0,nY):\n",
    "        ytemp[i] = y[i] + tau*F3[i]\n",
    "        \n",
    "    fderiv(par,ytemp,t_full,F4)\n",
    "    \n",
    "    for i in range(0,nY):\n",
    "        y[i] = y[i] + tau/6.0*(F1[i]+F4[i]+2.0*(F2[i]+F3[i]))"
   ]
  },
  {
   "cell_type": "code",
   "execution_count": 70,
   "metadata": {},
   "outputs": [
    {
     "name": "stdout",
     "output_type": "stream",
     "text": [
      "Value of x at t = 0.200 is 2079.408\n"
     ]
    },
    {
     "data": {
      "text/plain": [
       "<matplotlib.legend.Legend at 0x7f8e3e440080>"
      ]
     },
     "execution_count": 70,
     "metadata": {},
     "output_type": "execute_result"
    },
    {
     "data": {
      "image/png": "[encoded data removed]",
      "text/plain": [
       "<Figure size 432x288 with 1 Axes>"
      ]
     },
     "metadata": {
      "needs_background": "light"
     },
     "output_type": "display_data"
    }
   ],
   "source": [
    "nStep = 5000\n",
    "a = 1.0000\n",
    "\n",
    "par = np.array([6.22E-19,2000.0,2000.0,3000.0])\n",
    "    \n",
    "tau = a/nStep\n",
    "\n",
    "# Everything below this point is calculated.\n",
    "y0 = 0.0\n",
    "yp0 = par[0]*par[1]**2*par[2]**2*par[3]**2\n",
    "\n",
    "tlow = 0\n",
    "\n",
    "y4 = array('d')\n",
    "state4 = array('d')\n",
    "deriv4 = array('d')\n",
    "\n",
    "nState = 1\n",
    "y4.append(y0)\n",
    "state4.append(y4[0])\n",
    "\n",
    "for i in range(0,nState):\n",
    "    deriv4.append(yp0)\n",
    "    \n",
    "yplot4 = array('d')\n",
    "tplot4 = array('d')\n",
    "\n",
    "debug = False\n",
    "\n",
    "time = 0.0\n",
    "flag = True\n",
    "for iStep in range(0,nStep+1):\n",
    "    yplot4.append(y4[0])\n",
    "    tplot4.append(time)\n",
    "    rk4(state4,nState,time,tau,par,deriv4)\n",
    "    y4[0]=state4[0]\n",
    "    time = time + tau\n",
    "    if time>=0.2 and flag:\n",
    "        print ('Value of x at t = %0.3f is %0.3f' % (time-tau,y4[0]))\n",
    "        flag = False\n",
    "\n",
    "if debug:\n",
    "    print ('Time Values at interval endpoints')\n",
    "    print (tplot4[nStep])\n",
    "    print (tplot4[0])\n",
    "    print (len(tplot4))\n",
    "\n",
    "    print ('Function Values at interval endpoints')\n",
    "    print (yplot4[nStep])\n",
    "    print (yplot4[0])\n",
    "    print (len(yplot4))\n",
    "    \n",
    "plt.plot(tplot4[0:nStep+1],yplot4[0:nStep+1],'m-',label='Fourth Order Runge Kutta')\n",
    "plt.ylabel('x')\n",
    "plt.xlabel('t')\n",
    "#plt.xscale('log')\n",
    "plt.legend()\n",
    "    \n"
   ]
  },
  {
   "cell_type": "code",
   "execution_count": null,
   "metadata": {},
   "outputs": [],
   "source": []
  },
  {
   "cell_type": "code",
   "execution_count": null,
   "metadata": {},
   "outputs": [],
   "source": []
  },
  {
   "cell_type": "code",
   "execution_count": null,
   "metadata": {},
   "outputs": [],
   "source": []
  },
  {
   "cell_type": "code",
   "execution_count": null,
   "metadata": {},
   "outputs": [],
   "source": []
  },
  {
   "cell_type": "code",
   "execution_count": null,
   "metadata": {},
   "outputs": [],
   "source": []
  }
 ],
 "metadata": {
  "kernelspec": {
   "display_name": "Python 3",
   "language": "python",
   "name": "python3"
  },
  "language_info": {
   "codemirror_mode": {
    "name": "ipython",
    "version": 3
   },
   "file_extension": ".py",
   "mimetype": "text/x-python",
   "name": "python",
   "nbconvert_exporter": "python",
   "pygments_lexer": "ipython3",
   "version": "3.6.8"
  }
 },
 "nbformat": 4,
 "nbformat_minor": 4
}
