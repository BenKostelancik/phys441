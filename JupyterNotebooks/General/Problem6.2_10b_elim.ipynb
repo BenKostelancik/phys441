{
 "cells": [
  {
   "cell_type": "code",
   "execution_count": 76,
   "metadata": {},
   "outputs": [],
   "source": [
    "import numpy as np\n",
    "import math\n",
    "\n",
    "def round_to_n(x,n):\n",
    "    for i in range(len(x)):\n",
    "        for j in range(len(x)+1):\n",
    "            if x[i][j] == 0:\n",
    "                continue\n",
    "            else:\n",
    "                x[i][j] = round(x[i][j], -int(math.floor(math.log10(abs(x[i][j])))) + (n - 1))\n",
    "    return x\n",
    "\n",
    "def elim(A,row,row1,row2,position,d):\n",
    "    factor = A[row1-1][position-1]/A[row2-1][position-1]\n",
    "    for i in range(len(A)+1):\n",
    "        A[row-1][i] = A[row1-1][i] - A[row2-1][i]*factor\n",
    "    A = round_to_n(A,d)\n",
    "    return A\n",
    "\n",
    "def norm(A,row,pos,d):\n",
    "    factor = A[row-1][pos-1]\n",
    "    for i in range(len(A)+1):\n",
    "        A[row-1][i] = A[row-1][i]/factor\n",
    "    A = round_to_n(A,d)\n",
    "    return A"
   ]
  },
  {
   "cell_type": "code",
   "execution_count": 77,
   "metadata": {},
   "outputs": [],
   "source": [
    "n = 3\n",
    "m = n + 1\n",
    "A = np.array([[3.3330,15920,10.333,7953],[2.2220,16.710,9.612,0.965],[-1.5611,5.1792,-1.6855,2.714]])\n",
    "\n",
    "d = 3"
   ]
  },
  {
   "cell_type": "code",
   "execution_count": 78,
   "metadata": {},
   "outputs": [
    {
     "name": "stdout",
     "output_type": "stream",
     "text": [
      "[[ 3.33e+00  1.59e+04  1.03e+01  7.95e+03]\n",
      " [ 2.22e+00  1.67e+01  9.61e+00  9.65e-01]\n",
      " [-1.56e+00  5.18e+00 -1.69e+00  2.71e+00]]\n"
     ]
    }
   ],
   "source": [
    "A = round_to_n(A,d)\n",
    "print (A)"
   ]
  },
  {
   "cell_type": "code",
   "execution_count": 79,
   "metadata": {},
   "outputs": [],
   "source": [
    "# r2 = r2 - r1*r2[0]/r1[0]\n",
    "A = elim(A,2,2,1,1,d)\n",
    "\n",
    "# r3 = r3 - r1*r3[0]/r1[0]\n",
    "A = elim(A,3,3,1,1,d)\n"
   ]
  },
  {
   "cell_type": "code",
   "execution_count": 80,
   "metadata": {},
   "outputs": [
    {
     "name": "stdout",
     "output_type": "stream",
     "text": [
      "[[ 3.33e+00  1.59e+04  1.03e+01  7.95e+03]\n",
      " [ 0.00e+00 -1.06e+04  2.74e+00 -5.30e+03]\n",
      " [ 0.00e+00  7.45e+03  3.14e+00  3.73e+03]]\n"
     ]
    }
   ],
   "source": [
    "print (A)"
   ]
  },
  {
   "cell_type": "code",
   "execution_count": 81,
   "metadata": {},
   "outputs": [],
   "source": [
    "#r3 = r3 - r2*r3[1]/r2[1]\n",
    "A = elim(A,3,3,2,2,d)"
   ]
  },
  {
   "cell_type": "code",
   "execution_count": 82,
   "metadata": {},
   "outputs": [
    {
     "name": "stdout",
     "output_type": "stream",
     "text": [
      "[[ 3.33e+00  1.59e+04  1.03e+01  7.95e+03]\n",
      " [ 0.00e+00 -1.06e+04  2.74e+00 -5.30e+03]\n",
      " [ 0.00e+00  0.00e+00  5.07e+00  5.00e+00]]\n"
     ]
    }
   ],
   "source": [
    "print (A)"
   ]
  },
  {
   "cell_type": "code",
   "execution_count": 83,
   "metadata": {},
   "outputs": [],
   "source": [
    "#r1 = r1 - r2*r1[1]/r2[1]\n",
    "A = elim(A,1,1,2,2,d)\n",
    "\n",
    "#r2 = r2 - r3*r2[2]/r3[2]\n",
    "A = elim(A,2,2,3,3,d)"
   ]
  },
  {
   "cell_type": "code",
   "execution_count": 84,
   "metadata": {},
   "outputs": [
    {
     "name": "stdout",
     "output_type": "stream",
     "text": [
      "[[ 3.33e+00  0.00e+00  1.44e+01  0.00e+00]\n",
      " [ 0.00e+00 -1.06e+04  0.00e+00 -5.30e+03]\n",
      " [ 0.00e+00  0.00e+00  5.07e+00  5.00e+00]]\n"
     ]
    }
   ],
   "source": [
    "print (A)"
   ]
  },
  {
   "cell_type": "code",
   "execution_count": 85,
   "metadata": {},
   "outputs": [],
   "source": [
    "#r1 = r1 - r3*r1[2]/r3[2]\n",
    "A = elim(A,1,1,3,3,d)"
   ]
  },
  {
   "cell_type": "code",
   "execution_count": 86,
   "metadata": {},
   "outputs": [
    {
     "name": "stdout",
     "output_type": "stream",
     "text": [
      "[[ 3.33e+00  0.00e+00  0.00e+00 -1.42e+01]\n",
      " [ 0.00e+00 -1.06e+04  0.00e+00 -5.30e+03]\n",
      " [ 0.00e+00  0.00e+00  5.07e+00  5.00e+00]]\n"
     ]
    }
   ],
   "source": [
    "print (A)"
   ]
  },
  {
   "cell_type": "code",
   "execution_count": 87,
   "metadata": {},
   "outputs": [
    {
     "name": "stdout",
     "output_type": "stream",
     "text": [
      "[[ 1.     0.     0.    -4.26 ]\n",
      " [-0.     1.    -0.     0.5  ]\n",
      " [ 0.     0.     1.     0.986]]\n"
     ]
    }
   ],
   "source": [
    "A = norm(A,1,1,d)\n",
    "A = norm(A,2,2,d)\n",
    "A = norm(A,3,3,d)\n",
    "\n",
    "print (A)"
   ]
  },
  {
   "cell_type": "code",
   "execution_count": null,
   "metadata": {},
   "outputs": [],
   "source": []
  }
 ],
 "metadata": {
  "kernelspec": {
   "display_name": "Python 3",
   "language": "python",
   "name": "python3"
  },
  "language_info": {
   "codemirror_mode": {
    "name": "ipython",
    "version": 3
   },
   "file_extension": ".py",
   "mimetype": "text/x-python",
   "name": "python",
   "nbconvert_exporter": "python",
   "pygments_lexer": "ipython3",
   "version": "3.6.8"
  }
 },
 "nbformat": 4,
 "nbformat_minor": 4
}
