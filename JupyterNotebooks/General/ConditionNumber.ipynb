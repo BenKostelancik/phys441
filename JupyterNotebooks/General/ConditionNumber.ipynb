{
 "cells": [
  {
   "cell_type": "code",
   "execution_count": 1,
   "metadata": {
    "ExecuteTime": {
     "end_time": "2023-08-13T18:36:27.066122Z",
     "start_time": "2023-08-13T18:36:26.688910Z"
    }
   },
   "outputs": [],
   "source": [
    "import numpy as np\n",
    "import scipy.linalg"
   ]
  },
  {
   "cell_type": "code",
   "execution_count": 2,
   "metadata": {
    "ExecuteTime": {
     "end_time": "2023-08-13T18:36:28.400548Z",
     "start_time": "2023-08-13T18:36:28.397525Z"
    }
   },
   "outputs": [],
   "source": [
    "A = np.array([[58.9,0.03],[-6.10,5.31]])"
   ]
  },
  {
   "cell_type": "code",
   "execution_count": 3,
   "metadata": {
    "ExecuteTime": {
     "end_time": "2023-08-13T18:36:29.694179Z",
     "start_time": "2023-08-13T18:36:29.674314Z"
    }
   },
   "outputs": [],
   "source": [
    "a = A[0][0]\n",
    "b = A[0][1]\n",
    "c = A[1][0]\n",
    "d = A[1][1]"
   ]
  },
  {
   "cell_type": "code",
   "execution_count": 4,
   "metadata": {
    "ExecuteTime": {
     "end_time": "2023-08-13T18:36:32.570531Z",
     "start_time": "2023-08-13T18:36:32.560317Z"
    }
   },
   "outputs": [
    {
     "name": "stdout",
     "output_type": "stream",
     "text": [
      "Non-Singular\n"
     ]
    }
   ],
   "source": [
    "detA = a*d - b*c\n",
    "\n",
    "if detA == 0:\n",
    "    print (\"Singular!!!!\")\n",
    "else:\n",
    "    print (\"Non-Singular\")"
   ]
  },
  {
   "cell_type": "code",
   "execution_count": 5,
   "metadata": {
    "ExecuteTime": {
     "end_time": "2023-08-13T18:36:45.140302Z",
     "start_time": "2023-08-13T18:36:45.132494Z"
    }
   },
   "outputs": [
    {
     "name": "stdout",
     "output_type": "stream",
     "text": [
      "A_inf =  58.93\n",
      "A_inf (numpy) =  58.93\n"
     ]
    }
   ],
   "source": [
    "A_inf = max(abs(a)+abs(b),abs(c)+abs(d))\n",
    "print (\"A_inf = \",A_inf)\n",
    "\n",
    "print (\"A_inf (numpy) = \",np.linalg.norm(A,np.inf))"
   ]
  },
  {
   "cell_type": "code",
   "execution_count": 6,
   "metadata": {
    "ExecuteTime": {
     "end_time": "2023-08-13T18:37:06.873869Z",
     "start_time": "2023-08-13T18:37:06.864496Z"
    }
   },
   "outputs": [
    {
     "name": "stdout",
     "output_type": "stream",
     "text": [
      "[[ 1.69680005e-02 -9.58644094e-05]\n",
      " [ 1.94924299e-02  1.88213790e-01]]\n"
     ]
    }
   ],
   "source": [
    "Ainv = 1.0/detA*np.array([[d,-b],[-c,a]])\n",
    "print (Ainv)"
   ]
  },
  {
   "cell_type": "code",
   "execution_count": 7,
   "metadata": {
    "ExecuteTime": {
     "end_time": "2023-08-13T18:37:12.855415Z",
     "start_time": "2023-08-13T18:37:12.845912Z"
    }
   },
   "outputs": [
    {
     "name": "stdout",
     "output_type": "stream",
     "text": [
      "Ainv_inf =  0.20770622032197664\n",
      "A_inf (scipy) =  0.20770622032197664\n"
     ]
    }
   ],
   "source": [
    "Ainv_inf = max(abs(Ainv[0][0])+abs(Ainv[0,1]),abs(Ainv[1][0])+abs(Ainv[1,1]))\n",
    "print (\"Ainv_inf = \",Ainv_inf)\n",
    "\n",
    "print (\"A_inf (scipy) = \",np.linalg.norm(Ainv,np.inf))"
   ]
  },
  {
   "cell_type": "code",
   "execution_count": 8,
   "metadata": {
    "ExecuteTime": {
     "end_time": "2023-08-13T18:37:26.726450Z",
     "start_time": "2023-08-13T18:37:26.715556Z"
    }
   },
   "outputs": [
    {
     "name": "stdout",
     "output_type": "stream",
     "text": [
      "K =  12.240127563574083\n",
      "K (numpy) =  12.240127563574081\n"
     ]
    }
   ],
   "source": [
    "K = A_inf*Ainv_inf\n",
    "print (\"K = \",K)\n",
    "\n",
    "print (\"K (numpy) = \",np.linalg.cond(A,np.inf))"
   ]
  },
  {
   "cell_type": "code",
   "execution_count": 9,
   "metadata": {
    "ExecuteTime": {
     "end_time": "2023-08-13T18:37:33.197589Z",
     "start_time": "2023-08-13T18:37:33.195066Z"
    }
   },
   "outputs": [],
   "source": [
    "B = np.array([59.2,47.0]).transpose()"
   ]
  },
  {
   "cell_type": "code",
   "execution_count": 10,
   "metadata": {
    "ExecuteTime": {
     "end_time": "2023-08-13T18:37:35.248052Z",
     "start_time": "2023-08-13T18:37:35.245186Z"
    }
   },
   "outputs": [],
   "source": [
    "x_exact = np.array([1,10]).transpose()\n",
    "x_approx = np.array([1.02,9.98]).transpose()"
   ]
  },
  {
   "cell_type": "code",
   "execution_count": 11,
   "metadata": {
    "ExecuteTime": {
     "end_time": "2023-08-13T18:37:38.394858Z",
     "start_time": "2023-08-13T18:37:38.381253Z"
    }
   },
   "outputs": [
    {
     "name": "stdout",
     "output_type": "stream",
     "text": [
      "0.020000000000000018\n"
     ]
    }
   ],
   "source": [
    "x_diff = x_exact - x_approx\n",
    "print (np.linalg.norm(x_diff,np.inf))"
   ]
  },
  {
   "cell_type": "code",
   "execution_count": 12,
   "metadata": {
    "ExecuteTime": {
     "end_time": "2023-08-13T18:37:41.408235Z",
     "start_time": "2023-08-13T18:37:41.387390Z"
    }
   },
   "outputs": [
    {
     "name": "stdout",
     "output_type": "stream",
     "text": [
      "[[ 5.89e+01  3.00e-02]\n",
      " [-6.10e+00  5.31e+00]]\n",
      "[1.02 9.98]\n",
      "[60.3774 46.7718]\n"
     ]
    }
   ],
   "source": [
    "Numerator = B - np.dot(A,x_approx)\n",
    "\n",
    "print (A)\n",
    "print (x_approx)\n",
    "print (np.dot(A,x_approx))"
   ]
  },
  {
   "cell_type": "code",
   "execution_count": 13,
   "metadata": {
    "ExecuteTime": {
     "end_time": "2023-08-13T18:37:43.924170Z",
     "start_time": "2023-08-13T18:37:43.912288Z"
    }
   },
   "outputs": [
    {
     "name": "stdout",
     "output_type": "stream",
     "text": [
      "[-1.1774  0.2282]\n"
     ]
    }
   ],
   "source": [
    "print (Numerator)"
   ]
  },
  {
   "cell_type": "code",
   "execution_count": 14,
   "metadata": {
    "ExecuteTime": {
     "end_time": "2023-08-13T18:37:46.920709Z",
     "start_time": "2023-08-13T18:37:46.873793Z"
    }
   },
   "outputs": [
    {
     "name": "stdout",
     "output_type": "stream",
     "text": [
      "0.24455330380709497\n"
     ]
    }
   ],
   "source": [
    "print (np.linalg.cond(A,np.inf)*np.linalg.norm(Numerator,np.inf)/np.linalg.norm(A,np.inf))"
   ]
  },
  {
   "cell_type": "code",
   "execution_count": 15,
   "metadata": {
    "ExecuteTime": {
     "end_time": "2023-08-13T18:37:48.706202Z",
     "start_time": "2023-08-13T18:37:48.696717Z"
    }
   },
   "outputs": [
    {
     "name": "stdout",
     "output_type": "stream",
     "text": [
      "[[ 5.89e+01  3.00e-02]\n",
      " [-6.10e+00  5.31e+00]]\n",
      "[ 1 10]\n",
      "[59.2 47. ]\n"
     ]
    }
   ],
   "source": [
    "Numerator = B - np.dot(A,x_exact)\n",
    "\n",
    "print (A)\n",
    "print (x_exact)\n",
    "print (np.dot(A,x_exact))"
   ]
  },
  {
   "cell_type": "code",
   "execution_count": 16,
   "metadata": {
    "ExecuteTime": {
     "end_time": "2023-08-13T18:37:50.246624Z",
     "start_time": "2023-08-13T18:37:50.241714Z"
    }
   },
   "outputs": [
    {
     "name": "stdout",
     "output_type": "stream",
     "text": [
      "[7.10542736e-15 7.10542736e-15]\n"
     ]
    }
   ],
   "source": [
    "print (Numerator)"
   ]
  },
  {
   "cell_type": "code",
   "execution_count": 17,
   "metadata": {
    "ExecuteTime": {
     "end_time": "2023-08-13T18:37:51.303679Z",
     "start_time": "2023-08-13T18:37:51.296198Z"
    }
   },
   "outputs": [
    {
     "name": "stdout",
     "output_type": "stream",
     "text": [
      "1.4758414602196738e-15\n"
     ]
    }
   ],
   "source": [
    "print (np.linalg.cond(A,np.inf)*np.linalg.norm(Numerator,np.inf)/np.linalg.norm(A,np.inf))"
   ]
  },
  {
   "cell_type": "code",
   "execution_count": null,
   "metadata": {},
   "outputs": [],
   "source": []
  }
 ],
 "metadata": {
  "kernelspec": {
   "display_name": "Python 3",
   "language": "python",
   "name": "python3"
  },
  "language_info": {
   "codemirror_mode": {
    "name": "ipython",
    "version": 3
   },
   "file_extension": ".py",
   "mimetype": "text/x-python",
   "name": "python",
   "nbconvert_exporter": "python",
   "pygments_lexer": "ipython3",
   "version": "3.6.8"
  }
 },
 "nbformat": 4,
 "nbformat_minor": 4
}
