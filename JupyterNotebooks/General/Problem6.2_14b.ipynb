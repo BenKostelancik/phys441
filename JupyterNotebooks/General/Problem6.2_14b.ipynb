{
 "cells": [
  {
   "cell_type": "code",
   "execution_count": 1,
   "metadata": {},
   "outputs": [],
   "source": [
    "import numpy as np\n",
    "import math\n",
    "\n",
    "def round_to_n(x,n):\n",
    "    for i in range(len(x)):\n",
    "        if x[i] == 0:\n",
    "            continue\n",
    "        else:\n",
    "            x[i] = round(x[i], -int(math.floor(math.log10(abs(x[i])))) + (n - 1))\n",
    "    return x"
   ]
  },
  {
   "cell_type": "code",
   "execution_count": 2,
   "metadata": {},
   "outputs": [],
   "source": [
    "r1 = np.array([3.3330,15920,10.333,7953])\n",
    "r2 = np.array([2.2220,16.710,9.612,0.965])\n",
    "r3 = np.array([-1.5611,5.1792,-1.6855,2.714])\n",
    "\n",
    "d = 3"
   ]
  },
  {
   "cell_type": "code",
   "execution_count": 3,
   "metadata": {},
   "outputs": [
    {
     "name": "stdout",
     "output_type": "stream",
     "text": [
      "[3.33e+00 1.59e+04 1.03e+01 7.95e+03]\n",
      "[ 2.22  16.7    9.61   0.965]\n",
      "[-1.56  5.18 -1.69  2.71]\n"
     ]
    }
   ],
   "source": [
    "r1 = round_to_n(r1,d)\n",
    "r2 = round_to_n(r2,d)\n",
    "r3 = round_to_n(r3,d)\n",
    "print (r1)\n",
    "print (r2)\n",
    "print (r3)"
   ]
  },
  {
   "cell_type": "code",
   "execution_count": 4,
   "metadata": {},
   "outputs": [],
   "source": [
    "r2 = r2 - r1*r2[0]/r1[0]\n",
    "r3 = r3 - r1*r3[0]/r1[0]\n",
    "r1 = round_to_n(r1,d)\n",
    "r2 = round_to_n(r2,d)\n",
    "r3 = round_to_n(r3,d)"
   ]
  },
  {
   "cell_type": "code",
   "execution_count": 5,
   "metadata": {},
   "outputs": [
    {
     "name": "stdout",
     "output_type": "stream",
     "text": [
      "[3.33e+00 1.59e+04 1.03e+01 7.95e+03]\n",
      "[ 0.00e+00 -1.06e+04  2.74e+00 -5.30e+03]\n",
      "[-2.22e-16  7.45e+03  3.14e+00  3.73e+03]\n"
     ]
    }
   ],
   "source": [
    "print (r1)\n",
    "print (r2)\n",
    "print (r3)"
   ]
  },
  {
   "cell_type": "code",
   "execution_count": 6,
   "metadata": {},
   "outputs": [
    {
     "name": "stdout",
     "output_type": "stream",
     "text": [
      "[3.33e+00 1.59e+04 1.03e+01 7.95e+03]\n",
      "[ 0.00e+00 -1.06e+04  2.74e+00 -5.30e+03]\n",
      "[-2.22e-16  7.45e+03  3.14e+00  3.73e+03]\n"
     ]
    }
   ],
   "source": [
    "#dummy = r2\n",
    "#r2 = r3\n",
    "#r3 = dummy\n",
    "print (r1)\n",
    "print (r2)\n",
    "print (r3)"
   ]
  },
  {
   "cell_type": "code",
   "execution_count": 7,
   "metadata": {},
   "outputs": [],
   "source": [
    "r3 = r3 - r2*r3[1]/r2[1]\n",
    "r1 = round_to_n(r1,d)\n",
    "r2 = round_to_n(r2,d)\n",
    "r3 = round_to_n(r3,d)"
   ]
  },
  {
   "cell_type": "code",
   "execution_count": 8,
   "metadata": {},
   "outputs": [
    {
     "name": "stdout",
     "output_type": "stream",
     "text": [
      "[3.33e+00 1.59e+04 1.03e+01 7.95e+03]\n",
      "[ 0.00e+00 -1.06e+04  2.74e+00 -5.30e+03]\n",
      "[-2.22e-16  0.00e+00  5.07e+00  5.00e+00]\n"
     ]
    }
   ],
   "source": [
    "print (r1)\n",
    "print (r2)\n",
    "print (r3)"
   ]
  },
  {
   "cell_type": "code",
   "execution_count": 9,
   "metadata": {},
   "outputs": [
    {
     "name": "stdout",
     "output_type": "stream",
     "text": [
      "-4.26758119065799 0.5002549216627591 0.9861932938856015\n"
     ]
    }
   ],
   "source": [
    "x3 = r3[3]/r3[2]\n",
    "x2 = (r2[3] - r2[2]*x3)/r2[1]\n",
    "x1 = (r1[3] - r1[2]*x3 - r1[1]*x2)/r1[0]\n",
    "\n",
    "print (x1,x2,x3)"
   ]
  },
  {
   "cell_type": "code",
   "execution_count": null,
   "metadata": {},
   "outputs": [],
   "source": []
  }
 ],
 "metadata": {
  "kernelspec": {
   "display_name": "Python 3",
   "language": "python",
   "name": "python3"
  },
  "language_info": {
   "codemirror_mode": {
    "name": "ipython",
    "version": 3
   },
   "file_extension": ".py",
   "mimetype": "text/x-python",
   "name": "python",
   "nbconvert_exporter": "python",
   "pygments_lexer": "ipython3",
   "version": "3.6.8"
  }
 },
 "nbformat": 4,
 "nbformat_minor": 4
}
