{
 "cells": [
  {
   "cell_type": "code",
   "execution_count": 1,
   "metadata": {},
   "outputs": [],
   "source": [
    "from bs4 import BeautifulSoup\n",
    "import requests\n",
    "import requests.exceptions\n",
    "from urllib.parse import urlsplit\n",
    "from urllib.parse import urlparse\n",
    "from collections import deque"
   ]
  },
  {
   "cell_type": "code",
   "execution_count": 34,
   "metadata": {},
   "outputs": [
    {
     "name": "stdout",
     "output_type": "stream",
     "text": [
      "deque(['http://www.cse.msu.edu/~cse801a/exercise10/green.html'])\n"
     ]
    }
   ],
   "source": [
    "url = 'http://www.cse.msu.edu/~cse801a/exercise10/green.html'\n",
    "\n",
    "# a queue of urls to be crawled next\n",
    "new_urls = deque([url])\n",
    "print (new_urls)\n",
    "\n",
    "# a set of urls that we have already processed \n",
    "processed_urls = set()\n",
    "\n",
    "# a set of domains inside the target website\n",
    "local_urls = set()\n",
    "\n",
    "# a set of domains outside the target website\n",
    "foreign_urls = set()\n",
    "\n",
    "# a set of broken urls\n",
    "broken_urls = set()"
   ]
  },
  {
   "cell_type": "code",
   "execution_count": 35,
   "metadata": {},
   "outputs": [
    {
     "name": "stdout",
     "output_type": "stream",
     "text": [
      "Processing http://www.cse.msu.edu/~cse801a/exercise10/green.html\n",
      "Processing http://www.cse.msu.edu/~cse801a/exercise10/navy.html\n",
      "Processing http://www.cse.msu.edu/~cse801a/exercise10/red.html\n",
      "Processing http://www.cse.msu.edu/~cse801a/exercise10/blue.html\n",
      "Processing http://www.cse.msu.edu/~cse801a/exercise10/orange.html\n",
      "Processing http://www.cse.msu.edu/~cse801a/exercise10/pink.html\n",
      "Processing http://www.cse.msu.edu/~cse801a/exercise10/violet.html\n",
      "Processing http://www.cse.msu.edu/~cse801a/exercise10/purple.html\n",
      "Processing http://www.cse.msu.edu/~cse801a/exercise10/gold.html\n",
      "Processing http://www.cse.msu.edu/~cse801a/exercise10/yellow.html\n"
     ]
    }
   ],
   "source": [
    "# process urls one by one until we exhaust the queue\n",
    "while len(new_urls):    \n",
    "    # move url from the queue to processed url set    \n",
    "    url = new_urls.popleft()    \n",
    "    processed_urls.add(url)    \n",
    "    # print the current url    \n",
    "    print('Processing %s' % url)\n",
    "    #print(new_urls)\n",
    "    try:    \n",
    "        response = requests.get(url)\n",
    "    except(requests.exceptions.MissingSchema, requests.exceptions.ConnectionError, requests.exceptions.InvalidURL, requests.exceptions.InvalidSchema):    \n",
    "        # add broken urls to it’s own set, then continue    \n",
    "        broken_urls.add(url)    \n",
    "        continue\n",
    "        \n",
    "    # extract base url to resolve relative links\n",
    "    parts = urlsplit(url)\n",
    "    base = '{0.netloc}'.format(parts)\n",
    "    strip_base = base.replace('www.', '')\n",
    "    base_url = '{0.scheme}://{0.netloc}'.format(parts)\n",
    "    path = url[:url.rfind('/')+1] if '/' in parts.path else url\n",
    "    \n",
    "    soup = BeautifulSoup(response.text, 'lxml')\n",
    "    for link in soup.find_all('a'):    \n",
    "        # extract link url from the anchor    \n",
    "        anchor = link.attrs['href'] if 'href' in link.attrs else ''\n",
    "        if anchor.startswith('/'):        \n",
    "            local_link = base_url + anchor        \n",
    "            local_urls.add(local_link)    \n",
    "        elif strip_base in anchor:        \n",
    "            local_urls.add(anchor)    \n",
    "        elif not anchor.startswith('http'):        \n",
    "            local_link = path + anchor        \n",
    "            local_urls.add(local_link)    \n",
    "        else:        \n",
    "            foreign_urls.add(anchor)\n",
    "        \n",
    "        #print(local_urls)\n",
    "        for i in local_urls:    \n",
    "            if not i in new_urls and not i in processed_urls:        \n",
    "                new_urls.append(i)\n",
    "        #print ('end of loop',new_urls)"
   ]
  },
  {
   "cell_type": "code",
   "execution_count": 37,
   "metadata": {},
   "outputs": [
    {
     "name": "stdout",
     "output_type": "stream",
     "text": [
      "deque(['http://www.cse.msu.edu/~cse801a/exercise10/green.html'])\n"
     ]
    }
   ],
   "source": [
    "url = 'http://www.cse.msu.edu/~cse801a/exercise10/green.html'\n",
    "\n",
    "# a queue of urls to be crawled next\n",
    "new_urls = deque([url])\n",
    "print (new_urls)\n",
    "\n",
    "# a set of urls that we have already processed \n",
    "processed_urls = set()\n",
    "\n",
    "# a set of domains inside the target website\n",
    "local_urls = set()\n",
    "\n",
    "# a set of domains outside the target website\n",
    "foreign_urls = set()\n",
    "\n",
    "# a set of broken urls\n",
    "broken_urls = set()"
   ]
  },
  {
   "cell_type": "code",
   "execution_count": 38,
   "metadata": {},
   "outputs": [
    {
     "name": "stdout",
     "output_type": "stream",
     "text": [
      "Processing http://www.cse.msu.edu/~cse801a/exercise10/green.html\n",
      "Processing http://www.cse.msu.edu/~cse801a/exercise10/red.html\n",
      "Processing http://www.cse.msu.edu/~cse801a/exercise10/pink.html\n",
      "Processing http://www.cse.msu.edu/~cse801a/exercise10/orange.html\n",
      "Processing http://www.cse.msu.edu/~cse801a/exercise10/yellow.html\n",
      "Processing http://www.cse.msu.edu/~cse801a/exercise10/gold.html\n",
      "Processing http://www.cse.msu.edu/~cse801a/exercise10/navy.html\n",
      "Processing http://www.cse.msu.edu/~cse801a/exercise10/blue.html\n",
      "Processing http://www.cse.msu.edu/~cse801a/exercise10/purple.html\n",
      "Processing http://www.cse.msu.edu/~cse801a/exercise10/violet.html\n"
     ]
    }
   ],
   "source": [
    "# process urls one by one until we exhaust the queue\n",
    "while len(new_urls):    \n",
    "    # move url from the queue to processed url set    \n",
    "    url = new_urls.popleft()    \n",
    "    processed_urls.add(url)    \n",
    "    # print the current url    \n",
    "    print('Processing %s' % url)\n",
    "    #print(new_urls)\n",
    "    try:    \n",
    "        response = requests.get(url)\n",
    "    except(requests.exceptions.MissingSchema, requests.exceptions.ConnectionError, requests.exceptions.InvalidURL, requests.exceptions.InvalidSchema):    \n",
    "        # add broken urls to it’s own set, then continue    \n",
    "        broken_urls.add(url)    \n",
    "        continue\n",
    "        \n",
    "    # extract base url to resolve relative links\n",
    "    parts = urlsplit(url)\n",
    "    base = '{0.netloc}'.format(parts)\n",
    "    strip_base = base.replace('www.', '')\n",
    "    base_url = '{0.scheme}://{0.netloc}'.format(parts)\n",
    "    path = url[:url.rfind('/')+1] if '/' in parts.path else url\n",
    "    \n",
    "    soup = BeautifulSoup(response.text, 'lxml')\n",
    "    for link in soup.find_all('a'):    \n",
    "        # extract link url from the anchor    \n",
    "        anchor = link.attrs['href'] if 'href' in link.attrs else ''\n",
    "        if anchor.startswith('/'):        \n",
    "            local_link = base_url + anchor        \n",
    "            local_urls.add(local_link)    \n",
    "        elif strip_base in anchor:        \n",
    "            local_urls.add(anchor)    \n",
    "        elif not anchor.startswith('http'):        \n",
    "            local_link = path + anchor        \n",
    "            local_urls.add(local_link)    \n",
    "        else:        \n",
    "            foreign_urls.add(anchor)\n",
    "        \n",
    "        #print(local_urls)\n",
    "        for i in local_urls:    \n",
    "            if not i in new_urls and not i in processed_urls:        \n",
    "                new_urls.appendleft(i)\n",
    "        #print ('end of loop',new_urls)"
   ]
  },
  {
   "cell_type": "code",
   "execution_count": null,
   "metadata": {},
   "outputs": [],
   "source": []
  }
 ],
 "metadata": {
  "kernelspec": {
   "display_name": "Python 3",
   "language": "python",
   "name": "python3"
  },
  "language_info": {
   "codemirror_mode": {
    "name": "ipython",
    "version": 3
   },
   "file_extension": ".py",
   "mimetype": "text/x-python",
   "name": "python",
   "nbconvert_exporter": "python",
   "pygments_lexer": "ipython3",
   "version": "3.6.8"
  }
 },
 "nbformat": 4,
 "nbformat_minor": 2
}
