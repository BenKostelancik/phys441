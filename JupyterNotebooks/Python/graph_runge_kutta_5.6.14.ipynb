{
 "cells": [
  {
   "cell_type": "code",
   "execution_count": 2,
   "metadata": {},
   "outputs": [],
   "source": [
    "from array import array\n",
    "import numpy as np\n",
    "import matplotlib.pyplot as plt\n",
    "import math"
   ]
  },
  {
   "cell_type": "code",
   "execution_count": 3,
   "metadata": {},
   "outputs": [],
   "source": [
    "def fderiv(par,y,t,deriv):\n",
    "    \n",
    "    alpha = par[0]\n",
    "    K = par[1]\n",
    "    \n",
    "    deriv[0] = alpha*np.log(K/y)*y\n",
    "    #print (y[0],deriv[0])"
   ]
  },
  {
   "cell_type": "code",
   "execution_count": 4,
   "metadata": {},
   "outputs": [],
   "source": [
    "def rk4(y,nY,t,tau,par,deriv):\n",
    "    F1 = array('d')\n",
    "    F2 = array('d')\n",
    "    F3 = array('d')\n",
    "    F4 = array('d')\n",
    "    ytemp = array('d')\n",
    "    \n",
    "    for i in range(0,nY):\n",
    "        F1.append(0.0)\n",
    "        F2.append(0.0)\n",
    "        F3.append(0.0)\n",
    "        F4.append(0.0)\n",
    "        ytemp.append(0.0)\n",
    "        \n",
    "    fderiv(par,y,t,F1)\n",
    "    \n",
    "    half_tau = 0.5*tau\n",
    "    t_half = t + half_tau\n",
    "    \n",
    "    for i in range(0,nY):\n",
    "        ytemp[i] = y[i] + half_tau*F1[i]\n",
    "        \n",
    "    fderiv(par,ytemp,t_half,F2)\n",
    "    \n",
    "    for i in range(0,nY):\n",
    "        ytemp[i] = y[i] + half_tau*F2[i]\n",
    "        \n",
    "    fderiv(par,ytemp,t_half,F3)\n",
    "    \n",
    "    t_full = t + tau\n",
    "\n",
    "    for i in range(0,nY):\n",
    "        ytemp[i] = y[i] + tau*F3[i]\n",
    "        \n",
    "    fderiv(par,ytemp,t_full,F4)\n",
    "    \n",
    "    for i in range(0,nY):\n",
    "        y[i] = y[i] + tau/6.0*(F1[i]+F4[i]+2.0*(F2[i]+F3[i]))"
   ]
  },
  {
   "cell_type": "code",
   "execution_count": 6,
   "metadata": {},
   "outputs": [
    {
     "name": "stdout",
     "output_type": "stream",
     "text": [
      "Value of x at t = 57.760 is 11000.072\n",
      "Time Values at interval endpoints\n",
      "199.9999999998967\n",
      "0.0\n",
      "50001\n",
      "Function Values at interval endpoints\n",
      "11997.97286131026\n",
      "4000.0\n",
      "50001\n"
     ]
    },
    {
     "data": {
      "text/plain": [
       "<matplotlib.legend.Legend at 0x7f6c6b6c5e80>"
      ]
     },
     "execution_count": 6,
     "metadata": {},
     "output_type": "execute_result"
    },
    {
     "data": {
      "image/png": "[encoded data removed]",
      "text/plain": [
       "<Figure size 432x288 with 1 Axes>"
      ]
     },
     "metadata": {
      "needs_background": "light"
     },
     "output_type": "display_data"
    }
   ],
   "source": [
    "nStep = 50000\n",
    "a = 200\n",
    "\n",
    "par = np.array([0.0439,12000.0])\n",
    "    \n",
    "tau = a/nStep\n",
    "\n",
    "# Everything below this point is calculated.\n",
    "y0 = 4000.0\n",
    "yp0 = 192.9163\n",
    "\n",
    "tlow = 0\n",
    "\n",
    "y4 = array('d')\n",
    "state4 = array('d')\n",
    "deriv4 = array('d')\n",
    "\n",
    "nState = 1\n",
    "y4.append(y0)\n",
    "state4.append(y4[0])\n",
    "\n",
    "for i in range(0,nState):\n",
    "    deriv4.append(yp0)\n",
    "    \n",
    "yplot4 = array('d')\n",
    "tplot4 = array('d')\n",
    "\n",
    "debug = True\n",
    "\n",
    "time = 0.0\n",
    "flag = True\n",
    "for iStep in range(0,nStep+1):\n",
    "    yplot4.append(y4[0])\n",
    "    tplot4.append(time)\n",
    "    rk4(state4,nState,time,tau,par,deriv4)\n",
    "    y4[0]=state4[0]\n",
    "    time = time + tau\n",
    "    if y4[0]>=11000.0 and flag:\n",
    "        print ('Value of x at t = %0.3f is %0.3f' % (time-tau,y4[0]))\n",
    "        flag = False\n",
    "\n",
    "if debug:\n",
    "    print ('Time Values at interval endpoints')\n",
    "    print (tplot4[nStep])\n",
    "    print (tplot4[0])\n",
    "    print (len(tplot4))\n",
    "\n",
    "    print ('Function Values at interval endpoints')\n",
    "    print (yplot4[nStep])\n",
    "    print (yplot4[0])\n",
    "    print (len(yplot4))\n",
    "    \n",
    "plt.plot(tplot4[0:nStep+1],yplot4[0:nStep+1],'m-',label='Fourth Order Runge Kutta')\n",
    "plt.ylabel('x')\n",
    "plt.xlabel('t')\n",
    "#plt.xscale('log')\n",
    "plt.legend()\n",
    "    \n"
   ]
  },
  {
   "cell_type": "code",
   "execution_count": null,
   "metadata": {},
   "outputs": [],
   "source": []
  },
  {
   "cell_type": "code",
   "execution_count": null,
   "metadata": {},
   "outputs": [],
   "source": []
  },
  {
   "cell_type": "code",
   "execution_count": null,
   "metadata": {},
   "outputs": [],
   "source": []
  },
  {
   "cell_type": "code",
   "execution_count": null,
   "metadata": {},
   "outputs": [],
   "source": []
  },
  {
   "cell_type": "code",
   "execution_count": null,
   "metadata": {},
   "outputs": [],
   "source": []
  }
 ],
 "metadata": {
  "kernelspec": {
   "display_name": "Python 3",
   "language": "python",
   "name": "python3"
  },
  "language_info": {
   "codemirror_mode": {
    "name": "ipython",
    "version": 3
   },
   "file_extension": ".py",
   "mimetype": "text/x-python",
   "name": "python",
   "nbconvert_exporter": "python",
   "pygments_lexer": "ipython3",
   "version": "3.6.8"
  }
 },
 "nbformat": 4,
 "nbformat_minor": 4
}
