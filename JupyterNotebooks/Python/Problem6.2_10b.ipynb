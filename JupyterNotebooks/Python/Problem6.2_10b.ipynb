{
 "cells": [
  {
   "cell_type": "code",
   "execution_count": 1,
   "metadata": {},
   "outputs": [],
   "source": [
    "import numpy as np"
   ]
  },
  {
   "cell_type": "code",
   "execution_count": 2,
   "metadata": {},
   "outputs": [],
   "source": [
    "r1 = np.array([3.3330,15920,10.333,7953])\n",
    "r2 = np.array([2.2220,16.710,9.612,0.965])\n",
    "r3 = np.array([-1.5611,5.1792,-1.6855,2.714])\n",
    "\n",
    "d = 5"
   ]
  },
  {
   "cell_type": "code",
   "execution_count": 3,
   "metadata": {},
   "outputs": [
    {
     "name": "stdout",
     "output_type": "stream",
     "text": [
      "[3.3330e+00 1.5920e+04 1.0333e+01 7.9530e+03]\n",
      "[ 2.222 16.71   9.612  0.965]\n",
      "[-1.5611  5.1792 -1.6855  2.714 ]\n"
     ]
    }
   ],
   "source": [
    "r1 = r1.round(decimals=d)\n",
    "r2 = r2.round(decimals=d)\n",
    "r3 = r3.round(decimals=d)\n",
    "print (r1)\n",
    "print (r2)\n",
    "print (r3)"
   ]
  },
  {
   "cell_type": "code",
   "execution_count": 4,
   "metadata": {},
   "outputs": [],
   "source": [
    "r1 = r1/r1[0]\n",
    "r2 = r2/r2[0]\n",
    "r3 = r3/r3[0]\n",
    "r1 = r1.round(decimals=d)\n",
    "r2 = r2.round(decimals=d)\n",
    "r3 = r3.round(decimals=d)"
   ]
  },
  {
   "cell_type": "code",
   "execution_count": 5,
   "metadata": {},
   "outputs": [
    {
     "name": "stdout",
     "output_type": "stream",
     "text": [
      "[1.00000000e+00 4.77647765e+03 3.10021000e+00 2.38613861e+03]\n",
      "[1.      7.52025 4.32583 0.43429]\n",
      "[ 1.      -3.31766  1.07969 -1.73852]\n"
     ]
    }
   ],
   "source": [
    "print (r1)\n",
    "print (r2)\n",
    "print (r3)"
   ]
  },
  {
   "cell_type": "code",
   "execution_count": 6,
   "metadata": {},
   "outputs": [],
   "source": [
    "r2 = r2 - r1\n",
    "r3 = r3 - r1\n",
    "r2 = r2/r2[1]\n",
    "r3 = r3/r3[1]\n",
    "r1 = r1.round(decimals=d)\n",
    "r2 = r2.round(decimals=d)\n",
    "r3 = r3.round(decimals=d)"
   ]
  },
  {
   "cell_type": "code",
   "execution_count": 7,
   "metadata": {},
   "outputs": [
    {
     "name": "stdout",
     "output_type": "stream",
     "text": [
      "[1.00000000e+00 4.77647765e+03 3.10021000e+00 2.38613861e+03]\n",
      "[-0.0000e+00  1.0000e+00 -2.6000e-04  5.0026e-01]\n",
      "[-0.0000e+00  1.0000e+00  4.2000e-04  4.9958e-01]\n"
     ]
    }
   ],
   "source": [
    "print (r1)\n",
    "print (r2)\n",
    "print (r3)"
   ]
  },
  {
   "cell_type": "code",
   "execution_count": 8,
   "metadata": {},
   "outputs": [],
   "source": [
    "r3 = r3 - r2\n",
    "if (not(r3[2]==0)):\n",
    "    r3 = r3/r3[2]\n",
    "r1 = r1.round(decimals=d)\n",
    "r2 = r2.round(decimals=d)\n",
    "r3 = r3.round(decimals=d)"
   ]
  },
  {
   "cell_type": "code",
   "execution_count": 9,
   "metadata": {},
   "outputs": [
    {
     "name": "stdout",
     "output_type": "stream",
     "text": [
      "[1.00000000e+00 4.77647765e+03 3.10021000e+00 2.38613861e+03]\n",
      "[-0.0000e+00  1.0000e+00 -2.6000e-04  5.0026e-01]\n",
      "[ 0.  0.  1. -1.]\n"
     ]
    }
   ],
   "source": [
    "print (r1)\n",
    "print (r2)\n",
    "print (r3)"
   ]
  },
  {
   "cell_type": "code",
   "execution_count": 10,
   "metadata": {},
   "outputs": [],
   "source": [
    "if (not(r2[1]==0)):\n",
    "    r1 = r1 - r1[1]/r2[1]*r2\n",
    "r1 = r1.round(decimals=d)\n",
    "r2 = r2.round(decimals=d)\n",
    "r3 = r3.round(decimals=d)"
   ]
  },
  {
   "cell_type": "code",
   "execution_count": 11,
   "metadata": {},
   "outputs": [
    {
     "name": "stdout",
     "output_type": "stream",
     "text": [
      "[ 1.       0.       4.34209 -3.3421 ]\n",
      "[-0.0000e+00  1.0000e+00 -2.6000e-04  5.0026e-01]\n",
      "[ 0.  0.  1. -1.]\n"
     ]
    }
   ],
   "source": [
    "print (r1)\n",
    "print (r2)\n",
    "print (r3)"
   ]
  },
  {
   "cell_type": "code",
   "execution_count": 12,
   "metadata": {},
   "outputs": [],
   "source": [
    "if (not(r3[2]==0)):\n",
    "    r1 = r1 - r1[2]/r3[2]*r3\n",
    "r1 = r1.round(decimals=d)\n",
    "r2 = r2.round(decimals=d)\n",
    "r3 = r3.round(decimals=d)"
   ]
  },
  {
   "cell_type": "code",
   "execution_count": 13,
   "metadata": {},
   "outputs": [
    {
     "name": "stdout",
     "output_type": "stream",
     "text": [
      "[1.      0.      0.      0.99999]\n",
      "[-0.0000e+00  1.0000e+00 -2.6000e-04  5.0026e-01]\n",
      "[ 0.  0.  1. -1.]\n"
     ]
    }
   ],
   "source": [
    "print (r1)\n",
    "print (r2)\n",
    "print (r3)"
   ]
  },
  {
   "cell_type": "code",
   "execution_count": 14,
   "metadata": {},
   "outputs": [],
   "source": [
    "if (not(r3[2]==0)):\n",
    "    r2 = r2 - r2[2]/r3[2]*r3\n",
    "r1 = r1.round(decimals=d)\n",
    "r2 = r2.round(decimals=d)\n",
    "r3 = r3.round(decimals=d)"
   ]
  },
  {
   "cell_type": "code",
   "execution_count": 15,
   "metadata": {},
   "outputs": [
    {
     "name": "stdout",
     "output_type": "stream",
     "text": [
      "[1.      0.      0.      0.99999]\n",
      "[0.  1.  0.  0.5]\n",
      "[ 0.  0.  1. -1.]\n"
     ]
    }
   ],
   "source": [
    "print (r1)\n",
    "print (r2)\n",
    "print (r3)"
   ]
  },
  {
   "cell_type": "code",
   "execution_count": null,
   "metadata": {},
   "outputs": [],
   "source": []
  },
  {
   "cell_type": "code",
   "execution_count": null,
   "metadata": {},
   "outputs": [],
   "source": []
  }
 ],
 "metadata": {
  "kernelspec": {
   "display_name": "Python 3",
   "language": "python",
   "name": "python3"
  },
  "language_info": {
   "codemirror_mode": {
    "name": "ipython",
    "version": 3
   },
   "file_extension": ".py",
   "mimetype": "text/x-python",
   "name": "python",
   "nbconvert_exporter": "python",
   "pygments_lexer": "ipython3",
   "version": "3.6.8"
  }
 },
 "nbformat": 4,
 "nbformat_minor": 4
}
