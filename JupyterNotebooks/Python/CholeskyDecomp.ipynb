{
 "cells": [
  {
   "cell_type": "code",
   "execution_count": 1,
   "metadata": {},
   "outputs": [],
   "source": [
    "import numpy as np\n",
    "    \n",
    "a = np.array([[2,-1,0],[-1,2,-1],[0,-1,2]])\n",
    "l = np.zeros(9)\n",
    "l = l.reshape(3,3)"
   ]
  },
  {
   "cell_type": "code",
   "execution_count": 2,
   "metadata": {},
   "outputs": [],
   "source": [
    "def choleskydecomp3(a):\n",
    "    \n",
    "    l[0][0] = np.sqrt(a[0][0])\n",
    "    \n",
    "    l[1][0] = a[0][1]/l[0][0]\n",
    "    l[2][0] = a[0][2]/l[0][0]\n",
    "    \n",
    "    l[1][1] = np.sqrt(a[1][1]-l[1][0]**2)\n",
    "    \n",
    "    l[2][1] = (a[1][2]-l[1][0]*l[2][0])/l[1][1]\n",
    "    \n",
    "    l[2][2] = np.sqrt(a[2][2]-l[2][0]**2-l[2][1]**2)\n",
    "    \n",
    "    return l"
   ]
  },
  {
   "cell_type": "code",
   "execution_count": 3,
   "metadata": {},
   "outputs": [
    {
     "name": "stdout",
     "output_type": "stream",
     "text": [
      "L =  [[ 1.41421356  0.          0.        ]\n",
      " [-0.70710678  1.22474487  0.        ]\n",
      " [ 0.         -0.81649658  1.15470054]]\n"
     ]
    }
   ],
   "source": [
    "l = choleskydecomp3(a)\n",
    "print (\"L = \",l)"
   ]
  },
  {
   "cell_type": "code",
   "execution_count": 9,
   "metadata": {},
   "outputs": [
    {
     "name": "stdout",
     "output_type": "stream",
     "text": [
      "L =  [[ 1.41421356  0.          0.        ]\n",
      " [-0.70710678  1.22474487  0.        ]\n",
      " [ 0.         -0.81649658  1.15470054]]\n"
     ]
    }
   ],
   "source": [
    "import scipy.linalg\n",
    "\n",
    "a = np.array([[2,-1,0],[-1,2,-1],[0,-1,2]])\n",
    "\n",
    "l = scipy.linalg.cholesky(a,lower=True)\n",
    "\n",
    "print (\"L = \",l)"
   ]
  },
  {
   "cell_type": "code",
   "execution_count": 4,
   "metadata": {},
   "outputs": [],
   "source": [
    "a = np.array([[4,1,1,1],[1,3,-1,-1],[1,-1,2,0],[1,1,0,2]])\n",
    "l = np.zeros(16)\n",
    "l = l.reshape(4,4)"
   ]
  },
  {
   "cell_type": "code",
   "execution_count": 5,
   "metadata": {},
   "outputs": [],
   "source": [
    "def choleskydecomp4(a):\n",
    "    \n",
    "    l[0][0] = np.sqrt(a[0][0])\n",
    "    \n",
    "    l[1][0] = a[0][1]/l[0][0]\n",
    "    l[2][0] = a[0][2]/l[0][0]\n",
    "    l[3][0] = a[0][3]/l[0][0]\n",
    "    \n",
    "    l[1][1] = np.sqrt(a[1][1]-l[1][0]**2)\n",
    "    \n",
    "    l[2][1] = (a[2][1]-l[1][0]*l[2][0])/l[1][1]\n",
    "    l[3][1] = (a[3][1]-l[1][0]*l[3][0])/l[1][1]\n",
    "    \n",
    "    l[2][2] = np.sqrt(a[2][2]-l[2][0]**2-l[2][1]**2)\n",
    "    \n",
    "    l[3][2] = (a[3][2]-l[3][0]*l[2][0]-l[3][1]*l[2][1])/l[2][2]\n",
    "    \n",
    "    l[3][3] = np.sqrt(a[3][3]-l[3][0]**2-l[3][1]**2-l[3][2]**2)\n",
    "    \n",
    "    return l"
   ]
  },
  {
   "cell_type": "code",
   "execution_count": 6,
   "metadata": {},
   "outputs": [
    {
     "name": "stdout",
     "output_type": "stream",
     "text": [
      "L =  [[ 2.          0.          0.          0.        ]\n",
      " [ 0.5         1.6583124   0.          0.        ]\n",
      " [ 0.5        -0.75377836  1.08711461  0.        ]\n",
      " [ 0.5         0.45226702  0.0836242   1.24034735]]\n"
     ]
    }
   ],
   "source": [
    "l = choleskydecomp4(a)\n",
    "print (\"L = \",l)"
   ]
  },
  {
   "cell_type": "code",
   "execution_count": 11,
   "metadata": {},
   "outputs": [
    {
     "name": "stdout",
     "output_type": "stream",
     "text": [
      "L =  [[ 2.          0.          0.          0.        ]\n",
      " [ 0.5         1.6583124   0.          0.        ]\n",
      " [ 0.5        -0.75377836  1.08711461  0.        ]\n",
      " [ 0.5         0.45226702  0.0836242   1.24034735]]\n"
     ]
    }
   ],
   "source": [
    "import scipy.linalg\n",
    "\n",
    "a = np.array([[4,1,1,1],[1,3,-1,-1],[1,-1,2,0],[1,1,0,2]])\n",
    "\n",
    "l = scipy.linalg.cholesky(a,lower=True)\n",
    "\n",
    "print (\"L = \",l)"
   ]
  },
  {
   "cell_type": "code",
   "execution_count": null,
   "metadata": {},
   "outputs": [],
   "source": []
  }
 ],
 "metadata": {
  "kernelspec": {
   "display_name": "Python 3",
   "language": "python",
   "name": "python3"
  },
  "language_info": {
   "codemirror_mode": {
    "name": "ipython",
    "version": 3
   },
   "file_extension": ".py",
   "mimetype": "text/x-python",
   "name": "python",
   "nbconvert_exporter": "python",
   "pygments_lexer": "ipython3",
   "version": "3.6.8"
  }
 },
 "nbformat": 4,
 "nbformat_minor": 4
}
