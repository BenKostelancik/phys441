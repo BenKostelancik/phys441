{
 "cells": [
  {
   "cell_type": "code",
   "execution_count": 164,
   "metadata": {},
   "outputs": [],
   "source": [
    "import numpy as np\n",
    "import matplotlib.pyplot as plt"
   ]
  },
  {
   "cell_type": "markdown",
   "metadata": {},
   "source": [
    "Composite Quadrature Rules:\n",
    "\n",
    "1. Trapezoid Rule (First Order):\n",
    "\n",
    "\\begin{equation}\n",
    "\\int_{x_0}^{x_1} f(x) dx = \\frac{h}{2} \\left ( f(x_0) +  f(x_1) \\right ) + \\mathcal{O}(h^3)\n",
    "\\end{equation}\n",
    "\n",
    "with $h = \\frac{x_1 - x_0}{N}$.\n",
    "\n",
    "2. Simpson's Rule (Second Order):\n",
    "\n",
    "\\begin{equation}\n",
    "\\int_{x_0}^{x_2} f(x) dx = \\frac{h}{3} \\left ( f(x_0) +  4f(x_1) + f(x_2) \\right ) + \\mathcal{O}(h^5)\n",
    "\\end{equation}\n",
    "\n",
    "with $h = \\frac{x_2 - x_0}{2N}$."
   ]
  },
  {
   "cell_type": "code",
   "execution_count": 236,
   "metadata": {},
   "outputs": [],
   "source": [
    "def yprime(y,t):\n",
    "    return 2.0*t*y*y\n",
    "\n",
    "def ydoubleprime(y,t):\n",
    "    return 2.0*y*y + 4.0*t*y\n",
    "\n",
    "def yexact(t):\n",
    "    return 1.0/(1.0 - t*t)\n",
    "\n",
    "def solve(a,k):\n",
    "    \n",
    "    maxN = np.power(10,k)\n",
    "    print (maxN)\n",
    "    \n",
    "    dt = a/maxN\n",
    "    print (dt)\n",
    "    \n",
    "    yl = np.zeros(maxN+1)\n",
    "    yq = np.zeros(maxN+1)\n",
    "    ye = np.zeros(maxN+1)\n",
    "    t = np.zeros(maxN+1)\n",
    "    \n",
    "    yl[0] = 1.0\n",
    "    ye[0] = 1.0\n",
    "    yq[0] = 1.0\n",
    "    t[0] = 0.0\n",
    "    \n",
    "    for i in range(1,maxN+1):\n",
    "        t[i] = i*dt\n",
    "        if i>999990: print(i,t[i])\n",
    "        yp = yprime(y[i-1],t[i-1])\n",
    "        ypp = ydoubleprime(y[i-1],t[i-1])\n",
    "\n",
    "        yl[i] = yl[i-1] + yp*dt\n",
    "        yq[i] = yq[i-1] + yp*dt + 0.5*ypp*dt*dt\n",
    "        ye[i] = yexact(t[i])\n",
    "        if i == maxN: print ('%0.6f %0.5f %0.5f %0.5f %0.3f %0.3f' % (t[i],yl[i],yq[i],ye[i],yp,ypp))\n",
    " \n",
    "    return t,yl,yq,ye"
   ]
  },
  {
   "cell_type": "code",
   "execution_count": 240,
   "metadata": {},
   "outputs": [
    {
     "name": "stdout",
     "output_type": "stream",
     "text": [
      "10000\n",
      "9.999e-05\n",
      "0.999900 2.00979 2.00999 5000.25001 2.040 6.080\n"
     ]
    },
    {
     "data": {
      "text/plain": [
       "<matplotlib.legend.Legend at 0x7f275aa2f6d8>"
      ]
     },
     "execution_count": 240,
     "metadata": {},
     "output_type": "execute_result"
    },
    {
     "data": {
      "image/png": "[encoded data removed]",
      "text/plain": [
       "<Figure size 432x288 with 1 Axes>"
      ]
     },
     "metadata": {
      "needs_background": "light"
     },
     "output_type": "display_data"
    }
   ],
   "source": [
    "t,yl,yq,ye = solve(0.9999,4)\n",
    "\n",
    "#plt.yscale('log')\n",
    "#plt.xscale('log')\n",
    "plt.xlabel('t')\n",
    "plt.ylabel('y')\n",
    "plt.plot(t,yl,label='Linear')\n",
    "plt.plot(t,yq,label='Quadratic')\n",
    "plt.plot(t,ye,'r--',label='Exact')\n",
    "#plt.xlim(0.98,1.00)\n",
    "plt.legend()"
   ]
  },
  {
   "cell_type": "code",
   "execution_count": 169,
   "metadata": {},
   "outputs": [
    {
     "data": {
      "text/plain": [
       "[<matplotlib.lines.Line2D at 0x7f2763ccb278>]"
      ]
     },
     "execution_count": 169,
     "metadata": {},
     "output_type": "execute_result"
    },
    {
     "data": {
      "image/png": "[encoded data removed]",
      "text/plain": [
       "<Figure size 432x288 with 1 Axes>"
      ]
     },
     "metadata": {
      "needs_background": "light"
     },
     "output_type": "display_data"
    }
   ],
   "source": [
    "plt.yscale('log')\n",
    "plt.plot(t,abs(ye-yl)/ye)\n",
    "plt.plot(t,abs(ye-yq)/ye)"
   ]
  },
  {
   "cell_type": "code",
   "execution_count": null,
   "metadata": {},
   "outputs": [],
   "source": []
  },
  {
   "cell_type": "code",
   "execution_count": null,
   "metadata": {},
   "outputs": [],
   "source": []
  },
  {
   "cell_type": "code",
   "execution_count": null,
   "metadata": {},
   "outputs": [],
   "source": []
  }
 ],
 "metadata": {
  "kernelspec": {
   "display_name": "Python 3",
   "language": "python",
   "name": "python3"
  },
  "language_info": {
   "codemirror_mode": {
    "name": "ipython",
    "version": 3
   },
   "file_extension": ".py",
   "mimetype": "text/x-python",
   "name": "python",
   "nbconvert_exporter": "python",
   "pygments_lexer": "ipython3",
   "version": "3.6.8"
  }
 },
 "nbformat": 4,
 "nbformat_minor": 4
}
