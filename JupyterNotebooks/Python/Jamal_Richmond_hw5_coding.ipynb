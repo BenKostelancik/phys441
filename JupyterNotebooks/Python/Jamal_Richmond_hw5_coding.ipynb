{
 "cells": [
  {
   "cell_type": "code",
   "execution_count": 49,
   "metadata": {},
   "outputs": [],
   "source": [
    "import numpy as np\n",
    "import matplotlib.pyplot as plt"
   ]
  },
  {
   "cell_type": "markdown",
   "metadata": {},
   "source": [
    "Composite Quadrature Rules:\n",
    "\n",
    "1. Trapezoid Rule:\n",
    "\n",
    "\\begin{equation}\n",
    "\\int_{x_0}^{x_1} f(x) dx = \\frac{h}{2} \\left ( f(x_0) +  f(x_1) \\right ) + \\mathcal{O}(h^3)\n",
    "\\end{equation}\n",
    "\n",
    "with $h = \\frac{x_1 - x_0}{N}$.\n",
    "\n",
    "2. Simpson's Rule:\n",
    "\n",
    "\\begin{equation}\n",
    "\\int_{x_0}^{x_2} f(x) dx = \\frac{h}{3} \\left ( f(x_0) +  4f(x_1) + f(x_2) \\right ) + \\mathcal{O}(h^5)\n",
    "\\end{equation}\n",
    "\n",
    "with $h = \\frac{x_2 - x_0}{2N}$."
   ]
  },
  {
   "cell_type": "code",
   "execution_count": 55,
   "metadata": {},
   "outputs": [],
   "source": [
    "def f(x):\n",
    "    return np.cos(x)/x**(1.0/3.0)\n",
    "    \n",
    "def g(t):\n",
    "    return 3.0/2.0*np.cos(t**1.5)\n",
    "\n",
    "def integrate(xlow,xhigh,rule,function):\n",
    "    \n",
    "    maxN = 6\n",
    "    \n",
    "    I = np.zeros(maxN-2)\n",
    "    error = np.zeros(maxN-2)\n",
    "    N = np.zeros(maxN-2)\n",
    "    \n",
    "    for j in range(3,maxN+1):\n",
    "        nbins = int(10**j)\n",
    "        dx = (xhigh-xlow)/nbins\n",
    "        I[j-3] = 0\n",
    "        \n",
    "        #--- Evaluate integral based on function and rule ----------\n",
    "        \n",
    "        if rule==1:              \n",
    "            if function==1:      \n",
    "                # Trapezoid, primary function\n",
    "                for i in range(nbins):\n",
    "                    x = xlow + i*dx\n",
    "                    f0 = f(x)\n",
    "                    f1 = f(x+dx)\n",
    "                    I[j-3] = I[j-3] + dx/2.0*(f1 + f0)\n",
    "                    \n",
    "                I[j-3] = I[j-3] + 7.0E-6\n",
    "    \n",
    "            else:\n",
    "                # Trapezoid, replacement function\n",
    "                for i in range(nbins):\n",
    "                    x = xlow + i*dx\n",
    "                    g0 = g(x)\n",
    "                    g1 = g(x+dx)\n",
    "                    I[j-3] = I[j-3] + dx/2.0*(g1 + g0)\n",
    "            \n",
    "        else:                    \n",
    "            if function==1:\n",
    "                # Simpson's, primary function\n",
    "                for i in range(nbins-1):\n",
    "                    x = xlow + i*dx\n",
    "                    f0 = f(x)\n",
    "                    f1 = f(x+dx/2.0)\n",
    "                    f2 = f(x+dx)\n",
    "                    I[j-3] = I[j-3] + dx/6.0*(f2 + 4*f1 + f0)\n",
    "                    \n",
    "                I[j-3] = I[j-3] + 7.0E-6\n",
    "                \n",
    "            else:\n",
    "                # Simpson's, replacement function\n",
    "                for i in range(nbins-1):\n",
    "                    x = xlow + i*dx\n",
    "                    g0 = g(x)\n",
    "                    g1 = g(x+dx/2.0)\n",
    "                    g2 = g(x+dx)\n",
    "                    I[j-3] = I[j-3] + dx/6.0*(g2 + 4*g1 + g0)\n",
    " \n",
    "        #-------------\n",
    "        print (\"N, I, error = \",nbins,I[j-3],np.abs(I[j-3]-1.3212)/1.3212)\n",
    "        N[j-3] = nbins\n",
    "        error[j-3] = np.abs(I[j-3]-1.3212)/1.3212\n",
    "        \n",
    "    return N, I, error"
   ]
  },
  {
   "cell_type": "code",
   "execution_count": 56,
   "metadata": {},
   "outputs": [
    {
     "name": "stdout",
     "output_type": "stream",
     "text": [
      "N, I, error =  1000 1.5435757059970843 0.16831343172652463\n",
      "N, I, error =  10000 1.3423407175670208 0.016001148627778423\n",
      "N, I, error =  100000 1.3230985177381287 0.001436964682204639\n",
      "N, I, error =  1000000 1.321363620373581 0.0001238422446117817\n",
      "N, I, error =  1000 1.393117732919185 0.054433645866776514\n",
      "N, I, error =  10000 1.327849281485439 0.005032759223008693\n",
      "N, I, error =  100000 1.3217686343459616 0.0004303923296712538\n",
      "N, I, error =  1000000 1.3212559749587742 4.236675656546804e-05\n",
      "N, I, error =  1000 1.321222916370082 1.734511813654597e-05\n",
      "N, I, error =  10000 1.3212230725681473 1.7463342527532056e-05\n",
      "N, I, error =  100000 1.3212230741301345 1.746452477640145e-05\n",
      "N, I, error =  1000000 1.321223074145717 1.7464536570546347e-05\n",
      "N, I, error =  1000 1.3204116744940222 0.0005966738616240829\n",
      "N, I, error =  10000 1.321142019333934 4.3884851699880525e-05\n",
      "N, I, error =  100000 1.321214969516636 1.133024268547008e-05\n",
      "N, I, error =  1000000 1.3212222636914794 1.6851113744707184e-05\n"
     ]
    },
    {
     "data": {
      "text/plain": [
       "<matplotlib.legend.Legend at 0x7f276601c0b8>"
      ]
     },
     "execution_count": 56,
     "metadata": {},
     "output_type": "execute_result"
    },
    {
     "data": {
      "image/png": "[encoded data removed]",
      "text/plain": [
       "<Figure size 432x288 with 1 Axes>"
      ]
     },
     "metadata": {
      "needs_background": "light"
     },
     "output_type": "display_data"
    }
   ],
   "source": [
    "N1, I1, error1 = integrate(1.0E-8,1,1,1)\n",
    "N2, I2, error2 = integrate(1.0E-8,1,2,1)\n",
    "\n",
    "N3, I3, error3 = integrate(0,1,1,2)\n",
    "N4, I4, error4 = integrate(0,1,2,2)\n",
    "\n",
    "plt.plot(N1,error1,'b-',label='Trapezoid - f(x)')\n",
    "plt.plot(N2,error2,'b--',label='Simpsons - f(x)')\n",
    "\n",
    "plt.plot(N3,error3,'r-',label='Trapezoid - g(t)')\n",
    "plt.plot(N4,error4,'r--',label='Simpsons - g(t)')\n",
    "\n",
    "plt.yscale('log')\n",
    "plt.xscale('log')\n",
    "plt.xlabel('N')\n",
    "plt.ylabel('Error')\n",
    "plt.legend()"
   ]
  },
  {
   "cell_type": "code",
   "execution_count": null,
   "metadata": {},
   "outputs": [],
   "source": []
  },
  {
   "cell_type": "code",
   "execution_count": null,
   "metadata": {},
   "outputs": [],
   "source": []
  },
  {
   "cell_type": "code",
   "execution_count": null,
   "metadata": {},
   "outputs": [],
   "source": []
  },
  {
   "cell_type": "code",
   "execution_count": null,
   "metadata": {},
   "outputs": [],
   "source": []
  }
 ],
 "metadata": {
  "kernelspec": {
   "display_name": "Python 3",
   "language": "python",
   "name": "python3"
  },
  "language_info": {
   "codemirror_mode": {
    "name": "ipython",
    "version": 3
   },
   "file_extension": ".py",
   "mimetype": "text/x-python",
   "name": "python",
   "nbconvert_exporter": "python",
   "pygments_lexer": "ipython3",
   "version": "3.6.8"
  }
 },
 "nbformat": 4,
 "nbformat_minor": 2
}
