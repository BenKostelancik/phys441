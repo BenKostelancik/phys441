{
 "cells": [
  {
   "cell_type": "code",
   "execution_count": 1,
   "metadata": {},
   "outputs": [],
   "source": [
    "import numpy as np\n",
    "import matplotlib.pyplot as plt"
   ]
  },
  {
   "cell_type": "code",
   "execution_count": 2,
   "metadata": {},
   "outputs": [],
   "source": [
    "n = 4\n",
    "\n",
    "x = np.array([0.0,0.1,0.3,0.6,1.0])\n",
    "f = np.array([-6.00000,-5.89483,-5.65014,-5.17788,-4.28172])\n",
    "F = np.zeros((n+1,n+1))\n",
    "\n",
    "F[0][0] = f[0]\n",
    "F[1][0] = f[1]\n",
    "F[2][0] = f[2]\n",
    "F[3][0] = f[3]\n",
    "F[4][0] = f[4]\n",
    "\n",
    "for i in range(1,n+1):\n",
    "    for j in range(1,i+1):\n",
    "        F[i][j] = (F[i,j-1]-F[i-1][j-1])/(x[i]-x[i-j])\n",
    "    "
   ]
  },
  {
   "cell_type": "code",
   "execution_count": 3,
   "metadata": {},
   "outputs": [
    {
     "name": "stdout",
     "output_type": "stream",
     "text": [
      "[[-6.          0.          0.          0.          0.        ]\n",
      " [-5.89483     1.0517      0.          0.          0.        ]\n",
      " [-5.65014     1.22345     0.5725      0.          0.        ]\n",
      " [-5.17788     1.5742      0.7015      0.215       0.        ]\n",
      " [-4.28172     2.2404      0.95171429  0.27801587  0.06301587]]\n"
     ]
    }
   ],
   "source": [
    "print (F)"
   ]
  },
  {
   "cell_type": "code",
   "execution_count": 5,
   "metadata": {},
   "outputs": [
    {
     "name": "stdout",
     "output_type": "stream",
     "text": [
      "F[0][0] = -6.000000\n",
      "F[1][1] = 1.051700\n",
      "F[2][2] = 0.572500\n",
      "F[3][3] = 0.215000\n",
      "F[4][4] = 0.063016\n"
     ]
    }
   ],
   "source": [
    "for i in range(n+1):\n",
    "    print ('F[%.0f][%.0f] = %0.6f' %(i,i,F[i][i]))"
   ]
  },
  {
   "cell_type": "code",
   "execution_count": 23,
   "metadata": {},
   "outputs": [],
   "source": [
    "a0 = F[0][0]-x[0]*F[1][1]+x[0]*x[1]*F[2][2]-x[0]*x[1]*x[2]*F[3][3]+x[0]*x[1]*x[2]*x[3]*F[4][4]\n",
    "\n",
    "a1 = F[1][1]-(x[0]+x[1])*F[2][2]+(x[0]*x[1]+x[2]*x[1]+x[0]*x[2])*F[3][3]-(x[0]*x[1]*x[2]+x[0]*x[1]*x[3]+x[0]*x[2]*x[3]+x[1]*x[2]*x[3])*F[4][4]\n",
    "\n",
    "a2 = F[2][2] -(x[0]+x[1]+x[2])*F[3][3] + (x[0]*x[1]+x[0]*x[2]+x[0]*x[3]+x[1]*x[2]+x[1]*x[3]+x[2]*x[3])*F[4][4]\n",
    "\n",
    "a3 = F[3][3] -(x[0]+x[1]+x[2]+x[3])*F[4][4]\n",
    "\n",
    "a4 = F[4][4]"
   ]
  },
  {
   "cell_type": "code",
   "execution_count": 36,
   "metadata": {},
   "outputs": [
    {
     "name": "stdout",
     "output_type": "stream",
     "text": [
      "-6.00000000,0.99976571,0.50351429,0.15198413,0.06301587\n"
     ]
    }
   ],
   "source": [
    "print ('%0.8f,%0.8f,%0.8f,%0.8f,%0.8f' % (a0,a1,a2,a3,a4))"
   ]
  },
  {
   "cell_type": "code",
   "execution_count": 31,
   "metadata": {},
   "outputs": [
    {
     "data": {
      "text/plain": [
       "[<matplotlib.lines.Line2D at 0x7f48c28eb630>]"
      ]
     },
     "execution_count": 31,
     "metadata": {},
     "output_type": "execute_result"
    },
    {
     "data": {
      "image/png": "[encoded data removed]",
      "text/plain": [
       "<Figure size 432x288 with 1 Axes>"
      ]
     },
     "metadata": {
      "needs_background": "light"
     },
     "output_type": "display_data"
    }
   ],
   "source": [
    "plt.scatter(x,f)\n",
    "xfit = np.zeros(1000)\n",
    "for i in range(1000):\n",
    "    xfit[i] = -0.1+i/(999)*1.2\n",
    "\n",
    "x2 = xfit**2\n",
    "yfit = np.zeros(1000)\n",
    "yfit = a0 + a1*xfit + a2*xfit**2 + a3*xfit**3 + a4*xfit**4\n",
    "    \n",
    "plt.plot(xfit,yfit)"
   ]
  },
  {
   "cell_type": "code",
   "execution_count": 34,
   "metadata": {},
   "outputs": [
    {
     "name": "stdout",
     "output_type": "stream",
     "text": [
      "[ 0.06301587  0.15198413  0.50351429  0.99976571 -6.        ]\n"
     ]
    }
   ],
   "source": [
    "# Or, we could realize that this whole thing is just a linear algebra problem, and\n",
    "# has already been solved countless times before!!!!!!!!!!\n",
    "\n",
    "pfit = np.polyfit(x,f,4)\n",
    "print (pfit)\n",
    "yfit2 = pfit[4] + pfit[3]*xfit + pfit[2]*xfit**2 + pfit[1]*xfit**3 + pfit[0]*xfit**4"
   ]
  },
  {
   "cell_type": "code",
   "execution_count": 35,
   "metadata": {},
   "outputs": [
    {
     "data": {
      "text/plain": [
       "[<matplotlib.lines.Line2D at 0x7f48c2998710>]"
      ]
     },
     "execution_count": 35,
     "metadata": {},
     "output_type": "execute_result"
    },
    {
     "data": {
      "image/png": "[encoded data removed]",
      "text/plain": [
       "<Figure size 432x288 with 1 Axes>"
      ]
     },
     "metadata": {
      "needs_background": "light"
     },
     "output_type": "display_data"
    }
   ],
   "source": [
    "plt.scatter(x,f)\n",
    "plt.plot(xfit,yfit)\n",
    "plt.plot(xfit,yfit2)"
   ]
  },
  {
   "cell_type": "code",
   "execution_count": null,
   "metadata": {},
   "outputs": [],
   "source": []
  }
 ],
 "metadata": {
  "kernelspec": {
   "display_name": "Python 3",
   "language": "python",
   "name": "python3"
  },
  "language_info": {
   "codemirror_mode": {
    "name": "ipython",
    "version": 3
   },
   "file_extension": ".py",
   "mimetype": "text/x-python",
   "name": "python",
   "nbconvert_exporter": "python",
   "pygments_lexer": "ipython3",
   "version": "3.6.8"
  }
 },
 "nbformat": 4,
 "nbformat_minor": 2
}
