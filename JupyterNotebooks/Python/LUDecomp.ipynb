{
 "cells": [
  {
   "cell_type": "code",
   "execution_count": 10,
   "metadata": {},
   "outputs": [],
   "source": [
    "import numpy as np\n",
    "    \n",
    "a = np.array([[2,0,0,0],[1,1.5,0,0],[0,-3,0.5,0],[2,-2,1,1]])\n",
    "l = np.zeros(16)\n",
    "l = l.reshape(4,4)\n",
    "u = np.zeros(16)\n",
    "u = u.reshape(4,4)\n"
   ]
  },
  {
   "cell_type": "code",
   "execution_count": null,
   "metadata": {},
   "outputs": [],
   "source": []
  },
  {
   "cell_type": "code",
   "execution_count": 11,
   "metadata": {},
   "outputs": [],
   "source": [
    "def ludecomp(a):\n",
    "    n = len(a)\n",
    "    for i in range(n):\n",
    "        l[i][i]=1\n",
    "        \n",
    "    u[0][0] = a[0][0]\n",
    "    u[0][1] = a[0][1]\n",
    "    u[0][2] = a[0][2]\n",
    "    u[0][3] = a[0][3]\n",
    "    \n",
    "    l[1][0] = a[1][0]/u[0][0]\n",
    "    l[2][0] = a[2][0]/u[0][0]\n",
    "    l[3][0] = a[3][0]/u[0][0]\n",
    "    \n",
    "    u[1][1] = a[1][1]-l[1][0]*u[0][1]\n",
    "    u[1][2] = a[1][2]-l[1][0]*u[0][2]\n",
    "    u[1][3] = a[1][3]-l[1][0]*u[0][3]\n",
    "    \n",
    "    l[2][1] = (a[2][1]-l[2][0]*u[0][1])/u[1][1]\n",
    "    l[3][1] = (a[3][1]-l[3][0]*u[0][1])/u[1][1]\n",
    "    \n",
    "    u[2][2] = a[2][2]-l[2][0]*u[0][2]-l[2][1]*u[1][2]\n",
    "    u[2][3] = a[2][3]-l[2][0]*u[0][3]-l[2][1]*u[1][3]\n",
    "    \n",
    "    l[3][2] = (a[3][2]-l[3][0]*u[0][2]-l[3][1]*u[1][2])/u[2][2]\n",
    "\n",
    "    u[3][3] = a[3][3]-l[3][0]*u[0][3]-l[3][1]*u[1][3]-l[3][2]*u[2][3]\n",
    "    \n",
    "    return l,u"
   ]
  },
  {
   "cell_type": "code",
   "execution_count": 12,
   "metadata": {},
   "outputs": [
    {
     "name": "stdout",
     "output_type": "stream",
     "text": [
      "L =  [[ 1.          0.          0.          0.        ]\n",
      " [ 0.5         1.          0.          0.        ]\n",
      " [ 0.         -2.          1.          0.        ]\n",
      " [ 1.         -1.33333333  2.          1.        ]]\n",
      "U =  [[2.  0.  0.  0. ]\n",
      " [0.  1.5 0.  0. ]\n",
      " [0.  0.  0.5 0. ]\n",
      " [0.  0.  0.  1. ]]\n"
     ]
    }
   ],
   "source": [
    "l,u = ludecomp(a)\n",
    "print (\"L = \",l)\n",
    "print (\"U = \",u)"
   ]
  },
  {
   "cell_type": "code",
   "execution_count": 13,
   "metadata": {},
   "outputs": [
    {
     "name": "stdout",
     "output_type": "stream",
     "text": [
      "L =  [[ 1.          0.          0.          0.        ]\n",
      " [ 0.          1.          0.          0.        ]\n",
      " [ 1.          0.66666667  1.          0.        ]\n",
      " [ 0.5        -0.5         0.375       1.        ]]\n",
      "U =  [[ 2.          0.          0.          0.        ]\n",
      " [ 0.         -3.          0.5         0.        ]\n",
      " [ 0.          0.          0.66666667  1.        ]\n",
      " [ 0.          0.          0.         -0.375     ]]\n"
     ]
    }
   ],
   "source": [
    "import scipy.linalg\n",
    "\n",
    "a = np.array([[2,0,0,0],[1,1.5,0,0],[0,-3,0.5,0],[2,-2,1,1]])\n",
    "\n",
    "p, l, u = scipy.linalg.lu(a)\n",
    "\n",
    "print (\"L = \",l)\n",
    "print (\"U = \",u)"
   ]
  },
  {
   "cell_type": "code",
   "execution_count": null,
   "metadata": {},
   "outputs": [],
   "source": []
  },
  {
   "cell_type": "code",
   "execution_count": null,
   "metadata": {},
   "outputs": [],
   "source": []
  }
 ],
 "metadata": {
  "kernelspec": {
   "display_name": "Python 3",
   "language": "python",
   "name": "python3"
  },
  "language_info": {
   "codemirror_mode": {
    "name": "ipython",
    "version": 3
   },
   "file_extension": ".py",
   "mimetype": "text/x-python",
   "name": "python",
   "nbconvert_exporter": "python",
   "pygments_lexer": "ipython3",
   "version": "3.6.8"
  }
 },
 "nbformat": 4,
 "nbformat_minor": 4
}
