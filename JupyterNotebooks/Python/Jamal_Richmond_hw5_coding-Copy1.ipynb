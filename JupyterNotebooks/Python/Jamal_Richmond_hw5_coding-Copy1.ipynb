{
 "cells": [
  {
   "cell_type": "code",
   "execution_count": 4,
   "metadata": {},
   "outputs": [],
   "source": [
    "import numpy as np\n",
    "import matplotlib.pyplot as plt"
   ]
  },
  {
   "cell_type": "markdown",
   "metadata": {},
   "source": [
    "Composite Quadrature Rules:\n",
    "\n",
    "1. Trapezoid Rule:\n",
    "\n",
    "\\begin{equation}\n",
    "\\int_{x_0}^{x_1} f(x) dx = \\frac{h}{2} \\left ( f(x_0) +  f(x_1) \\right ) + \\mathcal{O}(h^3)\n",
    "\\end{equation}\n",
    "\n",
    "with $h = \\frac{x_1 - x_0}{N}$.\n",
    "\n",
    "2. Simpson's Rule:\n",
    "\n",
    "\\begin{equation}\n",
    "\\int_{x_0}^{x_2} f(x) dx = \\frac{h}{3} \\left ( f(x_0) +  4f(x_1) + f(x_2) \\right ) + \\mathcal{O}(h^5)\n",
    "\\end{equation}\n",
    "\n",
    "with $h = \\frac{x_2 - x_0}{2N}$."
   ]
  },
  {
   "cell_type": "code",
   "execution_count": 24,
   "metadata": {},
   "outputs": [],
   "source": [
    "def f(x):\n",
    "    return np.cos(x)/x**(1.0/3.0)\n",
    "\n",
    "def g(t):\n",
    "    return 3/2*np.cos(t**(3/2))"
   ]
  },
  {
   "cell_type": "code",
   "execution_count": 28,
   "metadata": {},
   "outputs": [
    {
     "name": "stdout",
     "output_type": "stream",
     "text": [
      "1.5435757059970843\n"
     ]
    }
   ],
   "source": [
    "# Trapezoid\n",
    "xlow = 1.0E-8\n",
    "xhigh = 1.0\n",
    "\n",
    "N = 1000\n",
    "\n",
    "dx = (xhigh-xlow)/N\n",
    "\n",
    "I = 0\n",
    "for i in range(0,N):\n",
    "    x = xlow + i*dx\n",
    "    f0 = f(x)\n",
    "    f1 = f(x+dx)\n",
    "    A = dx/2.0*(f0+f1)\n",
    "    I = I + A\n",
    "    \n",
    "I = I + 7E-6\n",
    "\n",
    "print (I)\n"
   ]
  },
  {
   "cell_type": "code",
   "execution_count": 29,
   "metadata": {},
   "outputs": [
    {
     "name": "stdout",
     "output_type": "stream",
     "text": [
      "1.3869190980565678\n"
     ]
    }
   ],
   "source": [
    "# Simpson's Rule\n",
    "xlow = 1.0E-8\n",
    "xhigh = 1.0\n",
    "\n",
    "N = 1000\n",
    "\n",
    "dx = (xhigh-xlow)/N\n",
    "\n",
    "I = 0\n",
    "for i in range(0,N-1):\n",
    "    x = xlow + i*dx\n",
    "    f0 = f(x)\n",
    "    f1 = f(x+dx)\n",
    "    f2 = f(x+2*dx)\n",
    "    h = dx/2.0\n",
    "    A = h/3.0*(f0+4*f1+f2)\n",
    "    I = I + A\n",
    "    \n",
    "I = I + 7E-6\n",
    "\n",
    "print (I)"
   ]
  },
  {
   "cell_type": "code",
   "execution_count": 30,
   "metadata": {},
   "outputs": [
    {
     "name": "stdout",
     "output_type": "stream",
     "text": [
      "1.321222916370082\n"
     ]
    }
   ],
   "source": [
    "# Trapezoid\n",
    "tlow = 0.0\n",
    "thigh = 1.0\n",
    "\n",
    "N = 1000\n",
    "\n",
    "dt = (thigh-tlow)/N\n",
    "\n",
    "I = 0\n",
    "for i in range(0,N):\n",
    "    t = tlow + i*dt\n",
    "    g0 = g(t)\n",
    "    g1 = g(t+dt)\n",
    "    A = dt/2.0*(g0+g1)\n",
    "    I = I + A\n",
    "\n",
    "print (I)\n",
    "\n"
   ]
  },
  {
   "cell_type": "code",
   "execution_count": null,
   "metadata": {},
   "outputs": [],
   "source": []
  },
  {
   "cell_type": "code",
   "execution_count": null,
   "metadata": {},
   "outputs": [],
   "source": []
  }
 ],
 "metadata": {
  "kernelspec": {
   "display_name": "Python 3",
   "language": "python",
   "name": "python3"
  },
  "language_info": {
   "codemirror_mode": {
    "name": "ipython",
    "version": 3
   },
   "file_extension": ".py",
   "mimetype": "text/x-python",
   "name": "python",
   "nbconvert_exporter": "python",
   "pygments_lexer": "ipython3",
   "version": "3.6.8"
  }
 },
 "nbformat": 4,
 "nbformat_minor": 2
}
