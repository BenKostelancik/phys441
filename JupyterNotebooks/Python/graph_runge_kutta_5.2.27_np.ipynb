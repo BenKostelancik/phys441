{
 "cells": [
  {
   "cell_type": "code",
   "execution_count": 4,
   "metadata": {},
   "outputs": [],
   "source": [
    "import numpy as np\n",
    "import matplotlib.pyplot as plt"
   ]
  },
  {
   "cell_type": "code",
   "execution_count": 33,
   "metadata": {},
   "outputs": [],
   "source": [
    "def fderiv(t,y,k,n1,n2,n3):\n",
    "    \n",
    "    return k*(n1-y/2.0)**2*(n2-y/2.0)**2*(n3-3.0*y/4.0)**3"
   ]
  },
  {
   "cell_type": "markdown",
   "metadata": {},
   "source": [
    "### Fourth Order Runge Kutta Algorithm ###\n",
    "\n",
    "The algorithm is actually quite simple to implement.  We begin with some definitions. Consider a\n",
    "differential equation given by:\n",
    "\n",
    "\\begin{equation}\n",
    "y^\\prime = \\frac{dy}{dt} = f(t,y)\n",
    "\\end{equation}\n",
    "\n",
    "which we wish to solve on the interval $a \\leq t \\leq b$, in the case where we know the initial\n",
    "value of the function (and also its derivative) at $t=a$:\n",
    "\n",
    "\\begin{equation}\n",
    "y_a = y(t=a)\n",
    "\\end{equation}\n",
    "\\begin{equation}\n",
    "y^\\prime_a = f(t=a,y=y_a)\n",
    "\\end{equation}\n",
    "\n",
    "The Fourth-Order Runge Kutta algorithm proceeds as follows:\n",
    "\n",
    "\\begin{equation}\n",
    "F_1 = f(t_i,y_i) \\\\\n",
    "F_2 = f(t_i + \\frac{h}{2}, y_i + \\frac{h}{2}F_1) \\\\\n",
    "F_3 = f(t_i + \\frac{h}{2}, y_i + \\frac{h}{2}F_2) \\\\\n",
    "F_4 = f(t_i + h, y_i + h F_3)\n",
    "\\end{equation}\n",
    "\n",
    "\\begin{equation}\n",
    "y_{i+1} = y_i + \\frac{h}{6} \\left ( F_1 + 2F_2 + 2F3 + F_4 \\right)\n",
    "\\end{equation}"
   ]
  },
  {
   "cell_type": "code",
   "execution_count": 36,
   "metadata": {},
   "outputs": [],
   "source": [
    "def rk4(t,y,tau,par):\n",
    "        \n",
    "    F1 = fderiv(t,y,*par)\n",
    "    \n",
    "    half_tau = 0.5*tau\n",
    "    t_half = t + half_tau\n",
    "    \n",
    "    ytemp1 = y + half_tau*F1\n",
    "        \n",
    "    F2 = fderiv(t_half,ytemp1,*par)\n",
    "    \n",
    "    ytemp2 = y + half_tau*F2\n",
    "        \n",
    "    F3 = fderiv(t_half,ytemp2,*par)\n",
    "    \n",
    "    t_full = t + tau\n",
    "\n",
    "    ytemp3 = y + tau*F3\n",
    "        \n",
    "    F4 = fderiv(t_full,ytemp3,*par)\n",
    "    \n",
    "    y = y + tau/6.0*(F1+F4+2.0*(F2+F3))\n",
    "    \n",
    "    #print ('y = %0.3f   F1,F2,F3,F4 = %0.3f,%0.3f,%0.3f,%0.3f  ytemp1,ytemp2,ytemp3 = %0.3f,%0.3f,%0.3f' % (y,F1,F2,F3,F4,ytemp1,ytemp2,ytemp3))\n",
    "    \n",
    "    return y"
   ]
  },
  {
   "cell_type": "code",
   "execution_count": 37,
   "metadata": {},
   "outputs": [
    {
     "name": "stdout",
     "output_type": "stream",
     "text": [
      "Value of x at t = 0.190 is 2098.834\n"
     ]
    },
    {
     "data": {
      "text/plain": [
       "<matplotlib.legend.Legend at 0x7f2e3fb08e48>"
      ]
     },
     "execution_count": 37,
     "metadata": {},
     "output_type": "execute_result"
    },
    {
     "data": {
      "image/png": "[encoded data removed]",
      "text/plain": [
       "<Figure size 432x288 with 1 Axes>"
      ]
     },
     "metadata": {
      "needs_background": "light"
     },
     "output_type": "display_data"
    }
   ],
   "source": [
    "nStep = 100\n",
    "a = 0.0\n",
    "b = 1.0\n",
    "\n",
    "par = np.array([6.22E-19,2000.0,2000.0,3000.0])\n",
    "    \n",
    "tau = (b-a)/nStep\n",
    "\n",
    "y0 = 0.0\n",
    "yp0 = par[0]*par[1]**2*par[2]**2*par[3]**2\n",
    "\n",
    "yplot4 = np.zeros(nStep+1)\n",
    "tplot4 = np.zeros(nStep+1)\n",
    "deriv4 = np.zeros(nStep+1)\n",
    "\n",
    "yplot4[0] = y0\n",
    "tplot4[0] = a\n",
    "deriv4[0] = yp0\n",
    "\n",
    "debug = False\n",
    "\n",
    "time = 0.0\n",
    "flag = True\n",
    "\n",
    "for iStep in range(nStep):\n",
    "    yplot4[iStep+1] = rk4(time,yplot4[iStep],tau,par)\n",
    "    time = time + tau\n",
    "    tplot4[iStep+1] = time\n",
    "    if time>=0.2 and flag:\n",
    "        print ('Value of x at t = %0.3f is %0.3f' % (time-tau,yplot4[iStep+1]))\n",
    "        flag = False\n",
    "\n",
    "if debug:\n",
    "    print ('Time Values at interval endpoints')\n",
    "    print (tplot4[nStep])\n",
    "    print (tplot4[0])\n",
    "    print (len(tplot4))\n",
    "\n",
    "    print ('Function Values at interval endpoints')\n",
    "    print (yplot4[nStep])\n",
    "    print (yplot4[0])\n",
    "    print (len(yplot4))\n",
    "    \n",
    "plt.plot(tplot4[0:nStep+1],yplot4[0:nStep+1],'m-',label='Fourth Order Runge Kutta')\n",
    "plt.ylabel('x')\n",
    "plt.xlabel('t')\n",
    "#plt.xscale('log')\n",
    "plt.legend()\n",
    "    \n"
   ]
  },
  {
   "cell_type": "code",
   "execution_count": 54,
   "metadata": {},
   "outputs": [
    {
     "name": "stdout",
     "output_type": "stream",
     "text": [
      "[   0.          948.22948225 1233.58810069 1397.9868906  1511.98295839\n",
      " 1597.7094233  1666.87627952 1724.00955869 1772.23716018 1814.04200782\n",
      " 1851.20896797 1884.52202411 1914.49385819 1941.60959452 1966.30661825\n",
      " 1988.97457541 2009.9553729  2029.54317846 2047.98112298 2065.36779267\n",
      " 2081.75910737 2097.22930324 2111.84929345 2125.68666821 2138.80569473\n",
      " 2151.26731729 2163.12915717 2174.44551271 2185.26735924 2195.64234915\n",
      " 2205.61481185 2215.22575378 2224.51285841 2233.51048624 2242.24500155\n",
      " 2250.71020431 2258.91248531 2266.8619866  2274.56863174 2282.04212584\n",
      " 2289.29195551 2296.3273889  2303.15747568 2309.79104705 2316.23671573\n",
      " 2322.50287597 2328.59770356 2334.5291558  2340.3049715  2345.93267104\n",
      " 2351.41955628 2356.77271064 2361.99899905 2367.10506797 2372.09734538\n",
      " 2376.9820408  2381.76514526 2386.45243132 2391.04945308 2395.56154615\n",
      " 2399.99382767 2404.35119631 2408.63833226 2412.85969724 2417.01907034\n",
      " 2421.10906676 2425.12727502 2429.07566855 2432.95617704 2436.77068642\n",
      " 2440.52103887 2444.20903279 2447.83642286 2451.40491996 2454.91619125\n",
      " 2458.3718601  2461.77350615 2465.12266526 2468.42082956 2471.66944738\n",
      " 2474.86992334 2478.02361827 2481.13184926 2484.19588963 2487.21696896\n",
      " 2490.19627304 2493.13494393 2496.03407994 2498.8947356  2501.71792169\n",
      " 2504.50460523 2507.25570948 2509.97211397 2512.65465444 2515.30412288\n",
      " 2517.92126753 2520.50679286 2523.06135961 2525.58558472 2528.08004142]\n"
     ]
    },
    {
     "data": {
      "image/png": "[encoded data removed]",
      "text/plain": [
       "<Figure size 432x288 with 1 Axes>"
      ]
     },
     "metadata": {
      "needs_background": "light"
     },
     "output_type": "display_data"
    }
   ],
   "source": [
    "from scipy.integrate import solve_ivp\n",
    "\n",
    "trange = np.array([0.0,1.0])\n",
    "y_initial = np.array([0.0])\n",
    "\n",
    "nSteps = 100\n",
    "times = np.linspace(0.0,1.0,nSteps)\n",
    "\n",
    "sol = solve_ivp(fun=fderiv, t_span=trange, \n",
    "                y0=y_initial, method='RK45', \n",
    "                t_eval=times, dense_output=False, \n",
    "                events=None, vectorized=False, \n",
    "                args=par)\n",
    "\n",
    "print (sol.y[0])\n",
    "\n",
    "plt.plot(sol.t, sol.y[0])\n",
    "\n",
    "plt.xlabel('t')\n",
    "plt.legend('y',shadow=True)\n",
    "plt.title('Runge-Kutta 4th Order')\n",
    "plt.show()"
   ]
  },
  {
   "cell_type": "code",
   "execution_count": null,
   "metadata": {},
   "outputs": [],
   "source": []
  },
  {
   "cell_type": "code",
   "execution_count": null,
   "metadata": {},
   "outputs": [],
   "source": []
  },
  {
   "cell_type": "code",
   "execution_count": null,
   "metadata": {},
   "outputs": [],
   "source": []
  },
  {
   "cell_type": "code",
   "execution_count": null,
   "metadata": {},
   "outputs": [],
   "source": []
  }
 ],
 "metadata": {
  "kernelspec": {
   "display_name": "Python 3",
   "language": "python",
   "name": "python3"
  },
  "language_info": {
   "codemirror_mode": {
    "name": "ipython",
    "version": 3
   },
   "file_extension": ".py",
   "mimetype": "text/x-python",
   "name": "python",
   "nbconvert_exporter": "python",
   "pygments_lexer": "ipython3",
   "version": "3.6.8"
  }
 },
 "nbformat": 4,
 "nbformat_minor": 4
}
