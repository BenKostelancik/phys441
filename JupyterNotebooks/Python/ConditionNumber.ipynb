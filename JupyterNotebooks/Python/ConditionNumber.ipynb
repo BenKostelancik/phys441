{
 "cells": [
  {
   "cell_type": "code",
   "execution_count": 19,
   "metadata": {},
   "outputs": [],
   "source": [
    "import numpy as np\n",
    "import scipy.linalg"
   ]
  },
  {
   "cell_type": "code",
   "execution_count": 20,
   "metadata": {},
   "outputs": [],
   "source": [
    "A = np.array([[58.9,0.03],[-6.10,5.31]])"
   ]
  },
  {
   "cell_type": "code",
   "execution_count": 21,
   "metadata": {},
   "outputs": [],
   "source": [
    "a = A[0][0]\n",
    "b = A[0][1]\n",
    "c = A[1][0]\n",
    "d = A[1][1]"
   ]
  },
  {
   "cell_type": "code",
   "execution_count": 22,
   "metadata": {},
   "outputs": [
    {
     "name": "stdout",
     "output_type": "stream",
     "text": [
      "Non-Singular\n"
     ]
    }
   ],
   "source": [
    "detA = a*d - b*c\n",
    "\n",
    "if detA == 0:\n",
    "    print (\"Singular!!!!\")\n",
    "else:\n",
    "    print (\"Non-Singular\")"
   ]
  },
  {
   "cell_type": "code",
   "execution_count": 23,
   "metadata": {},
   "outputs": [
    {
     "name": "stdout",
     "output_type": "stream",
     "text": [
      "A_inf =  58.93\n",
      "A_inf (scipy) =  59.452645021058565\n"
     ]
    }
   ],
   "source": [
    "A_inf = max(abs(A[0][0])+abs(A[0,1]),abs([1][0])+abs(A[1,1]))\n",
    "print (\"A_inf = \",A_inf)\n",
    "\n",
    "print (\"A_inf (scipy) = \",scipy.linalg.norm(A))"
   ]
  },
  {
   "cell_type": "code",
   "execution_count": 9,
   "metadata": {},
   "outputs": [
    {
     "name": "stdout",
     "output_type": "stream",
     "text": [
      "[[ 1.69680005e-02 -9.58644094e-05]\n",
      " [ 1.94924299e-02  1.88213790e-01]]\n"
     ]
    }
   ],
   "source": [
    "Ainv = 1.0/detA*np.array([[d,-b],[-c,a]])\n",
    "print (Ainv)"
   ]
  },
  {
   "cell_type": "code",
   "execution_count": 24,
   "metadata": {},
   "outputs": [
    {
     "name": "stdout",
     "output_type": "stream",
     "text": [
      "Ainv_inf =  0.20770622032197664\n",
      "A_inf (scipy) =  0.18997975669951167\n"
     ]
    }
   ],
   "source": [
    "Ainv_inf = max(abs(Ainv[0][0])+abs(Ainv[0,1]),abs(Ainv[1][0])+abs(Ainv[1,1]))\n",
    "print (\"Ainv_inf = \",Ainv_inf)\n",
    "\n",
    "print (\"A_inf (scipy) = \",scipy.linalg.norm(Ainv))"
   ]
  },
  {
   "cell_type": "code",
   "execution_count": 30,
   "metadata": {},
   "outputs": [
    {
     "name": "stdout",
     "output_type": "stream",
     "text": [
      "K =  12.240127563574083\n",
      "K (numpy) =  12.240127563574081\n"
     ]
    }
   ],
   "source": [
    "K = A_inf*Ainv_inf\n",
    "print (\"K = \",K)\n",
    "\n",
    "print (\"K (numpy) = \",np.linalg.cond(A,np.inf))"
   ]
  },
  {
   "cell_type": "code",
   "execution_count": null,
   "metadata": {},
   "outputs": [],
   "source": []
  }
 ],
 "metadata": {
  "kernelspec": {
   "display_name": "Python 3",
   "language": "python",
   "name": "python3"
  },
  "language_info": {
   "codemirror_mode": {
    "name": "ipython",
    "version": 3
   },
   "file_extension": ".py",
   "mimetype": "text/x-python",
   "name": "python",
   "nbconvert_exporter": "python",
   "pygments_lexer": "ipython3",
   "version": "3.6.8"
  }
 },
 "nbformat": 4,
 "nbformat_minor": 4
}
