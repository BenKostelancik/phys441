{
 "cells": [
  {
   "cell_type": "code",
   "execution_count": 19,
   "metadata": {},
   "outputs": [],
   "source": [
    "import numpy as np\n",
    "import scipy.linalg"
   ]
  },
  {
   "cell_type": "code",
   "execution_count": 20,
   "metadata": {},
   "outputs": [],
   "source": [
    "A = np.array([[58.9,0.03],[-6.10,5.31]])"
   ]
  },
  {
   "cell_type": "code",
   "execution_count": 21,
   "metadata": {},
   "outputs": [],
   "source": [
    "a = A[0][0]\n",
    "b = A[0][1]\n",
    "c = A[1][0]\n",
    "d = A[1][1]"
   ]
  },
  {
   "cell_type": "code",
   "execution_count": 22,
   "metadata": {},
   "outputs": [
    {
     "name": "stdout",
     "output_type": "stream",
     "text": [
      "Non-Singular\n"
     ]
    }
   ],
   "source": [
    "detA = a*d - b*c\n",
    "\n",
    "if detA == 0:\n",
    "    print (\"Singular!!!!\")\n",
    "else:\n",
    "    print (\"Non-Singular\")"
   ]
  },
  {
   "cell_type": "code",
   "execution_count": 31,
   "metadata": {},
   "outputs": [
    {
     "name": "stdout",
     "output_type": "stream",
     "text": [
      "A_inf =  58.93\n",
      "A_inf (scipy) =  58.93\n"
     ]
    }
   ],
   "source": [
    "A_inf = max(abs(a)+abs(b),abs(c)+abs(d))\n",
    "print (\"A_inf = \",A_inf)\n",
    "\n",
    "print (\"A_inf (numpy) = \",np.linalg.norm(A,np.inf))"
   ]
  },
  {
   "cell_type": "code",
   "execution_count": 9,
   "metadata": {},
   "outputs": [
    {
     "name": "stdout",
     "output_type": "stream",
     "text": [
      "[[ 1.69680005e-02 -9.58644094e-05]\n",
      " [ 1.94924299e-02  1.88213790e-01]]\n"
     ]
    }
   ],
   "source": [
    "Ainv = 1.0/detA*np.array([[d,-b],[-c,a]])\n",
    "print (Ainv)"
   ]
  },
  {
   "cell_type": "code",
   "execution_count": 32,
   "metadata": {},
   "outputs": [
    {
     "name": "stdout",
     "output_type": "stream",
     "text": [
      "Ainv_inf =  0.20770622032197664\n",
      "A_inf (scipy) =  0.20770622032197664\n"
     ]
    }
   ],
   "source": [
    "Ainv_inf = max(abs(Ainv[0][0])+abs(Ainv[0,1]),abs(Ainv[1][0])+abs(Ainv[1,1]))\n",
    "print (\"Ainv_inf = \",Ainv_inf)\n",
    "\n",
    "print (\"A_inf (scipy) = \",np.linalg.norm(Ainv,np.inf))"
   ]
  },
  {
   "cell_type": "code",
   "execution_count": 30,
   "metadata": {},
   "outputs": [
    {
     "name": "stdout",
     "output_type": "stream",
     "text": [
      "K =  12.240127563574083\n",
      "K (numpy) =  12.240127563574081\n"
     ]
    }
   ],
   "source": [
    "K = A_inf*Ainv_inf\n",
    "print (\"K = \",K)\n",
    "\n",
    "print (\"K (numpy) = \",np.linalg.cond(A,np.inf))"
   ]
  },
  {
   "cell_type": "code",
   "execution_count": 45,
   "metadata": {},
   "outputs": [],
   "source": [
    "B = np.array([59.2,47.0]).transpose()"
   ]
  },
  {
   "cell_type": "code",
   "execution_count": 68,
   "metadata": {},
   "outputs": [],
   "source": [
    "x_exact = np.array([1,10]).transpose()\n",
    "x_approx = np.array([1.02,9.98]).transpose()"
   ]
  },
  {
   "cell_type": "code",
   "execution_count": 64,
   "metadata": {},
   "outputs": [
    {
     "name": "stdout",
     "output_type": "stream",
     "text": [
      "0.0009999999999998899\n"
     ]
    }
   ],
   "source": [
    "x_diff = x_exact - x_approx\n",
    "print (np.linalg.norm(x_diff,np.inf))"
   ]
  },
  {
   "cell_type": "code",
   "execution_count": 65,
   "metadata": {},
   "outputs": [
    {
     "name": "stdout",
     "output_type": "stream",
     "text": [
      "[[ 5.89e+01  3.00e-02]\n",
      " [-6.10e+00  5.31e+00]]\n",
      "[1.001 9.999]\n",
      "[59.25887 46.98859]\n"
     ]
    }
   ],
   "source": [
    "Numerator = B - np.dot(A,x_approx)\n",
    "\n",
    "print (A)\n",
    "print (x_approx)\n",
    "print (np.dot(A,x_approx))"
   ]
  },
  {
   "cell_type": "code",
   "execution_count": 66,
   "metadata": {},
   "outputs": [
    {
     "name": "stdout",
     "output_type": "stream",
     "text": [
      "[-0.05887  0.01141]\n"
     ]
    }
   ],
   "source": [
    "print (Numerator)"
   ]
  },
  {
   "cell_type": "code",
   "execution_count": 67,
   "metadata": {},
   "outputs": [
    {
     "name": "stdout",
     "output_type": "stream",
     "text": [
      "0.012227665190353051\n"
     ]
    }
   ],
   "source": [
    "print (np.linalg.cond(A,np.inf)*np.linalg.norm(Numerator,np.inf)/np.linalg.norm(A,np.inf))"
   ]
  },
  {
   "cell_type": "code",
   "execution_count": 54,
   "metadata": {},
   "outputs": [
    {
     "name": "stdout",
     "output_type": "stream",
     "text": [
      "[[ 5.89e+01  3.00e-02]\n",
      " [-6.10e+00  5.31e+00]]\n",
      "[ 1 10]\n",
      "[59.2 47. ]\n"
     ]
    }
   ],
   "source": [
    "Numerator = B - np.dot(A,x_exact)\n",
    "\n",
    "print (A)\n",
    "print (x_exact)\n",
    "print (np.dot(A,x_exact))"
   ]
  },
  {
   "cell_type": "code",
   "execution_count": 55,
   "metadata": {},
   "outputs": [
    {
     "name": "stdout",
     "output_type": "stream",
     "text": [
      "[7.10542736e-15 7.10542736e-15]\n"
     ]
    }
   ],
   "source": [
    "print (Numerator)"
   ]
  },
  {
   "cell_type": "code",
   "execution_count": 56,
   "metadata": {},
   "outputs": [
    {
     "name": "stdout",
     "output_type": "stream",
     "text": [
      "1.4758414602196738e-15\n"
     ]
    }
   ],
   "source": [
    "print (np.linalg.cond(A,np.inf)*np.linalg.norm(Numerator,np.inf)/np.linalg.norm(A,np.inf))"
   ]
  },
  {
   "cell_type": "code",
   "execution_count": null,
   "metadata": {},
   "outputs": [],
   "source": []
  }
 ],
 "metadata": {
  "kernelspec": {
   "display_name": "Python 3",
   "language": "python",
   "name": "python3"
  },
  "language_info": {
   "codemirror_mode": {
    "name": "ipython",
    "version": 3
   },
   "file_extension": ".py",
   "mimetype": "text/x-python",
   "name": "python",
   "nbconvert_exporter": "python",
   "pygments_lexer": "ipython3",
   "version": "3.6.8"
  }
 },
 "nbformat": 4,
 "nbformat_minor": 4
}
