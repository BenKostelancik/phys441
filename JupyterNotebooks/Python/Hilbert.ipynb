{
 "cells": [
  {
   "cell_type": "code",
   "execution_count": 1,
   "metadata": {},
   "outputs": [],
   "source": [
    "import numpy as np\n",
    "import scipy.linalg"
   ]
  },
  {
   "cell_type": "code",
   "execution_count": 25,
   "metadata": {},
   "outputs": [
    {
     "name": "stdout",
     "output_type": "stream",
     "text": [
      "[[1.         0.5        0.33333333 0.25       0.2       ]\n",
      " [0.5        0.33333333 0.25       0.2        0.16666667]\n",
      " [0.33333333 0.25       0.2        0.16666667 0.14285714]\n",
      " [0.25       0.2        0.16666667 0.14285714 0.125     ]\n",
      " [0.2        0.16666667 0.14285714 0.125      0.11111111]]\n"
     ]
    }
   ],
   "source": [
    "debug = True\n",
    "n = 5\n",
    "\n",
    "H = np.zeros(n*n)\n",
    "H = H.reshape(n,n)\n",
    "\n",
    "for i in range(n):\n",
    "    for j in range(n):\n",
    "        # Remember that array indices go from 0 to n-1 !!!!\n",
    "        H[i][j] = 1/(i+j+1)\n",
    "        \n",
    "if (debug): print (H)"
   ]
  },
  {
   "cell_type": "code",
   "execution_count": 23,
   "metadata": {},
   "outputs": [
    {
     "name": "stdout",
     "output_type": "stream",
     "text": [
      "[1. 1. 1. 1. 1. 1. 1. 1. 1. 1. 1. 1. 1. 1. 1. 1. 1. 1. 1. 1.]\n",
      "[3.59773966 2.6453587  2.19081325 1.90095818 1.69262484 1.53262484\n",
      " 1.40441972 1.29859961 1.2093139  1.13268554 1.06601888 1.00736785\n",
      " 0.95528452 0.90866447 0.86664766 0.82855243 0.7938302  0.7620337\n",
      " 0.73279394 0.70580338]\n"
     ]
    }
   ],
   "source": [
    "x = np.ones(n).transpose()\n",
    "b = np.dot(H,x).transpose()\n",
    "\n",
    "print (x)\n",
    "print (b)"
   ]
  },
  {
   "cell_type": "code",
   "execution_count": 24,
   "metadata": {},
   "outputs": [
    {
     "name": "stdout",
     "output_type": "stream",
     "text": [
      "Solution:  [ 1.00000012  0.99998138  1.00070022  0.98867414  1.0970538   0.51540766\n",
      "  2.4586396  -1.59697364  3.49819723 -0.19820929  2.33122282 -1.77118347\n",
      "  3.17448568 -1.47732467  8.33808017 -6.83575271 -0.3942067   9.30102144\n",
      " -4.73440098  2.30458727]\n",
      "Error:  [-1.22700525e-07  1.86194451e-05 -7.00222212e-04  1.13258585e-02\n",
      " -9.70537970e-02  4.84592339e-01 -1.45863960e+00  2.59697364e+00\n",
      " -2.49819723e+00  1.19820929e+00 -1.33122282e+00  2.77118347e+00\n",
      " -2.17448568e+00  2.47732467e+00 -7.33808017e+00  7.83575271e+00\n",
      "  1.39420670e+00 -8.30102144e+00  5.73440098e+00 -1.30458727e+00]\n",
      "Residual:  [ 0.00000000e+00  0.00000000e+00  0.00000000e+00  2.22044605e-16\n",
      "  4.44089210e-16  2.22044605e-16  0.00000000e+00  2.22044605e-16\n",
      "  2.22044605e-16 -2.22044605e-16  0.00000000e+00 -2.22044605e-16\n",
      "  2.22044605e-16  2.22044605e-16  1.11022302e-16  0.00000000e+00\n",
      "  1.11022302e-16 -1.11022302e-16  2.22044605e-16  0.00000000e+00]\n"
     ]
    }
   ],
   "source": [
    "try:\n",
    "    # conclusion: don't ever use this!!!!\n",
    "    xstar = np.linalg.solve(H,b)\n",
    "    print (\"Solution: \",xstar)\n",
    "    error = x - xstar\n",
    "    residual = b - np.dot(H,xstar)\n",
    "    print (\"Error: \", error)\n",
    "    print (\"Residual: \",residual)\n",
    "except:\n",
    "    print (\"Singular matrix!\")"
   ]
  },
  {
   "cell_type": "code",
   "execution_count": 18,
   "metadata": {},
   "outputs": [
    {
     "name": "stdout",
     "output_type": "stream",
     "text": [
      "All is well!\n"
     ]
    }
   ],
   "source": [
    "epsilon = 1E-8\n",
    "\n",
    "if (abs(residual[2]) < epsilon):\n",
    "    print (\"All is well!\")\n",
    "else:\n",
    "    print (\"WTF?\")"
   ]
  },
  {
   "cell_type": "code",
   "execution_count": null,
   "metadata": {},
   "outputs": [],
   "source": []
  },
  {
   "cell_type": "code",
   "execution_count": null,
   "metadata": {},
   "outputs": [],
   "source": []
  }
 ],
 "metadata": {
  "kernelspec": {
   "display_name": "Python 3",
   "language": "python",
   "name": "python3"
  },
  "language_info": {
   "codemirror_mode": {
    "name": "ipython",
    "version": 3
   },
   "file_extension": ".py",
   "mimetype": "text/x-python",
   "name": "python",
   "nbconvert_exporter": "python",
   "pygments_lexer": "ipython3",
   "version": "3.6.8"
  }
 },
 "nbformat": 4,
 "nbformat_minor": 4
}
