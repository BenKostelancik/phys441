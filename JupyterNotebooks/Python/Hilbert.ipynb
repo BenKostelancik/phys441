{
 "cells": [
  {
   "cell_type": "code",
   "execution_count": 1,
   "metadata": {},
   "outputs": [],
   "source": [
    "import numpy as np\n",
    "import scipy.linalg"
   ]
  },
  {
   "cell_type": "code",
   "execution_count": 21,
   "metadata": {},
   "outputs": [
    {
     "name": "stdout",
     "output_type": "stream",
     "text": [
      "[[1.         0.5        0.33333333 0.25       0.2        0.16666667\n",
      "  0.14285714 0.125      0.11111111 0.1       ]\n",
      " [0.5        0.33333333 0.25       0.2        0.16666667 0.14285714\n",
      "  0.125      0.11111111 0.1        0.09090909]\n",
      " [0.33333333 0.25       0.2        0.16666667 0.14285714 0.125\n",
      "  0.11111111 0.1        0.09090909 0.08333333]\n",
      " [0.25       0.2        0.16666667 0.14285714 0.125      0.11111111\n",
      "  0.1        0.09090909 0.08333333 0.07692308]\n",
      " [0.2        0.16666667 0.14285714 0.125      0.11111111 0.1\n",
      "  0.09090909 0.08333333 0.07692308 0.07142857]\n",
      " [0.16666667 0.14285714 0.125      0.11111111 0.1        0.09090909\n",
      "  0.08333333 0.07692308 0.07142857 0.06666667]\n",
      " [0.14285714 0.125      0.11111111 0.1        0.09090909 0.08333333\n",
      "  0.07692308 0.07142857 0.06666667 0.0625    ]\n",
      " [0.125      0.11111111 0.1        0.09090909 0.08333333 0.07692308\n",
      "  0.07142857 0.06666667 0.0625     0.05882353]\n",
      " [0.11111111 0.1        0.09090909 0.08333333 0.07692308 0.07142857\n",
      "  0.06666667 0.0625     0.05882353 0.05555556]\n",
      " [0.1        0.09090909 0.08333333 0.07692308 0.07142857 0.06666667\n",
      "  0.0625     0.05882353 0.05555556 0.05263158]]\n"
     ]
    }
   ],
   "source": [
    "n = 10\n",
    "\n",
    "H = np.zeros(n*n)\n",
    "H = H.reshape(n,n)\n",
    "\n",
    "for i in range(n):\n",
    "    for j in range(n):\n",
    "        H[i][j] = 1/(i+j+1)\n",
    "        \n",
    "print (H)"
   ]
  },
  {
   "cell_type": "code",
   "execution_count": 22,
   "metadata": {},
   "outputs": [
    {
     "name": "stdout",
     "output_type": "stream",
     "text": [
      "[1. 1. 1. 1. 1. 1. 1. 1. 1. 1.]\n",
      "[2.92896825 2.01987734 1.60321068 1.34680042 1.16822899 1.03489566\n",
      " 0.93072899 0.84669538 0.77725094 0.7187714 ]\n"
     ]
    }
   ],
   "source": [
    "x = np.ones(n).transpose()\n",
    "b = np.dot(H,x).transpose()\n",
    "\n",
    "print (x)\n",
    "print (b)"
   ]
  },
  {
   "cell_type": "code",
   "execution_count": 23,
   "metadata": {},
   "outputs": [
    {
     "name": "stdout",
     "output_type": "stream",
     "text": [
      "Solution:  [1.         0.99999998 1.00000034 0.99999689 1.00001488 0.99995895\n",
      " 1.00006758 0.99993449 1.00003449 0.9999924 ]\n"
     ]
    }
   ],
   "source": [
    "try:\n",
    "    xstar = np.linalg.solve(H,b)\n",
    "    print (\"Solution: \",xstar)\n",
    "except:\n",
    "    print (\"Singular matrix!\")"
   ]
  },
  {
   "cell_type": "code",
   "execution_count": 24,
   "metadata": {},
   "outputs": [
    {
     "name": "stdout",
     "output_type": "stream",
     "text": [
      "[-1.83674187e-10  1.59189675e-08 -3.40416667e-07  3.10741549e-06\n",
      " -1.48799842e-05  4.10543621e-05 -6.75833539e-05  6.55111747e-05\n",
      " -3.44886242e-05  7.60383059e-06]\n",
      "[ 4.44089210e-16  0.00000000e+00  0.00000000e+00  0.00000000e+00\n",
      "  0.00000000e+00  0.00000000e+00 -1.11022302e-16  1.11022302e-16\n",
      " -1.11022302e-16 -1.11022302e-16]\n"
     ]
    }
   ],
   "source": [
    "error = x - xstar\n",
    "residual = b - np.dot(H,xstar)\n",
    "\n",
    "print (error)\n",
    "print (residual)"
   ]
  },
  {
   "cell_type": "code",
   "execution_count": null,
   "metadata": {},
   "outputs": [],
   "source": []
  }
 ],
 "metadata": {
  "kernelspec": {
   "display_name": "Python 3",
   "language": "python",
   "name": "python3"
  },
  "language_info": {
   "codemirror_mode": {
    "name": "ipython",
    "version": 3
   },
   "file_extension": ".py",
   "mimetype": "text/x-python",
   "name": "python",
   "nbconvert_exporter": "python",
   "pygments_lexer": "ipython3",
   "version": "3.6.8"
  }
 },
 "nbformat": 4,
 "nbformat_minor": 4
}
