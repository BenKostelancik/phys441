{
 "cells": [
  {
   "cell_type": "code",
   "execution_count": 1,
   "metadata": {},
   "outputs": [],
   "source": [
    "import numpy as np\n",
    "import scipy.linalg"
   ]
  },
  {
   "cell_type": "code",
   "execution_count": 11,
   "metadata": {},
   "outputs": [],
   "source": [
    "debug = False\n",
    "n = 15\n",
    "\n",
    "H = np.zeros(n*n)\n",
    "H = H.reshape(n,n)\n",
    "\n",
    "for i in range(n):\n",
    "    for j in range(n):\n",
    "        H[i][j] = 1/(i+j+1)\n",
    "        \n",
    "if (debug): print (H)"
   ]
  },
  {
   "cell_type": "code",
   "execution_count": 12,
   "metadata": {},
   "outputs": [
    {
     "name": "stdout",
     "output_type": "stream",
     "text": [
      "[1. 1. 1. 1. 1. 1. 1. 1. 1. 1. 1. 1. 1. 1. 1.]\n",
      "[3.31822899 2.38072899 1.93955252 1.66177474 1.46440632 1.31440632\n",
      " 1.1953587  1.09795611 1.01643437 0.94698992 0.88698992 0.83454237\n",
      " 0.78824608 0.74703728 0.71009147]\n"
     ]
    }
   ],
   "source": [
    "x = np.ones(n).transpose()\n",
    "b = np.dot(H,x).transpose()\n",
    "\n",
    "print (x)\n",
    "print (b)"
   ]
  },
  {
   "cell_type": "code",
   "execution_count": 13,
   "metadata": {},
   "outputs": [
    {
     "name": "stdout",
     "output_type": "stream",
     "text": [
      "Solution:  [ 0.99999996  1.00000617  0.99974078  1.00468706  0.95454968  1.26357721\n",
      "  0.03567496  3.25113409 -2.19070893  3.08755926  2.06560055 -2.51875904\n",
      "  4.19053597 -0.39030196  1.24670427]\n",
      "Error:  [ 3.58988562e-08 -6.16740970e-06  2.59217312e-04 -4.68706083e-03\n",
      "  4.54503242e-02 -2.63577215e-01  9.64325044e-01 -2.25113409e+00\n",
      "  3.19070893e+00 -2.08755926e+00 -1.06560055e+00  3.51875904e+00\n",
      " -3.19053597e+00  1.39030196e+00 -2.46704270e-01]\n",
      "Residual:  [-4.44089210e-16  0.00000000e+00 -2.22044605e-16 -2.22044605e-16\n",
      " -2.22044605e-16  0.00000000e+00  0.00000000e+00  0.00000000e+00\n",
      "  0.00000000e+00 -1.11022302e-16 -1.11022302e-16  0.00000000e+00\n",
      "  0.00000000e+00  1.11022302e-16 -1.11022302e-16]\n"
     ]
    }
   ],
   "source": [
    "try:\n",
    "    xstar = np.linalg.solve(H,b)\n",
    "    print (\"Solution: \",xstar)\n",
    "    error = x - xstar\n",
    "    residual = b - np.dot(H,xstar)\n",
    "    print (\"Error: \", error)\n",
    "    print (\"Residual: \",residual)\n",
    "except:\n",
    "    print (\"Singular matrix!\")"
   ]
  },
  {
   "cell_type": "code",
   "execution_count": null,
   "metadata": {},
   "outputs": [],
   "source": []
  },
  {
   "cell_type": "code",
   "execution_count": null,
   "metadata": {},
   "outputs": [],
   "source": []
  },
  {
   "cell_type": "code",
   "execution_count": null,
   "metadata": {},
   "outputs": [],
   "source": []
  }
 ],
 "metadata": {
  "kernelspec": {
   "display_name": "Python 3",
   "language": "python",
   "name": "python3"
  },
  "language_info": {
   "codemirror_mode": {
    "name": "ipython",
    "version": 3
   },
   "file_extension": ".py",
   "mimetype": "text/x-python",
   "name": "python",
   "nbconvert_exporter": "python",
   "pygments_lexer": "ipython3",
   "version": "3.6.8"
  }
 },
 "nbformat": 4,
 "nbformat_minor": 4
}
