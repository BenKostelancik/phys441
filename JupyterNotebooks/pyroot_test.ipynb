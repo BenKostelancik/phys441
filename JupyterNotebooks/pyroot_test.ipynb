{
 "cells": [
  {
   "cell_type": "code",
   "execution_count": 4,
   "metadata": {
    "collapsed": true,
    "ExecuteTime": {
     "end_time": "2023-07-14T02:16:53.791272Z",
     "start_time": "2023-07-14T02:16:53.363030Z"
    }
   },
   "outputs": [
    {
     "name": "stdout",
     "output_type": "stream",
     "text": [
      "   ------------------------------------------------------------------\n",
      "  | Welcome to ROOT 6.28/04                        https://root.cern |\n",
      "  | (c) 1995-2022, The ROOT Team; conception: R. Brun, F. Rademakers |\n",
      "  | Built for macosx64 on May 08 2023, 02:44:07                      |\n",
      "  | From tags/v6-28-04@v6-28-04                                      |\n",
      "  | With Apple clang version 14.0.3 (clang-1403.0.22.14.1)           |\n",
      "  | Try '.help'/'.?', '.demo', '.license', '.credits', '.quit'/'.q'  |\n",
      "   ------------------------------------------------------------------\n",
      "\n",
      "\n"
     ]
    },
    {
     "data": {
      "text/plain": "0"
     },
     "execution_count": 4,
     "metadata": {},
     "output_type": "execute_result"
    }
   ],
   "source": [
    "import os\n",
    "\n",
    "os.system(\"root -q\")"
   ]
  },
  {
   "cell_type": "code",
   "execution_count": 5,
   "outputs": [
    {
     "name": "stdout",
     "output_type": "stream",
     "text": [
      "/usr/local/Cellar/root/6.28.04\n",
      "/usr/local/Cellar/root/6.28.04/lib/root\n"
     ]
    },
    {
     "data": {
      "text/plain": "0"
     },
     "execution_count": 5,
     "metadata": {},
     "output_type": "execute_result"
    }
   ],
   "source": [
    "os.system(\"echo $ROOTSYS\")\n",
    "os.system(\"echo $PYTHONPATH\")"
   ],
   "metadata": {
    "collapsed": false,
    "ExecuteTime": {
     "end_time": "2023-07-14T02:16:55.445870Z",
     "start_time": "2023-07-14T02:16:55.430431Z"
    }
   }
  },
  {
   "cell_type": "code",
   "execution_count": 6,
   "outputs": [
    {
     "ename": "ImportError",
     "evalue": "Failed to import libcppyy3_10. Please check that ROOT has been built for Python 3.10",
     "output_type": "error",
     "traceback": [
      "\u001B[0;31m---------------------------------------------------------------------------\u001B[0m",
      "\u001B[0;31mModuleNotFoundError\u001B[0m                       Traceback (most recent call last)",
      "File \u001B[0;32m/usr/local/Cellar/root/6.28.04/lib/root/cppyy/__init__.py:60\u001B[0m\n\u001B[1;32m     59\u001B[0m \u001B[38;5;28;01mtry\u001B[39;00m:\n\u001B[0;32m---> 60\u001B[0m     \u001B[43mimportlib\u001B[49m\u001B[38;5;241;43m.\u001B[39;49m\u001B[43mimport_module\u001B[49m\u001B[43m(\u001B[49m\u001B[43mlibcppyy_mod_name\u001B[49m\u001B[43m)\u001B[49m\n\u001B[1;32m     61\u001B[0m \u001B[38;5;28;01mexcept\u001B[39;00m \u001B[38;5;167;01mImportError\u001B[39;00m:\n",
      "File \u001B[0;32m/usr/local/Cellar/python@3.10/3.10.12_1/Frameworks/Python.framework/Versions/3.10/lib/python3.10/importlib/__init__.py:126\u001B[0m, in \u001B[0;36mimport_module\u001B[0;34m(name, package)\u001B[0m\n\u001B[1;32m    125\u001B[0m         level \u001B[38;5;241m+\u001B[39m\u001B[38;5;241m=\u001B[39m \u001B[38;5;241m1\u001B[39m\n\u001B[0;32m--> 126\u001B[0m \u001B[38;5;28;01mreturn\u001B[39;00m \u001B[43m_bootstrap\u001B[49m\u001B[38;5;241;43m.\u001B[39;49m\u001B[43m_gcd_import\u001B[49m\u001B[43m(\u001B[49m\u001B[43mname\u001B[49m\u001B[43m[\u001B[49m\u001B[43mlevel\u001B[49m\u001B[43m:\u001B[49m\u001B[43m]\u001B[49m\u001B[43m,\u001B[49m\u001B[43m \u001B[49m\u001B[43mpackage\u001B[49m\u001B[43m,\u001B[49m\u001B[43m \u001B[49m\u001B[43mlevel\u001B[49m\u001B[43m)\u001B[49m\n",
      "File \u001B[0;32m<frozen importlib._bootstrap>:1050\u001B[0m, in \u001B[0;36m_gcd_import\u001B[0;34m(name, package, level)\u001B[0m\n",
      "File \u001B[0;32m<frozen importlib._bootstrap>:1027\u001B[0m, in \u001B[0;36m_find_and_load\u001B[0;34m(name, import_)\u001B[0m\n",
      "File \u001B[0;32m<frozen importlib._bootstrap>:1004\u001B[0m, in \u001B[0;36m_find_and_load_unlocked\u001B[0;34m(name, import_)\u001B[0m\n",
      "\u001B[0;31mModuleNotFoundError\u001B[0m: No module named 'libcppyy3_10'",
      "\nDuring handling of the above exception, another exception occurred:\n",
      "\u001B[0;31mImportError\u001B[0m                               Traceback (most recent call last)",
      "Cell \u001B[0;32mIn[6], line 1\u001B[0m\n\u001B[0;32m----> 1\u001B[0m \u001B[38;5;28;01mimport\u001B[39;00m \u001B[38;5;21;01mROOT\u001B[39;00m\n",
      "File \u001B[0;32m/usr/local/Cellar/root/6.28.04/lib/root/ROOT/__init__.py:25\u001B[0m\n\u001B[1;32m     22\u001B[0m \u001B[38;5;66;03m# Do setup specific to AddressSanitizer environments\u001B[39;00m\n\u001B[1;32m     23\u001B[0m \u001B[38;5;28;01mfrom\u001B[39;00m \u001B[38;5;21;01m.\u001B[39;00m \u001B[38;5;28;01mimport\u001B[39;00m _asan\n\u001B[0;32m---> 25\u001B[0m \u001B[38;5;28;01mimport\u001B[39;00m \u001B[38;5;21;01mcppyy\u001B[39;00m\n\u001B[1;32m     27\u001B[0m \u001B[38;5;66;03m# import libROOTPythonizations with Python version number\u001B[39;00m\n\u001B[1;32m     28\u001B[0m \u001B[38;5;28;01mimport\u001B[39;00m \u001B[38;5;21;01msys\u001B[39;00m\u001B[38;5;241m,\u001B[39m \u001B[38;5;21;01mimportlib\u001B[39;00m\n",
      "File \u001B[0;32m/usr/local/Cellar/root/6.28.04/lib/root/cppyy/__init__.py:62\u001B[0m\n\u001B[1;32m     60\u001B[0m     importlib\u001B[38;5;241m.\u001B[39mimport_module(libcppyy_mod_name)\n\u001B[1;32m     61\u001B[0m \u001B[38;5;28;01mexcept\u001B[39;00m \u001B[38;5;167;01mImportError\u001B[39;00m:\n\u001B[0;32m---> 62\u001B[0m     \u001B[38;5;28;01mraise\u001B[39;00m \u001B[38;5;167;01mImportError\u001B[39;00m(\n\u001B[1;32m     63\u001B[0m             \u001B[38;5;124m'\u001B[39m\u001B[38;5;124mFailed to import \u001B[39m\u001B[38;5;132;01m{}\u001B[39;00m\u001B[38;5;124m. Please check that ROOT has been built for Python \u001B[39m\u001B[38;5;132;01m{}\u001B[39;00m\u001B[38;5;124m.\u001B[39m\u001B[38;5;132;01m{}\u001B[39;00m\u001B[38;5;124m'\u001B[39m\u001B[38;5;241m.\u001B[39mformat(\n\u001B[1;32m     64\u001B[0m                 libcppyy_mod_name, major, minor))\n\u001B[1;32m     66\u001B[0m \u001B[38;5;66;03m# ensure 'import libcppyy' will find the versioned module\u001B[39;00m\n\u001B[1;32m     67\u001B[0m sys\u001B[38;5;241m.\u001B[39mmodules[\u001B[38;5;124m'\u001B[39m\u001B[38;5;124mlibcppyy\u001B[39m\u001B[38;5;124m'\u001B[39m] \u001B[38;5;241m=\u001B[39m sys\u001B[38;5;241m.\u001B[39mmodules[libcppyy_mod_name]\n",
      "\u001B[0;31mImportError\u001B[0m: Failed to import libcppyy3_10. Please check that ROOT has been built for Python 3.10"
     ]
    }
   ],
   "source": [
    "import ROOT"
   ],
   "metadata": {
    "collapsed": false,
    "ExecuteTime": {
     "end_time": "2023-07-14T02:16:57.473523Z",
     "start_time": "2023-07-14T02:16:57.365062Z"
    }
   }
  },
  {
   "cell_type": "code",
   "execution_count": null,
   "outputs": [],
   "source": [],
   "metadata": {
    "collapsed": false
   }
  }
 ],
 "metadata": {
  "kernelspec": {
   "display_name": "Python 3",
   "language": "python",
   "name": "python3"
  },
  "language_info": {
   "codemirror_mode": {
    "name": "ipython",
    "version": 2
   },
   "file_extension": ".py",
   "mimetype": "text/x-python",
   "name": "python",
   "nbconvert_exporter": "python",
   "pygments_lexer": "ipython2",
   "version": "2.7.6"
  }
 },
 "nbformat": 4,
 "nbformat_minor": 0
}
